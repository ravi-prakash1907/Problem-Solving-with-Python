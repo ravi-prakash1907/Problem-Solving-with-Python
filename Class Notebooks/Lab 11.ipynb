{
  "nbformat": 4,
  "nbformat_minor": 0,
  "metadata": {
    "colab": {
      "name": "Lab 11.ipynb",
      "provenance": [],
      "authorship_tag": "ABX9TyM9VNxc8LRu9nN37BOoIVsF",
      "include_colab_link": true
    },
    "kernelspec": {
      "name": "python3",
      "display_name": "Python 3"
    }
  },
  "cells": [
    {
      "cell_type": "markdown",
      "metadata": {
        "id": "view-in-github",
        "colab_type": "text"
      },
      "source": [
        "<a href=\"https://colab.research.google.com/github/ravi-prakash1907/Problem-Solving-with-Python/blob/main/Class%20Notebooks/Lab%2011.ipynb\" target=\"_parent\"><img src=\"https://colab.research.google.com/assets/colab-badge.svg\" alt=\"Open In Colab\"/></a>"
      ]
    },
    {
      "cell_type": "markdown",
      "metadata": {
        "id": "itXjcPAVIbzK"
      },
      "source": [
        "# Lec 11"
      ]
    },
    {
      "cell_type": "markdown",
      "metadata": {
        "id": "rUO1_Jx7IkZC"
      },
      "source": [
        "## Exception Handling"
      ]
    },
    {
      "cell_type": "code",
      "metadata": {
        "id": "oHkDzmvtKR9e"
      },
      "source": [
        "import math"
      ],
      "execution_count": 6,
      "outputs": []
    },
    {
      "cell_type": "code",
      "metadata": {
        "colab": {
          "base_uri": "https://localhost:8080/"
        },
        "id": "cUnhVSc1IP-R",
        "outputId": "3e336118-5cd2-4fe9-d55c-fb1199d2dd60"
      },
      "source": [
        "n = int(input(\"Enter a number: \"))\n",
        "\n",
        "try:\n",
        "  print(math.factorial(n))\n",
        "except ValueError:\n",
        "  print('Input can not ne negative!')"
      ],
      "execution_count": 3,
      "outputs": [
        {
          "output_type": "stream",
          "text": [
            "Enter a number: -5\n",
            "Input can not ne negative!\n"
          ],
          "name": "stdout"
        }
      ]
    },
    {
      "cell_type": "code",
      "metadata": {
        "colab": {
          "base_uri": "https://localhost:8080/"
        },
        "id": "OU1l9KLBJp_Y",
        "outputId": "5bdd97ca-d496-48ae-9fab-f7079eb351cc"
      },
      "source": [
        "n = int(input(\"Enter a number: \"))\n",
        "validInput = False\n",
        "\n",
        "while not validInput:\n",
        "  try:\n",
        "    print(math.factorial(n))\n",
        "    validInput = True\n",
        "  except ValueError:\n",
        "    n = int(input('Input can not ne negative! Please re-enter: '))"
      ],
      "execution_count": 5,
      "outputs": [
        {
          "output_type": "stream",
          "text": [
            "Enter a number: -3\n",
            "Input can not ne negative! Please re-enter: -7\n",
            "Input can not ne negative! Please re-enter: 3\n",
            "6\n"
          ],
          "name": "stdout"
        }
      ]
    },
    {
      "cell_type": "code",
      "metadata": {
        "colab": {
          "base_uri": "https://localhost:8080/"
        },
        "id": "gP19A9i4KT3d",
        "outputId": "fa7c688e-d18b-4e7c-890f-3b60e21d7b87"
      },
      "source": [
        "try:\n",
        "  month = int(input(\"Enter a month (1-12): \"))\n",
        "  if month<1 or month>12: print(\"Invalid month\")\n",
        "except ValueError:\n",
        "  print('Invalid month value')"
      ],
      "execution_count": 9,
      "outputs": [
        {
          "output_type": "stream",
          "text": [
            "Enter a month (1-12): 3.4\n",
            "Invalid month value\n"
          ],
          "name": "stdout"
        }
      ]
    },
    {
      "cell_type": "code",
      "metadata": {
        "colab": {
          "base_uri": "https://localhost:8080/"
        },
        "id": "JiEAjIe4MTVW",
        "outputId": "94568497-1036-46da-9c90-35d4e300eea0"
      },
      "source": [
        "def getMonth():\n",
        "  month = int(input(\"Enter a month (1-12): \"))\n",
        "  if month<1 or month>12:\n",
        "    raise ValueError\n",
        "  return month\n",
        "\n",
        "\n",
        "try:\n",
        "  month = getMonth()\n",
        "except ValueError:\n",
        "  print('Invalid month value')\n"
      ],
      "execution_count": 10,
      "outputs": [
        {
          "output_type": "stream",
          "text": [
            "Enter a month (1-12): 5.4\n",
            "Invalid month value\n"
          ],
          "name": "stdout"
        }
      ]
    },
    {
      "cell_type": "code",
      "metadata": {
        "id": "_wA8WWiiMzM_"
      },
      "source": [
        ""
      ],
      "execution_count": null,
      "outputs": []
    },
    {
      "cell_type": "markdown",
      "metadata": {
        "id": "rILMP8GMIeBi"
      },
      "source": [
        "# Lab 11"
      ]
    },
    {
      "cell_type": "code",
      "metadata": {
        "id": "BJFypC1RIgFH"
      },
      "source": [
        ""
      ],
      "execution_count": null,
      "outputs": []
    }
  ]
}