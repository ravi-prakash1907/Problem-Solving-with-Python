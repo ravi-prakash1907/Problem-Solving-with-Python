{
  "nbformat": 4,
  "nbformat_minor": 0,
  "metadata": {
    "colab": {
      "name": "Lab 11.ipynb",
      "provenance": [],
      "authorship_tag": "ABX9TyPbsPGAkrpaXgz/t10qgxfv",
      "include_colab_link": true
    },
    "kernelspec": {
      "name": "python3",
      "display_name": "Python 3"
    }
  },
  "cells": [
    {
      "cell_type": "markdown",
      "metadata": {
        "id": "view-in-github",
        "colab_type": "text"
      },
      "source": [
        "<a href=\"https://colab.research.google.com/github/ravi-prakash1907/Problem-Solving-with-Python/blob/main/Class%20Notebooks/Lab%2011.ipynb\" target=\"_parent\"><img src=\"https://colab.research.google.com/assets/colab-badge.svg\" alt=\"Open In Colab\"/></a>"
      ]
    },
    {
      "cell_type": "markdown",
      "metadata": {
        "id": "itXjcPAVIbzK"
      },
      "source": [
        "# Lec 11"
      ]
    },
    {
      "cell_type": "markdown",
      "metadata": {
        "id": "rUO1_Jx7IkZC"
      },
      "source": [
        "## Exception Handling"
      ]
    },
    {
      "cell_type": "code",
      "metadata": {
        "id": "cUnhVSc1IP-R"
      },
      "source": [
        ""
      ],
      "execution_count": null,
      "outputs": []
    },
    {
      "cell_type": "markdown",
      "metadata": {
        "id": "rILMP8GMIeBi"
      },
      "source": [
        "# Lab 11"
      ]
    },
    {
      "cell_type": "code",
      "metadata": {
        "id": "BJFypC1RIgFH"
      },
      "source": [
        ""
      ],
      "execution_count": null,
      "outputs": []
    }
  ]
}