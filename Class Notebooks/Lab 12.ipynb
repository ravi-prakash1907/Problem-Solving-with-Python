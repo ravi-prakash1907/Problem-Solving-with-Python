{
  "nbformat": 4,
  "nbformat_minor": 0,
  "metadata": {
    "colab": {
      "name": "Lab 12.ipynb",
      "provenance": [],
      "authorship_tag": "ABX9TyOs4xbBCl0jOEQ43FQ4t7NZ",
      "include_colab_link": true
    },
    "kernelspec": {
      "name": "python3",
      "display_name": "Python 3"
    }
  },
  "cells": [
    {
      "cell_type": "markdown",
      "metadata": {
        "id": "view-in-github",
        "colab_type": "text"
      },
      "source": [
        "<a href=\"https://colab.research.google.com/github/ravi-prakash1907/Problem-Solving-with-Python/blob/main/Class%20Notebooks/Lab%2012.ipynb\" target=\"_parent\"><img src=\"https://colab.research.google.com/assets/colab-badge.svg\" alt=\"Open In Colab\"/></a>"
      ]
    },
    {
      "cell_type": "markdown",
      "metadata": {
        "id": "_623QeFqQ_B5"
      },
      "source": [
        "# Lec 12"
      ]
    },
    {
      "cell_type": "markdown",
      "metadata": {
        "id": "mXiQYC2fRCR1"
      },
      "source": [
        "## Polymorphism  \n",
        "\n",
        "Python does not support:  \n",
        "1. Method Overloading based on _arguments_ and _number of args._"
      ]
    },
    {
      "cell_type": "code",
      "metadata": {
        "colab": {
          "base_uri": "https://localhost:8080/"
        },
        "id": "FoDoh9PvQwlH",
        "outputId": "01492412-439c-4930-8b67-f2bf04779469"
      },
      "source": [
        "class cls:\n",
        "  # error\n",
        "  def greet(self):\n",
        "    print(\"Welcome!\")\n",
        "  \n",
        "  # error\n",
        "  def greet(self, name):\n",
        "    print(\"Welcome\",name+\"!\")\n",
        "  \n",
        "  def greet(self, name = \"\"):\n",
        "    print(\"Welcome\",name+\"!\")\n",
        "\n",
        "\n",
        "c = cls()\n",
        "c.greet() \n",
        "c.greet(\"Ravi\")"
      ],
      "execution_count": null,
      "outputs": [
        {
          "output_type": "stream",
          "text": [
            "Welcome !\n",
            "Welcome Ravi!\n"
          ],
          "name": "stdout"
        }
      ]
    },
    {
      "cell_type": "markdown",
      "metadata": {
        "id": "6p8FUrSNToww"
      },
      "source": [
        "## Operater Overloading\n",
        "\n",
        "In actual:  \n",
        "1. == -> __eq__() \n",
        "2. () -> __init__()"
      ]
    },
    {
      "cell_type": "code",
      "metadata": {
        "colab": {
          "base_uri": "https://localhost:8080/"
        },
        "id": "oNFW_hW_SFxq",
        "outputId": "19a99d62-d31b-4f4c-e110-291ed1bf995a"
      },
      "source": [
        "class point:\n",
        "  def __init__(self, y = None):\n",
        "    self.x = 3\n",
        "    self.y = y\n",
        "  \n",
        "  def __eq__(self, obj):\n",
        "    if(obj.x == self.x) and (obj.y == self.y):\n",
        "      return True\n",
        "    return False\n",
        "\n",
        "p1 = point(9)\n",
        "p2 = point()\n",
        "\n",
        "print(p1==p2)\n",
        "\n",
        "p2.y = 9\n",
        "print(p1 == p2)"
      ],
      "execution_count": null,
      "outputs": [
        {
          "output_type": "stream",
          "text": [
            "False\n",
            "True\n"
          ],
          "name": "stdout"
        }
      ]
    },
    {
      "cell_type": "markdown",
      "metadata": {
        "id": "nPOG_RaBPeLI"
      },
      "source": [
        "### Other points:  \n",
        "\n",
        "1. all classes are derived from ```Object``` class  \n",
        "2. ```Cls``` and ```base``` can be used to know the info about inheritance  \n",
        "3. eg.: \n",
        "```\n",
        "for base in MyClass.__base__:\n",
        "      print(base.__name__)\n",
        "```"
      ]
    },
    {
      "cell_type": "markdown",
      "metadata": {
        "id": "jAc7z1BxS9dZ"
      },
      "source": [
        "## Pre-Defined Classes"
      ]
    },
    {
      "cell_type": "code",
      "metadata": {
        "id": "pt8ZTBnBVfGB"
      },
      "source": [
        "class Point:\n",
        "  def prn(self):\n",
        "    print(\"Hello!\")\n",
        "\n",
        "\n",
        "class NewPoint:\n",
        "  def prn(self):\n",
        "    print(\"Hi!\")\n",
        "\n"
      ],
      "execution_count": null,
      "outputs": []
    },
    {
      "cell_type": "markdown",
      "metadata": {
        "id": "RA7IAqpBTB-t"
      },
      "source": [
        "### if called function is not in main class:\n",
        "1. inherited classes will be checked in **left-to-right** way  \n",
        "2. if function found, matching halts"
      ]
    },
    {
      "cell_type": "code",
      "metadata": {
        "id": "EuYjOumgTAl7"
      },
      "source": [
        "## pnr() of Point will be called\n",
        "class MyPoint1(Point, NewPoint):\n",
        "  y = 7\n",
        "\n",
        "pt = MyPoint1()\n",
        "pt.prn()"
      ],
      "execution_count": null,
      "outputs": []
    },
    {
      "cell_type": "code",
      "metadata": {
        "id": "2BqrKW_ZTGhp"
      },
      "source": [
        "## pnr() of NewPoint will be called\n",
        "class MyPoint2(NewPoint, Point):\n",
        "  y = 7\n",
        "\n",
        "pt = MyPoint2()\n",
        "pt.prn()\n"
      ],
      "execution_count": null,
      "outputs": []
    }
  ]
}