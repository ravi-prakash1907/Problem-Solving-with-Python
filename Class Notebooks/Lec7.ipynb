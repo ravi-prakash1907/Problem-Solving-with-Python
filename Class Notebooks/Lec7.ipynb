{
  "nbformat": 4,
  "nbformat_minor": 0,
  "metadata": {
    "colab": {
      "name": "Lec7.ipynb",
      "provenance": [],
      "collapsed_sections": [],
      "authorship_tag": "ABX9TyP8CYBrIxGSWyHpo843WGs6",
      "include_colab_link": true
    },
    "kernelspec": {
      "name": "python3",
      "display_name": "Python 3"
    }
  },
  "cells": [
    {
      "cell_type": "markdown",
      "metadata": {
        "id": "view-in-github",
        "colab_type": "text"
      },
      "source": [
        "<a href=\"https://colab.research.google.com/github/ravi-prakash1907/Problem-Solving-with-Python/blob/main/Class%20Notebooks/Lec7.ipynb\" target=\"_parent\"><img src=\"https://colab.research.google.com/assets/colab-badge.svg\" alt=\"Open In Colab\"/></a>"
      ]
    },
    {
      "cell_type": "markdown",
      "metadata": {
        "id": "OD_9zRFQ-Jkg"
      },
      "source": [
        "# Lec 7"
      ]
    },
    {
      "cell_type": "markdown",
      "metadata": {
        "id": "h4pp_QtL-vhR"
      },
      "source": [
        "## Topics  \n",
        "1. Lists\n",
        "2. Tuples"
      ]
    },
    {
      "cell_type": "markdown",
      "metadata": {
        "id": "byatQItU-mFa"
      },
      "source": [
        "### List"
      ]
    },
    {
      "cell_type": "code",
      "metadata": {
        "colab": {
          "base_uri": "https://localhost:8080/"
        },
        "id": "CYXZLK90-2CA",
        "outputId": "ca50c7af-18f6-4bae-e507-401e6ae2660c"
      },
      "source": [
        "W = ['a', 'bee', 'sea', 'solo', 'duo', 'trio']\n",
        "W.sort()\n",
        "print(W)"
      ],
      "execution_count": null,
      "outputs": [
        {
          "output_type": "stream",
          "text": [
            "['a', 'bee', 'duo', 'sea', 'solo', 'trio']\n"
          ],
          "name": "stdout"
        }
      ]
    },
    {
      "cell_type": "code",
      "metadata": {
        "colab": {
          "base_uri": "https://localhost:8080/"
        },
        "id": "S8g3U8sl_Awq",
        "outputId": "2343368c-d4b2-4c85-9677-f2563f46142f"
      },
      "source": [
        "w = [0, -5.4, 3, 8, 0.01]\n",
        "w.sort()\n",
        "print(w)\n",
        "\n",
        "w = [0, 'a', 3, 8, 0.01]\n",
        "#w.sort()\n",
        "print(w, \": give error\")\n",
        "\n",
        "w = [0, 3, 8, 0.01]\n",
        "w.sort()\n",
        "print(w)\n",
        "\n",
        "w = [7, 9]\n",
        "w.extend(['2nd'])\n",
        "print(w, \"\\tLen: \",len(w))\n",
        "\n",
        "w = [7, 9]\n",
        "w.append('Hi')\n",
        "print(w, \"\\tLen: \",len(w))\n"
      ],
      "execution_count": null,
      "outputs": [
        {
          "output_type": "stream",
          "text": [
            "[-5.4, 0, 0.01, 3, 8]\n",
            "[0, 'a', 3, 8, 0.01] : give error\n",
            "[0, 0.01, 3, 8]\n",
            "[7, 9, '2nd'] \tLen:  3\n",
            "[7, 9, 'Hi'] \tLen:  3\n"
          ],
          "name": "stdout"
        }
      ]
    },
    {
      "cell_type": "markdown",
      "metadata": {
        "id": "34lqhxC8B_28"
      },
      "source": [
        "### Append vs List\n",
        "\n",
        "**Append:**  \n",
        "* concatinates new list as single element  \n",
        "* takes 1 element\n",
        "* passed param is list\n",
        "\n",
        "**Extend:** concatinates new list as extended list"
      ]
    },
    {
      "cell_type": "code",
      "metadata": {
        "colab": {
          "base_uri": "https://localhost:8080/"
        },
        "id": "wvRKPg_L_-MN",
        "outputId": "2b3dca47-06be-4664-d711-f3b4f37ed990"
      },
      "source": [
        "tempList = [1,2,3]\n",
        "\n",
        "#######################\n",
        "\n",
        "w = [7, 9]\n",
        "w.extend(tempList)\n",
        "print(w, \"\\tLen: \",len(w))\n",
        "\n",
        "w = [7, 9]\n",
        "w.append(tempList)\n",
        "print(w, \"\\tLen: \",len(w))"
      ],
      "execution_count": null,
      "outputs": [
        {
          "output_type": "stream",
          "text": [
            "[7, 9, 1, 2, 3] \tLen:  5\n",
            "[7, 9, [1, 2, 3]] \tLen:  3\n"
          ],
          "name": "stdout"
        }
      ]
    },
    {
      "cell_type": "code",
      "metadata": {
        "colab": {
          "base_uri": "https://localhost:8080/"
        },
        "id": "OConUINbCP8I",
        "outputId": "70ecb7c6-4645-4333-a900-c09603d65ba4"
      },
      "source": [
        "names = ['Liam', 'Noah', 'Oliver', 'William', 'Elijah', 'James']\n",
        "for name in names:\n",
        "  print(\"Hi \" + name + \"!\")"
      ],
      "execution_count": null,
      "outputs": [
        {
          "output_type": "stream",
          "text": [
            "Hi Liam!\n",
            "Hi Noah!\n",
            "Hi Oliver!\n",
            "Hi William!\n",
            "Hi Elijah!\n",
            "Hi James!\n"
          ],
          "name": "stdout"
        }
      ]
    },
    {
      "cell_type": "code",
      "metadata": {
        "colab": {
          "base_uri": "https://localhost:8080/"
        },
        "id": "MW65MvlNFSDz",
        "outputId": "20aaf3d2-c411-40f1-d2cf-69576f8bc821"
      },
      "source": [
        "count = 0\n",
        "for foo in names:\n",
        "  count += 1\n",
        "  print(count, foo)"
      ],
      "execution_count": null,
      "outputs": [
        {
          "output_type": "stream",
          "text": [
            "1 Liam\n",
            "2 Noah\n",
            "3 Oliver\n",
            "4 William\n",
            "5 Elijah\n",
            "6 James\n"
          ],
          "name": "stdout"
        }
      ]
    },
    {
      "cell_type": "code",
      "metadata": {
        "colab": {
          "base_uri": "https://localhost:8080/",
          "height": 35
        },
        "id": "eKp7eEosFx5h",
        "outputId": "0f18711e-8091-4267-aa0e-ea97e3c4a785"
      },
      "source": [
        "# 4th name's \n",
        "names[3]"
      ],
      "execution_count": null,
      "outputs": [
        {
          "output_type": "execute_result",
          "data": {
            "application/vnd.google.colaboratory.intrinsic+json": {
              "type": "string"
            },
            "text/plain": [
              "'William'"
            ]
          },
          "metadata": {
            "tags": []
          },
          "execution_count": 96
        }
      ]
    },
    {
      "cell_type": "markdown",
      "metadata": {
        "id": "7DDZ79xxJoqq"
      },
      "source": [
        "Lists & Strings etc.. are **iterables**"
      ]
    },
    {
      "cell_type": "code",
      "metadata": {
        "colab": {
          "base_uri": "https://localhost:8080/",
          "height": 35
        },
        "id": "2weamt2fGlu8",
        "outputId": "c85d9ecb-1f66-4e7b-c374-7453dddd178f"
      },
      "source": [
        "# 4th name's 4th letter\n",
        "names[3][3]"
      ],
      "execution_count": null,
      "outputs": [
        {
          "output_type": "execute_result",
          "data": {
            "application/vnd.google.colaboratory.intrinsic+json": {
              "type": "string"
            },
            "text/plain": [
              "'l'"
            ]
          },
          "metadata": {
            "tags": []
          },
          "execution_count": 97
        }
      ]
    },
    {
      "cell_type": "code",
      "metadata": {
        "colab": {
          "base_uri": "https://localhost:8080/"
        },
        "id": "-3fBQxp1Gv8v",
        "outputId": "d1417acc-e543-45e2-fb74-5c5f78803d85"
      },
      "source": [
        "a = [1,3]\n",
        "a = a+[4,8]\n",
        "a"
      ],
      "execution_count": null,
      "outputs": [
        {
          "output_type": "execute_result",
          "data": {
            "text/plain": [
              "[1, 3, 4, 8]"
            ]
          },
          "metadata": {
            "tags": []
          },
          "execution_count": 98
        }
      ]
    },
    {
      "cell_type": "code",
      "metadata": {
        "colab": {
          "base_uri": "https://localhost:8080/"
        },
        "id": "rMj5fE2sK0SC",
        "outputId": "4f1198de-81e3-49b6-a572-8aa4d2978057"
      },
      "source": [
        "x = range(len(names)-1,-1,-1)\n",
        "# range(5, -1, -1)  --->   5, 4, 3, 2, 1, 0\n",
        "for i in x:\n",
        "  print(i,names[i])"
      ],
      "execution_count": null,
      "outputs": [
        {
          "output_type": "stream",
          "text": [
            "5 James\n",
            "4 Elijah\n",
            "3 William\n",
            "2 Oliver\n",
            "1 Noah\n",
            "0 Liam\n"
          ],
          "name": "stdout"
        }
      ]
    },
    {
      "cell_type": "markdown",
      "metadata": {
        "id": "HJGDqw-iWNOt"
      },
      "source": [
        "### Tuple\n",
        "Non-mutable datatypes"
      ]
    },
    {
      "cell_type": "code",
      "metadata": {
        "colab": {
          "base_uri": "https://localhost:8080/"
        },
        "id": "fpfdpdt4SmIw",
        "outputId": "1dfd47cf-85ca-4aa4-e8a4-81fb19c8698a"
      },
      "source": [
        "tup1 = (1,2,3)\n",
        "tup2 = (1, 'a', 3)\n",
        "\n",
        "print(tup1)\n",
        "print(tup2)"
      ],
      "execution_count": null,
      "outputs": [
        {
          "output_type": "stream",
          "text": [
            "(1, 2, 3)\n",
            "(1, 'a', 3)\n"
          ],
          "name": "stdout"
        }
      ]
    },
    {
      "cell_type": "code",
      "metadata": {
        "colab": {
          "base_uri": "https://localhost:8080/"
        },
        "id": "biO2merBSzWB",
        "outputId": "4c59f844-509c-435d-947a-0a83af608d3a"
      },
      "source": [
        "# err\n",
        "#tup1[0] = 'b'\n",
        "\n",
        "## alt way\n",
        "temp = list(tup1)\n",
        "temp[0] = 'b'\n",
        "tup1 = tuple(temp)\n",
        "\n",
        "print(tup1)"
      ],
      "execution_count": null,
      "outputs": [
        {
          "output_type": "stream",
          "text": [
            "('b', 2, 3)\n"
          ],
          "name": "stdout"
        }
      ]
    },
    {
      "cell_type": "markdown",
      "metadata": {
        "id": "TaAng_EJCeOQ"
      },
      "source": [
        "# Lab 7"
      ]
    },
    {
      "cell_type": "markdown",
      "metadata": {
        "id": "yAQylaqnKxt2"
      },
      "source": [
        "## Topics  \n",
        "1. For-Loop\n",
        "2. While-Loop\n",
        "3. Lists\n",
        "4. Tuples\n",
        "5. Dictionaries"
      ]
    },
    {
      "cell_type": "markdown",
      "metadata": {
        "id": "pIHgBdldC2gi"
      },
      "source": [
        "**Loops:**  \n",
        "1. While\n",
        "2. For"
      ]
    },
    {
      "cell_type": "code",
      "metadata": {
        "colab": {
          "base_uri": "https://localhost:8080/"
        },
        "id": "U4CGHERxCgXN",
        "outputId": "e0dceb34-a666-475a-d8e0-1b87111a2ed9"
      },
      "source": [
        "## Add 10 consecutive num\n",
        "count = 0\n",
        "sum = 0\n",
        "\n",
        "while count != 10:\n",
        "  count += 1\n",
        "  sum += count\n",
        "\n",
        "print(\"Sum 0 to 10: \",sum)"
      ],
      "execution_count": null,
      "outputs": [
        {
          "output_type": "stream",
          "text": [
            "Sum 0 to 10:  55\n"
          ],
          "name": "stdout"
        }
      ]
    },
    {
      "cell_type": "code",
      "metadata": {
        "colab": {
          "base_uri": "https://localhost:8080/"
        },
        "id": "6jt-Sh41DR8B",
        "outputId": "f055783c-1ab9-4053-d661-16badd72c97a"
      },
      "source": [
        "## program to find sum of digits of a number\n",
        "yourNum = int(input(\"Enter the number: \"))\n",
        "num = yourNum\n",
        "\n",
        "sum = 0\n",
        "while num > 0:\n",
        "  rem = num % 10\n",
        "  sum += rem\n",
        "  num //= 10\n",
        "\n",
        "print(\"Sum of digits of number '\"+str(yourNum)+\"' is: \",sum)"
      ],
      "execution_count": null,
      "outputs": [
        {
          "output_type": "stream",
          "text": [
            "Enter the number: 34\n",
            "Sum of digits of number '34' is:  7\n"
          ],
          "name": "stdout"
        }
      ]
    },
    {
      "cell_type": "code",
      "metadata": {
        "colab": {
          "base_uri": "https://localhost:8080/"
        },
        "id": "GVxU71SrEKYG",
        "outputId": "d192b7da-3d02-482e-dd10-46b467091c2d"
      },
      "source": [
        "## reverse a number\n",
        "yourNum = int(input(\"Enter the number: \"))\n",
        "num = yourNum\n",
        "\n",
        "rev = 0\n",
        "while num != 0:\n",
        "  rem = num % 10\n",
        "  num //= 10\n",
        "  rev = rev * 10 + rem\n",
        "\n",
        "print(\"Reverse of digits of number '\"+str(yourNum)+\"' is: \",rev)"
      ],
      "execution_count": null,
      "outputs": [
        {
          "output_type": "stream",
          "text": [
            "Enter the number: 453\n",
            "Reverse of digits of number '453' is:  354\n"
          ],
          "name": "stdout"
        }
      ]
    },
    {
      "cell_type": "markdown",
      "metadata": {
        "id": "e_rkqL9xLUfe"
      },
      "source": [
        "_**Perfect Numbers** have the sum of thier positive factors as themself._"
      ]
    },
    {
      "cell_type": "code",
      "metadata": {
        "colab": {
          "base_uri": "https://localhost:8080/"
        },
        "id": "xUzfXN6aINMw",
        "outputId": "f0d21506-dc5e-4d60-d040-b3dfc645eb10"
      },
      "source": [
        "## check for perfact num\n",
        "yourNum = int(input(\"Enter the number: \"))\n",
        "num = 1\n",
        "\n",
        "factors = []\n",
        "while num < yourNum:\n",
        "  if yourNum % num == 0:\n",
        "    factors.append(num)\n",
        "  num += 1\n",
        "\n",
        "sum = 0\n",
        "num = 0\n",
        "while num < len(factors):\n",
        "  sum += factors[num]\n",
        "  num += 1\n",
        "\n",
        "if sum == yourNum:\n",
        "  print(\"It's a perfect number!\")\n",
        "else:\n",
        "  print(\"It's NOT a perfect number!\")"
      ],
      "execution_count": null,
      "outputs": [
        {
          "output_type": "stream",
          "text": [
            "Enter the number: 764\n",
            "It's NOT a perfect number!\n"
          ],
          "name": "stdout"
        }
      ]
    },
    {
      "cell_type": "code",
      "metadata": {
        "colab": {
          "base_uri": "https://localhost:8080/"
        },
        "id": "lhR0fAgnOHCv",
        "outputId": "ccda5bfe-49db-4cef-bd6c-8ee8290a3cbf"
      },
      "source": [
        "## check for \n",
        "num1 = int(input(\"Enter the number: \"))\n",
        "num2 = int(input(\"Enter the number: \"))\n",
        "\n",
        "gcd = 0\n",
        "flag = True\n",
        "if (num1 == 0) or (num2 == 0):\n",
        "  flag = False\n",
        "elif num1 > num2:\n",
        "  num = num2\n",
        "else:\n",
        "  num = num1\n",
        "\n",
        "temp = 1\n",
        "while temp <= num and flag:\n",
        "  if (num1 % temp == 0) and (num2 % temp == 0):\n",
        "    gcd = temp\n",
        "  temp += 1\n",
        "\n",
        "if flag:\n",
        "  print(\"\\nGCD of '\"+str(num1)+\"' and '\"+str(num2)+\": \",gcd)\n",
        "else:\n",
        "  print(\"GCD Does not exist!!\")"
      ],
      "execution_count": null,
      "outputs": [
        {
          "output_type": "stream",
          "text": [
            "Enter the number: 136\n",
            "Enter the number: 600\n",
            "\n",
            "GCD of '136' and '600:  8\n"
          ],
          "name": "stdout"
        }
      ]
    },
    {
      "cell_type": "code",
      "metadata": {
        "colab": {
          "base_uri": "https://localhost:8080/"
        },
        "id": "ecYYOOrRSQ68",
        "outputId": "2aa03c09-adfb-44a2-e044-a9ed3c7cff08"
      },
      "source": [
        "## check for factorial of a num\n",
        "num = int(input(\"Enter a positive number: \"))\n",
        "counter = 1\n",
        "\n",
        "if num < 0:\n",
        "  print(\"Factorial of '\"+str(num)+\"' is a complex number!!\")\n",
        "else:\n",
        "  fact = 1\n",
        "  while counter <= num:\n",
        "    fact *= counter\n",
        "    counter += 1\n",
        "  print(\"Factorial of '\"+str(num)+\"' is: \",fact)"
      ],
      "execution_count": null,
      "outputs": [
        {
          "output_type": "stream",
          "text": [
            "Enter a positive number: 39\n",
            "Factorial of '39' is:  20397882081197443358640281739902897356800000000\n"
          ],
          "name": "stdout"
        }
      ]
    },
    {
      "cell_type": "markdown",
      "metadata": {
        "id": "4oZ9-Ya9bqwu"
      },
      "source": [
        "Assignmet1\n"
      ]
    },
    {
      "cell_type": "code",
      "metadata": {
        "id": "UW2Sa9CoX8H8",
        "colab": {
          "base_uri": "https://localhost:8080/"
        },
        "outputId": "42453fa2-071d-4dc8-e578-996a65da3477"
      },
      "source": [
        "## check for armstrong num\n",
        "num = int(input(\"Enter a positive number: \"))\n",
        "yourNum = num\n",
        "\n",
        "length = 0\n",
        "digits = []\n",
        "if num > 0:\n",
        "  while num != 0:\n",
        "    length += 1\n",
        "    digits.append(num % 10)\n",
        "    num //= 10\n",
        "\n",
        "\n",
        "newNum = 0\n",
        "i = 0\n",
        "while i < len(digits):\n",
        "  newNum += pow(digits[i], 3)\n",
        "  i += 1\n",
        "\n",
        "if newNum == yourNum:\n",
        "  print(yourNum,\"is an armstrong number!\")\n",
        "else:\n",
        "  print(yourNum,\"is NOT an armstrong number!\")\n",
        "  \n",
        "\n"
      ],
      "execution_count": null,
      "outputs": [
        {
          "output_type": "stream",
          "text": [
            "Enter a positive number: 153\n",
            "153 is an armstrong number!\n"
          ],
          "name": "stdout"
        }
      ]
    },
    {
      "cell_type": "code",
      "metadata": {
        "id": "n0dCr6hsZ_wI",
        "colab": {
          "base_uri": "https://localhost:8080/"
        },
        "outputId": "2a4dd79c-c7e9-466e-d236-1f5a0e47fb46"
      },
      "source": [
        "## first num divisible by X and greater than Y\n",
        "lowerBound = int(input(\"Enter lower bound: \"))\n",
        "deviser = int(input(\"Enter deviser: \"))\n",
        "\n",
        "beg = lowerBound + 1\n",
        "while True:\n",
        "  if beg % deviser == 0:\n",
        "    break\n",
        "  beg += 1\n",
        "\n",
        "print(\"First number, that is devisible by '\"+str(deviser)+\"' and greater than '\"+str(lowerBound)+\"' is: \",beg)\n"
      ],
      "execution_count": null,
      "outputs": [
        {
          "output_type": "stream",
          "text": [
            "Enter lower bound: 100\n",
            "Enter deviser: 17\n",
            "First number, that is devisible by '17' and greater than '100' is:  102\n"
          ],
          "name": "stdout"
        }
      ]
    },
    {
      "cell_type": "code",
      "metadata": {
        "id": "dsy-9kSmd1Fa",
        "colab": {
          "base_uri": "https://localhost:8080/"
        },
        "outputId": "e9b819ae-12b0-4288-ccd3-a0ef1b4e4136"
      },
      "source": [
        "## Check for LCM\n",
        "num1 = int(input(\"Enter first number: \"))\n",
        "num2 = int(input(\"Enter second number: \"))\n",
        "\n",
        "flag = True\n",
        "\n",
        "if num1 == 0 or num2 == 0:\n",
        "  flag = False\n",
        "\n",
        "elif num1 == num2:\n",
        "  lcm = num1\n",
        "\n",
        "else:\n",
        "  i = 1\n",
        "  if num1 > num2:\n",
        "    while True:\n",
        "      if (num1*i) % num2 == 0:\n",
        "        lcm = num1*i\n",
        "        break\n",
        "      i += 1\n",
        "  else:\n",
        "    while True:\n",
        "      if (num2*i) % num1 == 0:\n",
        "        lcm = num2*i\n",
        "        break\n",
        "      i += 1\n",
        "\n",
        "if flag:\n",
        "  print(\"\\nLCM of '\"+str(num1)+\"' and '\"+str(num2)+\": \",lcm)\n",
        "else:\n",
        "  print(\"\\nLCM does not exists for 0!!\")"
      ],
      "execution_count": null,
      "outputs": [
        {
          "output_type": "stream",
          "text": [
            "Enter first number: 2\n",
            "Enter second number: 3\n",
            "\n",
            "LCM of '2' and '3:  6\n"
          ],
          "name": "stdout"
        }
      ]
    },
    {
      "cell_type": "markdown",
      "metadata": {
        "id": "s-VxCfM2gEQ7"
      },
      "source": [
        "### For Loop"
      ]
    },
    {
      "cell_type": "code",
      "metadata": {
        "id": "rHenbdy2fkhv",
        "colab": {
          "base_uri": "https://localhost:8080/"
        },
        "outputId": "8177293a-88b7-486a-f10e-bc52cd93a10b"
      },
      "source": [
        "## even numbers upto x\n",
        "num = int(input(\"Enter the upper bound: \"))\n",
        "\n",
        "print(\"Even numbers from 0 to\",num,\":\")\n",
        "for i in range(2,num+1, 2):\n",
        "  print(i)"
      ],
      "execution_count": null,
      "outputs": [
        {
          "output_type": "stream",
          "text": [
            "Enter the upper bound: 20\n",
            "Even numbers from 0 to 20 :\n",
            "2\n",
            "4\n",
            "6\n",
            "8\n",
            "10\n",
            "12\n",
            "14\n",
            "16\n",
            "18\n",
            "20\n"
          ],
          "name": "stdout"
        }
      ]
    },
    {
      "cell_type": "code",
      "metadata": {
        "id": "Gu-0Tpv2giQq",
        "colab": {
          "base_uri": "https://localhost:8080/"
        },
        "outputId": "91d95d5d-b5b6-4da9-a0b2-6aa7256e60ae"
      },
      "source": [
        "## sum of numbers upto X that are not devisible by 2,3 and 5\n",
        "limit = int(input(\"Enter the upper bound: \"))\n",
        "sum = 0\n",
        "\n",
        "flag = True\n",
        "for i in range(1,limit+1):\n",
        "  for deviser in [2,3,5]:\n",
        "    if i % deviser == 0:\n",
        "      flag = False\n",
        "      break\n",
        "  if flag:\n",
        "    sum += i\n",
        "  else:\n",
        "    flag = True\n",
        "\n",
        "print(\"\\nSum of all numbers upto '\"+str(limit)+\"', that are not devisible by 2, 3 and 5:\",sum)"
      ],
      "execution_count": null,
      "outputs": [
        {
          "output_type": "stream",
          "text": [
            "Enter the upper bound: 67\n",
            "\n",
            "Sum of all numbers upto '67', that are not devisible by 2, 3 and 5: 608\n"
          ],
          "name": "stdout"
        }
      ]
    },
    {
      "cell_type": "code",
      "metadata": {
        "id": "ryyre7RShR5N",
        "colab": {
          "base_uri": "https://localhost:8080/"
        },
        "outputId": "a4a786b1-97f7-4121-a0df-bd40efa10b0c"
      },
      "source": [
        "## sum of even and odd num upto limit\n",
        "limit = int(input(\"Enter the upper bound: \"))\n",
        "evenSum = 0\n",
        "oddSum = 0\n",
        "\n",
        "for i in range(0,limit+1):\n",
        "  if i%2 == 0:\n",
        "    evenSum += i\n",
        "  else:\n",
        "    oddSum += i\n",
        "\n",
        "print(\"\\nSum of all Even numbers upto '\"+str(limit)+\"': \",evenSum)\n",
        "print(\"Sum of all Odd numbers upto '\"+str(limit)+\"': \",oddSum)"
      ],
      "execution_count": null,
      "outputs": [
        {
          "output_type": "stream",
          "text": [
            "Enter the upper bound: 21\n",
            "\n",
            "Sum of all Even numbers upto '21':  110\n",
            "Sum of all Odd numbers upto '21':  121\n"
          ],
          "name": "stdout"
        }
      ]
    },
    {
      "cell_type": "code",
      "metadata": {
        "id": "I4ZiRg8mh6SD",
        "colab": {
          "base_uri": "https://localhost:8080/"
        },
        "outputId": "dbe56231-b290-42b0-a183-7c2f5ae23809"
      },
      "source": [
        "## fibonacci\n",
        "num = int(input(\"Enter the upper bound: \"))\n",
        "a = 0\n",
        "b = 1\n",
        "\n",
        "if num >= 2:\n",
        "  print(a, b, end = \" \")\n",
        "  for i in range(2,num):\n",
        "    c = a + b\n",
        "    a = b\n",
        "    b = c\n",
        "    print(c, end = \" \")\n",
        "elif num == 1:\n",
        "  print(a)\n",
        "else:\n",
        "  print(\"Invalid input!!\")\n",
        "\n"
      ],
      "execution_count": null,
      "outputs": [
        {
          "output_type": "stream",
          "text": [
            "Enter the upper bound: 7\n",
            "0 1 1 2 3 5 8 "
          ],
          "name": "stdout"
        }
      ]
    },
    {
      "cell_type": "code",
      "metadata": {
        "id": "QcICnf2KjLYL",
        "colab": {
          "base_uri": "https://localhost:8080/"
        },
        "outputId": "875b18c9-e3f0-409f-f542-6700d5c163e9"
      },
      "source": [
        "braces = input(\"Enter string: \")\n",
        "\n",
        "flag = True\n",
        "for b in braces:\n",
        "  if b == '(':\n",
        "    flag = False\n",
        "  elif b == ')':\n",
        "    flag = True\n",
        "\n",
        "if flag:\n",
        "  print(\"Matched\")\n",
        "else:\n",
        "  print(\"NOT Matched\")\n",
        "  "
      ],
      "execution_count": null,
      "outputs": [
        {
          "output_type": "stream",
          "text": [
            "Enter string: ()#)()($)(%)%*)(\n",
            "NOT Matched\n"
          ],
          "name": "stdout"
        }
      ]
    },
    {
      "cell_type": "code",
      "metadata": {
        "id": "MxBqCAsckWAV",
        "colab": {
          "base_uri": "https://localhost:8080/"
        },
        "outputId": "2697f95d-f0a7-43af-bf64-06d48113be1f"
      },
      "source": [
        "## check for prime number\n",
        "from math import sqrt\n",
        "\n",
        "num = int(input(\"Enter the upper bound: \"))\n",
        "limit = int(sqrt(num))\n",
        "\n",
        "flag  = True\n",
        "for i in range(2, limit+1):\n",
        "  if num % i == 0:\n",
        "    flag = False\n",
        "    break\n",
        "\n",
        "if flag:\n",
        "  print(\"Number is Prime\")\n",
        "else:\n",
        "  print(\"Number is NOT Prime\")\n"
      ],
      "execution_count": null,
      "outputs": [
        {
          "output_type": "stream",
          "text": [
            "Enter the upper bound: 282\n",
            "Number is NOT Prime\n"
          ],
          "name": "stdout"
        }
      ]
    },
    {
      "cell_type": "markdown",
      "metadata": {
        "id": "hpPrS3gDLCXi"
      },
      "source": [
        "---\n",
        "\n",
        "* List\n",
        "* Tuple"
      ]
    },
    {
      "cell_type": "code",
      "metadata": {
        "colab": {
          "base_uri": "https://localhost:8080/"
        },
        "id": "P6-sVpKRLGWP",
        "outputId": "8c1e7118-35a1-4852-afbe-57ed19ee7b08"
      },
      "source": [
        "val = 1\n",
        "myList = []\n",
        "for i in range(0, 3):\n",
        "  temp = []\n",
        "  for j in range(0, 3):\n",
        "    temp.append(val)\n",
        "    val += 1\n",
        "  myList.append(temp)\n",
        "\n",
        "print(myList)"
      ],
      "execution_count": null,
      "outputs": [
        {
          "output_type": "stream",
          "text": [
            "[[1, 2, 3], [4, 5, 6], [7, 8, 9]]\n"
          ],
          "name": "stdout"
        }
      ]
    },
    {
      "cell_type": "code",
      "metadata": {
        "colab": {
          "base_uri": "https://localhost:8080/"
        },
        "id": "6UNZ3SzkNYjN",
        "outputId": "df435beb-79c9-4f2b-e8bb-9c562533274d"
      },
      "source": [
        "for i in myList:\n",
        "  for j in i:\n",
        "    print(j, end = \" \")\n",
        "  print()"
      ],
      "execution_count": null,
      "outputs": [
        {
          "output_type": "stream",
          "text": [
            "1 2 3 \n",
            "4 5 6 \n",
            "7 8 9 \n"
          ],
          "name": "stdout"
        }
      ]
    },
    {
      "cell_type": "code",
      "metadata": {
        "colab": {
          "base_uri": "https://localhost:8080/"
        },
        "id": "1MAuBndCNd1Y",
        "outputId": "a58c464a-47af-44a8-eb1d-1ca76cd02f32"
      },
      "source": [
        "myList[0][0] = 'beg'\n",
        "myList[len(myList)-1][2] = 'end'\n",
        "\n",
        "myList"
      ],
      "execution_count": null,
      "outputs": [
        {
          "output_type": "execute_result",
          "data": {
            "text/plain": [
              "[['beg', 2, 3], [4, 5, 6], [7, 8, 'end']]"
            ]
          },
          "metadata": {
            "tags": []
          },
          "execution_count": 15
        }
      ]
    },
    {
      "cell_type": "code",
      "metadata": {
        "colab": {
          "base_uri": "https://localhost:8080/"
        },
        "id": "aSwl-oUNOtHB",
        "outputId": "d752ce17-59fc-4b0c-bae2-df78d2ebcbcd"
      },
      "source": [
        "from random import randint,sample\n",
        "print(randint(1,100))"
      ],
      "execution_count": null,
      "outputs": [
        {
          "output_type": "stream",
          "text": [
            "43\n"
          ],
          "name": "stdout"
        }
      ]
    },
    {
      "cell_type": "markdown",
      "metadata": {
        "id": "b44nklJQVkcK"
      },
      "source": [
        "**replace each elements with its square**"
      ]
    },
    {
      "cell_type": "code",
      "metadata": {
        "colab": {
          "base_uri": "https://localhost:8080/"
        },
        "id": "5-ccxwN-SjPE",
        "outputId": "bf5431e3-385f-49e6-d37b-c9a6705d7fa5"
      },
      "source": [
        "## replace each elements with its square\n",
        "length = int(input(\"Enter length of list: \"))\n",
        "\n",
        "## creating a list randomly\n",
        "myList = []\n",
        "for i in range(0, length):\n",
        "  num = randint(0,100)\n",
        "  myList.append(num)\n",
        "\n",
        "print(\"\\nActual list: \",myList)\n",
        "\n",
        "# altering the list\n",
        "for i in range(0, length):\n",
        "  myList[i] *= myList[i]\n",
        "\n",
        "print(\"List after squaring every element: \",myList)"
      ],
      "execution_count": null,
      "outputs": [
        {
          "output_type": "stream",
          "text": [
            "Enter length of list: 4\n",
            "\n",
            "Actual list:  [24, 48, 50, 89]\n",
            "List after squaring every element:  [576, 2304, 2500, 7921]\n"
          ],
          "name": "stdout"
        }
      ]
    },
    {
      "cell_type": "code",
      "metadata": {
        "colab": {
          "base_uri": "https://localhost:8080/"
        },
        "id": "7o0ECzgJUKoA",
        "outputId": "da093587-9863-471c-8c79-7dccc235db25"
      },
      "source": [
        "## count elements > 50\n",
        "c = 0\n",
        "for i in myList:\n",
        "  if i > 50:\n",
        "    c += 1\n",
        "\n",
        "print(c,\"out of\",len(myList),\"items in 'myList' are greater than 50.\")"
      ],
      "execution_count": null,
      "outputs": [
        {
          "output_type": "stream",
          "text": [
            "4 out of 4 items in 'myList' are greater than 50.\n"
          ],
          "name": "stdout"
        }
      ]
    },
    {
      "cell_type": "code",
      "metadata": {
        "colab": {
          "base_uri": "https://localhost:8080/"
        },
        "id": "XgcgeDmXUV7A",
        "outputId": "c136404c-8bc8-4c87-9955-2d8988897da4"
      },
      "source": [
        "v = []\n",
        "v.append(sample(range(100),10))\n",
        "v"
      ],
      "execution_count": null,
      "outputs": [
        {
          "output_type": "execute_result",
          "data": {
            "text/plain": [
              "[[74, 72, 14, 23, 89, 65, 10, 85, 24, 80]]"
            ]
          },
          "metadata": {
            "tags": []
          },
          "execution_count": 37
        }
      ]
    },
    {
      "cell_type": "code",
      "metadata": {
        "colab": {
          "base_uri": "https://localhost:8080/"
        },
        "id": "lPQ6l-yQYYJ-",
        "outputId": "759f9c13-3bca-4747-b734-079308bf6be9"
      },
      "source": [
        "## mean , var, SD\n",
        "from math import sqrt\n",
        "myList = v[0][:10]\n",
        "#myList = [1,2,3,4,5,-5,-4,-3,-2,-1]\n",
        "\n",
        "print(\"Sample space: \",myList)\n",
        "\n",
        "mean = sum(myList)/len(myList)\n",
        "\n",
        "secondExpactation = 0\n",
        "for i in myList:\n",
        "  secondExpactation += (i**2)*1/len(myList)\n",
        "\n",
        "var = secondExpactation - mean**2\n",
        "SD = sqrt(var)\n",
        "\n",
        "print(\"\\nMean: \",mean)\n",
        "print(\"Variance: \",var)\n",
        "print(\"Standerd Deviation: \",SD)"
      ],
      "execution_count": null,
      "outputs": [
        {
          "output_type": "stream",
          "text": [
            "Sample space:  [74, 72, 14, 23, 89, 65, 10, 85, 24, 80]\n",
            "\n",
            "Mean:  53.6\n",
            "Variance:  910.2399999999998\n",
            "Standerd Deviation:  30.17018395701292\n"
          ],
          "name": "stdout"
        }
      ]
    },
    {
      "cell_type": "markdown",
      "metadata": {
        "id": "cwA15mAdc0nz"
      },
      "source": [
        "**Assignment**"
      ]
    },
    {
      "cell_type": "code",
      "metadata": {
        "colab": {
          "base_uri": "https://localhost:8080/"
        },
        "id": "dZ_H9pDcZFu7",
        "outputId": "75067a78-4745-47e8-a6d0-d3bd9956f155"
      },
      "source": [
        "# Median\n",
        "myList.sort()\n",
        "if len(myList)%2 == 0:\n",
        "  median = myList[len(myList)//2-1] + myList[len(myList)//2]\n",
        "else:\n",
        "  median = myList[len(myList)//2]\n",
        "\n",
        "print(\"Median: \",median)\n"
      ],
      "execution_count": null,
      "outputs": [
        {
          "output_type": "stream",
          "text": [
            "Median:  137\n"
          ],
          "name": "stdout"
        }
      ]
    },
    {
      "cell_type": "code",
      "metadata": {
        "colab": {
          "base_uri": "https://localhost:8080/"
        },
        "id": "_rGxDomMeTGh",
        "outputId": "2534e5a8-366e-437b-d4dd-a628d46d7100"
      },
      "source": [
        "# check for duplicates in list\n",
        "length = int(input(\"Enter length of list: \"))\n",
        "flag = False\n",
        "\n",
        "## creating a list randomly\n",
        "myList = []\n",
        "for i in range(0, length):\n",
        "  num = randint(0,100)\n",
        "  myList.append(num)\n",
        "\n",
        "#myList = [2,4,5,6,2]\n",
        "print()\n",
        "c = 0\n",
        "for i in range(0,len(myList)):\n",
        "  if i in myList[i+1:]:\n",
        "    flag = True\n",
        "    break\n",
        "\n",
        "print(flag) "
      ],
      "execution_count": null,
      "outputs": [
        {
          "output_type": "stream",
          "text": [
            "Enter length of list: 6\n",
            "True\n"
          ],
          "name": "stdout"
        }
      ]
    },
    {
      "cell_type": "code",
      "metadata": {
        "colab": {
          "base_uri": "https://localhost:8080/"
        },
        "id": "Trb3Ro8Re4uJ",
        "outputId": "5c5b111e-5744-4d86-96d8-0b510ce32d6b"
      },
      "source": [
        "## check for prime number\n",
        "from math import sqrt\n",
        "\n",
        "length = int(input(\"Enter length of list: \"))\n",
        "flag = False\n",
        "noPrime = False\n",
        "\n",
        "## creating a list randomly\n",
        "myList = []\n",
        "for i in range(0, length):\n",
        "  num = randint(0,100)\n",
        "  myList.append(num)\n",
        "\n",
        "#from math import sqrt\n",
        "myList = [1,2,4,5,6,6,7]\n",
        "print(myList)\n",
        "\n",
        "for num in myList:\n",
        "  limit = int(sqrt(num))\n",
        "  \n",
        "  flag  = True\n",
        "  for i in range(2, limit+1):\n",
        "    if num % i == 0:\n",
        "      flag = False\n",
        "      break\n",
        "    \n",
        "  if flag:\n",
        "    print(num)\n",
        "    noPrime = True\n",
        "\n",
        "if not noPrime:\n",
        "  print(\"No Prime\")"
      ],
      "execution_count": null,
      "outputs": [
        {
          "output_type": "stream",
          "text": [
            "Enter length of list: 5\n",
            "[1, 2, 4, 5, 6, 6, 7]\n",
            "1\n",
            "2\n",
            "5\n",
            "7\n"
          ],
          "name": "stdout"
        }
      ]
    },
    {
      "cell_type": "code",
      "metadata": {
        "colab": {
          "base_uri": "https://localhost:8080/"
        },
        "id": "rmlZYrvee9aC",
        "outputId": "6c26a9fa-dadf-477b-a8d9-c6716900c460"
      },
      "source": [
        "## Ading 2 matrices\n",
        "\n",
        "mat1 = []\n",
        "mat2 = []\n",
        "\n",
        "#rows = inr(\"Enter number of rows in the matrix: \")\n",
        "#cols = inr(\"Enter number of columns in the matrix: \")\n",
        "rows = 4\n",
        "cols = 3\n",
        "\n",
        "counter = 1\n",
        "for i in range(4):\n",
        "  temp = []\n",
        "  for j in range(3):\n",
        "    temp.append(counter)\n",
        "    counter += 1\n",
        "  mat1.append(temp)\n",
        "\n",
        "for i in range(4):\n",
        "  temp = []\n",
        "  for j in range(3):\n",
        "    temp.append(counter)\n",
        "    counter += 1\n",
        "  mat2.append(temp)\n",
        "\n",
        "\n",
        "  #####################\n",
        "\n",
        "\n",
        "sumMat = []\n",
        "\n",
        "for i in range(0, len(mat1)):\n",
        "  temp = []\n",
        "  for j in range(0, len(mat1[0])):\n",
        "    temp.append(mat1[i][j] + mat2[i][j])\n",
        "  sumMat.append(temp)\n",
        "\n",
        "\n",
        "#########\n",
        "print(\"\\nMatrix-1:\")\n",
        "for i in mat1:\n",
        "  for j in i:\n",
        "    print(j, end = \" \")\n",
        "  print()\n",
        "\n",
        "\n",
        "print(\"\\nMatrix-2:\")\n",
        "for i in mat2:\n",
        "  for j in i:\n",
        "    print(j, end = \" \")\n",
        "  print()\n",
        "\n",
        "\n",
        "print(\"\\n\\nMatrix-1 + Matrix-2:\\n\")\n",
        "for i in sumMat:\n",
        "  for j in i:\n",
        "    print(j, end = \" \")\n",
        "  print()"
      ],
      "execution_count": 31,
      "outputs": [
        {
          "output_type": "stream",
          "text": [
            "\n",
            "Matrix-1:\n",
            "1 2 3 \n",
            "4 5 6 \n",
            "7 8 9 \n",
            "10 11 12 \n",
            "\n",
            "Matrix-2:\n",
            "13 14 15 \n",
            "16 17 18 \n",
            "19 20 21 \n",
            "22 23 24 \n",
            "\n",
            "\n",
            "Matrix-1 + Matrix-2:\n",
            "\n",
            "14 16 18 \n",
            "20 22 24 \n",
            "26 28 30 \n",
            "32 34 36 \n"
          ],
          "name": "stdout"
        }
      ]
    },
    {
      "cell_type": "code",
      "metadata": {
        "id": "sI_liEgYsPqb",
        "outputId": "1892327b-639c-4eb4-ee18-137610b0f553",
        "colab": {
          "base_uri": "https://localhost:8080/"
        }
      },
      "source": [
        "## transpose\n",
        "\n",
        "myMatrix = []\n",
        "\n",
        "#rows = inr(\"Enter number of rows in the matrix: \")\n",
        "#cols = inr(\"Enter number of columns in the matrix: \")\n",
        "rows = 4\n",
        "cols = 3\n",
        "\n",
        "counter = 1\n",
        "for i in range(4):\n",
        "  temp = []\n",
        "  for j in range(3):\n",
        "    temp.append(counter)\n",
        "    counter += 1\n",
        "  myMatrix.append(temp)\n",
        "\n",
        "rows = len(myMatrix)\n",
        "cols = len(myMatrix[0])\n",
        "\n",
        "transposeMatrix = []\n",
        "\n",
        "for i in range(cols):\n",
        "  temp = []\n",
        "  for j in range(rows):\n",
        "    temp.append(myMatrix[j][i])\n",
        "  transposeMatrix.append(temp)\n",
        "\n",
        "\n",
        "print(\"\\nMain Matrix:\")\n",
        "for i in myMatrix:\n",
        "  for j in i:\n",
        "    print(j, end = \" \")\n",
        "  print()\n",
        "\n",
        "print(\"\\nTranspose Matrix:\")\n",
        "for i in transposeMatrix:\n",
        "  for j in i:\n",
        "    print(j, end = \" \")\n",
        "  print()\n"
      ],
      "execution_count": 14,
      "outputs": [
        {
          "output_type": "stream",
          "text": [
            "\n",
            "Main Matrix:\n",
            "1 2 3 \n",
            "4 5 6 \n",
            "7 8 9 \n",
            "10 11 12 \n",
            "\n",
            "Transpose Matrix:\n",
            "1 4 7 10 \n",
            "2 5 8 11 \n",
            "3 6 9 12 \n"
          ],
          "name": "stdout"
        }
      ]
    },
    {
      "cell_type": "code",
      "metadata": {
        "colab": {
          "base_uri": "https://localhost:8080/"
        },
        "id": "x4aq2XrzqR6D",
        "outputId": "c9976ae4-7fa6-40c2-d959-2e8ea1ff5fc0"
      },
      "source": [
        "### reverse a list\n",
        "myList = [1,2,3,4,5,6]\n",
        "temp = []\n",
        "for i in range(len(myList), 0,-1):\n",
        "  temp.append(i)\n",
        "\n",
        "myList = temp\n",
        "myList"
      ],
      "execution_count": null,
      "outputs": [
        {
          "output_type": "execute_result",
          "data": {
            "text/plain": [
              "[6, 5, 4, 3, 2, 1]"
            ]
          },
          "metadata": {
            "tags": []
          },
          "execution_count": 99
        }
      ]
    },
    {
      "cell_type": "markdown",
      "metadata": {
        "id": "qz-ANzC6vc2z"
      },
      "source": [
        "**Tuples**"
      ]
    },
    {
      "cell_type": "code",
      "metadata": {
        "colab": {
          "base_uri": "https://localhost:8080/"
        },
        "id": "JHPm9UdprnGg",
        "outputId": "fca41350-c1e7-460a-fbad-741b9d09c3e1"
      },
      "source": [
        "myTup =  (1,2,4,5,6,5)\n",
        "myTup.count(5)  # gives 2\n",
        "myTup.count(3)  # gives 0"
      ],
      "execution_count": null,
      "outputs": [
        {
          "output_type": "execute_result",
          "data": {
            "text/plain": [
              "0"
            ]
          },
          "metadata": {
            "tags": []
          },
          "execution_count": 108
        }
      ]
    },
    {
      "cell_type": "code",
      "metadata": {
        "id": "SmJCLE3Rvk4E"
      },
      "source": [
        "## zip() function\n",
        "myTup1 =  (1,2,4,5,6,5)\n",
        "myTup2 = ('a', 'bee', 'sea', 'solo', 'duo', 'trio')\n",
        "for txt, num in zip(myTup2,myTup1):\n",
        "  \n",
        "## generates a paired list"
      ],
      "execution_count": null,
      "outputs": []
    },
    {
      "cell_type": "code",
      "metadata": {
        "id": "r3g2fGPAyI4w"
      },
      "source": [
        "pairedList = [(1,'a'), (2,'b'),(3,'c')]\n"
      ],
      "execution_count": null,
      "outputs": []
    }
  ]
}