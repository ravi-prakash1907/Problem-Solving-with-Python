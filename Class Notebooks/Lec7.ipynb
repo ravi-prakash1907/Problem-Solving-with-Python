{
  "nbformat": 4,
  "nbformat_minor": 0,
  "metadata": {
    "colab": {
      "name": "Lec7.ipynb",
      "provenance": [],
      "collapsed_sections": [],
      "authorship_tag": "ABX9TyPk3trYIBYKoktY/BiFIAcu",
      "include_colab_link": true
    },
    "kernelspec": {
      "name": "python3",
      "display_name": "Python 3"
    }
  },
  "cells": [
    {
      "cell_type": "markdown",
      "metadata": {
        "id": "view-in-github",
        "colab_type": "text"
      },
      "source": [
        "<a href=\"https://colab.research.google.com/github/ravi-prakash1907/Problem-Solving-with-Python/blob/main/Class%20Notebooks/Lec7.ipynb\" target=\"_parent\"><img src=\"https://colab.research.google.com/assets/colab-badge.svg\" alt=\"Open In Colab\"/></a>"
      ]
    },
    {
      "cell_type": "markdown",
      "metadata": {
        "id": "OD_9zRFQ-Jkg"
      },
      "source": [
        "# Lec 7"
      ]
    },
    {
      "cell_type": "markdown",
      "metadata": {
        "id": "h4pp_QtL-vhR"
      },
      "source": [
        "## Topics  \n"
      ]
    },
    {
      "cell_type": "markdown",
      "metadata": {
        "id": "byatQItU-mFa"
      },
      "source": [
        "### List"
      ]
    },
    {
      "cell_type": "code",
      "metadata": {
        "id": "2GfPhVXR-D4U"
      },
      "source": [
        ""
      ],
      "execution_count": null,
      "outputs": []
    },
    {
      "cell_type": "code",
      "metadata": {
        "colab": {
          "base_uri": "https://localhost:8080/"
        },
        "id": "CYXZLK90-2CA",
        "outputId": "c6ab15b6-5ed7-486a-a208-3c3a07abad33"
      },
      "source": [
        "W = ['a', 'bee', 'sea', 'solo', 'duo', 'trio']\n",
        "W.sort()\n",
        "print(W)"
      ],
      "execution_count": null,
      "outputs": [
        {
          "output_type": "stream",
          "text": [
            "['a', 'bee', 'duo', 'sea', 'solo', 'trio']\n"
          ],
          "name": "stdout"
        }
      ]
    },
    {
      "cell_type": "code",
      "metadata": {
        "colab": {
          "base_uri": "https://localhost:8080/"
        },
        "id": "S8g3U8sl_Awq",
        "outputId": "412afb90-e8a7-4b74-d6de-db5edf949dad"
      },
      "source": [
        "w = [0, -5.4, 3, 8, 0.01]\n",
        "w.sort()\n",
        "print(w)\n",
        "\n",
        "w = [0, 'a', 3, 8, 0.01]\n",
        "#w.sort()\n",
        "print(w, \": give error\")\n",
        "\n",
        "w = [0, 3, 8, 0.01]\n",
        "w.sort()\n",
        "print(w)\n",
        "\n",
        "w = [7, 9]\n",
        "w.extend(['2nd'])\n",
        "print(w, \"\\tLen: \",len(w))\n",
        "\n",
        "w = [7, 9]\n",
        "w.append('Hi')\n",
        "print(w, \"\\tLen: \",len(w))\n"
      ],
      "execution_count": null,
      "outputs": [
        {
          "output_type": "stream",
          "text": [
            "[-5.4, 0, 0.01, 3, 8]\n",
            "[0, 'a', 3, 8, 0.01] : give error\n",
            "[0, 0.01, 3, 8]\n",
            "[7, 9, '2nd'] \tLen:  3\n",
            "[7, 9, 'Hi'] \tLen:  3\n"
          ],
          "name": "stdout"
        }
      ]
    },
    {
      "cell_type": "markdown",
      "metadata": {
        "id": "34lqhxC8B_28"
      },
      "source": [
        "### Append vs List\n",
        "\n",
        "**Append:**  \n",
        "* concatinates new list as single element  \n",
        "* takes 1 element\n",
        "* passed param is list\n",
        "\n",
        "**Extend:** concatinates new list as extended list"
      ]
    },
    {
      "cell_type": "code",
      "metadata": {
        "colab": {
          "base_uri": "https://localhost:8080/"
        },
        "id": "wvRKPg_L_-MN",
        "outputId": "2fb1fbe8-4421-4582-fb94-423ddaf9f509"
      },
      "source": [
        "tempList = [1,2,3]\n",
        "\n",
        "#######################\n",
        "\n",
        "w = [7, 9]\n",
        "w.extend(tempList)\n",
        "print(w, \"\\tLen: \",len(w))\n",
        "\n",
        "w = [7, 9]\n",
        "w.append(tempList)\n",
        "print(w, \"\\tLen: \",len(w))"
      ],
      "execution_count": null,
      "outputs": [
        {
          "output_type": "stream",
          "text": [
            "[7, 9, 1, 2, 3] \tLen:  5\n",
            "[7, 9, [1, 2, 3]] \tLen:  3\n"
          ],
          "name": "stdout"
        }
      ]
    },
    {
      "cell_type": "code",
      "metadata": {
        "colab": {
          "base_uri": "https://localhost:8080/"
        },
        "id": "OConUINbCP8I",
        "outputId": "98ffacd2-3e44-419d-a1b1-669d1ab6662e"
      },
      "source": [
        "names = ['Liam', 'Noah', 'Oliver', 'William', 'Elijah', 'James']\n",
        "for name in names:\n",
        "  print(\"Hi \" + name + \"!\")"
      ],
      "execution_count": null,
      "outputs": [
        {
          "output_type": "stream",
          "text": [
            "Hi Liam!\n",
            "Hi Noah!\n",
            "Hi Oliver!\n",
            "Hi William!\n",
            "Hi Elijah!\n",
            "Hi James!\n"
          ],
          "name": "stdout"
        }
      ]
    },
    {
      "cell_type": "code",
      "metadata": {
        "colab": {
          "base_uri": "https://localhost:8080/"
        },
        "id": "MW65MvlNFSDz",
        "outputId": "dc30951b-fe0b-4309-e654-a5d02f46a67a"
      },
      "source": [
        "count = 0\n",
        "for foo in names:\n",
        "  count += 1\n",
        "  print(count, foo)"
      ],
      "execution_count": null,
      "outputs": [
        {
          "output_type": "stream",
          "text": [
            "1 Liam\n",
            "2 Noah\n",
            "3 Oliver\n",
            "4 William\n",
            "5 Elijah\n",
            "6 James\n"
          ],
          "name": "stdout"
        }
      ]
    },
    {
      "cell_type": "code",
      "metadata": {
        "colab": {
          "base_uri": "https://localhost:8080/",
          "height": 35
        },
        "id": "eKp7eEosFx5h",
        "outputId": "2c41f9ab-a67b-48fe-8496-bd7af227ac2a"
      },
      "source": [
        "# 4th name's \n",
        "names[3]"
      ],
      "execution_count": null,
      "outputs": [
        {
          "output_type": "execute_result",
          "data": {
            "application/vnd.google.colaboratory.intrinsic+json": {
              "type": "string"
            },
            "text/plain": [
              "'William'"
            ]
          },
          "metadata": {
            "tags": []
          },
          "execution_count": 15
        }
      ]
    },
    {
      "cell_type": "markdown",
      "metadata": {
        "id": "7DDZ79xxJoqq"
      },
      "source": [
        "Lists & Strings etc.. are **iterables**"
      ]
    },
    {
      "cell_type": "code",
      "metadata": {
        "colab": {
          "base_uri": "https://localhost:8080/",
          "height": 35
        },
        "id": "2weamt2fGlu8",
        "outputId": "f84cbb60-5491-41c5-9c3f-e20eaa8b94b8"
      },
      "source": [
        "# 4th name's 4th letter\n",
        "names[3][3]"
      ],
      "execution_count": null,
      "outputs": [
        {
          "output_type": "execute_result",
          "data": {
            "application/vnd.google.colaboratory.intrinsic+json": {
              "type": "string"
            },
            "text/plain": [
              "'l'"
            ]
          },
          "metadata": {
            "tags": []
          },
          "execution_count": 16
        }
      ]
    },
    {
      "cell_type": "code",
      "metadata": {
        "colab": {
          "base_uri": "https://localhost:8080/"
        },
        "id": "-3fBQxp1Gv8v",
        "outputId": "9081a3d5-33a0-4a88-887e-0b6c75935111"
      },
      "source": [
        "a = [1,3]\n",
        "a = a+[4,8]\n",
        "a"
      ],
      "execution_count": null,
      "outputs": [
        {
          "output_type": "execute_result",
          "data": {
            "text/plain": [
              "[1, 3, 4, 8]"
            ]
          },
          "metadata": {
            "tags": []
          },
          "execution_count": 18
        }
      ]
    },
    {
      "cell_type": "code",
      "metadata": {
        "colab": {
          "base_uri": "https://localhost:8080/"
        },
        "id": "rMj5fE2sK0SC",
        "outputId": "be5d3a4f-89e9-45e3-e402-0ec4f250cecf"
      },
      "source": [
        "x = range(len(names)-1,-1,-1)\n",
        "# range(5, -1, -1)  --->   5, 4, 3, 2, 1, 0\n",
        "for i in x:\n",
        "  print(i,names[i])"
      ],
      "execution_count": null,
      "outputs": [
        {
          "output_type": "stream",
          "text": [
            "5 James\n",
            "4 Elijah\n",
            "3 William\n",
            "2 Oliver\n",
            "1 Noah\n",
            "0 Liam\n"
          ],
          "name": "stdout"
        }
      ]
    },
    {
      "cell_type": "markdown",
      "metadata": {
        "id": "HJGDqw-iWNOt"
      },
      "source": [
        "### Tuple\n",
        "Non-mutable datatypes"
      ]
    },
    {
      "cell_type": "code",
      "metadata": {
        "colab": {
          "base_uri": "https://localhost:8080/"
        },
        "id": "fpfdpdt4SmIw",
        "outputId": "5a12e745-af11-4be6-f15a-4bffce004d3b"
      },
      "source": [
        "tup1 = (1,2,3)\n",
        "tup2 = (1, 'a', 3)\n",
        "\n",
        "print(tup1)\n",
        "print(tup2)"
      ],
      "execution_count": null,
      "outputs": [
        {
          "output_type": "stream",
          "text": [
            "(1, 2, 3)\n",
            "(1, 'a', 3)\n"
          ],
          "name": "stdout"
        }
      ]
    },
    {
      "cell_type": "code",
      "metadata": {
        "colab": {
          "base_uri": "https://localhost:8080/"
        },
        "id": "biO2merBSzWB",
        "outputId": "6f042f6b-7893-4a64-ced9-88a4f831bb7d"
      },
      "source": [
        "# err\n",
        "#tup1[0] = 'b'\n",
        "\n",
        "## alt way\n",
        "temp = list(tup1)\n",
        "temp[0] = 'b'\n",
        "tup1 = tuple(temp)\n",
        "\n",
        "print(tup1)"
      ],
      "execution_count": null,
      "outputs": [
        {
          "output_type": "stream",
          "text": [
            "('b', 2, 3)\n"
          ],
          "name": "stdout"
        }
      ]
    },
    {
      "cell_type": "markdown",
      "metadata": {
        "id": "TaAng_EJCeOQ"
      },
      "source": [
        "# Lab 7"
      ]
    },
    {
      "cell_type": "markdown",
      "metadata": {
        "id": "pIHgBdldC2gi"
      },
      "source": [
        "**Loops:**  \n",
        "1. While\n",
        "2. For"
      ]
    },
    {
      "cell_type": "code",
      "metadata": {
        "colab": {
          "base_uri": "https://localhost:8080/"
        },
        "id": "U4CGHERxCgXN",
        "outputId": "b9994430-04be-4593-9f8b-9108325d67e5"
      },
      "source": [
        "## Add 10 consecutive num\n",
        "count = 0\n",
        "sum = 0\n",
        "\n",
        "while count != 10:\n",
        "  count += 1\n",
        "  sum += count\n",
        "\n",
        "print(\"Sum 0 to 10: \",sum)"
      ],
      "execution_count": null,
      "outputs": [
        {
          "output_type": "stream",
          "text": [
            "Sum 0 to 10:  55\n"
          ],
          "name": "stdout"
        }
      ]
    },
    {
      "cell_type": "code",
      "metadata": {
        "colab": {
          "base_uri": "https://localhost:8080/"
        },
        "id": "6jt-Sh41DR8B",
        "outputId": "8a6a0766-ba6a-4481-8c28-b46abf6fb2d7"
      },
      "source": [
        "## program to find sum of digits of a number\n",
        "yourNum = int(input(\"Enter the number: \"))\n",
        "num = yourNum\n",
        "\n",
        "sum = 0\n",
        "while num > 0:\n",
        "  rem = num % 10\n",
        "  sum += rem\n",
        "  num //= 10\n",
        "\n",
        "print(\"Sum of digits of number '\"+str(yourNum)+\"' is: \",sum)"
      ],
      "execution_count": null,
      "outputs": [
        {
          "output_type": "stream",
          "text": [
            "Enter the number: 123\n",
            "Sum of digits of number '123' is:  6\n"
          ],
          "name": "stdout"
        }
      ]
    },
    {
      "cell_type": "code",
      "metadata": {
        "colab": {
          "base_uri": "https://localhost:8080/"
        },
        "id": "GVxU71SrEKYG",
        "outputId": "50084fc0-31a2-49b9-eab1-e31bf07893b2"
      },
      "source": [
        "## reverse a number\n",
        "yourNum = int(input(\"Enter the number: \"))\n",
        "num = yourNum\n",
        "\n",
        "rev = 0\n",
        "while num != 0:\n",
        "  rem = num % 10\n",
        "  num //= 10\n",
        "  rev = rev * 10 + rem\n",
        "\n",
        "print(\"Reverse of digits of number '\"+str(yourNum)+\"' is: \",rev)"
      ],
      "execution_count": null,
      "outputs": [
        {
          "output_type": "stream",
          "text": [
            "Enter the number: 1265\n",
            "Reverse of digits of number '1265' is:  5621\n"
          ],
          "name": "stdout"
        }
      ]
    },
    {
      "cell_type": "markdown",
      "metadata": {
        "id": "e_rkqL9xLUfe"
      },
      "source": [
        "_**Perfect Numbers** have the sum of thier positive factors as themself._"
      ]
    },
    {
      "cell_type": "code",
      "metadata": {
        "colab": {
          "base_uri": "https://localhost:8080/",
          "height": 248
        },
        "id": "xUzfXN6aINMw",
        "outputId": "f089b407-469c-4e6d-d9f1-6eb4b3d005b0"
      },
      "source": [
        "## check for perfact num\n",
        "yourNum = int(input(\"Enter the number: \"))\n",
        "num = 1\n",
        "\n",
        "factors = []\n",
        "while num < yourNum:\n",
        "  if yourNum % num == 0:\n",
        "    factors.append(num)\n",
        "  num += 1\n",
        "\n",
        "sum = 0\n",
        "num = 0\n",
        "while num < len(factors):\n",
        "  sum += factors[num]\n",
        "  num += 1\n",
        "\n",
        "if sum == yourNum:\n",
        "  print(\"It's a perfect number!\")\n",
        "else:\n",
        "  print(\"It's NOT a perfect number!\")"
      ],
      "execution_count": 82,
      "outputs": [
        {
          "output_type": "stream",
          "text": [
            "Enter the number: 244\n"
          ],
          "name": "stdout"
        },
        {
          "output_type": "error",
          "ename": "TypeError",
          "evalue": "ignored",
          "traceback": [
            "\u001b[0;31m---------------------------------------------------------------------------\u001b[0m",
            "\u001b[0;31mTypeError\u001b[0m                                 Traceback (most recent call last)",
            "\u001b[0;32m<ipython-input-82-4a3854fbb098>\u001b[0m in \u001b[0;36m<module>\u001b[0;34m()\u001b[0m\n\u001b[1;32m     11\u001b[0m \u001b[0msum\u001b[0m \u001b[0;34m=\u001b[0m \u001b[0;36m0\u001b[0m\u001b[0;34m\u001b[0m\u001b[0;34m\u001b[0m\u001b[0m\n\u001b[1;32m     12\u001b[0m \u001b[0mnum\u001b[0m \u001b[0;34m=\u001b[0m \u001b[0;36m0\u001b[0m\u001b[0;34m\u001b[0m\u001b[0;34m\u001b[0m\u001b[0m\n\u001b[0;32m---> 13\u001b[0;31m \u001b[0;32mwhile\u001b[0m \u001b[0mnum\u001b[0m \u001b[0;34m<\u001b[0m \u001b[0mlen\u001b[0m\u001b[0;34m(\u001b[0m\u001b[0mfactors\u001b[0m\u001b[0;34m)\u001b[0m\u001b[0;34m:\u001b[0m\u001b[0;34m\u001b[0m\u001b[0;34m\u001b[0m\u001b[0m\n\u001b[0m\u001b[1;32m     14\u001b[0m   \u001b[0msum\u001b[0m \u001b[0;34m+=\u001b[0m \u001b[0mfactors\u001b[0m\u001b[0;34m[\u001b[0m\u001b[0mnum\u001b[0m\u001b[0;34m]\u001b[0m\u001b[0;34m\u001b[0m\u001b[0;34m\u001b[0m\u001b[0m\n\u001b[1;32m     15\u001b[0m   \u001b[0mnum\u001b[0m \u001b[0;34m+=\u001b[0m \u001b[0;36m1\u001b[0m\u001b[0;34m\u001b[0m\u001b[0;34m\u001b[0m\u001b[0m\n",
            "\u001b[0;31mTypeError\u001b[0m: 'int' object is not callable"
          ]
        }
      ]
    },
    {
      "cell_type": "code",
      "metadata": {
        "colab": {
          "base_uri": "https://localhost:8080/"
        },
        "id": "lhR0fAgnOHCv",
        "outputId": "03f72605-05f7-426c-f174-537c04352849"
      },
      "source": [
        "## check for \n",
        "num1 = int(input(\"Enter the number: \"))\n",
        "num2 = int(input(\"Enter the number: \"))\n",
        "\n",
        "gcd = 0\n",
        "flag = True\n",
        "if (num1 == 0) or (num2 == 0):\n",
        "  flag = False\n",
        "elif num1 > num2:\n",
        "  num = num2\n",
        "else:\n",
        "  num = num1\n",
        "\n",
        "temp = 1\n",
        "while temp <= num and flag:\n",
        "  if (num1 % temp == 0) and (num2 % temp == 0):\n",
        "    gcd = temp\n",
        "  temp += 1\n",
        "\n",
        "if flag:\n",
        "  print(\"\\nGCD of '\"+str(num1)+\"' and '\"+str(num2)+\": \",gcd)\n",
        "else:\n",
        "  print(\"GCD Does not exist!!\")"
      ],
      "execution_count": null,
      "outputs": [
        {
          "output_type": "stream",
          "text": [
            "Enter the number: 0\n",
            "Enter the number: 2\n",
            "GCD Does not exist!!\n"
          ],
          "name": "stdout"
        }
      ]
    },
    {
      "cell_type": "code",
      "metadata": {
        "colab": {
          "base_uri": "https://localhost:8080/"
        },
        "id": "ecYYOOrRSQ68",
        "outputId": "9a6a5426-5a5b-4165-8ffa-7d264b1578e1"
      },
      "source": [
        "## check for factorial of a num\n",
        "num = int(input(\"Enter a positive number: \"))\n",
        "counter = 1\n",
        "\n",
        "if num < 0:\n",
        "  print(\"Factorial of '\"+str(num)+\"' is a complex number!!\")\n",
        "else:\n",
        "  fact = 1\n",
        "  while counter <= num:\n",
        "    fact *= counter\n",
        "    counter += 1\n",
        "  print(\"Factorial of '\"+str(num)+\"' is: \",fact)"
      ],
      "execution_count": null,
      "outputs": [
        {
          "output_type": "stream",
          "text": [
            "Enter a positive number: -23\n",
            "Factorial of '-23' is a complex number!!\n"
          ],
          "name": "stdout"
        }
      ]
    },
    {
      "cell_type": "markdown",
      "metadata": {
        "id": "4oZ9-Ya9bqwu"
      },
      "source": [
        "Assignmet1\n"
      ]
    },
    {
      "cell_type": "code",
      "metadata": {
        "id": "UW2Sa9CoX8H8",
        "colab": {
          "base_uri": "https://localhost:8080/",
          "height": 248
        },
        "outputId": "63a40e26-8441-464a-ea34-23ec04949b67"
      },
      "source": [
        "## check for armstrong num\n",
        "num = int(input(\"Enter a positive number: \"))\n",
        "length = 0\n",
        "digits = []\n",
        "if num > 0:\n",
        "  while num != 0:\n",
        "    length += 1\n",
        "    digits.append(num % 10)\n",
        "    num //= 10\n",
        "\n",
        "print(len(digits))\n",
        "\n",
        "newNum = 0\n",
        "i = 0\n",
        "while i < len(digits):\n",
        "  newNum += pow(digits[i], length)\n",
        "\n",
        "print(newNum)\n",
        "  \n",
        "\n"
      ],
      "execution_count": 81,
      "outputs": [
        {
          "output_type": "stream",
          "text": [
            "Enter a positive number: 234\n"
          ],
          "name": "stdout"
        },
        {
          "output_type": "error",
          "ename": "TypeError",
          "evalue": "ignored",
          "traceback": [
            "\u001b[0;31m---------------------------------------------------------------------------\u001b[0m",
            "\u001b[0;31mTypeError\u001b[0m                                 Traceback (most recent call last)",
            "\u001b[0;32m<ipython-input-81-8040cf822a0b>\u001b[0m in \u001b[0;36m<module>\u001b[0;34m()\u001b[0m\n\u001b[1;32m      9\u001b[0m     \u001b[0mnum\u001b[0m \u001b[0;34m//=\u001b[0m \u001b[0;36m10\u001b[0m\u001b[0;34m\u001b[0m\u001b[0;34m\u001b[0m\u001b[0m\n\u001b[1;32m     10\u001b[0m \u001b[0;34m\u001b[0m\u001b[0m\n\u001b[0;32m---> 11\u001b[0;31m \u001b[0mprint\u001b[0m\u001b[0;34m(\u001b[0m\u001b[0mlen\u001b[0m\u001b[0;34m(\u001b[0m\u001b[0mdigits\u001b[0m\u001b[0;34m)\u001b[0m\u001b[0;34m)\u001b[0m\u001b[0;34m\u001b[0m\u001b[0;34m\u001b[0m\u001b[0m\n\u001b[0m\u001b[1;32m     12\u001b[0m \u001b[0;34m\u001b[0m\u001b[0m\n\u001b[1;32m     13\u001b[0m \u001b[0mnewNum\u001b[0m \u001b[0;34m=\u001b[0m \u001b[0;36m0\u001b[0m\u001b[0;34m\u001b[0m\u001b[0;34m\u001b[0m\u001b[0m\n",
            "\u001b[0;31mTypeError\u001b[0m: 'int' object is not callable"
          ]
        }
      ]
    },
    {
      "cell_type": "code",
      "metadata": {
        "id": "n0dCr6hsZ_wI"
      },
      "source": [
        "## first num divisible by X and greater than Y"
      ],
      "execution_count": 58,
      "outputs": []
    },
    {
      "cell_type": "code",
      "metadata": {
        "id": "dsy-9kSmd1Fa",
        "outputId": "f45b9442-4f47-49ba-9faf-78f993c74568",
        "colab": {
          "base_uri": "https://localhost:8080/"
        }
      },
      "source": [
        "## Check for LCM\n",
        "num1 = int(input(\"Enter first number: \"))\n",
        "num2 = int(input(\"Enter second number: \"))\n",
        "\n",
        "lcm = 1\n",
        "flag = True\n",
        "if (num1 == 0) or (num2 == 0):\n",
        "  flag = False\n",
        "elif num1 > num2:\n",
        "  num = num2\n",
        "else:\n",
        "  num = num1\n",
        "\n",
        "temp = 1\n",
        "while temp <= num and flag:\n",
        "  if (num1 % temp == 0) and (num2 % temp == 0):\n",
        "    lcm *= temp\n",
        "  temp += 1\n",
        "\n",
        "if flag:\n",
        "  print(\"\\nLCM of '\"+str(num1)+\"' and '\"+str(num2)+\": \",lcm)\n",
        "else:\n",
        "  print(\"LCM Does not exist!!\")"
      ],
      "execution_count": 61,
      "outputs": [
        {
          "output_type": "stream",
          "text": [
            "Enter first number: 3\n",
            "Enter second number: 12\n",
            "\n",
            "LCM of '3' and '12:  3\n"
          ],
          "name": "stdout"
        }
      ]
    },
    {
      "cell_type": "markdown",
      "metadata": {
        "id": "s-VxCfM2gEQ7"
      },
      "source": [
        "### For Loop"
      ]
    },
    {
      "cell_type": "code",
      "metadata": {
        "id": "rHenbdy2fkhv",
        "outputId": "8177293a-88b7-486a-f10e-bc52cd93a10b",
        "colab": {
          "base_uri": "https://localhost:8080/"
        }
      },
      "source": [
        "## even numbers upto x\n",
        "num = int(input(\"Enter the upper bound: \"))\n",
        "\n",
        "print(\"Even numbers from 0 to\",num,\":\")\n",
        "for i in range(2,num+1, 2):\n",
        "  print(i)"
      ],
      "execution_count": 65,
      "outputs": [
        {
          "output_type": "stream",
          "text": [
            "Enter the upper bound: 20\n",
            "Even numbers from 0 to 20 :\n",
            "2\n",
            "4\n",
            "6\n",
            "8\n",
            "10\n",
            "12\n",
            "14\n",
            "16\n",
            "18\n",
            "20\n"
          ],
          "name": "stdout"
        }
      ]
    },
    {
      "cell_type": "code",
      "metadata": {
        "id": "Gu-0Tpv2giQq",
        "outputId": "8ee39284-0016-4ebc-bec4-96c381dabe22",
        "colab": {
          "base_uri": "https://localhost:8080/"
        }
      },
      "source": [
        "## sum of numbers upto X that are not devisible by 2,3,5\n",
        "num = int(input(\"Enter the upper bound: \"))\n",
        "sum = 0\n",
        "\n",
        "print(\"Even numbers from 0 to\",num,\":\")\n",
        "for i in range(2,num+1, 2):\n",
        "  print(i)"
      ],
      "execution_count": 75,
      "outputs": [
        {
          "output_type": "stream",
          "text": [
            "Enter the upper bound: 5\n",
            "Even numbers from 0 to 5 :\n",
            "2\n",
            "4\n"
          ],
          "name": "stdout"
        }
      ]
    },
    {
      "cell_type": "code",
      "metadata": {
        "id": "ryyre7RShR5N",
        "outputId": "9723c519-854a-46cc-bbb3-0047a34e2efc",
        "colab": {
          "base_uri": "https://localhost:8080/"
        }
      },
      "source": [
        "## sum of even and odd num upto limit\n",
        "num = int(input(\"Enter the upper bound: \"))\n",
        "evenSum = 0\n",
        "oddSum = 0\n",
        "\n",
        "print(\"Even numbers from 0 to\",num,\":\")\n",
        "for i in range(0,num+1):\n",
        "  if i%2 == 0:\n",
        "    evenSum += i\n",
        "  else:\n",
        "    oddSum += i\n",
        "\n",
        "print(\"\\nevenSum: \",evenSum,\"\\t|\\toddSum: \",oddSum)"
      ],
      "execution_count": 71,
      "outputs": [
        {
          "output_type": "stream",
          "text": [
            "Enter the upper bound: 5\n",
            "Even numbers from 0 to 5 :\n",
            "\n",
            "evenSum:  6 \t|\toddSum:  8\n"
          ],
          "name": "stdout"
        }
      ]
    },
    {
      "cell_type": "code",
      "metadata": {
        "id": "I4ZiRg8mh6SD",
        "outputId": "dbe56231-b290-42b0-a183-7c2f5ae23809",
        "colab": {
          "base_uri": "https://localhost:8080/"
        }
      },
      "source": [
        "## fibonacci\n",
        "num = int(input(\"Enter the upper bound: \"))\n",
        "a = 0\n",
        "b = 1\n",
        "\n",
        "if num >= 2:\n",
        "  print(a, b, end = \" \")\n",
        "  for i in range(2,num):\n",
        "    c = a + b\n",
        "    a = b\n",
        "    b = c\n",
        "    print(c, end = \" \")\n",
        "elif num == 1:\n",
        "  print(a)\n",
        "else:\n",
        "  print(\"Invalid input!!\")\n",
        "\n"
      ],
      "execution_count": 78,
      "outputs": [
        {
          "output_type": "stream",
          "text": [
            "Enter the upper bound: 7\n",
            "0 1 1 2 3 5 8 "
          ],
          "name": "stdout"
        }
      ]
    },
    {
      "cell_type": "code",
      "metadata": {
        "id": "QcICnf2KjLYL",
        "outputId": "7d4dc582-81b6-4649-fd6f-16071ed529e9",
        "colab": {
          "base_uri": "https://localhost:8080/"
        }
      },
      "source": [
        "braces = input(\"Enter string: \")\n",
        "\n",
        "flag = True\n",
        "for b in braces:\n",
        "  if b == '(':\n",
        "    flag = False\n",
        "  elif b == ')':\n",
        "    flag = True\n",
        "\n",
        "if flag:\n",
        "  print(\"Matched\")\n",
        "else:\n",
        "  print(\"NOT Matched\")\n",
        "  "
      ],
      "execution_count": 79,
      "outputs": [
        {
          "output_type": "stream",
          "text": [
            "Enter string: (()())\n",
            "Matched\n"
          ],
          "name": "stdout"
        }
      ]
    },
    {
      "cell_type": "code",
      "metadata": {
        "id": "MxBqCAsckWAV",
        "outputId": "f0f662a8-f61a-474f-cd29-5d6c20aeef13",
        "colab": {
          "base_uri": "https://localhost:8080/"
        }
      },
      "source": [
        "## check for prime number\n",
        "from math import sqrt\n",
        "\n",
        "num = int(input(\"Enter the upper bound: \"))\n",
        "limit = int(sqrt(num))\n",
        "\n",
        "flag  = True\n",
        "for i in range(2, limit+1):\n",
        "  if num % i == 0:\n",
        "    flag = False\n",
        "    break\n",
        "\n",
        "if flag:\n",
        "  print(\"Number is Prime\")\n",
        "else:\n",
        "  print(\"Number is NOT Prime\")\n"
      ],
      "execution_count": 80,
      "outputs": [
        {
          "output_type": "stream",
          "text": [
            "Enter the upper bound: 17\n",
            "Number is Prime\n"
          ],
          "name": "stdout"
        }
      ]
    }
  ]
}