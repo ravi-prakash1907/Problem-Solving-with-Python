{
  "nbformat": 4,
  "nbformat_minor": 0,
  "metadata": {
    "colab": {
      "name": "Lec7.ipynb",
      "provenance": [],
      "collapsed_sections": [],
      "authorship_tag": "ABX9TyPXLbNli/p0mL/iq4ARa+I4",
      "include_colab_link": true
    },
    "kernelspec": {
      "name": "python3",
      "display_name": "Python 3"
    }
  },
  "cells": [
    {
      "cell_type": "markdown",
      "metadata": {
        "id": "view-in-github",
        "colab_type": "text"
      },
      "source": [
        "<a href=\"https://colab.research.google.com/github/ravi-prakash1907/Problem-Solving-with-Python/blob/main/Class%20Notebooks/Lec7.ipynb\" target=\"_parent\"><img src=\"https://colab.research.google.com/assets/colab-badge.svg\" alt=\"Open In Colab\"/></a>"
      ]
    },
    {
      "cell_type": "markdown",
      "metadata": {
        "id": "OD_9zRFQ-Jkg"
      },
      "source": [
        "# Lec 7"
      ]
    },
    {
      "cell_type": "markdown",
      "metadata": {
        "id": "h4pp_QtL-vhR"
      },
      "source": [
        "## Topics  \n"
      ]
    },
    {
      "cell_type": "markdown",
      "metadata": {
        "id": "byatQItU-mFa"
      },
      "source": [
        "### List"
      ]
    },
    {
      "cell_type": "code",
      "metadata": {
        "id": "2GfPhVXR-D4U"
      },
      "source": [
        ""
      ],
      "execution_count": null,
      "outputs": []
    },
    {
      "cell_type": "code",
      "metadata": {
        "colab": {
          "base_uri": "https://localhost:8080/"
        },
        "id": "CYXZLK90-2CA",
        "outputId": "c6ab15b6-5ed7-486a-a208-3c3a07abad33"
      },
      "source": [
        "W = ['a', 'bee', 'sea', 'solo', 'duo', 'trio']\n",
        "W.sort()\n",
        "print(W)"
      ],
      "execution_count": 1,
      "outputs": [
        {
          "output_type": "stream",
          "text": [
            "['a', 'bee', 'duo', 'sea', 'solo', 'trio']\n"
          ],
          "name": "stdout"
        }
      ]
    },
    {
      "cell_type": "code",
      "metadata": {
        "colab": {
          "base_uri": "https://localhost:8080/"
        },
        "id": "S8g3U8sl_Awq",
        "outputId": "412afb90-e8a7-4b74-d6de-db5edf949dad"
      },
      "source": [
        "w = [0, -5.4, 3, 8, 0.01]\n",
        "w.sort()\n",
        "print(w)\n",
        "\n",
        "w = [0, 'a', 3, 8, 0.01]\n",
        "#w.sort()\n",
        "print(w, \": give error\")\n",
        "\n",
        "w = [0, 3, 8, 0.01]\n",
        "w.sort()\n",
        "print(w)\n",
        "\n",
        "w = [7, 9]\n",
        "w.extend(['2nd'])\n",
        "print(w, \"\\tLen: \",len(w))\n",
        "\n",
        "w = [7, 9]\n",
        "w.append('Hi')\n",
        "print(w, \"\\tLen: \",len(w))\n"
      ],
      "execution_count": 9,
      "outputs": [
        {
          "output_type": "stream",
          "text": [
            "[-5.4, 0, 0.01, 3, 8]\n",
            "[0, 'a', 3, 8, 0.01] : give error\n",
            "[0, 0.01, 3, 8]\n",
            "[7, 9, '2nd'] \tLen:  3\n",
            "[7, 9, 'Hi'] \tLen:  3\n"
          ],
          "name": "stdout"
        }
      ]
    },
    {
      "cell_type": "markdown",
      "metadata": {
        "id": "34lqhxC8B_28"
      },
      "source": [
        "### Append vs List\n",
        "\n",
        "**Append:**  \n",
        "* concatinates new list as single element  \n",
        "* takes 1 element\n",
        "* passed param is list\n",
        "\n",
        "**Extend:** concatinates new list as extended list"
      ]
    },
    {
      "cell_type": "code",
      "metadata": {
        "colab": {
          "base_uri": "https://localhost:8080/"
        },
        "id": "wvRKPg_L_-MN",
        "outputId": "2fb1fbe8-4421-4582-fb94-423ddaf9f509"
      },
      "source": [
        "tempList = [1,2,3]\n",
        "\n",
        "#######################\n",
        "\n",
        "w = [7, 9]\n",
        "w.extend(tempList)\n",
        "print(w, \"\\tLen: \",len(w))\n",
        "\n",
        "w = [7, 9]\n",
        "w.append(tempList)\n",
        "print(w, \"\\tLen: \",len(w))"
      ],
      "execution_count": 10,
      "outputs": [
        {
          "output_type": "stream",
          "text": [
            "[7, 9, 1, 2, 3] \tLen:  5\n",
            "[7, 9, [1, 2, 3]] \tLen:  3\n"
          ],
          "name": "stdout"
        }
      ]
    },
    {
      "cell_type": "code",
      "metadata": {
        "colab": {
          "base_uri": "https://localhost:8080/"
        },
        "id": "OConUINbCP8I",
        "outputId": "98ffacd2-3e44-419d-a1b1-669d1ab6662e"
      },
      "source": [
        "names = ['Liam', 'Noah', 'Oliver', 'William', 'Elijah', 'James']\n",
        "for name in names:\n",
        "  print(\"Hi \" + name + \"!\")"
      ],
      "execution_count": 11,
      "outputs": [
        {
          "output_type": "stream",
          "text": [
            "Hi Liam!\n",
            "Hi Noah!\n",
            "Hi Oliver!\n",
            "Hi William!\n",
            "Hi Elijah!\n",
            "Hi James!\n"
          ],
          "name": "stdout"
        }
      ]
    },
    {
      "cell_type": "code",
      "metadata": {
        "colab": {
          "base_uri": "https://localhost:8080/"
        },
        "id": "MW65MvlNFSDz",
        "outputId": "dc30951b-fe0b-4309-e654-a5d02f46a67a"
      },
      "source": [
        "count = 0\n",
        "for foo in names:\n",
        "  count += 1\n",
        "  print(count, foo)"
      ],
      "execution_count": 12,
      "outputs": [
        {
          "output_type": "stream",
          "text": [
            "1 Liam\n",
            "2 Noah\n",
            "3 Oliver\n",
            "4 William\n",
            "5 Elijah\n",
            "6 James\n"
          ],
          "name": "stdout"
        }
      ]
    },
    {
      "cell_type": "code",
      "metadata": {
        "colab": {
          "base_uri": "https://localhost:8080/",
          "height": 35
        },
        "id": "eKp7eEosFx5h",
        "outputId": "2c41f9ab-a67b-48fe-8496-bd7af227ac2a"
      },
      "source": [
        "# 4th name's \n",
        "names[3]"
      ],
      "execution_count": 15,
      "outputs": [
        {
          "output_type": "execute_result",
          "data": {
            "application/vnd.google.colaboratory.intrinsic+json": {
              "type": "string"
            },
            "text/plain": [
              "'William'"
            ]
          },
          "metadata": {
            "tags": []
          },
          "execution_count": 15
        }
      ]
    },
    {
      "cell_type": "markdown",
      "metadata": {
        "id": "7DDZ79xxJoqq"
      },
      "source": [
        "Lists & Strings etc.. are **iterables**"
      ]
    },
    {
      "cell_type": "code",
      "metadata": {
        "colab": {
          "base_uri": "https://localhost:8080/",
          "height": 35
        },
        "id": "2weamt2fGlu8",
        "outputId": "f84cbb60-5491-41c5-9c3f-e20eaa8b94b8"
      },
      "source": [
        "# 4th name's 4th letter\n",
        "names[3][3]"
      ],
      "execution_count": 16,
      "outputs": [
        {
          "output_type": "execute_result",
          "data": {
            "application/vnd.google.colaboratory.intrinsic+json": {
              "type": "string"
            },
            "text/plain": [
              "'l'"
            ]
          },
          "metadata": {
            "tags": []
          },
          "execution_count": 16
        }
      ]
    },
    {
      "cell_type": "code",
      "metadata": {
        "colab": {
          "base_uri": "https://localhost:8080/"
        },
        "id": "-3fBQxp1Gv8v",
        "outputId": "9081a3d5-33a0-4a88-887e-0b6c75935111"
      },
      "source": [
        "a = [1,3]\n",
        "a = a+[4,8]\n",
        "a"
      ],
      "execution_count": 18,
      "outputs": [
        {
          "output_type": "execute_result",
          "data": {
            "text/plain": [
              "[1, 3, 4, 8]"
            ]
          },
          "metadata": {
            "tags": []
          },
          "execution_count": 18
        }
      ]
    },
    {
      "cell_type": "code",
      "metadata": {
        "colab": {
          "base_uri": "https://localhost:8080/"
        },
        "id": "rMj5fE2sK0SC",
        "outputId": "be5d3a4f-89e9-45e3-e402-0ec4f250cecf"
      },
      "source": [
        "x = range(len(names)-1,-1,-1)\n",
        "# range(5, -1, -1)  --->   5, 4, 3, 2, 1, 0\n",
        "for i in x:\n",
        "  print(i,names[i])"
      ],
      "execution_count": 26,
      "outputs": [
        {
          "output_type": "stream",
          "text": [
            "5 James\n",
            "4 Elijah\n",
            "3 William\n",
            "2 Oliver\n",
            "1 Noah\n",
            "0 Liam\n"
          ],
          "name": "stdout"
        }
      ]
    },
    {
      "cell_type": "markdown",
      "metadata": {
        "id": "HJGDqw-iWNOt"
      },
      "source": [
        "### Tuple\n",
        "Non-mutable datatypes"
      ]
    },
    {
      "cell_type": "code",
      "metadata": {
        "colab": {
          "base_uri": "https://localhost:8080/"
        },
        "id": "fpfdpdt4SmIw",
        "outputId": "5a12e745-af11-4be6-f15a-4bffce004d3b"
      },
      "source": [
        "tup1 = (1,2,3)\n",
        "tup2 = (1, 'a', 3)\n",
        "\n",
        "print(tup1)\n",
        "print(tup2)"
      ],
      "execution_count": 28,
      "outputs": [
        {
          "output_type": "stream",
          "text": [
            "(1, 2, 3)\n",
            "(1, 'a', 3)\n"
          ],
          "name": "stdout"
        }
      ]
    },
    {
      "cell_type": "code",
      "metadata": {
        "colab": {
          "base_uri": "https://localhost:8080/"
        },
        "id": "biO2merBSzWB",
        "outputId": "6f042f6b-7893-4a64-ced9-88a4f831bb7d"
      },
      "source": [
        "# err\n",
        "#tup1[0] = 'b'\n",
        "\n",
        "## alt way\n",
        "temp = list(tup1)\n",
        "temp[0] = 'b'\n",
        "tup1 = tuple(temp)\n",
        "\n",
        "print(tup1)"
      ],
      "execution_count": 30,
      "outputs": [
        {
          "output_type": "stream",
          "text": [
            "('b', 2, 3)\n"
          ],
          "name": "stdout"
        }
      ]
    }
  ]
}