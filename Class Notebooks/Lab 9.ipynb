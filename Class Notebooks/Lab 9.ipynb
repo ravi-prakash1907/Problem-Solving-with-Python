{
  "nbformat": 4,
  "nbformat_minor": 0,
  "metadata": {
    "colab": {
      "name": "Lab 9.ipynb",
      "provenance": [],
      "authorship_tag": "ABX9TyMAlZh5zguleedHoWaSJk9U",
      "include_colab_link": true
    },
    "kernelspec": {
      "name": "python3",
      "display_name": "Python 3"
    }
  },
  "cells": [
    {
      "cell_type": "markdown",
      "metadata": {
        "id": "view-in-github",
        "colab_type": "text"
      },
      "source": [
        "<a href=\"https://colab.research.google.com/github/ravi-prakash1907/Problem-Solving-with-Python/blob/main/Class%20Notebooks/Lab%209.ipynb\" target=\"_parent\"><img src=\"https://colab.research.google.com/assets/colab-badge.svg\" alt=\"Open In Colab\"/></a>"
      ]
    },
    {
      "cell_type": "markdown",
      "metadata": {
        "id": "8cUNxVhfKYhU"
      },
      "source": [
        "# Lec 9"
      ]
    },
    {
      "cell_type": "markdown",
      "metadata": {
        "id": "NyZUdfWuKjJD"
      },
      "source": [
        "## Modules\n",
        "\n",
        "Contain Multiple Functions of Libraries  \n",
        "\n",
        "Collection of **modules** is called **package**  \n",
        "\n",
        "Eg. **math** is a module"
      ]
    },
    {
      "cell_type": "code",
      "metadata": {
        "colab": {
          "base_uri": "https://localhost:8080/"
        },
        "id": "cpQnRrS8KO95",
        "outputId": "eb931f89-7c19-4c77-e778-1c2dd6245c6b"
      },
      "source": [
        "## importing a module\n",
        "import math\n",
        "\n",
        "# works well\n",
        "print(math.cos(0))\n",
        "print(math.pi)\n",
        "\n",
        "# error\n",
        "#print(cos(0))"
      ],
      "execution_count": 2,
      "outputs": [
        {
          "output_type": "stream",
          "text": [
            "1.0\n",
            "3.141592653589793\n"
          ],
          "name": "stdout"
        }
      ]
    },
    {
      "cell_type": "code",
      "metadata": {
        "id": "nv0gyU8sLzNv"
      },
      "source": [
        "## while importing modules, they can be renamed\n",
        "\n",
        "# form <lib> import <fun> as <idf>\n",
        "# del <idf>\n",
        "\n",
        "# <fun>(<value>)   ##  will it work?"
      ],
      "execution_count": 3,
      "outputs": []
    },
    {
      "cell_type": "code",
      "metadata": {
        "colab": {
          "base_uri": "https://localhost:8080/"
        },
        "id": "IC6c2BzhNAtj",
        "outputId": "df5e3b4e-5b9d-4573-8c7e-6d30b6251dec"
      },
      "source": [
        "from random import randint as rand\n",
        "\n",
        "print(rand(1,10))\n",
        "\n",
        "del rand\n",
        "#print(randint(1,10))   # won't work\n"
      ],
      "execution_count": 5,
      "outputs": [
        {
          "output_type": "stream",
          "text": [
            "10\n"
          ],
          "name": "stdout"
        }
      ]
    },
    {
      "cell_type": "markdown",
      "metadata": {
        "id": "PBiahWG1PPWH"
      },
      "source": [
        "### Import everything and access without '.' (dot) operator"
      ]
    },
    {
      "cell_type": "code",
      "metadata": {
        "id": "tA30qPR3PH8Q"
      },
      "source": [
        "from math import *"
      ],
      "execution_count": 6,
      "outputs": []
    },
    {
      "cell_type": "markdown",
      "metadata": {
        "id": "q1BM3H30Pu0B"
      },
      "source": [
        "---"
      ]
    },
    {
      "cell_type": "markdown",
      "metadata": {
        "id": "0FT72Q6kecDZ"
      },
      "source": [
        "## Problem-17:  (Mid Sem = 1)\n",
        "\n",
        "whatevWrite a program that prints the result of the mathematical expression entered by the user. For example, if the expression is 23 + 2.3 * 22 / 5, the program should behave EXACTLY as follows:er"
      ]
    },
    {
      "cell_type": "code",
      "metadata": {
        "id": "MnqlgUEwPdiJ"
      },
      "source": [
        "c = input(\"Enter str.\")\n",
        "\n",
        "myL = c.split(\" \")\n",
        "newL = []\n",
        "for i in myL:\n",
        "  if i.isnumber\n",
        "\n",
        "\n",
        "\n",
        "for "
      ],
      "execution_count": null,
      "outputs": []
    }
  ]
}