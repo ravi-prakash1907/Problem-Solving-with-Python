{
  "nbformat": 4,
  "nbformat_minor": 0,
  "metadata": {
    "colab": {
      "name": "Lec7.ipynb",
      "provenance": [],
      "collapsed_sections": [],
      "authorship_tag": "ABX9TyObyaHCFtoN3uJUtMAAMlxf",
      "include_colab_link": true
    },
    "kernelspec": {
      "name": "python3",
      "display_name": "Python 3"
    }
  },
  "cells": [
    {
      "cell_type": "markdown",
      "metadata": {
        "id": "view-in-github",
        "colab_type": "text"
      },
      "source": [
        "<a href=\"https://colab.research.google.com/github/ravi-prakash1907/Problem-Solving-with-Python/blob/main/Class%20Notebooks/Lec8.ipynb\" target=\"_parent\"><img src=\"https://colab.research.google.com/assets/colab-badge.svg\" alt=\"Open In Colab\"/></a>"
      ]
    },
    {
      "cell_type": "markdown",
      "metadata": {
        "id": "OD_9zRFQ-Jkg"
      },
      "source": [
        "# Lec 8"
      ]
    },
    {
      "cell_type": "markdown",
      "metadata": {
        "id": "h4pp_QtL-vhR"
      },
      "source": [
        "## Topics  \n",
        "1. Defining & Caling Functions\n",
        "2. Return Values\n",
        "3. Parameters Passing\n",
        "4. Variable Scope & Lifetime\n",
        "5. Keyword & Default Arguments\n",
        "6. Lambda Functions\n",
        "7. Functions Redefination\n"
      ]
    },
    {
      "cell_type": "markdown",
      "metadata": {
        "id": "TWePaPnIU-RF"
      },
      "source": [
        "#### Lambda Function\n",
        "1. take any number of arguments\n",
        "2. only have one expression\n",
        "3. Keyword used: **lembda**\n",
        "4. Don\\'t include **return** statement "
      ]
    },
    {
      "cell_type": "code",
      "metadata": {
        "id": "Ym3DBM5mU9rM",
        "outputId": "7719c7b7-1e14-41a5-802b-c687ce7c12cd",
        "colab": {
          "base_uri": "https://localhost:8080/"
        }
      },
      "source": [
        "## Adding numbers\n",
        "addAl = lambda a,b: a+b\n",
        "\n",
        "addAl(1,2)"
      ],
      "execution_count": 8,
      "outputs": [
        {
          "output_type": "execute_result",
          "data": {
            "text/plain": [
              "3"
            ]
          },
          "metadata": {
            "tags": []
          },
          "execution_count": 8
        }
      ]
    },
    {
      "cell_type": "code",
      "metadata": {
        "id": "ecObg4zNWqDl",
        "outputId": "ebee4d3d-fb8a-4250-fb18-917d8d1da095",
        "colab": {
          "base_uri": "https://localhost:8080/"
        }
      },
      "source": [
        "## Some other usage\n",
        "def lambdaHolder(n):\n",
        "  return lambda a : a * n\n",
        "\n",
        "##\n",
        "trio = lambdaHolder(3)\n",
        "print(trio(11))"
      ],
      "execution_count": 11,
      "outputs": [
        {
          "output_type": "stream",
          "text": [
            "33\n"
          ],
          "name": "stdout"
        }
      ]
    },
    {
      "cell_type": "markdown",
      "metadata": {
        "id": "VtbUHv-rYVlI"
      },
      "source": [
        "#### Function Redefination\n"
      ]
    },
    {
      "cell_type": "code",
      "metadata": {
        "id": "1avCSQ1GYbW-",
        "outputId": "eed788d0-f348-4ea4-ac20-2051b8e06127",
        "colab": {
          "base_uri": "https://localhost:8080/"
        }
      },
      "source": [
        "def foo():\n",
        "    pass\n",
        "\n",
        "def driver(variable_dict):\n",
        "    if 'foo' in variable_dict:\n",
        "        print('Function foo already exists!')\n",
        "    else:\n",
        "        print('Function foo does not exist..')\n",
        "\n",
        "check_foo(locals())\n",
        "del foo\n",
        "\n",
        "check_foo(locals())\n"
      ],
      "execution_count": 17,
      "outputs": [
        {
          "output_type": "stream",
          "text": [
            "Function foo already exists!\n",
            "Function foo does not exist..\n"
          ],
          "name": "stdout"
        }
      ]
    },
    {
      "cell_type": "markdown",
      "metadata": {
        "id": "TaAng_EJCeOQ"
      },
      "source": [
        "# Lab 8"
      ]
    },
    {
      "cell_type": "markdown",
      "metadata": {
        "id": "yAQylaqnKxt2"
      },
      "source": [
        "## Topics  \n",
        "1. Functions"
      ]
    },
    {
      "cell_type": "code",
      "metadata": {
        "colab": {
          "base_uri": "https://localhost:8080/"
        },
        "id": "U4CGHERxCgXN",
        "outputId": "8113ff58-533b-4551-aa8a-15bf379acd6a"
      },
      "source": [
        "## Take 2 num and return the Sum\n",
        "def addition(num1, num2):\n",
        "  return num1 + num2\n",
        "\n",
        "n1 = int(input(\"Enter frist number: \"))\n",
        "n2 = int(input(\"Enter second number: \"))\n",
        "\n",
        "# calling addition(num1 = n1, num2 = n2) or addition(num2 = n2, num1 = n1)\n",
        "sum = addition(n1, n2)\n",
        "print(\"\\nSum = \",sum)"
      ],
      "execution_count": 1,
      "outputs": [
        {
          "output_type": "stream",
          "text": [
            "Enter frist number: 34\n",
            "Enter second number: 8\n",
            "\n",
            "Sum =  42\n"
          ],
          "name": "stdout"
        }
      ]
    },
    {
      "cell_type": "markdown",
      "metadata": {
        "id": "EGYaQyCsSEm9"
      },
      "source": [
        "### Variables\n",
        "* Global v/s Local Variables  \n",
        "  \n",
        "Following are same:  \n",
        "* Function _Parameters_ v/s Function _Arguments_\n",
        "* Formal v/s Actual Parameters\n",
        "* Keyword v/s Positional Arguments  \n",
        "  \n",
        "_While **calling** the functions, the order can vary if the **naming** is correct_  \n",
        "eg:  following are same:\n",
        " > foo(x = a, y = b)  \n",
        " > foo(y = b, x = a)  \n",
        "\n",
        "Default Args"
      ]
    },
    {
      "cell_type": "code",
      "metadata": {
        "id": "E-XGFaidR7Gq"
      },
      "source": [
        ""
      ],
      "execution_count": null,
      "outputs": []
    }
  ]
}