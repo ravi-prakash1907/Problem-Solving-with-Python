{
  "nbformat": 4,
  "nbformat_minor": 0,
  "metadata": {
    "colab": {
      "name": "Lec 8.ipynb",
      "provenance": [],
      "collapsed_sections": [],
      "authorship_tag": "ABX9TyM1Kt6MLl7PArLaWqwgZPDc",
      "include_colab_link": true
    },
    "kernelspec": {
      "name": "python3",
      "display_name": "Python 3"
    }
  },
  "cells": [
    {
      "cell_type": "markdown",
      "metadata": {
        "id": "view-in-github",
        "colab_type": "text"
      },
      "source": [
        "<a href=\"https://colab.research.google.com/github/ravi-prakash1907/Problem-Solving-with-Python/blob/main/Class%20Notebooks/Lec8.ipynb\" target=\"_parent\"><img src=\"https://colab.research.google.com/assets/colab-badge.svg\" alt=\"Open In Colab\"/></a>"
      ]
    },
    {
      "cell_type": "markdown",
      "metadata": {
        "id": "OD_9zRFQ-Jkg"
      },
      "source": [
        "# Lec 8"
      ]
    },
    {
      "cell_type": "markdown",
      "metadata": {
        "id": "h4pp_QtL-vhR"
      },
      "source": [
        "## Topics  \n",
        "1. Defining & Caling Functions\n",
        "2. Return Values\n",
        "3. Parameters Passing\n",
        "4. Variable Scope & Lifetime\n",
        "5. Keyword & Default Arguments\n",
        "6. Lambda Functions\n",
        "7. Functions Redefination\n"
      ]
    },
    {
      "cell_type": "markdown",
      "metadata": {
        "id": "TWePaPnIU-RF"
      },
      "source": [
        "#### Lambda Function\n",
        "1. take any number of arguments\n",
        "2. only have one expression\n",
        "3. Keyword used: **lembda**\n",
        "4. Don\\'t include **return** statement "
      ]
    },
    {
      "cell_type": "code",
      "metadata": {
        "id": "Ym3DBM5mU9rM",
        "colab": {
          "base_uri": "https://localhost:8080/"
        },
        "outputId": "7719c7b7-1e14-41a5-802b-c687ce7c12cd"
      },
      "source": [
        "## Adding numbers\n",
        "addAl = lambda a,b: a+b\n",
        "\n",
        "addAl(1,2)"
      ],
      "execution_count": null,
      "outputs": [
        {
          "output_type": "execute_result",
          "data": {
            "text/plain": [
              "3"
            ]
          },
          "metadata": {
            "tags": []
          },
          "execution_count": 8
        }
      ]
    },
    {
      "cell_type": "code",
      "metadata": {
        "id": "ecObg4zNWqDl",
        "colab": {
          "base_uri": "https://localhost:8080/"
        },
        "outputId": "ebee4d3d-fb8a-4250-fb18-917d8d1da095"
      },
      "source": [
        "## Some other usage\n",
        "def lambdaHolder(n):\n",
        "  return lambda a : a * n\n",
        "\n",
        "##\n",
        "trio = lambdaHolder(3)\n",
        "print(trio(11))"
      ],
      "execution_count": null,
      "outputs": [
        {
          "output_type": "stream",
          "text": [
            "33\n"
          ],
          "name": "stdout"
        }
      ]
    },
    {
      "cell_type": "markdown",
      "metadata": {
        "id": "VtbUHv-rYVlI"
      },
      "source": [
        "#### Function Redefination\n"
      ]
    },
    {
      "cell_type": "code",
      "metadata": {
        "id": "1avCSQ1GYbW-",
        "colab": {
          "base_uri": "https://localhost:8080/"
        },
        "outputId": "eed788d0-f348-4ea4-ac20-2051b8e06127"
      },
      "source": [
        "def foo():\n",
        "    pass\n",
        "\n",
        "def driver(variable_dict):\n",
        "    if 'foo' in variable_dict:\n",
        "        print('Function foo already exists!')\n",
        "    else:\n",
        "        print('Function foo does not exist..')\n",
        "\n",
        "check_foo(locals())\n",
        "del foo\n",
        "\n",
        "check_foo(locals())\n"
      ],
      "execution_count": null,
      "outputs": [
        {
          "output_type": "stream",
          "text": [
            "Function foo already exists!\n",
            "Function foo does not exist..\n"
          ],
          "name": "stdout"
        }
      ]
    },
    {
      "cell_type": "markdown",
      "metadata": {
        "id": "TaAng_EJCeOQ"
      },
      "source": [
        "# Lab 8"
      ]
    },
    {
      "cell_type": "markdown",
      "metadata": {
        "id": "yAQylaqnKxt2"
      },
      "source": [
        "## Topics  \n",
        "1. Functions"
      ]
    },
    {
      "cell_type": "code",
      "metadata": {
        "colab": {
          "base_uri": "https://localhost:8080/"
        },
        "id": "U4CGHERxCgXN",
        "outputId": "8113ff58-533b-4551-aa8a-15bf379acd6a"
      },
      "source": [
        "## Take 2 num and return the Sum\n",
        "def addition(num1, num2):\n",
        "  return num1 + num2\n",
        "\n",
        "n1 = int(input(\"Enter frist number: \"))\n",
        "n2 = int(input(\"Enter second number: \"))\n",
        "\n",
        "# calling addition(num1 = n1, num2 = n2) or addition(num2 = n2, num1 = n1)\n",
        "sum = addition(n1, n2)\n",
        "print(\"\\nSum = \",sum)"
      ],
      "execution_count": null,
      "outputs": [
        {
          "output_type": "stream",
          "text": [
            "Enter frist number: 34\n",
            "Enter second number: 8\n",
            "\n",
            "Sum =  42\n"
          ],
          "name": "stdout"
        }
      ]
    },
    {
      "cell_type": "markdown",
      "metadata": {
        "id": "EGYaQyCsSEm9"
      },
      "source": [
        "### Variables\n",
        "* Global v/s Local Variables  \n",
        "  \n",
        "Following are same:  \n",
        "* Function _Parameters_ v/s Function _Arguments_\n",
        "* Formal v/s Actual Parameters\n",
        "* Keyword v/s Positional Arguments  \n",
        "  \n",
        "_While **calling** the functions, the order can vary if the **naming** is correct_  \n",
        "eg:  following are same:\n",
        " > foo(x = a, y = b)  \n",
        " > foo(y = b, x = a)  \n",
        "\n",
        "Default Args"
      ]
    },
    {
      "cell_type": "code",
      "metadata": {
        "id": "E-XGFaidR7Gq",
        "outputId": "ea77d111-6301-411f-f20f-a3376b9c2ef0",
        "colab": {
          "base_uri": "https://localhost:8080/"
        }
      },
      "source": [
        "## local scope\n",
        "def changeNum(num):\n",
        "  num += 10\n",
        "\n",
        "\n",
        "num = 10\n",
        "changeNum(num)\n",
        "print(num)"
      ],
      "execution_count": 1,
      "outputs": [
        {
          "output_type": "stream",
          "text": [
            "10\n"
          ],
          "name": "stdout"
        }
      ]
    },
    {
      "cell_type": "code",
      "metadata": {
        "id": "sb2V4DF5FLdV",
        "outputId": "d69d6199-cbc1-45fb-f128-9a2eb5c71b02",
        "colab": {
          "base_uri": "https://localhost:8080/"
        }
      },
      "source": [
        "def changeNum(num):\n",
        "  num += 10\n",
        "  return num\n",
        "\n",
        "\n",
        "num = 10\n",
        "num = changeNum(num)\n",
        "print(num)"
      ],
      "execution_count": 2,
      "outputs": [
        {
          "output_type": "stream",
          "text": [
            "20\n"
          ],
          "name": "stdout"
        }
      ]
    },
    {
      "cell_type": "code",
      "metadata": {
        "id": "fnRPhchcFROe",
        "outputId": "342dd063-aaca-44ad-db33-9e5232a53f48",
        "colab": {
          "base_uri": "https://localhost:8080/"
        }
      },
      "source": [
        "## global scope\n",
        "def changeNum():\n",
        "  global num\n",
        "  num += 10\n",
        "\n",
        "\n",
        "num = 10\n",
        "changeNum()\n",
        "print(num)"
      ],
      "execution_count": 5,
      "outputs": [
        {
          "output_type": "stream",
          "text": [
            "20\n"
          ],
          "name": "stdout"
        }
      ]
    },
    {
      "cell_type": "markdown",
      "metadata": {
        "id": "lHoLe0asG66L"
      },
      "source": [
        "**Lambda Function**"
      ]
    },
    {
      "cell_type": "code",
      "metadata": {
        "id": "ygWaW0tBGxLB",
        "outputId": "1e6ebe14-3524-424f-a552-93603e5498a3",
        "colab": {
          "base_uri": "https://localhost:8080/"
        }
      },
      "source": [
        "## basic use\n",
        "cube = lambda x : x*x*x\n",
        "cube(3)"
      ],
      "execution_count": 6,
      "outputs": [
        {
          "output_type": "execute_result",
          "data": {
            "text/plain": [
              "27"
            ]
          },
          "metadata": {
            "tags": []
          },
          "execution_count": 6
        }
      ]
    },
    {
      "cell_type": "code",
      "metadata": {
        "id": "XkuFMcM8HQkX"
      },
      "source": [
        "## advanced usage\n",
        "def foo(num):\n",
        "  return lambda a : a*num\n",
        "\n",
        "myDoubler = foo(2)  ## will multiply passed a by 2\n",
        "myTripler = foo(3)  ## will multiply passed a by 3"
      ],
      "execution_count": 7,
      "outputs": []
    },
    {
      "cell_type": "code",
      "metadata": {
        "id": "vzS6B-zlH58L",
        "outputId": "bf209485-bc81-41bb-a98b-0ad638f6599b",
        "colab": {
          "base_uri": "https://localhost:8080/"
        }
      },
      "source": [
        "print(\"12 x 2 = \",myDoubler(12))\n",
        "print(\"12 x 3 = \",myTripler(12))"
      ],
      "execution_count": 8,
      "outputs": [
        {
          "output_type": "stream",
          "text": [
            "12 x 2 =  24\n",
            "12 x 3 =  36\n"
          ],
          "name": "stdout"
        }
      ]
    },
    {
      "cell_type": "code",
      "metadata": {
        "id": "Vr0ec6gTIIa6",
        "outputId": "16b70a45-2834-4592-e716-b59e10f4bfae",
        "colab": {
          "base_uri": "https://localhost:8080/"
        }
      },
      "source": [
        "## object of function (lambda)\n",
        "print(myDoubler)"
      ],
      "execution_count": 10,
      "outputs": [
        {
          "output_type": "stream",
          "text": [
            "<function foo.<locals>.<lambda> at 0x7f87b64b4d90>\n"
          ],
          "name": "stdout"
        }
      ]
    },
    {
      "cell_type": "markdown",
      "metadata": {
        "id": "0Pb3SC2wJA4A"
      },
      "source": [
        "**Function Re-defination**"
      ]
    },
    {
      "cell_type": "code",
      "metadata": {
        "id": "-1ZY4P_GI12m",
        "outputId": "9884c703-c8ba-4937-b4da-f931a269292d",
        "colab": {
          "base_uri": "https://localhost:8080/"
        }
      },
      "source": [
        "def cube(n):\n",
        "  return n*n\n",
        "\n",
        "print(cube(4))\n",
        "\n",
        "def cube(n):\n",
        "  return n*n*n\n",
        "\n",
        "print(cube(4))"
      ],
      "execution_count": 14,
      "outputs": [
        {
          "output_type": "stream",
          "text": [
            "16\n",
            "64\n"
          ],
          "name": "stdout"
        }
      ]
    },
    {
      "cell_type": "code",
      "metadata": {
        "id": "Doh5s2onJU3W",
        "outputId": "0ad3b345-0a8d-4a30-c901-258fb7f04a19",
        "colab": {
          "base_uri": "https://localhost:8080/"
        }
      },
      "source": [
        "\n",
        "def cube(n):\n",
        "  return n*n*n\n",
        "\n",
        "print(4)"
      ],
      "execution_count": 13,
      "outputs": [
        {
          "output_type": "stream",
          "text": [
            "4\n"
          ],
          "name": "stdout"
        }
      ]
    }
  ]
}
