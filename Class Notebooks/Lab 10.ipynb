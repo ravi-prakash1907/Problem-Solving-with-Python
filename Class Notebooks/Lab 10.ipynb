{
  "nbformat": 4,
  "nbformat_minor": 0,
  "metadata": {
    "colab": {
      "name": "Lab 10.ipynb",
      "provenance": [],
      "authorship_tag": "ABX9TyO9geyA1vd38k+sb1kEDwsd",
      "include_colab_link": true
    },
    "kernelspec": {
      "name": "python3",
      "display_name": "Python 3"
    }
  },
  "cells": [
    {
      "cell_type": "markdown",
      "metadata": {
        "id": "view-in-github",
        "colab_type": "text"
      },
      "source": [
        "<a href=\"https://colab.research.google.com/github/ravi-prakash1907/Problem-Solving-with-Python/blob/main/Class%20Notebooks/Lab%2010.ipynb\" target=\"_parent\"><img src=\"https://colab.research.google.com/assets/colab-badge.svg\" alt=\"Open In Colab\"/></a>"
      ]
    },
    {
      "cell_type": "markdown",
      "metadata": {
        "id": "4mC4Jv22T7In"
      },
      "source": [
        "# Lec 10"
      ]
    },
    {
      "cell_type": "markdown",
      "metadata": {
        "id": "VNPTk1LNk_Pc"
      },
      "source": [
        "## Files & Exception\n",
        "\n"
      ]
    },
    {
      "cell_type": "markdown",
      "metadata": {
        "id": "5iPa1k9Imhpa"
      },
      "source": [
        "### Files\n",
        "1. Read Mode (r)  \n",
        "2. Write Mode (w  and  a+)  \n",
        "3. Read-Write Mode ()  \n",
        "\n",
        "_Keeping a track:_  \n",
        "1. seek()"
      ]
    },
    {
      "cell_type": "markdown",
      "metadata": {
        "id": "VEieGcAelFDf"
      },
      "source": [
        "Text and Binary file are most oftenly used "
      ]
    },
    {
      "cell_type": "code",
      "metadata": {
        "id": "NcnVrDgCV9e9"
      },
      "source": [
        "myFile = open(\"info.txt\", \"w\") # formats if info.txt exists\n",
        "myFile.writelines(\"I am great.\\n\")\n",
        "myFile.close()"
      ],
      "execution_count": 37,
      "outputs": []
    },
    {
      "cell_type": "code",
      "metadata": {
        "colab": {
          "base_uri": "https://localhost:8080/"
        },
        "id": "R0qpFuu7V86Q",
        "outputId": "b3b4c486-1807-4454-97e2-c7183fecc1ea"
      },
      "source": [
        "myFile = open(\"info.txt\", \"r\") # opens to read only\n",
        "text = myFile.readlines()\n",
        "myFile.close()\n",
        "\n",
        "print(text)"
      ],
      "execution_count": 38,
      "outputs": [
        {
          "output_type": "stream",
          "text": [
            "['I am great.\\n']\n"
          ],
          "name": "stdout"
        }
      ]
    },
    {
      "cell_type": "markdown",
      "metadata": {
        "id": "mO92S-zSmLVw"
      },
      "source": [
        "**Write without formating**"
      ]
    },
    {
      "cell_type": "code",
      "metadata": {
        "colab": {
          "base_uri": "https://localhost:8080/"
        },
        "id": "_ztoQhRIT2IO",
        "outputId": "5070ea66-3dbf-4a1f-ca58-c4ee09645732"
      },
      "source": [
        "myFile = open(\"info.txt\", \"a+\") # formats if info.txt exists\n",
        "myFile.writelines(\"You know, I'm Ravi!!\\n\")\n",
        "myFile.close()\n",
        "\n",
        "myFile = open(\"info.txt\", \"r\") # opens to read only\n",
        "text = myFile.readlines()\n",
        "myFile.close()\n",
        "\n",
        "print(text)"
      ],
      "execution_count": 39,
      "outputs": [
        {
          "output_type": "stream",
          "text": [
            "['I am great.\\n', \"You know, I'm Ravi!!\\n\"]\n"
          ],
          "name": "stdout"
        }
      ]
    },
    {
      "cell_type": "markdown",
      "metadata": {
        "id": "i-UP8eYynTzQ"
      },
      "source": [
        "#### seek()"
      ]
    },
    {
      "cell_type": "code",
      "metadata": {
        "colab": {
          "base_uri": "https://localhost:8080/"
        },
        "id": "uxmbxCL0mbF1",
        "outputId": "c2252076-655e-4054-bdd6-1e233613f15f"
      },
      "source": [
        "myFile = open(\"info.txt\", \"r\") # opens to read only\n",
        "text = myFile.readline()\n",
        "pos = len(text)\n",
        "myFile.close()\n",
        "\n",
        "\n",
        "# using seek to read only 2nd line\n",
        "myFile = open(\"info.txt\", \"r\") # opens to read only\n",
        "myFile.seek(pos)\n",
        "text = myFile.readline()\n",
        "myFile.close()\n",
        "\n",
        "\n",
        "print(text)"
      ],
      "execution_count": 43,
      "outputs": [
        {
          "output_type": "stream",
          "text": [
            "You know, I'm Ravi!!\n",
            "\n"
          ],
          "name": "stdout"
        }
      ]
    },
    {
      "cell_type": "code",
      "metadata": {
        "colab": {
          "base_uri": "https://localhost:8080/"
        },
        "id": "dy6ivCaXnwg6",
        "outputId": "f3ad0356-ce72-4dbc-dbdd-899ee6b28efe"
      },
      "source": [
        "myFile = open(\"info.txt\", \"r\") # opens to read only\n",
        "\n",
        "for text in myFile.readlines():\n",
        "  print(text)\n",
        "myFile.close()"
      ],
      "execution_count": 45,
      "outputs": [
        {
          "output_type": "stream",
          "text": [
            "I am great.\n",
            "\n",
            "You know, I'm Ravi!!\n",
            "\n"
          ],
          "name": "stdout"
        }
      ]
    },
    {
      "cell_type": "markdown",
      "metadata": {
        "id": "pApHg8eirDH3"
      },
      "source": [
        "#### Writing using **print()**"
      ]
    },
    {
      "cell_type": "code",
      "metadata": {
        "id": "B6FDI69epbI7"
      },
      "source": [
        "myFile = open(\"info.dat\", \"w\") # opens to write only\n",
        "\n",
        "a = 1.0\n",
        "b = \"this\"\n",
        "c = [12,-4]\n",
        "print(a,b,c,file=myFile)\n",
        "myFile.close()"
      ],
      "execution_count": 46,
      "outputs": []
    },
    {
      "cell_type": "code",
      "metadata": {
        "id": "nkPcKRNarYow"
      },
      "source": [
        "## copying\n",
        "\n",
        "myFile1 = open(\"info.txt\", \"r\") # opens to write only\n",
        "myFile2 = open(\"fileout.txt\", \"w\") # opens to write only\n",
        "\n",
        "myFile1.readline()\n",
        "\n",
        "for line in myFile1:\n",
        "  myFile2.write(line)\n",
        "\n",
        "\n",
        "myFile1.close()\n",
        "myFile2.close()"
      ],
      "execution_count": 50,
      "outputs": []
    },
    {
      "cell_type": "markdown",
      "metadata": {
        "id": "OEbSK8IAs_yI"
      },
      "source": [
        "**Writing multiple lines**"
      ]
    },
    {
      "cell_type": "code",
      "metadata": {
        "id": "qgwdTAUxsoxL"
      },
      "source": [
        "data = [\"People are very emotional.\\n\",\n",
        "        \"Still, they do not help others!\\n\"]\n",
        "\n",
        "myFile = open(\"info.txt\", \"w\") # formats if info.txt exists\n",
        "myFile.writelines(data)\n",
        "myFile.close()"
      ],
      "execution_count": 51,
      "outputs": []
    },
    {
      "cell_type": "markdown",
      "metadata": {
        "id": "dRYU_A0GuCGr"
      },
      "source": [
        "## Exceptions\n",
        "\n",
        "As **python** is an object oriented lang., so **exceptions** are also the _objects_  \n",
        "\n",
        "These are defined in **exceptions** module of python  \n"
      ]
    },
    {
      "cell_type": "markdown",
      "metadata": {
        "id": "agc9sm0tumZq"
      },
      "source": [
        "### Few common exceptions:\n",
        "\n",
        "1. ImportError (module not found)  \n",
        "2. IndexError (index out of range)  \n",
        "3. NameError (identifier not found)  \n",
        "4. TypeError (passed different datatype)  \n",
        "5. ValueError (int + str)  \n",
        "6. IOError (file not found)  "
      ]
    },
    {
      "cell_type": "code",
      "metadata": {
        "colab": {
          "base_uri": "https://localhost:8080/",
          "height": 197
        },
        "id": "-Y1DMg73tbpy",
        "outputId": "896ff1ea-591c-4500-f69f-bcd08bf8cbf8"
      },
      "source": [
        "print([1,2,3][3])  # IndexError"
      ],
      "execution_count": 52,
      "outputs": [
        {
          "output_type": "error",
          "ename": "IndexError",
          "evalue": "ignored",
          "traceback": [
            "\u001b[0;31m---------------------------------------------------------------------------\u001b[0m",
            "\u001b[0;31mIndexError\u001b[0m                                Traceback (most recent call last)",
            "\u001b[0;32m<ipython-input-52-62c003880a48>\u001b[0m in \u001b[0;36m<module>\u001b[0;34m()\u001b[0m\n\u001b[0;32m----> 1\u001b[0;31m \u001b[0mprint\u001b[0m\u001b[0;34m(\u001b[0m\u001b[0;34m[\u001b[0m\u001b[0;36m1\u001b[0m\u001b[0;34m,\u001b[0m\u001b[0;36m2\u001b[0m\u001b[0;34m,\u001b[0m\u001b[0;36m3\u001b[0m\u001b[0;34m]\u001b[0m\u001b[0;34m[\u001b[0m\u001b[0;36m3\u001b[0m\u001b[0;34m]\u001b[0m\u001b[0;34m)\u001b[0m\u001b[0;34m\u001b[0m\u001b[0;34m\u001b[0m\u001b[0m\n\u001b[0m",
            "\u001b[0;31mIndexError\u001b[0m: list index out of range"
          ]
        }
      ]
    },
    {
      "cell_type": "code",
      "metadata": {
        "colab": {
          "base_uri": "https://localhost:8080/",
          "height": 197
        },
        "id": "1gp3aGAqv5JW",
        "outputId": "94e5d5a5-0344-47ce-bc31-4e17762fdb03"
      },
      "source": [
        "print(2 + '3') # TypeError"
      ],
      "execution_count": 53,
      "outputs": [
        {
          "output_type": "error",
          "ename": "TypeError",
          "evalue": "ignored",
          "traceback": [
            "\u001b[0;31m---------------------------------------------------------------------------\u001b[0m",
            "\u001b[0;31mTypeError\u001b[0m                                 Traceback (most recent call last)",
            "\u001b[0;32m<ipython-input-53-9c49f7586a2d>\u001b[0m in \u001b[0;36m<module>\u001b[0;34m()\u001b[0m\n\u001b[0;32m----> 1\u001b[0;31m \u001b[0mprint\u001b[0m\u001b[0;34m(\u001b[0m\u001b[0;36m2\u001b[0m \u001b[0;34m+\u001b[0m \u001b[0;34m'3'\u001b[0m\u001b[0;34m)\u001b[0m\u001b[0;34m\u001b[0m\u001b[0;34m\u001b[0m\u001b[0m\n\u001b[0m",
            "\u001b[0;31mTypeError\u001b[0m: unsupported operand type(s) for +: 'int' and 'str'"
          ]
        }
      ]
    },
    {
      "cell_type": "code",
      "metadata": {
        "colab": {
          "base_uri": "https://localhost:8080/",
          "height": 197
        },
        "id": "1YYMiXZmv7L7",
        "outputId": "427425f2-2c06-4545-9464-64365ca739fd"
      },
      "source": [
        "print(Lsst[0]) # NameError"
      ],
      "execution_count": 54,
      "outputs": [
        {
          "output_type": "error",
          "ename": "NameError",
          "evalue": "ignored",
          "traceback": [
            "\u001b[0;31m---------------------------------------------------------------------------\u001b[0m",
            "\u001b[0;31mNameError\u001b[0m                                 Traceback (most recent call last)",
            "\u001b[0;32m<ipython-input-54-a0ec61ea6ded>\u001b[0m in \u001b[0;36m<module>\u001b[0;34m()\u001b[0m\n\u001b[0;32m----> 1\u001b[0;31m \u001b[0mprint\u001b[0m\u001b[0;34m(\u001b[0m\u001b[0mLsst\u001b[0m\u001b[0;34m[\u001b[0m\u001b[0;36m0\u001b[0m\u001b[0;34m]\u001b[0m\u001b[0;34m)\u001b[0m\u001b[0;34m\u001b[0m\u001b[0;34m\u001b[0m\u001b[0m\n\u001b[0m",
            "\u001b[0;31mNameError\u001b[0m: name 'Lsst' is not defined"
          ]
        }
      ]
    },
    {
      "cell_type": "code",
      "metadata": {
        "colab": {
          "base_uri": "https://localhost:8080/",
          "height": 197
        },
        "id": "xjn0fF5ev9DR",
        "outputId": "b266aeda-babd-40fd-d7c7-acc18ee43037"
      },
      "source": [
        "print(int('12.5')) # ValueError"
      ],
      "execution_count": 55,
      "outputs": [
        {
          "output_type": "error",
          "ename": "ValueError",
          "evalue": "ignored",
          "traceback": [
            "\u001b[0;31m---------------------------------------------------------------------------\u001b[0m",
            "\u001b[0;31mValueError\u001b[0m                                Traceback (most recent call last)",
            "\u001b[0;32m<ipython-input-55-c69bd7b41c83>\u001b[0m in \u001b[0;36m<module>\u001b[0;34m()\u001b[0m\n\u001b[0;32m----> 1\u001b[0;31m \u001b[0mprint\u001b[0m\u001b[0;34m(\u001b[0m\u001b[0mint\u001b[0m\u001b[0;34m(\u001b[0m\u001b[0;34m'12.5'\u001b[0m\u001b[0;34m)\u001b[0m\u001b[0;34m)\u001b[0m\u001b[0;34m\u001b[0m\u001b[0;34m\u001b[0m\u001b[0m\n\u001b[0m",
            "\u001b[0;31mValueError\u001b[0m: invalid literal for int() with base 10: '12.5'"
          ]
        }
      ]
    },
    {
      "cell_type": "markdown",
      "metadata": {
        "id": "JaENiH_2wnFI"
      },
      "source": [
        "### Exception Hendling"
      ]
    },
    {
      "cell_type": "code",
      "metadata": {
        "id": "xH61py-vwBE8"
      },
      "source": [
        ""
      ],
      "execution_count": null,
      "outputs": []
    }
  ]
}