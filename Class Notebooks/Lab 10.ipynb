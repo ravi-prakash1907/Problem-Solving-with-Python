{
  "nbformat": 4,
  "nbformat_minor": 0,
  "metadata": {
    "colab": {
      "name": "Lab 10.ipynb",
      "provenance": [],
      "toc_visible": true,
      "authorship_tag": "ABX9TyOjxWTwUeo+klQHoCFJaZsI",
      "include_colab_link": true
    },
    "kernelspec": {
      "name": "python3",
      "display_name": "Python 3"
    }
  },
  "cells": [
    {
      "cell_type": "markdown",
      "metadata": {
        "id": "view-in-github",
        "colab_type": "text"
      },
      "source": [
        "<a href=\"https://colab.research.google.com/github/ravi-prakash1907/Problem-Solving-with-Python/blob/main/Class%20Notebooks/Lab%2010.ipynb\" target=\"_parent\"><img src=\"https://colab.research.google.com/assets/colab-badge.svg\" alt=\"Open In Colab\"/></a>"
      ]
    },
    {
      "cell_type": "markdown",
      "metadata": {
        "id": "4mC4Jv22T7In"
      },
      "source": [
        "# Lec 10"
      ]
    },
    {
      "cell_type": "markdown",
      "metadata": {
        "id": "VNPTk1LNk_Pc"
      },
      "source": [
        "## Files & Exception\n",
        "\n"
      ]
    },
    {
      "cell_type": "markdown",
      "metadata": {
        "id": "5iPa1k9Imhpa"
      },
      "source": [
        "### Files\n",
        "1. Read Mode (r)  \n",
        "2. Write Mode (w  and  a+)  \n",
        "3. Read-Write Mode ()  \n",
        "\n",
        "_Keeping a track:_  \n",
        "1. seek()\n",
        "2. tell()"
      ]
    },
    {
      "cell_type": "markdown",
      "metadata": {
        "id": "VEieGcAelFDf"
      },
      "source": [
        "Text and Binary file are most oftenly used "
      ]
    },
    {
      "cell_type": "code",
      "metadata": {
        "id": "NcnVrDgCV9e9"
      },
      "source": [
        "myFile = open(\"info.txt\", \"w\") # formats if info.txt exists\n",
        "myFile.writelines(\"I am great.\\n\")\n",
        "myFile.close()"
      ],
      "execution_count": null,
      "outputs": []
    },
    {
      "cell_type": "code",
      "metadata": {
        "colab": {
          "base_uri": "https://localhost:8080/"
        },
        "id": "R0qpFuu7V86Q",
        "outputId": "b3b4c486-1807-4454-97e2-c7183fecc1ea"
      },
      "source": [
        "myFile = open(\"info.txt\", \"r\") # opens to read only\n",
        "text = myFile.readlines()\n",
        "myFile.close()\n",
        "\n",
        "print(text)"
      ],
      "execution_count": null,
      "outputs": [
        {
          "output_type": "stream",
          "text": [
            "['I am great.\\n']\n"
          ],
          "name": "stdout"
        }
      ]
    },
    {
      "cell_type": "markdown",
      "metadata": {
        "id": "mO92S-zSmLVw"
      },
      "source": [
        "**Write without formating**"
      ]
    },
    {
      "cell_type": "code",
      "metadata": {
        "colab": {
          "base_uri": "https://localhost:8080/"
        },
        "id": "_ztoQhRIT2IO",
        "outputId": "5070ea66-3dbf-4a1f-ca58-c4ee09645732"
      },
      "source": [
        "myFile = open(\"info.txt\", \"a+\") # formats if info.txt exists\n",
        "myFile.writelines(\"You know, I'm Ravi!!\\n\")\n",
        "myFile.close()\n",
        "\n",
        "myFile = open(\"info.txt\", \"r\") # opens to read only\n",
        "text = myFile.readlines()\n",
        "myFile.close()\n",
        "\n",
        "print(text)"
      ],
      "execution_count": null,
      "outputs": [
        {
          "output_type": "stream",
          "text": [
            "['I am great.\\n', \"You know, I'm Ravi!!\\n\"]\n"
          ],
          "name": "stdout"
        }
      ]
    },
    {
      "cell_type": "markdown",
      "metadata": {
        "id": "i-UP8eYynTzQ"
      },
      "source": [
        "#### seek()"
      ]
    },
    {
      "cell_type": "code",
      "metadata": {
        "colab": {
          "base_uri": "https://localhost:8080/"
        },
        "id": "uxmbxCL0mbF1",
        "outputId": "c2252076-655e-4054-bdd6-1e233613f15f"
      },
      "source": [
        "myFile = open(\"info.txt\", \"r\") # opens to read only\n",
        "text = myFile.readline()\n",
        "pos = len(text)\n",
        "myFile.close()\n",
        "\n",
        "\n",
        "# using seek to read only 2nd line\n",
        "myFile = open(\"info.txt\", \"r\") # opens to read only\n",
        "myFile.seek(pos)\n",
        "text = myFile.readline()\n",
        "myFile.close()\n",
        "\n",
        "\n",
        "print(text)"
      ],
      "execution_count": null,
      "outputs": [
        {
          "output_type": "stream",
          "text": [
            "You know, I'm Ravi!!\n",
            "\n"
          ],
          "name": "stdout"
        }
      ]
    },
    {
      "cell_type": "code",
      "metadata": {
        "colab": {
          "base_uri": "https://localhost:8080/"
        },
        "id": "dy6ivCaXnwg6",
        "outputId": "f3ad0356-ce72-4dbc-dbdd-899ee6b28efe"
      },
      "source": [
        "myFile = open(\"info.txt\", \"r\") # opens to read only\n",
        "\n",
        "for text in myFile.readlines():\n",
        "  print(text)\n",
        "myFile.close()"
      ],
      "execution_count": null,
      "outputs": [
        {
          "output_type": "stream",
          "text": [
            "I am great.\n",
            "\n",
            "You know, I'm Ravi!!\n",
            "\n"
          ],
          "name": "stdout"
        }
      ]
    },
    {
      "cell_type": "markdown",
      "metadata": {
        "id": "UXsd2dyhG_rB"
      },
      "source": [
        "#### tell()\n",
        "\n",
        "_Gives the current position of the curser._  \n",
        "_(how many charectors are read)_"
      ]
    },
    {
      "cell_type": "code",
      "metadata": {
        "id": "OrpVzoDtG_Fe"
      },
      "source": [
        "myFile = open(\"info.txt\", \"r\") # opens to read only\n",
        "text = myFile.readline()\n",
        "myFile.seek(myFile.tell() + 4)  # skips init 4 charectors in 2nd line\n",
        "myFile.close()\n"
      ],
      "execution_count": null,
      "outputs": []
    },
    {
      "cell_type": "markdown",
      "metadata": {
        "id": "pApHg8eirDH3"
      },
      "source": [
        "#### Writing using **print()**"
      ]
    },
    {
      "cell_type": "code",
      "metadata": {
        "id": "B6FDI69epbI7"
      },
      "source": [
        "myFile = open(\"info.dat\", \"w\") # opens to write only\n",
        "\n",
        "a = 1.0\n",
        "b = \"this\"\n",
        "c = [12,-4]\n",
        "print(a,b,c,file=myFile)\n",
        "myFile.close()"
      ],
      "execution_count": null,
      "outputs": []
    },
    {
      "cell_type": "code",
      "metadata": {
        "id": "nkPcKRNarYow"
      },
      "source": [
        "## copying\n",
        "\n",
        "myFile1 = open(\"info.txt\", \"r\") # opens to write only\n",
        "myFile2 = open(\"fileout.txt\", \"w\") # opens to write only\n",
        "\n",
        "myFile1.readline()\n",
        "\n",
        "for line in myFile1:\n",
        "  myFile2.write(line)\n",
        "\n",
        "\n",
        "myFile1.close()\n",
        "myFile2.close()"
      ],
      "execution_count": null,
      "outputs": []
    },
    {
      "cell_type": "markdown",
      "metadata": {
        "id": "OEbSK8IAs_yI"
      },
      "source": [
        "**Writing multiple lines**"
      ]
    },
    {
      "cell_type": "code",
      "metadata": {
        "id": "qgwdTAUxsoxL"
      },
      "source": [
        "data = [\"People are very emotional.\\n\",\n",
        "        \"Still, they do not help others!\\n\"]\n",
        "\n",
        "myFile = open(\"info.txt\", \"w\") # formats if info.txt exists\n",
        "myFile.writelines(data)\n",
        "myFile.close()"
      ],
      "execution_count": null,
      "outputs": []
    },
    {
      "cell_type": "markdown",
      "metadata": {
        "id": "dRYU_A0GuCGr"
      },
      "source": [
        "## Exceptions\n",
        "\n",
        "As **python** is an object oriented lang., so **exceptions** are also the _objects_  \n",
        "\n",
        "These are defined in **exceptions** module of python  \n"
      ]
    },
    {
      "cell_type": "markdown",
      "metadata": {
        "id": "agc9sm0tumZq"
      },
      "source": [
        "### Few common exceptions:\n",
        "\n",
        "1. ImportError (module not found)  \n",
        "2. IndexError (index out of range)  \n",
        "3. NameError (identifier not found)  \n",
        "4. TypeError (passed different datatype)  \n",
        "5. ValueError (int + str)  \n",
        "6. IOError (file not found)  "
      ]
    },
    {
      "cell_type": "code",
      "metadata": {
        "colab": {
          "base_uri": "https://localhost:8080/",
          "height": 197
        },
        "id": "-Y1DMg73tbpy",
        "outputId": "896ff1ea-591c-4500-f69f-bcd08bf8cbf8"
      },
      "source": [
        "print([1,2,3][3])  # IndexError"
      ],
      "execution_count": null,
      "outputs": [
        {
          "output_type": "error",
          "ename": "IndexError",
          "evalue": "ignored",
          "traceback": [
            "\u001b[0;31m---------------------------------------------------------------------------\u001b[0m",
            "\u001b[0;31mIndexError\u001b[0m                                Traceback (most recent call last)",
            "\u001b[0;32m<ipython-input-52-62c003880a48>\u001b[0m in \u001b[0;36m<module>\u001b[0;34m()\u001b[0m\n\u001b[0;32m----> 1\u001b[0;31m \u001b[0mprint\u001b[0m\u001b[0;34m(\u001b[0m\u001b[0;34m[\u001b[0m\u001b[0;36m1\u001b[0m\u001b[0;34m,\u001b[0m\u001b[0;36m2\u001b[0m\u001b[0;34m,\u001b[0m\u001b[0;36m3\u001b[0m\u001b[0;34m]\u001b[0m\u001b[0;34m[\u001b[0m\u001b[0;36m3\u001b[0m\u001b[0;34m]\u001b[0m\u001b[0;34m)\u001b[0m\u001b[0;34m\u001b[0m\u001b[0;34m\u001b[0m\u001b[0m\n\u001b[0m",
            "\u001b[0;31mIndexError\u001b[0m: list index out of range"
          ]
        }
      ]
    },
    {
      "cell_type": "code",
      "metadata": {
        "colab": {
          "base_uri": "https://localhost:8080/",
          "height": 197
        },
        "id": "1gp3aGAqv5JW",
        "outputId": "94e5d5a5-0344-47ce-bc31-4e17762fdb03"
      },
      "source": [
        "print(2 + '3') # TypeError"
      ],
      "execution_count": null,
      "outputs": [
        {
          "output_type": "error",
          "ename": "TypeError",
          "evalue": "ignored",
          "traceback": [
            "\u001b[0;31m---------------------------------------------------------------------------\u001b[0m",
            "\u001b[0;31mTypeError\u001b[0m                                 Traceback (most recent call last)",
            "\u001b[0;32m<ipython-input-53-9c49f7586a2d>\u001b[0m in \u001b[0;36m<module>\u001b[0;34m()\u001b[0m\n\u001b[0;32m----> 1\u001b[0;31m \u001b[0mprint\u001b[0m\u001b[0;34m(\u001b[0m\u001b[0;36m2\u001b[0m \u001b[0;34m+\u001b[0m \u001b[0;34m'3'\u001b[0m\u001b[0;34m)\u001b[0m\u001b[0;34m\u001b[0m\u001b[0;34m\u001b[0m\u001b[0m\n\u001b[0m",
            "\u001b[0;31mTypeError\u001b[0m: unsupported operand type(s) for +: 'int' and 'str'"
          ]
        }
      ]
    },
    {
      "cell_type": "code",
      "metadata": {
        "colab": {
          "base_uri": "https://localhost:8080/",
          "height": 197
        },
        "id": "1YYMiXZmv7L7",
        "outputId": "427425f2-2c06-4545-9464-64365ca739fd"
      },
      "source": [
        "print(Lsst[0]) # NameError"
      ],
      "execution_count": null,
      "outputs": [
        {
          "output_type": "error",
          "ename": "NameError",
          "evalue": "ignored",
          "traceback": [
            "\u001b[0;31m---------------------------------------------------------------------------\u001b[0m",
            "\u001b[0;31mNameError\u001b[0m                                 Traceback (most recent call last)",
            "\u001b[0;32m<ipython-input-54-a0ec61ea6ded>\u001b[0m in \u001b[0;36m<module>\u001b[0;34m()\u001b[0m\n\u001b[0;32m----> 1\u001b[0;31m \u001b[0mprint\u001b[0m\u001b[0;34m(\u001b[0m\u001b[0mLsst\u001b[0m\u001b[0;34m[\u001b[0m\u001b[0;36m0\u001b[0m\u001b[0;34m]\u001b[0m\u001b[0;34m)\u001b[0m\u001b[0;34m\u001b[0m\u001b[0;34m\u001b[0m\u001b[0m\n\u001b[0m",
            "\u001b[0;31mNameError\u001b[0m: name 'Lsst' is not defined"
          ]
        }
      ]
    },
    {
      "cell_type": "code",
      "metadata": {
        "colab": {
          "base_uri": "https://localhost:8080/",
          "height": 197
        },
        "id": "xjn0fF5ev9DR",
        "outputId": "b266aeda-babd-40fd-d7c7-acc18ee43037"
      },
      "source": [
        "print(int('12.5')) # ValueError"
      ],
      "execution_count": null,
      "outputs": [
        {
          "output_type": "error",
          "ename": "ValueError",
          "evalue": "ignored",
          "traceback": [
            "\u001b[0;31m---------------------------------------------------------------------------\u001b[0m",
            "\u001b[0;31mValueError\u001b[0m                                Traceback (most recent call last)",
            "\u001b[0;32m<ipython-input-55-c69bd7b41c83>\u001b[0m in \u001b[0;36m<module>\u001b[0;34m()\u001b[0m\n\u001b[0;32m----> 1\u001b[0;31m \u001b[0mprint\u001b[0m\u001b[0;34m(\u001b[0m\u001b[0mint\u001b[0m\u001b[0;34m(\u001b[0m\u001b[0;34m'12.5'\u001b[0m\u001b[0;34m)\u001b[0m\u001b[0;34m)\u001b[0m\u001b[0;34m\u001b[0m\u001b[0;34m\u001b[0m\u001b[0m\n\u001b[0m",
            "\u001b[0;31mValueError\u001b[0m: invalid literal for int() with base 10: '12.5'"
          ]
        }
      ]
    },
    {
      "cell_type": "markdown",
      "metadata": {
        "id": "JaENiH_2wnFI"
      },
      "source": [
        "### Exception Hendling"
      ]
    },
    {
      "cell_type": "code",
      "metadata": {
        "id": "xH61py-vwBE8"
      },
      "source": [
        ""
      ],
      "execution_count": null,
      "outputs": []
    },
    {
      "cell_type": "markdown",
      "metadata": {
        "id": "hAd4sVJ9Wld-"
      },
      "source": [
        "# Lab 10\n",
        "\n",
        "Introduced modules:  \n",
        "1. NumPy\n",
        "2. Pandas"
      ]
    },
    {
      "cell_type": "markdown",
      "metadata": {
        "id": "wtPCPRwWm-da"
      },
      "source": [
        "## NumPy\n",
        "\n",
        "Attributes Introduced  \n",
        "* ndim\n",
        "* shape\n",
        "* dtype\n",
        "\n",
        "Functoions Introduced:  \n",
        "* array()  \n",
        "* sum()  \n",
        "* arange()\n",
        "* linspace()\n",
        "* abs()\n",
        "* reshap()\n",
        "* mul()\n"
      ]
    },
    {
      "cell_type": "code",
      "metadata": {
        "id": "2v1Gr6dxWn25"
      },
      "source": [
        "import numpy as np"
      ],
      "execution_count": null,
      "outputs": []
    },
    {
      "cell_type": "markdown",
      "metadata": {
        "id": "otich7cNc0sG"
      },
      "source": [
        "**List Addition vs NumPy Addition**"
      ]
    },
    {
      "cell_type": "code",
      "metadata": {
        "id": "HTWoca7QcjcB",
        "colab": {
          "base_uri": "https://localhost:8080/"
        },
        "outputId": "4e9a1d3e-a90f-4e9e-cfd9-179f40281ef0"
      },
      "source": [
        "l1 = [1,2,3,4]\n",
        "l2 = [1,2,3,4]\n",
        "\n",
        "print(l1+l2)"
      ],
      "execution_count": null,
      "outputs": [
        {
          "output_type": "stream",
          "text": [
            "[1, 2, 3, 4, 1, 2, 3, 4]\n"
          ],
          "name": "stdout"
        }
      ]
    },
    {
      "cell_type": "code",
      "metadata": {
        "id": "ljCio6XXbiSK",
        "colab": {
          "base_uri": "https://localhost:8080/"
        },
        "outputId": "64a4c396-cdaf-4aaa-ba20-159bed5b932f"
      },
      "source": [
        "arr1 = np.array([1,2,3,4,5])\n",
        "arr2 = np.array([1,2,3,4,5])\n",
        "\n",
        "print(arr1+arr2)"
      ],
      "execution_count": null,
      "outputs": [
        {
          "output_type": "stream",
          "text": [
            "[ 2  4  6  8 10]\n"
          ],
          "name": "stdout"
        }
      ]
    },
    {
      "cell_type": "markdown",
      "metadata": {
        "id": "8PYvdkfPc9ou"
      },
      "source": [
        "**Other Operations**"
      ]
    },
    {
      "cell_type": "code",
      "metadata": {
        "id": "ec3XpFhgcbpz",
        "colab": {
          "base_uri": "https://localhost:8080/"
        },
        "outputId": "e9d820fa-0499-48d0-c6c7-dbfd4c8c529c"
      },
      "source": [
        "arr1.ndim"
      ],
      "execution_count": null,
      "outputs": [
        {
          "output_type": "execute_result",
          "data": {
            "text/plain": [
              "1"
            ]
          },
          "metadata": {
            "tags": []
          },
          "execution_count": 5
        }
      ]
    },
    {
      "cell_type": "code",
      "metadata": {
        "id": "vfEtnzr2drQO",
        "colab": {
          "base_uri": "https://localhost:8080/"
        },
        "outputId": "fd82342c-7e81-4beb-d935-6eb4819f7ed0"
      },
      "source": [
        "arr1.shape"
      ],
      "execution_count": null,
      "outputs": [
        {
          "output_type": "execute_result",
          "data": {
            "text/plain": [
              "(5,)"
            ]
          },
          "metadata": {
            "tags": []
          },
          "execution_count": 7
        }
      ]
    },
    {
      "cell_type": "code",
      "metadata": {
        "id": "gjZjvhIudsi_",
        "colab": {
          "base_uri": "https://localhost:8080/"
        },
        "outputId": "362d840a-2861-4271-e143-680d3c5c0125"
      },
      "source": [
        "arr1.dtype"
      ],
      "execution_count": null,
      "outputs": [
        {
          "output_type": "execute_result",
          "data": {
            "text/plain": [
              "dtype('int64')"
            ]
          },
          "metadata": {
            "tags": []
          },
          "execution_count": 8
        }
      ]
    },
    {
      "cell_type": "code",
      "metadata": {
        "id": "ewkH9fOsdv52",
        "colab": {
          "base_uri": "https://localhost:8080/"
        },
        "outputId": "dbadbce4-57af-46eb-b8a3-191e47ad83a1"
      },
      "source": [
        "arr3 = np.array(['a', 'b'])\n",
        "arr3.dtype"
      ],
      "execution_count": null,
      "outputs": [
        {
          "output_type": "execute_result",
          "data": {
            "text/plain": [
              "dtype('<U1')"
            ]
          },
          "metadata": {
            "tags": []
          },
          "execution_count": 9
        }
      ]
    },
    {
      "cell_type": "code",
      "metadata": {
        "id": "fspTCnt2eC7y",
        "colab": {
          "base_uri": "https://localhost:8080/"
        },
        "outputId": "ba667b67-4170-4a4e-f9a4-c12986d9c8af"
      },
      "source": [
        "arr3 = np.array([1.2, 34, 54.67])\n",
        "arr3.dtype"
      ],
      "execution_count": null,
      "outputs": [
        {
          "output_type": "execute_result",
          "data": {
            "text/plain": [
              "dtype('float64')"
            ]
          },
          "metadata": {
            "tags": []
          },
          "execution_count": 10
        }
      ]
    },
    {
      "cell_type": "code",
      "metadata": {
        "id": "Jq7u7u4PeJA1",
        "colab": {
          "base_uri": "https://localhost:8080/"
        },
        "outputId": "1f1d525d-70ce-4d07-997f-4ad6713c7a31"
      },
      "source": [
        "arr3 = np.array([99, 'b'])\n",
        "arr3.dtype"
      ],
      "execution_count": null,
      "outputs": [
        {
          "output_type": "execute_result",
          "data": {
            "text/plain": [
              "dtype('<U21')"
            ]
          },
          "metadata": {
            "tags": []
          },
          "execution_count": 11
        }
      ]
    },
    {
      "cell_type": "code",
      "metadata": {
        "id": "3vqE0l5ceLrJ",
        "colab": {
          "base_uri": "https://localhost:8080/"
        },
        "outputId": "95bc4256-ad81-47d2-d739-343e5591b188"
      },
      "source": [
        "arr4 = np.array(['1','2','3'], dtype='int')\n",
        "print(arr4)\n",
        "arr4.dtype"
      ],
      "execution_count": null,
      "outputs": [
        {
          "output_type": "stream",
          "text": [
            "[1 2 3]\n"
          ],
          "name": "stdout"
        },
        {
          "output_type": "execute_result",
          "data": {
            "text/plain": [
              "dtype('int64')"
            ]
          },
          "metadata": {
            "tags": []
          },
          "execution_count": 12
        }
      ]
    },
    {
      "cell_type": "code",
      "metadata": {
        "id": "S69K8aq5exGA",
        "colab": {
          "base_uri": "https://localhost:8080/"
        },
        "outputId": "3a7c3e77-79e7-4b87-9360-d8aa1a2e8737"
      },
      "source": [
        "print(list(range(10)))"
      ],
      "execution_count": null,
      "outputs": [
        {
          "output_type": "stream",
          "text": [
            "[0, 1, 2, 3, 4, 5, 6, 7, 8, 9]\n"
          ],
          "name": "stdout"
        }
      ]
    },
    {
      "cell_type": "code",
      "metadata": {
        "id": "vb8iGK9Je393",
        "colab": {
          "base_uri": "https://localhost:8080/"
        },
        "outputId": "7d120fdc-07f1-4b48-8738-69a1da01a04f"
      },
      "source": [
        "arr5 = np.arange(10)\n",
        "print(arr5)"
      ],
      "execution_count": null,
      "outputs": [
        {
          "output_type": "stream",
          "text": [
            "[0 1 2 3 4 5 6 7 8 9]\n"
          ],
          "name": "stdout"
        }
      ]
    },
    {
      "cell_type": "code",
      "metadata": {
        "id": "Dcjc7u9Me9xK",
        "colab": {
          "base_uri": "https://localhost:8080/"
        },
        "outputId": "94866a10-9dc1-4973-dc65-a24c6f7d0877"
      },
      "source": [
        "arr6 = arr5.reshape(5,2)\n",
        "arr6"
      ],
      "execution_count": null,
      "outputs": [
        {
          "output_type": "execute_result",
          "data": {
            "text/plain": [
              "array([[0, 1],\n",
              "       [2, 3],\n",
              "       [4, 5],\n",
              "       [6, 7],\n",
              "       [8, 9]])"
            ]
          },
          "metadata": {
            "tags": []
          },
          "execution_count": 18
        }
      ]
    },
    {
      "cell_type": "code",
      "metadata": {
        "id": "5QDXw1cVfkCG",
        "colab": {
          "base_uri": "https://localhost:8080/"
        },
        "outputId": "35a40f43-9a93-4ddf-ef16-4dac38656a8f"
      },
      "source": [
        "## devide an interval inequal parts\n",
        "arr7 = np.linspace(1,30,6)\n",
        "arr7"
      ],
      "execution_count": null,
      "outputs": [
        {
          "output_type": "execute_result",
          "data": {
            "text/plain": [
              "array([ 1. ,  6.8, 12.6, 18.4, 24.2, 30. ])"
            ]
          },
          "metadata": {
            "tags": []
          },
          "execution_count": 19
        }
      ]
    },
    {
      "cell_type": "code",
      "metadata": {
        "id": "59AJGGY8f_40",
        "colab": {
          "base_uri": "https://localhost:8080/"
        },
        "outputId": "e014e86b-8af9-4041-8e67-8094d6bf2038"
      },
      "source": [
        "arr7[:4]"
      ],
      "execution_count": null,
      "outputs": [
        {
          "output_type": "execute_result",
          "data": {
            "text/plain": [
              "array([ 1. ,  6.8, 12.6, 18.4])"
            ]
          },
          "metadata": {
            "tags": []
          },
          "execution_count": 20
        }
      ]
    },
    {
      "cell_type": "code",
      "metadata": {
        "id": "caPBGjYlghu1",
        "colab": {
          "base_uri": "https://localhost:8080/"
        },
        "outputId": "5db88787-67cc-416d-fb8c-39cb96e1aad7"
      },
      "source": [
        "## access multiple elements\n",
        "arr7[[2,3]]"
      ],
      "execution_count": null,
      "outputs": [
        {
          "output_type": "execute_result",
          "data": {
            "text/plain": [
              "array([12.6, 18.4])"
            ]
          },
          "metadata": {
            "tags": []
          },
          "execution_count": 21
        }
      ]
    },
    {
      "cell_type": "code",
      "metadata": {
        "id": "MBsk0UsUg2Fs",
        "colab": {
          "base_uri": "https://localhost:8080/"
        },
        "outputId": "2bd5e261-92f3-45aa-ae53-51c4a0cb195a"
      },
      "source": [
        "arr8 = np.array([list(range(1,6)),\n",
        "                list(range(6,11)),\n",
        "                list(range(11,16)),\n",
        "                list(range(16,21)),\n",
        "                list(range(21,26))])\n",
        "\n",
        "arr8[3]"
      ],
      "execution_count": null,
      "outputs": [
        {
          "output_type": "execute_result",
          "data": {
            "text/plain": [
              "array([16, 17, 18, 19, 20])"
            ]
          },
          "metadata": {
            "tags": []
          },
          "execution_count": 23
        }
      ]
    },
    {
      "cell_type": "code",
      "metadata": {
        "id": "AmNsr9Y3hbAf",
        "colab": {
          "base_uri": "https://localhost:8080/"
        },
        "outputId": "ba14a0a8-0d8b-4dc4-abe9-caccff369fcc"
      },
      "source": [
        "print(arr8[3,])  # row 4\n",
        "print(arr8[2,4]) # elem in row3, col5\n",
        "print(arr8[:,2])  # col 3"
      ],
      "execution_count": null,
      "outputs": [
        {
          "output_type": "stream",
          "text": [
            "[16 17 18 19 20]\n",
            "15\n",
            "[ 3  8 13 18 23]\n"
          ],
          "name": "stdout"
        }
      ]
    },
    {
      "cell_type": "code",
      "metadata": {
        "id": "IOg_wA7bhxwB",
        "colab": {
          "base_uri": "https://localhost:8080/"
        },
        "outputId": "6cf25618-c240-432a-8014-fd907b83f0ea"
      },
      "source": [
        "arr8[0:2,1:3]"
      ],
      "execution_count": null,
      "outputs": [
        {
          "output_type": "execute_result",
          "data": {
            "text/plain": [
              "array([[2, 3],\n",
              "       [7, 8]])"
            ]
          },
          "metadata": {
            "tags": []
          },
          "execution_count": 27
        }
      ]
    },
    {
      "cell_type": "code",
      "metadata": {
        "id": "-M-z24jsirr7",
        "colab": {
          "base_uri": "https://localhost:8080/"
        },
        "outputId": "7c9cb10f-c509-41e5-f240-06ff27aa6acd"
      },
      "source": [
        "arr8[[1,2],3]"
      ],
      "execution_count": null,
      "outputs": [
        {
          "output_type": "execute_result",
          "data": {
            "text/plain": [
              "array([ 9, 14])"
            ]
          },
          "metadata": {
            "tags": []
          },
          "execution_count": 28
        }
      ]
    },
    {
      "cell_type": "code",
      "metadata": {
        "id": "S_FEk16pje-b",
        "colab": {
          "base_uri": "https://localhost:8080/"
        },
        "outputId": "aa8c4ad4-0b53-4b4a-cc01-67fba517f780"
      },
      "source": [
        "# sum of elements\n",
        "arr8.sum()"
      ],
      "execution_count": null,
      "outputs": [
        {
          "output_type": "execute_result",
          "data": {
            "text/plain": [
              "325"
            ]
          },
          "metadata": {
            "tags": []
          },
          "execution_count": 29
        }
      ]
    },
    {
      "cell_type": "code",
      "metadata": {
        "id": "xnC8wNHmjl5g",
        "colab": {
          "base_uri": "https://localhost:8080/"
        },
        "outputId": "db3f87cd-651f-42e5-b673-5f718f8971ea"
      },
      "source": [
        "np.sum(arr8)"
      ],
      "execution_count": null,
      "outputs": [
        {
          "output_type": "execute_result",
          "data": {
            "text/plain": [
              "325"
            ]
          },
          "metadata": {
            "tags": []
          },
          "execution_count": 31
        }
      ]
    },
    {
      "cell_type": "code",
      "metadata": {
        "id": "DE37ymGLjrt3",
        "colab": {
          "base_uri": "https://localhost:8080/"
        },
        "outputId": "25e621a3-e3ce-4376-81f2-4a547dee6663"
      },
      "source": [
        "np.mean(arr8).round(2)"
      ],
      "execution_count": null,
      "outputs": [
        {
          "output_type": "execute_result",
          "data": {
            "text/plain": [
              "13.0"
            ]
          },
          "metadata": {
            "tags": []
          },
          "execution_count": 32
        }
      ]
    },
    {
      "cell_type": "code",
      "metadata": {
        "id": "XZIXfVZljy9s",
        "colab": {
          "base_uri": "https://localhost:8080/"
        },
        "outputId": "d564f2ba-6aeb-4042-d2c7-0ac8734f4f7d"
      },
      "source": [
        "np.median(arr8)"
      ],
      "execution_count": null,
      "outputs": [
        {
          "output_type": "execute_result",
          "data": {
            "text/plain": [
              "13.0"
            ]
          },
          "metadata": {
            "tags": []
          },
          "execution_count": 33
        }
      ]
    },
    {
      "cell_type": "code",
      "metadata": {
        "id": "vcuruYTBj2Ii",
        "colab": {
          "base_uri": "https://localhost:8080/"
        },
        "outputId": "afc5b6d0-4457-4be9-9d8c-7ba6ba107c62"
      },
      "source": [
        "# row/colwise\n",
        "np.mean(arr8, axis=1).round(2)  # row-wise"
      ],
      "execution_count": null,
      "outputs": [
        {
          "output_type": "execute_result",
          "data": {
            "text/plain": [
              "array([ 3.,  8., 13., 18., 23.])"
            ]
          },
          "metadata": {
            "tags": []
          },
          "execution_count": 34
        }
      ]
    },
    {
      "cell_type": "code",
      "metadata": {
        "id": "6oZfXRrKkBkh",
        "colab": {
          "base_uri": "https://localhost:8080/"
        },
        "outputId": "82a58808-febc-499a-ecde-983fff6c4abe"
      },
      "source": [
        "np.mean(arr8, 0).round(2)  # col-wise"
      ],
      "execution_count": null,
      "outputs": [
        {
          "output_type": "execute_result",
          "data": {
            "text/plain": [
              "array([11., 12., 13., 14., 15.])"
            ]
          },
          "metadata": {
            "tags": []
          },
          "execution_count": 37
        }
      ]
    },
    {
      "cell_type": "code",
      "metadata": {
        "id": "ESPUMjcgkFYb",
        "colab": {
          "base_uri": "https://localhost:8080/"
        },
        "outputId": "af35afbc-4134-44f6-9855-a71cb8a9d471"
      },
      "source": [
        "## changing values\n",
        "arr9 = np.array([list(range(1,6)),\n",
        "                list(range(6,11)),\n",
        "                list(range(11,16)),\n",
        "                list(range(16,21)),\n",
        "                list(range(21,26))])\n",
        "\n",
        "arr9[:,3] = 50\n",
        "arr9[4,] *= -1\n",
        "arr9"
      ],
      "execution_count": null,
      "outputs": [
        {
          "output_type": "execute_result",
          "data": {
            "text/plain": [
              "array([[  1,   2,   3,  50,   5],\n",
              "       [  6,   7,   8,  50,  10],\n",
              "       [ 11,  12,  13,  50,  15],\n",
              "       [ 16,  17,  18,  50,  20],\n",
              "       [-21, -22, -23, -50, -25]])"
            ]
          },
          "metadata": {
            "tags": []
          },
          "execution_count": 41
        }
      ]
    },
    {
      "cell_type": "code",
      "metadata": {
        "id": "2uYOoxzyk-Xn",
        "colab": {
          "base_uri": "https://localhost:8080/"
        },
        "outputId": "58b0bd20-e1eb-4244-9491-5364dd76c8ec"
      },
      "source": [
        "np.abs(arr9)"
      ],
      "execution_count": null,
      "outputs": [
        {
          "output_type": "execute_result",
          "data": {
            "text/plain": [
              "array([[ 1,  2,  3, 50,  5],\n",
              "       [ 6,  7,  8, 50, 10],\n",
              "       [11, 12, 13, 50, 15],\n",
              "       [16, 17, 18, 50, 20],\n",
              "       [21, 22, 23, 50, 25]])"
            ]
          },
          "metadata": {
            "tags": []
          },
          "execution_count": 43
        }
      ]
    },
    {
      "cell_type": "code",
      "metadata": {
        "id": "ZM_wHb9olMPs",
        "colab": {
          "base_uri": "https://localhost:8080/"
        },
        "outputId": "02e49c91-d404-4cce-fbd8-07264a5516f4"
      },
      "source": [
        "x0 = np.zeros((2,6))\n",
        "x0"
      ],
      "execution_count": null,
      "outputs": [
        {
          "output_type": "execute_result",
          "data": {
            "text/plain": [
              "array([[0., 0., 0., 0., 0., 0.],\n",
              "       [0., 0., 0., 0., 0., 0.]])"
            ]
          },
          "metadata": {
            "tags": []
          },
          "execution_count": 49
        }
      ]
    },
    {
      "cell_type": "code",
      "metadata": {
        "id": "EE3Ta6gvlWft",
        "colab": {
          "base_uri": "https://localhost:8080/"
        },
        "outputId": "8ec58504-a492-48e1-fda4-950dd55f3637"
      },
      "source": [
        "x1 = np.ones((2,6))\n",
        "x1"
      ],
      "execution_count": null,
      "outputs": [
        {
          "output_type": "execute_result",
          "data": {
            "text/plain": [
              "array([[1., 1., 1., 1., 1., 1.],\n",
              "       [1., 1., 1., 1., 1., 1.]])"
            ]
          },
          "metadata": {
            "tags": []
          },
          "execution_count": 50
        }
      ]
    },
    {
      "cell_type": "code",
      "metadata": {
        "id": "KazU7zw4lm2m",
        "colab": {
          "base_uri": "https://localhost:8080/"
        },
        "outputId": "d34b3251-31d7-4d9d-a50d-a26d63c6c253"
      },
      "source": [
        "identityMat = np.eye(4,5)\n",
        "identityMat\n",
        "\n",
        "identityMat = np.eye(4,4)\n",
        "identityMat"
      ],
      "execution_count": null,
      "outputs": [
        {
          "output_type": "execute_result",
          "data": {
            "text/plain": [
              "array([[1., 0., 0., 0.],\n",
              "       [0., 1., 0., 0.],\n",
              "       [0., 0., 1., 0.],\n",
              "       [0., 0., 0., 1.]])"
            ]
          },
          "metadata": {
            "tags": []
          },
          "execution_count": 55
        }
      ]
    },
    {
      "cell_type": "markdown",
      "metadata": {
        "id": "JJ03EXozl7t6"
      },
      "source": [
        "**Matrix Mul**"
      ]
    },
    {
      "cell_type": "code",
      "metadata": {
        "id": "Y6Rhw1T6luxD",
        "colab": {
          "base_uri": "https://localhost:8080/"
        },
        "outputId": "5dc3809f-b8bc-4429-a770-d92676ccd0b7"
      },
      "source": [
        "A = np.arange(8).reshape(2,4)\n",
        "B = np.arange(8).reshape(4,2)\n",
        "\n",
        "C = A.dot(B)\n",
        "C"
      ],
      "execution_count": null,
      "outputs": [
        {
          "output_type": "execute_result",
          "data": {
            "text/plain": [
              "array([[28, 34],\n",
              "       [76, 98]])"
            ]
          },
          "metadata": {
            "tags": []
          },
          "execution_count": 56
        }
      ]
    },
    {
      "cell_type": "markdown",
      "metadata": {
        "id": "DDY-lE38mvQ3"
      },
      "source": [
        "Transpose **T**"
      ]
    },
    {
      "cell_type": "code",
      "metadata": {
        "id": "mrDLpjU6mNB5",
        "colab": {
          "base_uri": "https://localhost:8080/"
        },
        "outputId": "b810408a-0d24-4b40-f88b-d14647ef7f49"
      },
      "source": [
        "D = np.arange(10).reshape(2,5)\n",
        "D.T"
      ],
      "execution_count": null,
      "outputs": [
        {
          "output_type": "execute_result",
          "data": {
            "text/plain": [
              "array([[0, 5],\n",
              "       [1, 6],\n",
              "       [2, 7],\n",
              "       [3, 8],\n",
              "       [4, 9]])"
            ]
          },
          "metadata": {
            "tags": []
          },
          "execution_count": 57
        }
      ]
    },
    {
      "cell_type": "markdown",
      "metadata": {
        "id": "p6jSTdP1nFfu"
      },
      "source": [
        "## Pandas\n",
        "\n",
        "Functions Introduced:  \n",
        "1. Series()\n",
        "2. DataFrame()\n",
        "3. head()\n",
        "4. tail()\n",
        "\n",
        "Others:  \n",
        "1. dtype\n",
        "2. shape"
      ]
    },
    {
      "cell_type": "code",
      "metadata": {
        "id": "GvaNXq_ZmsPV"
      },
      "source": [
        "import pandas as pd\n"
      ],
      "execution_count": null,
      "outputs": []
    },
    {
      "cell_type": "code",
      "metadata": {
        "id": "JWe5QK4nox0o",
        "colab": {
          "base_uri": "https://localhost:8080/"
        },
        "outputId": "b7e89ecc-8365-4488-d759-133bd26bd22a"
      },
      "source": [
        "s1 = pd.Series([1,2,3,5,6])\n",
        "s1"
      ],
      "execution_count": null,
      "outputs": [
        {
          "output_type": "execute_result",
          "data": {
            "text/plain": [
              "0    1\n",
              "1    2\n",
              "2    3\n",
              "3    5\n",
              "4    6\n",
              "dtype: int64"
            ]
          },
          "metadata": {
            "tags": []
          },
          "execution_count": 62
        }
      ]
    },
    {
      "cell_type": "code",
      "metadata": {
        "id": "KELP4YYSpEl7",
        "colab": {
          "base_uri": "https://localhost:8080/"
        },
        "outputId": "09b074c8-9232-4535-9c50-950b1e3e2710"
      },
      "source": [
        "## format index\n",
        "s2 = pd.Series([1,-2,3,-4,5],index=['a', 'b', 'c', 'd', 'e'])\n",
        "s2"
      ],
      "execution_count": null,
      "outputs": [
        {
          "output_type": "execute_result",
          "data": {
            "text/plain": [
              "a    1\n",
              "b   -2\n",
              "c    3\n",
              "d   -4\n",
              "e    5\n",
              "dtype: int64"
            ]
          },
          "metadata": {
            "tags": []
          },
          "execution_count": 84
        }
      ]
    },
    {
      "cell_type": "code",
      "metadata": {
        "id": "D9KdgDg3pjir",
        "colab": {
          "base_uri": "https://localhost:8080/"
        },
        "outputId": "9c3d10e1-25a0-4437-d98d-e998ff2a20aa"
      },
      "source": [
        "s2['d']"
      ],
      "execution_count": null,
      "outputs": [
        {
          "output_type": "execute_result",
          "data": {
            "text/plain": [
              "-4"
            ]
          },
          "metadata": {
            "tags": []
          },
          "execution_count": 85
        }
      ]
    },
    {
      "cell_type": "code",
      "metadata": {
        "id": "aAjERXURprDY",
        "colab": {
          "base_uri": "https://localhost:8080/"
        },
        "outputId": "0b334296-a132-47bb-f4c1-2b1c8f6ea1d4"
      },
      "source": [
        "s2[['a',\"c\"]]"
      ],
      "execution_count": null,
      "outputs": [
        {
          "output_type": "execute_result",
          "data": {
            "text/plain": [
              "a    1\n",
              "c    3\n",
              "dtype: int64"
            ]
          },
          "metadata": {
            "tags": []
          },
          "execution_count": 86
        }
      ]
    },
    {
      "cell_type": "markdown",
      "metadata": {
        "id": "Xvg1baPOp1Ql"
      },
      "source": [
        "**Boolean Indexing**"
      ]
    },
    {
      "cell_type": "code",
      "metadata": {
        "id": "Y9BHmwevpwlm",
        "colab": {
          "base_uri": "https://localhost:8080/"
        },
        "outputId": "fc9a590e-dd13-41e1-c0d1-0e2ce055bd65"
      },
      "source": [
        "exp = s2 > 0\n",
        "print(s2[exp])\n",
        "\n",
        "s3 = s2\n",
        "\n",
        "s3.index = exp\n",
        "s3"
      ],
      "execution_count": null,
      "outputs": [
        {
          "output_type": "stream",
          "text": [
            "a    1\n",
            "c    3\n",
            "e    5\n",
            "dtype: int64\n"
          ],
          "name": "stdout"
        },
        {
          "output_type": "execute_result",
          "data": {
            "text/plain": [
              "True     1\n",
              "False   -2\n",
              "True     3\n",
              "False   -4\n",
              "True     5\n",
              "dtype: int64"
            ]
          },
          "metadata": {
            "tags": []
          },
          "execution_count": 87
        }
      ]
    },
    {
      "cell_type": "code",
      "metadata": {
        "id": "vozQy8h2p9JI",
        "colab": {
          "base_uri": "https://localhost:8080/",
          "height": 142
        },
        "outputId": "5c69b11f-26ad-4dd6-dd25-56cf400c106f"
      },
      "source": [
        "myDiction = {'year':[2000,2001,2002],\n",
        "              'state':['UP','Delhi','Haryana'],\n",
        "              'pop':[213,578,9834]}\n",
        "\n",
        "df1 = pd.DataFrame(myDiction)\n",
        "df1"
      ],
      "execution_count": null,
      "outputs": [
        {
          "output_type": "execute_result",
          "data": {
            "text/html": [
              "<div>\n",
              "<style scoped>\n",
              "    .dataframe tbody tr th:only-of-type {\n",
              "        vertical-align: middle;\n",
              "    }\n",
              "\n",
              "    .dataframe tbody tr th {\n",
              "        vertical-align: top;\n",
              "    }\n",
              "\n",
              "    .dataframe thead th {\n",
              "        text-align: right;\n",
              "    }\n",
              "</style>\n",
              "<table border=\"1\" class=\"dataframe\">\n",
              "  <thead>\n",
              "    <tr style=\"text-align: right;\">\n",
              "      <th></th>\n",
              "      <th>year</th>\n",
              "      <th>state</th>\n",
              "      <th>pop</th>\n",
              "    </tr>\n",
              "  </thead>\n",
              "  <tbody>\n",
              "    <tr>\n",
              "      <th>0</th>\n",
              "      <td>2000</td>\n",
              "      <td>UP</td>\n",
              "      <td>213</td>\n",
              "    </tr>\n",
              "    <tr>\n",
              "      <th>1</th>\n",
              "      <td>2001</td>\n",
              "      <td>Delhi</td>\n",
              "      <td>578</td>\n",
              "    </tr>\n",
              "    <tr>\n",
              "      <th>2</th>\n",
              "      <td>2002</td>\n",
              "      <td>Haryana</td>\n",
              "      <td>9834</td>\n",
              "    </tr>\n",
              "  </tbody>\n",
              "</table>\n",
              "</div>"
            ],
            "text/plain": [
              "   year    state   pop\n",
              "0  2000       UP   213\n",
              "1  2001    Delhi   578\n",
              "2  2002  Haryana  9834"
            ]
          },
          "metadata": {
            "tags": []
          },
          "execution_count": 97
        }
      ]
    },
    {
      "cell_type": "code",
      "metadata": {
        "id": "y06Fw5X3qop_",
        "colab": {
          "base_uri": "https://localhost:8080/",
          "height": 142
        },
        "outputId": "e157d4c3-89f0-4703-fb76-8f5f77fc9c5c"
      },
      "source": [
        "df1['avg'] = df1['pop']/sum(df1['pop'])\n",
        "df1"
      ],
      "execution_count": null,
      "outputs": [
        {
          "output_type": "execute_result",
          "data": {
            "text/html": [
              "<div>\n",
              "<style scoped>\n",
              "    .dataframe tbody tr th:only-of-type {\n",
              "        vertical-align: middle;\n",
              "    }\n",
              "\n",
              "    .dataframe tbody tr th {\n",
              "        vertical-align: top;\n",
              "    }\n",
              "\n",
              "    .dataframe thead th {\n",
              "        text-align: right;\n",
              "    }\n",
              "</style>\n",
              "<table border=\"1\" class=\"dataframe\">\n",
              "  <thead>\n",
              "    <tr style=\"text-align: right;\">\n",
              "      <th></th>\n",
              "      <th>year</th>\n",
              "      <th>state</th>\n",
              "      <th>pop</th>\n",
              "      <th>avg</th>\n",
              "    </tr>\n",
              "  </thead>\n",
              "  <tbody>\n",
              "    <tr>\n",
              "      <th>0</th>\n",
              "      <td>2000</td>\n",
              "      <td>UP</td>\n",
              "      <td>213</td>\n",
              "      <td>0.020047</td>\n",
              "    </tr>\n",
              "    <tr>\n",
              "      <th>1</th>\n",
              "      <td>2001</td>\n",
              "      <td>Delhi</td>\n",
              "      <td>578</td>\n",
              "      <td>0.054400</td>\n",
              "    </tr>\n",
              "    <tr>\n",
              "      <th>2</th>\n",
              "      <td>2002</td>\n",
              "      <td>Haryana</td>\n",
              "      <td>9834</td>\n",
              "      <td>0.925553</td>\n",
              "    </tr>\n",
              "  </tbody>\n",
              "</table>\n",
              "</div>"
            ],
            "text/plain": [
              "   year    state   pop       avg\n",
              "0  2000       UP   213  0.020047\n",
              "1  2001    Delhi   578  0.054400\n",
              "2  2002  Haryana  9834  0.925553"
            ]
          },
          "metadata": {
            "tags": []
          },
          "execution_count": 98
        }
      ]
    },
    {
      "cell_type": "code",
      "metadata": {
        "id": "Cib-raMJsJCR",
        "colab": {
          "base_uri": "https://localhost:8080/",
          "height": 142
        },
        "outputId": "aa7ec813-49cf-4d31-8e5d-75ad7734cf2f"
      },
      "source": [
        "del df1['avg']\n",
        "df1"
      ],
      "execution_count": null,
      "outputs": [
        {
          "output_type": "execute_result",
          "data": {
            "text/html": [
              "<div>\n",
              "<style scoped>\n",
              "    .dataframe tbody tr th:only-of-type {\n",
              "        vertical-align: middle;\n",
              "    }\n",
              "\n",
              "    .dataframe tbody tr th {\n",
              "        vertical-align: top;\n",
              "    }\n",
              "\n",
              "    .dataframe thead th {\n",
              "        text-align: right;\n",
              "    }\n",
              "</style>\n",
              "<table border=\"1\" class=\"dataframe\">\n",
              "  <thead>\n",
              "    <tr style=\"text-align: right;\">\n",
              "      <th></th>\n",
              "      <th>year</th>\n",
              "      <th>state</th>\n",
              "      <th>pop</th>\n",
              "    </tr>\n",
              "  </thead>\n",
              "  <tbody>\n",
              "    <tr>\n",
              "      <th>0</th>\n",
              "      <td>2000</td>\n",
              "      <td>UP</td>\n",
              "      <td>213</td>\n",
              "    </tr>\n",
              "    <tr>\n",
              "      <th>1</th>\n",
              "      <td>2001</td>\n",
              "      <td>Delhi</td>\n",
              "      <td>578</td>\n",
              "    </tr>\n",
              "    <tr>\n",
              "      <th>2</th>\n",
              "      <td>2002</td>\n",
              "      <td>Haryana</td>\n",
              "      <td>9834</td>\n",
              "    </tr>\n",
              "  </tbody>\n",
              "</table>\n",
              "</div>"
            ],
            "text/plain": [
              "   year    state   pop\n",
              "0  2000       UP   213\n",
              "1  2001    Delhi   578\n",
              "2  2002  Haryana  9834"
            ]
          },
          "metadata": {
            "tags": []
          },
          "execution_count": 99
        }
      ]
    },
    {
      "cell_type": "code",
      "metadata": {
        "id": "1sPM5gUNsTNl",
        "colab": {
          "base_uri": "https://localhost:8080/",
          "height": 193
        },
        "outputId": "6b5ffb39-2a0a-4c7b-c16b-dd0fc9ecedeb"
      },
      "source": [
        "temp = df1['year']\n",
        "print(df1.drop(0))\n",
        "df1"
      ],
      "execution_count": null,
      "outputs": [
        {
          "output_type": "stream",
          "text": [
            "   year    state   pop\n",
            "1  2001    Delhi   578\n",
            "2  2002  Haryana  9834\n"
          ],
          "name": "stdout"
        },
        {
          "output_type": "execute_result",
          "data": {
            "text/html": [
              "<div>\n",
              "<style scoped>\n",
              "    .dataframe tbody tr th:only-of-type {\n",
              "        vertical-align: middle;\n",
              "    }\n",
              "\n",
              "    .dataframe tbody tr th {\n",
              "        vertical-align: top;\n",
              "    }\n",
              "\n",
              "    .dataframe thead th {\n",
              "        text-align: right;\n",
              "    }\n",
              "</style>\n",
              "<table border=\"1\" class=\"dataframe\">\n",
              "  <thead>\n",
              "    <tr style=\"text-align: right;\">\n",
              "      <th></th>\n",
              "      <th>year</th>\n",
              "      <th>state</th>\n",
              "      <th>pop</th>\n",
              "    </tr>\n",
              "  </thead>\n",
              "  <tbody>\n",
              "    <tr>\n",
              "      <th>0</th>\n",
              "      <td>2000</td>\n",
              "      <td>UP</td>\n",
              "      <td>213</td>\n",
              "    </tr>\n",
              "    <tr>\n",
              "      <th>1</th>\n",
              "      <td>2001</td>\n",
              "      <td>Delhi</td>\n",
              "      <td>578</td>\n",
              "    </tr>\n",
              "    <tr>\n",
              "      <th>2</th>\n",
              "      <td>2002</td>\n",
              "      <td>Haryana</td>\n",
              "      <td>9834</td>\n",
              "    </tr>\n",
              "  </tbody>\n",
              "</table>\n",
              "</div>"
            ],
            "text/plain": [
              "   year    state   pop\n",
              "0  2000       UP   213\n",
              "1  2001    Delhi   578\n",
              "2  2002  Haryana  9834"
            ]
          },
          "metadata": {
            "tags": []
          },
          "execution_count": 100
        }
      ]
    },
    {
      "cell_type": "code",
      "metadata": {
        "id": "JXiOxE7dskZm",
        "colab": {
          "base_uri": "https://localhost:8080/",
          "height": 128
        },
        "outputId": "eef3abba-86fe-4b1c-bea0-dba32d997a92"
      },
      "source": [
        "temp = df1['year']\n",
        "print(df1.drop(0,inplace=True))\n",
        "df1"
      ],
      "execution_count": null,
      "outputs": [
        {
          "output_type": "stream",
          "text": [
            "None\n"
          ],
          "name": "stdout"
        },
        {
          "output_type": "execute_result",
          "data": {
            "text/html": [
              "<div>\n",
              "<style scoped>\n",
              "    .dataframe tbody tr th:only-of-type {\n",
              "        vertical-align: middle;\n",
              "    }\n",
              "\n",
              "    .dataframe tbody tr th {\n",
              "        vertical-align: top;\n",
              "    }\n",
              "\n",
              "    .dataframe thead th {\n",
              "        text-align: right;\n",
              "    }\n",
              "</style>\n",
              "<table border=\"1\" class=\"dataframe\">\n",
              "  <thead>\n",
              "    <tr style=\"text-align: right;\">\n",
              "      <th></th>\n",
              "      <th>year</th>\n",
              "      <th>state</th>\n",
              "      <th>pop</th>\n",
              "    </tr>\n",
              "  </thead>\n",
              "  <tbody>\n",
              "    <tr>\n",
              "      <th>1</th>\n",
              "      <td>2001</td>\n",
              "      <td>Delhi</td>\n",
              "      <td>578</td>\n",
              "    </tr>\n",
              "    <tr>\n",
              "      <th>2</th>\n",
              "      <td>2002</td>\n",
              "      <td>Haryana</td>\n",
              "      <td>9834</td>\n",
              "    </tr>\n",
              "  </tbody>\n",
              "</table>\n",
              "</div>"
            ],
            "text/plain": [
              "   year    state   pop\n",
              "1  2001    Delhi   578\n",
              "2  2002  Haryana  9834"
            ]
          },
          "metadata": {
            "tags": []
          },
          "execution_count": 103
        }
      ]
    },
    {
      "cell_type": "code",
      "metadata": {
        "id": "AVb9Y1qWss6k",
        "colab": {
          "base_uri": "https://localhost:8080/",
          "height": 204
        },
        "outputId": "5f90ad2a-1f00-494e-ffdb-86ba40b9ee25"
      },
      "source": [
        "df = pd.read_csv('covidDeaths.csv')\n",
        "df.head()"
      ],
      "execution_count": null,
      "outputs": [
        {
          "output_type": "execute_result",
          "data": {
            "text/html": [
              "<div>\n",
              "<style scoped>\n",
              "    .dataframe tbody tr th:only-of-type {\n",
              "        vertical-align: middle;\n",
              "    }\n",
              "\n",
              "    .dataframe tbody tr th {\n",
              "        vertical-align: top;\n",
              "    }\n",
              "\n",
              "    .dataframe thead th {\n",
              "        text-align: right;\n",
              "    }\n",
              "</style>\n",
              "<table border=\"1\" class=\"dataframe\">\n",
              "  <thead>\n",
              "    <tr style=\"text-align: right;\">\n",
              "      <th></th>\n",
              "      <th>word</th>\n",
              "      <th>freq</th>\n",
              "    </tr>\n",
              "  </thead>\n",
              "  <tbody>\n",
              "    <tr>\n",
              "      <th>0</th>\n",
              "      <td>china</td>\n",
              "      <td>444</td>\n",
              "    </tr>\n",
              "    <tr>\n",
              "      <th>1</th>\n",
              "      <td>italy</td>\n",
              "      <td>280</td>\n",
              "    </tr>\n",
              "    <tr>\n",
              "      <th>2</th>\n",
              "      <td>iran</td>\n",
              "      <td>266</td>\n",
              "    </tr>\n",
              "    <tr>\n",
              "      <th>3</th>\n",
              "      <td>spain</td>\n",
              "      <td>243</td>\n",
              "    </tr>\n",
              "    <tr>\n",
              "      <th>4</th>\n",
              "      <td>france</td>\n",
              "      <td>242</td>\n",
              "    </tr>\n",
              "  </tbody>\n",
              "</table>\n",
              "</div>"
            ],
            "text/plain": [
              "     word  freq\n",
              "0   china   444\n",
              "1   italy   280\n",
              "2    iran   266\n",
              "3   spain   243\n",
              "4  france   242"
            ]
          },
          "metadata": {
            "tags": []
          },
          "execution_count": 105
        }
      ]
    },
    {
      "cell_type": "code",
      "metadata": {
        "id": "b835MB65s_u5",
        "colab": {
          "base_uri": "https://localhost:8080/"
        },
        "outputId": "c1507db0-2b03-4129-f148-f27ba1821866"
      },
      "source": [
        "df.shape"
      ],
      "execution_count": null,
      "outputs": [
        {
          "output_type": "execute_result",
          "data": {
            "text/plain": [
              "(161, 2)"
            ]
          },
          "metadata": {
            "tags": []
          },
          "execution_count": 109
        }
      ]
    },
    {
      "cell_type": "code",
      "metadata": {
        "id": "ALZtdG0-tEj5"
      },
      "source": [
        ""
      ],
      "execution_count": null,
      "outputs": []
    }
  ]
}