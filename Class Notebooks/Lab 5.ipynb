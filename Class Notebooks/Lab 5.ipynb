{
  "nbformat": 4,
  "nbformat_minor": 0,
  "metadata": {
    "kernelspec": {
      "display_name": "Python 3",
      "language": "python",
      "name": "python3"
    },
    "language_info": {
      "codemirror_mode": {
        "name": "ipython",
        "version": 3
      },
      "file_extension": ".py",
      "mimetype": "text/x-python",
      "name": "python",
      "nbconvert_exporter": "python",
      "pygments_lexer": "ipython3",
      "version": "3.8.3"
    },
    "colab": {
      "name": "Lab 5.ipynb",
      "provenance": [],
      "include_colab_link": true
    }
  },
  "cells": [
    {
      "cell_type": "markdown",
      "metadata": {
        "id": "view-in-github",
        "colab_type": "text"
      },
      "source": [
        "<a href=\"https://colab.research.google.com/github/ravi-prakash1907/Problem-Solving-with-Python/blob/main/Class%20Notebooks/Lab%205.ipynb\" target=\"_parent\"><img src=\"https://colab.research.google.com/assets/colab-badge.svg\" alt=\"Open In Colab\"/></a>"
      ]
    },
    {
      "cell_type": "code",
      "metadata": {
        "id": "eA7nJ2R4mOd5",
        "outputId": "debe7600-3124-45e3-fbb4-f9e7f489a6a7"
      },
      "source": [
        "10+20<20+30"
      ],
      "execution_count": null,
      "outputs": [
        {
          "output_type": "execute_result",
          "data": {
            "text/plain": [
              "True"
            ]
          },
          "metadata": {
            "tags": []
          },
          "execution_count": 1
        }
      ]
    },
    {
      "cell_type": "code",
      "metadata": {
        "id": "5n-7ESzMmOeE",
        "outputId": "e52b313d-5fe3-4630-c485-3ef165d41923"
      },
      "source": [
        "10+20 and 20+30"
      ],
      "execution_count": null,
      "outputs": [
        {
          "output_type": "execute_result",
          "data": {
            "text/plain": [
              "50"
            ]
          },
          "metadata": {
            "tags": []
          },
          "execution_count": 2
        }
      ]
    },
    {
      "cell_type": "code",
      "metadata": {
        "id": "au_gGdkFmOeL",
        "outputId": "f1d4d25b-0dff-42bc-85c8-d8147faa14ab"
      },
      "source": [
        "10<20 and 30<20"
      ],
      "execution_count": null,
      "outputs": [
        {
          "output_type": "execute_result",
          "data": {
            "text/plain": [
              "False"
            ]
          },
          "metadata": {
            "tags": []
          },
          "execution_count": 4
        }
      ]
    },
    {
      "cell_type": "code",
      "metadata": {
        "id": "u9tHR6oimOeQ",
        "outputId": "5dcb16f0-0436-464f-fc5f-7c71d1bfda78"
      },
      "source": [
        "10<20 and 30<20 or 30<40"
      ],
      "execution_count": null,
      "outputs": [
        {
          "output_type": "execute_result",
          "data": {
            "text/plain": [
              "True"
            ]
          },
          "metadata": {
            "tags": []
          },
          "execution_count": 5
        }
      ]
    },
    {
      "cell_type": "code",
      "metadata": {
        "id": "tj6znT-0mOeY",
        "outputId": "6eeda969-005b-4ced-bb4a-e8a06724f9e1"
      },
      "source": [
        "1 <= 15 <= 10\n",
        "\n",
        "# 1 <= 15 <= 10\n",
        "# True and 15 <= 10\n",
        "# True and False\n",
        "# False"
      ],
      "execution_count": null,
      "outputs": [
        {
          "output_type": "execute_result",
          "data": {
            "text/plain": [
              "False"
            ]
          },
          "metadata": {
            "tags": []
          },
          "execution_count": 7
        }
      ]
    },
    {
      "cell_type": "code",
      "metadata": {
        "id": "t5sskOLFmOed",
        "outputId": "bfc735a0-278e-412f-9eb3-32986bb2f1ec"
      },
      "source": [
        "print('A') and print('B') or print('C')\n",
        "# (print('A') and print('B')) or (print('C'))\n",
        "# (False and print('B')) or (print('C'))    ---->  prints 'A'\n",
        "# (False or (print('C'))\n",
        "# (False or False)    ---->  prints 'C'\n",
        "# False"
      ],
      "execution_count": null,
      "outputs": [
        {
          "output_type": "stream",
          "text": [
            "A\n",
            "C\n"
          ],
          "name": "stdout"
        }
      ]
    },
    {
      "cell_type": "code",
      "metadata": {
        "id": "ObEarQh8mOej"
      },
      "source": [
        ""
      ],
      "execution_count": null,
      "outputs": []
    },
    {
      "cell_type": "code",
      "metadata": {
        "id": "eyyQ6lx7mOeo"
      },
      "source": [
        ""
      ],
      "execution_count": null,
      "outputs": []
    },
    {
      "cell_type": "code",
      "metadata": {
        "id": "1ZYeQA0wmOeu",
        "outputId": "f20caa9f-ef3f-4fb2-d338-836f53d50751"
      },
      "source": [
        "# if entered num is positive, print its square-root\n",
        "\n",
        "from math import sqrt\n",
        "num = int(input(\"Enter a positive num: \"))\n",
        "if num > 0:\n",
        "    print(\"Square root of\",num,\"is:\",int(sqrt(num)))\n",
        "   "
      ],
      "execution_count": null,
      "outputs": [
        {
          "output_type": "stream",
          "text": [
            "Enter a positive num:  10\n"
          ],
          "name": "stdin"
        },
        {
          "output_type": "stream",
          "text": [
            "Square root of 10 is: 3\n"
          ],
          "name": "stdout"
        }
      ]
    },
    {
      "cell_type": "code",
      "metadata": {
        "id": "Gp4vRa1ZmOey",
        "outputId": "961c16a3-e056-41c4-d0cd-068d0685aaaf"
      },
      "source": [
        "# if entered num is multiple of 10, print its square\n",
        "\n",
        "num = int(input(\"Enter a multiple of 10: \"))\n",
        "if num % 10 == 0:\n",
        "    print(\"Square of\",num,\"is:\",pow(num,2))\n",
        " "
      ],
      "execution_count": null,
      "outputs": [
        {
          "output_type": "stream",
          "text": [
            "Enter a multiple of 10:  10\n"
          ],
          "name": "stdin"
        },
        {
          "output_type": "stream",
          "text": [
            "Square of 10 is: 100\n"
          ],
          "name": "stdout"
        }
      ]
    },
    {
      "cell_type": "code",
      "metadata": {
        "id": "YZ-yFOzkmOe5",
        "outputId": "9e4c911d-fd07-478e-e5c7-3fbf21dcdf27"
      },
      "source": [
        "# odd or even\n",
        "num = int(input(\"Enter a positive num: \"))\n",
        "if num % 2 == 0:\n",
        "    print(\"You entered an EVEN number!\")\n",
        "else:\n",
        "    print(\"You entered an ODD number!\")\n",
        "   "
      ],
      "execution_count": null,
      "outputs": [
        {
          "output_type": "stream",
          "text": [
            "Enter a positive num:  34\n"
          ],
          "name": "stdin"
        },
        {
          "output_type": "stream",
          "text": [
            "You entered an EVEN number!\n"
          ],
          "name": "stdout"
        }
      ]
    },
    {
      "cell_type": "code",
      "metadata": {
        "id": "h-vNmp7PmOe-",
        "outputId": "0334932d-fa01-439c-ac21-d12351800994"
      },
      "source": [
        "# adult or child\n",
        "num = int(input(\"Enter your age in years: \"))\n",
        "if num < 18:\n",
        "    print(\"Hey child, let's play!\")\n",
        "else:\n",
        "    print(\"You are an adult!\")"
      ],
      "execution_count": null,
      "outputs": [
        {
          "output_type": "stream",
          "text": [
            "Enter your age in years:  12\n"
          ],
          "name": "stdin"
        },
        {
          "output_type": "stream",
          "text": [
            "Hey child, let's play!\n"
          ],
          "name": "stdout"
        }
      ]
    },
    {
      "cell_type": "code",
      "metadata": {
        "id": "15wcqCgOmOfE",
        "outputId": "6441ee94-e59d-478b-bf2a-b677a31d96eb"
      },
      "source": [
        "# small or large factor\n",
        "num = int(input(\"Enter an integer: \"))\n",
        "if (num % 2 == 0) or (num % 3 == 0):\n",
        "    print(\"Number has a small factor!\")\n",
        "else:\n",
        "    print(\"Number has a large factor!\")"
      ],
      "execution_count": null,
      "outputs": [
        {
          "output_type": "stream",
          "text": [
            "Enter an integer:  100\n"
          ],
          "name": "stdin"
        },
        {
          "output_type": "stream",
          "text": [
            "Number has a small factor!\n"
          ],
          "name": "stdout"
        }
      ]
    },
    {
      "cell_type": "code",
      "metadata": {
        "id": "OL7xqDhGmOfL",
        "outputId": "5a73cb46-41a6-44d1-ac8f-8d4ceced7818"
      },
      "source": [
        "# adult or teen or child\n",
        "num = int(input(\"Enter your age in years: \"))\n",
        "if num < 13:\n",
        "    print(\"Hey child, let's play!\")\n",
        "elif num < 18:\n",
        "    print(\"So, you are a teenager!\")\n",
        "else:\n",
        "    print(\"You are an adult!\")"
      ],
      "execution_count": null,
      "outputs": [
        {
          "output_type": "stream",
          "text": [
            "Enter your age in years:  18\n"
          ],
          "name": "stdin"
        },
        {
          "output_type": "stream",
          "text": [
            "You are an adult!\n"
          ],
          "name": "stdout"
        }
      ]
    },
    {
      "cell_type": "code",
      "metadata": {
        "id": "1WW-vkOlmOfR",
        "outputId": "37e460e7-1419-4367-8d54-7870f97a9742"
      },
      "source": [
        "# leapyear\n",
        "#year = int(input(\"Enter the year: \"))\n",
        "#if (year%400 == 0) or (year%4 == 0 and year%100 != 0):\n",
        "#    print(year,\"is a leap year!\")\n",
        "#else:\n",
        "#    print(year,\"is NOT a leap year!\")\n",
        "#\n",
        "\n",
        "def checkLeapYear(year):\n",
        "    if (year%400 == 0) or (year%4 == 0 and year%100 != 0):\n",
        "        print(year,\"is a leap year!\")\n",
        "    else:\n",
        "        print(year,\"is NOT a leap year!\")\n",
        "    return\n",
        "\n",
        "for yr in range(2000,2021):\n",
        "    checkLeapYear(yr)\n",
        "\n",
        "checkLeapYear(2100)"
      ],
      "execution_count": null,
      "outputs": [
        {
          "output_type": "stream",
          "text": [
            "2000 is a leap year!\n",
            "2001 is NOT a leap year!\n",
            "2002 is NOT a leap year!\n",
            "2003 is NOT a leap year!\n",
            "2004 is a leap year!\n",
            "2005 is NOT a leap year!\n",
            "2006 is NOT a leap year!\n",
            "2007 is NOT a leap year!\n",
            "2008 is a leap year!\n",
            "2009 is NOT a leap year!\n",
            "2010 is NOT a leap year!\n",
            "2011 is NOT a leap year!\n",
            "2012 is a leap year!\n",
            "2013 is NOT a leap year!\n",
            "2014 is NOT a leap year!\n",
            "2015 is NOT a leap year!\n",
            "2016 is a leap year!\n",
            "2017 is NOT a leap year!\n",
            "2018 is NOT a leap year!\n",
            "2019 is NOT a leap year!\n",
            "2020 is a leap year!\n",
            "2100 is NOT a leap year!\n"
          ],
          "name": "stdout"
        }
      ]
    },
    {
      "cell_type": "code",
      "metadata": {
        "id": "xM0J5PoVmOfY",
        "outputId": "d9863915-64ee-4ba8-ba24-5c5f1db6e845"
      },
      "source": [
        "# adult or teen or child\n",
        "num = int(input(\"Enter your age in years: \"))\n",
        "if num < 18:\n",
        "    if num < 13:\n",
        "        print(\"Child\")\n",
        "    else:\n",
        "        print(\"Teenager\")\n",
        "else:\n",
        "    print(\"Adult\")"
      ],
      "execution_count": null,
      "outputs": [
        {
          "output_type": "stream",
          "text": [
            "Enter your age in years:  23\n"
          ],
          "name": "stdin"
        },
        {
          "output_type": "stream",
          "text": [
            "Adult\n"
          ],
          "name": "stdout"
        }
      ]
    },
    {
      "cell_type": "code",
      "metadata": {
        "id": "NE5lxK5rmOfc",
        "outputId": "22696652-ae09-4c42-fd3d-4dcabfb3a8ec"
      },
      "source": [
        "# Additional\n",
        "num = round(float(input(\"Enter your age in years: \")),2)\n",
        "#num = 1234.46\n",
        "print(round(num,2))\n",
        "print(round(num,1))\n",
        "print(int(num))\n",
        "print(\"{:,.3f}\".format(num))\n",
        "print(\"{:e}\".format(num))\n",
        "print(\"{:.5e}\".format(num))\n",
        "print(\"{:.0e}\".format(num))\n",
        "print(\"{:,.0f}\".format(num))\n",
        "\n"
      ],
      "execution_count": null,
      "outputs": [
        {
          "output_type": "stream",
          "text": [
            "1234.46\n",
            "1234.5\n",
            "1234\n",
            "1,234.460\n",
            "1.234460e+03\n",
            "1.23446e+03\n",
            "1e+03\n",
            "1,234\n"
          ],
          "name": "stdout"
        }
      ]
    },
    {
      "cell_type": "code",
      "metadata": {
        "id": "OEsNDNccmOfl"
      },
      "source": [
        ""
      ],
      "execution_count": null,
      "outputs": []
    },
    {
      "cell_type": "markdown",
      "metadata": {
        "id": "s1sSJ4D-mOfq"
      },
      "source": [
        "## Lab Session\n"
      ]
    },
    {
      "cell_type": "code",
      "metadata": {
        "id": "DO0Soyw_mOfr",
        "outputId": "493ed3b7-c0e6-49ab-c3e5-0233df758a9c"
      },
      "source": [
        "## \n",
        "lugWeight = int(input(\"Weight of luggage (in kg): \"))\n",
        "if lugWeight > 35:\n",
        "    print(\"You have to pay 4000 rupees extra!\")\n"
      ],
      "execution_count": null,
      "outputs": [
        {
          "output_type": "stream",
          "text": [
            "Weight of luggage (in kg):  23\n"
          ],
          "name": "stdin"
        }
      ]
    },
    {
      "cell_type": "code",
      "metadata": {
        "id": "3K4Ktu_YmOfv",
        "outputId": "610709cc-14f6-453a-fcd3-22fb4f92f658"
      },
      "source": [
        "# odd or even\n",
        "num = int(input(\"Enter a positive num: \"))\n",
        "if num % 2 == 0:\n",
        "    print(\"You entered an EVEN number!\")\n",
        "else:\n",
        "    print(\"You entered an ODD number!\")\n",
        "   "
      ],
      "execution_count": null,
      "outputs": [
        {
          "output_type": "stream",
          "text": [
            "Enter a positive num:  56\n"
          ],
          "name": "stdin"
        },
        {
          "output_type": "stream",
          "text": [
            "You entered an EVEN number!\n"
          ],
          "name": "stdout"
        }
      ]
    },
    {
      "cell_type": "code",
      "metadata": {
        "id": "EeWp8XubmOf0",
        "outputId": "86b591d0-a9e2-4156-bc66-135dba533ae4"
      },
      "source": [
        "# greatest\n",
        "num1 = int(input(\"Enter a positive num: \"))\n",
        "num2 = int(input(\"Enter a positive num: \"))\n",
        "if num1 > num2:\n",
        "    print(num1,\"is larger!\")\n",
        "elif num2 > num1:\n",
        "    print(num2,\"is larger!\")\n",
        "else:\n",
        "    print(\"Both are equal!\")\n",
        "   "
      ],
      "execution_count": null,
      "outputs": [
        {
          "output_type": "stream",
          "text": [
            "Enter a positive num:  2\n",
            "Enter a positive num:  3\n"
          ],
          "name": "stdin"
        },
        {
          "output_type": "stream",
          "text": [
            "3 is larger!\n"
          ],
          "name": "stdout"
        }
      ]
    },
    {
      "cell_type": "code",
      "metadata": {
        "id": "beNyhwQwmOf7",
        "outputId": "114caee5-bf1b-4bb1-d884-4444d2584904"
      },
      "source": [
        "# palinsrome\n",
        "str1 = input(\"Enter string: \")\n",
        "if str1 == str1[::-1]:\n",
        "    print(\"It's palindrome!\")\n",
        "else:\n",
        "    print(\"It's NOT palindrome!\")\n"
      ],
      "execution_count": null,
      "outputs": [
        {
          "output_type": "stream",
          "text": [
            "Enter string:  mamam\n"
          ],
          "name": "stdin"
        },
        {
          "output_type": "stream",
          "text": [
            "It's palindrome!\n"
          ],
          "name": "stdout"
        }
      ]
    },
    {
      "cell_type": "code",
      "metadata": {
        "id": "dkAtE7QdmOgE",
        "outputId": "4832999e-a4e3-418b-9346-617aacfdaffd"
      },
      "source": [
        "## in cost prz anf  -> get\n",
        "## find profit / sell\n",
        "cp = int(input(\"Enter cost price: \"))\n",
        "sp = int(input(\"Enter selling price: \"))\n",
        "\n",
        "if cp > sp:\n",
        "    print(\"Loss of\",cp-sp)\n",
        "elif sp > cp:\n",
        "    print(\"Profit of\",sp-cp)\n",
        "else:\n",
        "    print(\"Neither Loss nor Profit!\")"
      ],
      "execution_count": null,
      "outputs": [
        {
          "output_type": "stream",
          "text": [
            "Enter cost price:  12\n",
            "Enter selling price:  10\n"
          ],
          "name": "stdin"
        },
        {
          "output_type": "stream",
          "text": [
            "Loss of 2\n"
          ],
          "name": "stdout"
        }
      ]
    },
    {
      "cell_type": "code",
      "metadata": {
        "id": "NEJkFgU3mOgL",
        "outputId": "a213c368-7f32-4292-9b44-d0f694b53913"
      },
      "source": [
        "score = float(input(\"Your score: \"))\n",
        "\n",
        "if score < 0 or score > 1:\n",
        "    print(\"Out of range\")\n",
        "elif score >= 0.9:\n",
        "    print(\"Gread A\")\n",
        "elif score >= 0.8:\n",
        "    print(\"Gread B\")\n",
        "elif score >= 0.7:\n",
        "    print(\"Gread C\")\n",
        "elif score >= 0.6:\n",
        "    print(\"Gread D\")\n",
        "else:\n",
        "    print(\"Gread E\")"
      ],
      "execution_count": null,
      "outputs": [
        {
          "output_type": "stream",
          "text": [
            "Your score:  0.5\n"
          ],
          "name": "stdin"
        },
        {
          "output_type": "stream",
          "text": [
            "Gread E\n"
          ],
          "name": "stdout"
        }
      ]
    },
    {
      "cell_type": "code",
      "metadata": {
        "id": "4DTxBpA0mOgS",
        "outputId": "32f8531d-9701-483c-fd4a-d1588cec02d7"
      },
      "source": [
        "###\n",
        "#Write a program to display the cost each type of fruit :\n",
        "#orange- 60 rupees, \n",
        "#apple - 200 rupees, \n",
        "#banana- 50 rupees, \n",
        "#cherries-300 rupees . \n",
        "#other than these out of stock.\n",
        "\n",
        "fruit = input(\"Choose fruit: \")\n",
        "\n",
        "if fruit.lower() == 'orange':\n",
        "    print(\"Orange cost 60 Rs./kg\")\n",
        "elif fruit.lower() == 'apple':\n",
        "    print(\"Apple cost 60 Rs./kg\")\n",
        "elif fruit.lower() == 'banana':\n",
        "    print(\"Banana cost 60 Rs./kg\")\n",
        "elif fruit.lower() == 'cherries':\n",
        "    print(\"Cherries cost 60 Rs./kg\")\n",
        "else:\n",
        "    print(\"Out of stock!!\")"
      ],
      "execution_count": null,
      "outputs": [
        {
          "output_type": "stream",
          "text": [
            "Choose fruit:  banana\n"
          ],
          "name": "stdin"
        },
        {
          "output_type": "stream",
          "text": [
            "Banana cost 60 Rs.\n"
          ],
          "name": "stdout"
        }
      ]
    },
    {
      "cell_type": "markdown",
      "metadata": {
        "id": "3yRp49rcGORh"
      },
      "source": [
        "Trick -> Day on 1/1/\\<givenYear\\>\n"
      ]
    },
    {
      "cell_type": "code",
      "metadata": {
        "id": "gX2AmlfNmOgd",
        "outputId": "2ef2a654-c4cd-4e1a-fad1-619f894c0729"
      },
      "source": [
        "# 01/01/1900 ---> Monday\n",
        "# get year\n",
        "# find day on jan 1 /year\n",
        "\n",
        "#144025036146\n",
        "#if leap\n",
        "#034025036146\n",
        "def checkLeapYear(year):\n",
        "    if (year%400 == 0) or (year%4 == 0 and year%100 != 0):\n",
        "        return True\n",
        "    return False\n",
        "\n",
        "def dayName(day):\n",
        "    if day == 1:\n",
        "        print(\"Sunday\")\n",
        "    elif day == 2:\n",
        "        print(\"Monday\")\n",
        "    elif day == 3:\n",
        "        print(\"Tuesday\")\n",
        "    elif day == 4:\n",
        "        print(\"Wednesday\")\n",
        "    elif day == 5:\n",
        "        print(\"Thursday\")\n",
        "    elif day == 6:\n",
        "        print(\"Friday\")\n",
        "    elif day == 7:\n",
        "        print(\"Saturday\")\n",
        "\n",
        "\n",
        "year = int(input(\"Year: \"))\n",
        "if checkLeapYear(year):\n",
        "    month = 0\n",
        "else:\n",
        "    month = 1\n",
        "\n",
        "date = 1\n",
        "\n",
        "some = year+(year//4)+(date+month-2)\n",
        "day = (some%7)\n",
        "\n",
        "print(\"\\nDay on 01/01/\"+str(year)+\": \",end='')\n",
        "dayName(day)"
      ],
      "execution_count": null,
      "outputs": [
        {
          "output_type": "stream",
          "text": [
            "Year:  1990\n"
          ],
          "name": "stdin"
        },
        {
          "output_type": "stream",
          "text": [
            "\n",
            "Day on 01/01/1990: Monday\n"
          ],
          "name": "stdout"
        }
      ]
    },
    {
      "cell_type": "markdown",
      "metadata": {
        "id": "Ecfh7c5C0OCW"
      },
      "source": [
        "## Assignments"
      ]
    },
    {
      "cell_type": "code",
      "metadata": {
        "id": "PzAxP5ELrphI",
        "outputId": "f9681784-f490-42a9-b9b3-fbf7a08ba321",
        "colab": {
          "base_uri": "https://localhost:8080/"
        }
      },
      "source": [
        "## given 4-digit number is palindrome or not\n",
        "\n",
        "num = int(input(\"Enter a 4 digit number: \"))\n",
        "\n",
        "# findig reverse\n",
        "once = (num%10)*1000\n",
        "num //= 10\n",
        "\n",
        "tens = (num%10)*100\n",
        "num //= 10\n",
        "\n",
        "hundreds = (num%10)*10\n",
        "num //= 10\n",
        "\n",
        "thousands = (num%10)\n",
        "num //= 10\n",
        "\n",
        "reverse = once + tens + hundreds + thousands\n",
        "##########\n",
        "\n",
        "if num == reverse:\n",
        "  print(num,\"is palindrome!\")\n",
        "else:\n",
        "  print(reverse,\"is NOT palindrome!\")"
      ],
      "execution_count": 121,
      "outputs": [
        {
          "output_type": "stream",
          "text": [
            "Enter a 4 digit number: 2341\n",
            "1432 is NOT palindrome!\n"
          ],
          "name": "stdout"
        }
      ]
    },
    {
      "cell_type": "code",
      "metadata": {
        "id": "BmXGbisBmOgY",
        "outputId": "0163f61b-e309-4f03-fac4-95611b2ffa77",
        "colab": {
          "base_uri": "https://localhost:8080/"
        }
      },
      "source": [
        "# problem: write a program to check whether the entered character is \n",
        "# lower case or upper case.\n",
        "\n",
        "char = input(\"Enter a character: \")\n",
        "\n",
        "if ord(char) >= 65 and ord(char) <= 90:\n",
        "  print(\"You entered an upper case alphabet!\")\n",
        "elif ord(char) >= 97 and ord(char) <= 122:\n",
        "  print(\"You entered a lower case alphabet!\")\n",
        "elif ord(char) >= 48 and ord(char) <= 57:\n",
        "  print(\"You entered a number!\")\n",
        "else:\n",
        "  print(\"You entered a special character!\")"
      ],
      "execution_count": 11,
      "outputs": [
        {
          "output_type": "stream",
          "text": [
            "Enter a charecter: *\n",
            "You entered a special cherector!\n"
          ],
          "name": "stdout"
        }
      ]
    },
    {
      "cell_type": "code",
      "metadata": {
        "id": "EHMMzQd0mOgk",
        "outputId": "f29e97e8-9545-4be1-bb71-ed912a80ce1c",
        "colab": {
          "base_uri": "https://localhost:8080/"
        }
      },
      "source": [
        "# number of days in given month\n",
        "\n",
        "# list of months\n",
        "months = \"\\n1) January \\n2) February \\n3) March \\n4) April \\n5) May \\n6) June \\n7) July \\n8) August \\n9) September \\n10) October \\n11) November \\n12) December\"\n",
        "\n",
        "# taking input (year and month)\n",
        "year = int(input(\"Enter the year: \"))\n",
        "month = int(input(months+\"\\n\\nEnter a month number: \"))\n",
        "\n",
        "# validating month\n",
        "if month >= 1 and month <= 12:\n",
        "  if month != 2:\n",
        "    if month in (1,3,5,7,8,10,12):\n",
        "      print(\"Month has 31 days.\")\n",
        "    else:\n",
        "      print(\"Month has 30 days.\")\n",
        "  # checking for leap year\n",
        "  elif (year%400 == 0) or (year%4 == 0 and year%100 != 0):\n",
        "    print(\"Month has 29 days.\")\n",
        "  else:\n",
        "    print(\"Month has 28 days.\")\n",
        "else:\n",
        "  print(\"Invalid month!!\")"
      ],
      "execution_count": 16,
      "outputs": [
        {
          "output_type": "stream",
          "text": [
            "Enter the year: 2020\n",
            "\n",
            "1) January \n",
            "2) February \n",
            "3) March \n",
            "4) April \n",
            "5) May \n",
            "6) June \n",
            "7) July \n",
            "8) August \n",
            "9) September \n",
            "10) October \n",
            "11) November \n",
            "12) December\n",
            "\n",
            "Enter a month number: 2\n",
            "Month has 29 days.\n"
          ],
          "name": "stdout"
        }
      ]
    },
    {
      "cell_type": "code",
      "metadata": {
        "id": "En-l9tt5mOgq",
        "outputId": "565ae564-2afc-4179-d61b-31519c00fef3",
        "colab": {
          "base_uri": "https://localhost:8080/"
        }
      },
      "source": [
        "# root quadratic eq\n",
        "from math import sqrt\n",
        "\n",
        "print(\"Privide the cofficients of the quadratic equation -\\n\") \n",
        "\n",
        "a = int(input(\"Value of 'a':\"))\n",
        "b = int(input(\"Value of 'b':\"))\n",
        "c = int(input(\"Value of 'c':\"))\n",
        "\n",
        "print(\"\\nYour equation:\\n\"+str(a)+\"x^2 + \"+str(b)+\"x + \"+str(c)+\" = 0\")\n",
        "\n",
        "if a == 0:\n",
        "  print(\"\\nRoots doesn't exist!!\")\n",
        "else:\n",
        "  forRoot = pow(b,2) - 4*a*c\n",
        "  if forRoot < 0:\n",
        "    print(\"\\nRoots are imaginary!!\")\n",
        "  else:\n",
        "    root1,root2 = (-b - int(sqrt(pow(b,2) - 4*a*c)))/(2*a), (-b + int(sqrt(pow(b,2) - 4*a*c)))/(2*a)\n",
        "    print(\"\\nRoot 1: \",root1, \"\\nRoot 2: \",root2)"
      ],
      "execution_count": 35,
      "outputs": [
        {
          "output_type": "stream",
          "text": [
            "Privide the cofficients of the quadratic equation -\n",
            "\n",
            "Value of 'a':2\n",
            "Value of 'b':5\n",
            "Value of 'c':2\n",
            "\n",
            "Your equation:\n",
            "2x^2 + 5x + 2 = 0\n",
            "\n",
            "Root 1:  -2.0 \n",
            "Root 2:  -0.5\n"
          ],
          "name": "stdout"
        }
      ]
    },
    {
      "cell_type": "code",
      "metadata": {
        "id": "sufatJt517tW",
        "outputId": "deb2a245-64d4-4e15-96e5-025ef9044e8a",
        "colab": {
          "base_uri": "https://localhost:8080/"
        }
      },
      "source": [
        "## day on 1st Jan of given year\n",
        "\n",
        "# 01/01/1900  --->  Monday\n",
        "initYear = 1900\n",
        "finalYear = int(input(\"Year: \")) # because this years' only first day is needed\n",
        "\n",
        "leapYears = (finalYear - initYear)//4\n",
        "if checkLeapYear(finalYear):\n",
        "  leapYears -= 1\n",
        "\n",
        "totalDaysPassed = (finalYear - initYear)*365 + leapYears\n",
        "\n",
        "day = (totalDaysPassed)%7\n",
        "\n",
        "print(\"Day on 01/01/\"+str(finalYear)+\": \",end='')\n",
        "\n",
        "if day == 0:\n",
        "  print(\"Monday\")\n",
        "elif day == 1:\n",
        "  print(\"Tuesday\")\n",
        "elif day == 2:\n",
        "  print(\"Wednesday\")\n",
        "elif day == 3:\n",
        "  print(\"Thursday\")\n",
        "elif day == 4:\n",
        "  print(\"Friday\")\n",
        "elif day == 5:\n",
        "  print(\"Saturday\")\n",
        "elif day == 6:\n",
        "  print(\"Sunday\")"
      ],
      "execution_count": 120,
      "outputs": [
        {
          "output_type": "stream",
          "text": [
            "Year: 2021\n",
            "\n",
            "Day on 01/01/2021: Friday\n"
          ],
          "name": "stdout"
        }
      ]
    },
    {
      "cell_type": "code",
      "metadata": {
        "id": "NakYVZ0gDUYp",
        "outputId": "410d634f-5fc9-4d0f-d8aa-182f2bb4681f",
        "colab": {
          "base_uri": "https://localhost:8080/"
        }
      },
      "source": [
        "# 01/01/1900  --->  Monday\n",
        "initYear = 1900\n",
        "finalYear = int(input(\"Year: \")) # because this years' only first day is needed\n",
        "\n",
        "leapYears = (finalYear - initYear)/4\n",
        "if float(int(leapYears)) == leapYears:\n",
        "  leapYears = int(leapYears) - 1\n",
        "else:\n",
        "  leapYears = int(leapYears)\n",
        "\n",
        "totalDaysPassed = (finalYear - initYear)*365 + leapYears\n",
        "#print(totalDaysPassed)\n",
        "\n",
        "day = (totalDaysPassed)%7\n",
        "\n",
        "print(\"\\nDay on 01/01/\"+str(finalYear)+\": \",end='')\n",
        "dayName(day)"
      ],
      "execution_count": 102,
      "outputs": [
        {
          "output_type": "stream",
          "text": [
            "Year: 1900\n",
            "\n",
            "Day on 01/01/1900: Sunday\n"
          ],
          "name": "stdout"
        }
      ]
    }
  ]
}