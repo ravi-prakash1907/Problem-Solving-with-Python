{
 "cells": [
  {
   "cell_type": "code",
   "execution_count": 1,
   "metadata": {},
   "outputs": [
    {
     "data": {
      "text/plain": [
       "True"
      ]
     },
     "execution_count": 1,
     "metadata": {},
     "output_type": "execute_result"
    }
   ],
   "source": [
    "10+20<20+30"
   ]
  },
  {
   "cell_type": "code",
   "execution_count": 2,
   "metadata": {},
   "outputs": [
    {
     "data": {
      "text/plain": [
       "50"
      ]
     },
     "execution_count": 2,
     "metadata": {},
     "output_type": "execute_result"
    }
   ],
   "source": [
    "10+20 and 20+30"
   ]
  },
  {
   "cell_type": "code",
   "execution_count": 4,
   "metadata": {},
   "outputs": [
    {
     "data": {
      "text/plain": [
       "False"
      ]
     },
     "execution_count": 4,
     "metadata": {},
     "output_type": "execute_result"
    }
   ],
   "source": [
    "10<20 and 30<20"
   ]
  },
  {
   "cell_type": "code",
   "execution_count": 5,
   "metadata": {},
   "outputs": [
    {
     "data": {
      "text/plain": [
       "True"
      ]
     },
     "execution_count": 5,
     "metadata": {},
     "output_type": "execute_result"
    }
   ],
   "source": [
    "10<20 and 30<20 or 30<40"
   ]
  },
  {
   "cell_type": "code",
   "execution_count": 7,
   "metadata": {},
   "outputs": [
    {
     "data": {
      "text/plain": [
       "False"
      ]
     },
     "execution_count": 7,
     "metadata": {},
     "output_type": "execute_result"
    }
   ],
   "source": [
    "1 <= 15 <= 10\n",
    "\n",
    "# 1 <= 15 <= 10\n",
    "# True and 15 <= 10\n",
    "# True and False\n",
    "# False"
   ]
  },
  {
   "cell_type": "code",
   "execution_count": 9,
   "metadata": {},
   "outputs": [
    {
     "name": "stdout",
     "output_type": "stream",
     "text": [
      "A\n",
      "C\n"
     ]
    }
   ],
   "source": [
    "print('A') and print('B') or print('C')\n",
    "# (print('A') and print('B')) or (print('C'))\n",
    "# (False and print('B')) or (print('C'))    ---->  prints 'A'\n",
    "# (False or (print('C'))\n",
    "# (False or False)    ---->  prints 'C'\n",
    "# False"
   ]
  },
  {
   "cell_type": "code",
   "execution_count": null,
   "metadata": {},
   "outputs": [],
   "source": []
  },
  {
   "cell_type": "code",
   "execution_count": null,
   "metadata": {},
   "outputs": [],
   "source": []
  },
  {
   "cell_type": "code",
   "execution_count": 22,
   "metadata": {},
   "outputs": [
    {
     "name": "stdin",
     "output_type": "stream",
     "text": [
      "Enter a positive num:  10\n"
     ]
    },
    {
     "name": "stdout",
     "output_type": "stream",
     "text": [
      "Square root of 10 is: 3\n"
     ]
    }
   ],
   "source": [
    "# if entered num is positive, print its square-root\n",
    "\n",
    "from math import sqrt\n",
    "num = int(input(\"Enter a positive num: \"))\n",
    "if num > 0:\n",
    "    print(\"Square root of\",num,\"is:\",int(sqrt(num)))\n",
    "   "
   ]
  },
  {
   "cell_type": "code",
   "execution_count": 23,
   "metadata": {},
   "outputs": [
    {
     "name": "stdin",
     "output_type": "stream",
     "text": [
      "Enter a multiple of 10:  10\n"
     ]
    },
    {
     "name": "stdout",
     "output_type": "stream",
     "text": [
      "Square of 10 is: 100\n"
     ]
    }
   ],
   "source": [
    "# if entered num is multiple of 10, print its square\n",
    "\n",
    "num = int(input(\"Enter a multiple of 10: \"))\n",
    "if num % 10 == 0:\n",
    "    print(\"Square of\",num,\"is:\",pow(num,2))\n",
    " "
   ]
  },
  {
   "cell_type": "code",
   "execution_count": 25,
   "metadata": {},
   "outputs": [
    {
     "name": "stdin",
     "output_type": "stream",
     "text": [
      "Enter a positive num:  34\n"
     ]
    },
    {
     "name": "stdout",
     "output_type": "stream",
     "text": [
      "You entered an EVEN number!\n"
     ]
    }
   ],
   "source": [
    "# odd or even\n",
    "num = int(input(\"Enter a positive num: \"))\n",
    "if num % 2 == 0:\n",
    "    print(\"You entered an EVEN number!\")\n",
    "else:\n",
    "    print(\"You entered an ODD number!\")\n",
    "   "
   ]
  },
  {
   "cell_type": "code",
   "execution_count": 27,
   "metadata": {},
   "outputs": [
    {
     "name": "stdin",
     "output_type": "stream",
     "text": [
      "Enter your age in years:  12\n"
     ]
    },
    {
     "name": "stdout",
     "output_type": "stream",
     "text": [
      "Hey child, let's play!\n"
     ]
    }
   ],
   "source": [
    "# adult or child\n",
    "num = int(input(\"Enter your age in years: \"))\n",
    "if num < 18:\n",
    "    print(\"Hey child, let's play!\")\n",
    "else:\n",
    "    print(\"You are an adult!\")"
   ]
  },
  {
   "cell_type": "code",
   "execution_count": 30,
   "metadata": {},
   "outputs": [
    {
     "name": "stdin",
     "output_type": "stream",
     "text": [
      "Enter an integer:  100\n"
     ]
    },
    {
     "name": "stdout",
     "output_type": "stream",
     "text": [
      "Number has a small factor!\n"
     ]
    }
   ],
   "source": [
    "# small or large factor\n",
    "num = int(input(\"Enter an integer: \"))\n",
    "if (num % 2 == 0) or (num % 3 == 0):\n",
    "    print(\"Number has a small factor!\")\n",
    "else:\n",
    "    print(\"Number has a large factor!\")"
   ]
  },
  {
   "cell_type": "code",
   "execution_count": 36,
   "metadata": {},
   "outputs": [
    {
     "name": "stdin",
     "output_type": "stream",
     "text": [
      "Enter your age in years:  18\n"
     ]
    },
    {
     "name": "stdout",
     "output_type": "stream",
     "text": [
      "You are an adult!\n"
     ]
    }
   ],
   "source": [
    "# adult or teen or child\n",
    "num = int(input(\"Enter your age in years: \"))\n",
    "if num < 13:\n",
    "    print(\"Hey child, let's play!\")\n",
    "elif num < 18:\n",
    "    print(\"So, you are a teenager!\")\n",
    "else:\n",
    "    print(\"You are an adult!\")"
   ]
  },
  {
   "cell_type": "code",
   "execution_count": 49,
   "metadata": {},
   "outputs": [
    {
     "name": "stdout",
     "output_type": "stream",
     "text": [
      "2000 is a leap year!\n",
      "2001 is NOT a leap year!\n",
      "2002 is NOT a leap year!\n",
      "2003 is NOT a leap year!\n",
      "2004 is a leap year!\n",
      "2005 is NOT a leap year!\n",
      "2006 is NOT a leap year!\n",
      "2007 is NOT a leap year!\n",
      "2008 is a leap year!\n",
      "2009 is NOT a leap year!\n",
      "2010 is NOT a leap year!\n",
      "2011 is NOT a leap year!\n",
      "2012 is a leap year!\n",
      "2013 is NOT a leap year!\n",
      "2014 is NOT a leap year!\n",
      "2015 is NOT a leap year!\n",
      "2016 is a leap year!\n",
      "2017 is NOT a leap year!\n",
      "2018 is NOT a leap year!\n",
      "2019 is NOT a leap year!\n",
      "2020 is a leap year!\n",
      "2100 is NOT a leap year!\n"
     ]
    }
   ],
   "source": [
    "# leapyear\n",
    "#year = int(input(\"Enter the year: \"))\n",
    "#if (year%400 == 0) or (year%4 == 0 and year%100 != 0):\n",
    "#    print(year,\"is a leap year!\")\n",
    "#else:\n",
    "#    print(year,\"is NOT a leap year!\")\n",
    "#\n",
    "\n",
    "def checkLeapYear(year):\n",
    "    if (year%400 == 0) or (year%4 == 0 and year%100 != 0):\n",
    "        print(year,\"is a leap year!\")\n",
    "    else:\n",
    "        print(year,\"is NOT a leap year!\")\n",
    "    return\n",
    "\n",
    "for yr in range(2000,2021):\n",
    "    checkLeapYear(yr)\n",
    "\n",
    "checkLeapYear(2100)"
   ]
  },
  {
   "cell_type": "code",
   "execution_count": 50,
   "metadata": {},
   "outputs": [
    {
     "name": "stdin",
     "output_type": "stream",
     "text": [
      "Enter your age in years:  23\n"
     ]
    },
    {
     "name": "stdout",
     "output_type": "stream",
     "text": [
      "Adult\n"
     ]
    }
   ],
   "source": [
    "# adult or teen or child\n",
    "num = int(input(\"Enter your age in years: \"))\n",
    "if num < 18:\n",
    "    if num < 13:\n",
    "        print(\"Child\")\n",
    "    else:\n",
    "        print(\"Teenager\")\n",
    "else:\n",
    "    print(\"Adult\")"
   ]
  },
  {
   "cell_type": "code",
   "execution_count": 64,
   "metadata": {},
   "outputs": [
    {
     "name": "stdout",
     "output_type": "stream",
     "text": [
      "1234.46\n",
      "1234.5\n",
      "1234\n",
      "1,234.460\n",
      "1.234460e+03\n",
      "1.23446e+03\n",
      "1e+03\n",
      "1,234\n"
     ]
    }
   ],
   "source": [
    "# Additional\n",
    "num = round(float(input(\"Enter your age in years: \")),2)\n",
    "#num = 1234.46\n",
    "print(round(num,2))\n",
    "print(round(num,1))\n",
    "print(int(num))\n",
    "print(\"{:,.3f}\".format(num))\n",
    "print(\"{:e}\".format(num))\n",
    "print(\"{:.5e}\".format(num))\n",
    "print(\"{:.0e}\".format(num))\n",
    "print(\"{:,.0f}\".format(num))\n",
    "\n"
   ]
  },
  {
   "cell_type": "code",
   "execution_count": null,
   "metadata": {},
   "outputs": [],
   "source": []
  },
  {
   "cell_type": "markdown",
   "metadata": {},
   "source": [
    "## Lab Session"
   ]
  },
  {
   "cell_type": "code",
   "execution_count": 2,
   "metadata": {},
   "outputs": [
    {
     "name": "stdin",
     "output_type": "stream",
     "text": [
      "Weight of luggage (in kg):  23\n"
     ]
    }
   ],
   "source": [
    "## \n",
    "lugWeight = int(input(\"Weight of luggage (in kg): \"))\n",
    "if lugWeight > 35:\n",
    "    print(\"You have to pay 4000 rupees extra!\")\n"
   ]
  },
  {
   "cell_type": "code",
   "execution_count": 3,
   "metadata": {},
   "outputs": [
    {
     "name": "stdin",
     "output_type": "stream",
     "text": [
      "Enter a positive num:  56\n"
     ]
    },
    {
     "name": "stdout",
     "output_type": "stream",
     "text": [
      "You entered an EVEN number!\n"
     ]
    }
   ],
   "source": [
    "# odd or even\n",
    "num = int(input(\"Enter a positive num: \"))\n",
    "if num % 2 == 0:\n",
    "    print(\"You entered an EVEN number!\")\n",
    "else:\n",
    "    print(\"You entered an ODD number!\")\n",
    "   "
   ]
  },
  {
   "cell_type": "code",
   "execution_count": 5,
   "metadata": {},
   "outputs": [
    {
     "name": "stdin",
     "output_type": "stream",
     "text": [
      "Enter a positive num:  2\n",
      "Enter a positive num:  3\n"
     ]
    },
    {
     "name": "stdout",
     "output_type": "stream",
     "text": [
      "3 is larger!\n"
     ]
    }
   ],
   "source": [
    "# greatest\n",
    "num1 = int(input(\"Enter a positive num: \"))\n",
    "num2 = int(input(\"Enter a positive num: \"))\n",
    "if num1 > num2:\n",
    "    print(num1,\"is larger!\")\n",
    "elif num2 > num1:\n",
    "    print(num2,\"is larger!\")\n",
    "else:\n",
    "    print(\"Both are equal!\")\n",
    "   "
   ]
  },
  {
   "cell_type": "code",
   "execution_count": 18,
   "metadata": {},
   "outputs": [
    {
     "name": "stdin",
     "output_type": "stream",
     "text": [
      "Enter string:  mamam\n"
     ]
    },
    {
     "name": "stdout",
     "output_type": "stream",
     "text": [
      "It's palindrome!\n"
     ]
    }
   ],
   "source": [
    "# palinsrome\n",
    "str1 = input(\"Enter string: \")\n",
    "if str1 == str1[::-1]:\n",
    "    print(\"It's palindrome!\")\n",
    "else:\n",
    "    print(\"It's NOT palindrome!\")\n"
   ]
  },
  {
   "cell_type": "code",
   "execution_count": 19,
   "metadata": {},
   "outputs": [],
   "source": [
    "## 4-digit pal or not\n"
   ]
  },
  {
   "cell_type": "code",
   "execution_count": 21,
   "metadata": {},
   "outputs": [
    {
     "name": "stdin",
     "output_type": "stream",
     "text": [
      "Enter cost price:  12\n",
      "Enter selling price:  10\n"
     ]
    },
    {
     "name": "stdout",
     "output_type": "stream",
     "text": [
      "Loss of 2\n"
     ]
    }
   ],
   "source": [
    "## in cost prz anf  -> get\n",
    "## find profit / sell\n",
    "cp = int(input(\"Enter cost price: \"))\n",
    "sp = int(input(\"Enter selling price: \"))\n",
    "\n",
    "if cp > sp:\n",
    "    print(\"Loss of\",cp-sp)\n",
    "elif sp > cp:\n",
    "    print(\"Profit of\",sp-cp)\n",
    "else:\n",
    "    print(\"Neither Loss nor Profit!\")"
   ]
  },
  {
   "cell_type": "code",
   "execution_count": 23,
   "metadata": {},
   "outputs": [
    {
     "name": "stdin",
     "output_type": "stream",
     "text": [
      "Your score:  0.5\n"
     ]
    },
    {
     "name": "stdout",
     "output_type": "stream",
     "text": [
      "Gread E\n"
     ]
    }
   ],
   "source": [
    "score = float(input(\"Your score: \"))\n",
    "\n",
    "if score < 0 or score > 1:\n",
    "    print(\"Out of range\")\n",
    "elif score >= 0.9:\n",
    "    print(\"Gread A\")\n",
    "elif score >= 0.8:\n",
    "    print(\"Gread B\")\n",
    "elif score >= 0.7:\n",
    "    print(\"Gread C\")\n",
    "elif score >= 0.6:\n",
    "    print(\"Gread D\")\n",
    "else:\n",
    "    print(\"Gread E\")"
   ]
  },
  {
   "cell_type": "code",
   "execution_count": 28,
   "metadata": {},
   "outputs": [
    {
     "name": "stdin",
     "output_type": "stream",
     "text": [
      "Choose fruit:  banana\n"
     ]
    },
    {
     "name": "stdout",
     "output_type": "stream",
     "text": [
      "Banana cost 60 Rs.\n"
     ]
    }
   ],
   "source": [
    "###\n",
    "#Write a program to display the cost each type of fruit :\n",
    "#orange- 60 rupees, \n",
    "#apple - 200 rupees, \n",
    "#banana- 50 rupees, \n",
    "#cherries-300 rupees . \n",
    "#other than these out of stock.\n",
    "\n",
    "fruit = input(\"Choose fruit: \")\n",
    "\n",
    "if fruit.lower() == 'orange':\n",
    "    print(\"Orange cost 60 Rs./kg\")\n",
    "elif fruit.lower() == 'apple':\n",
    "    print(\"Apple cost 60 Rs./kg\")\n",
    "elif fruit.lower() == 'banana':\n",
    "    print(\"Banana cost 60 Rs./kg\")\n",
    "elif fruit.lower() == 'cherries':\n",
    "    print(\"Cherries cost 60 Rs./kg\")\n",
    "else:\n",
    "    print(\"Out of stock!!\")"
   ]
  },
  {
   "cell_type": "code",
   "execution_count": 29,
   "metadata": {},
   "outputs": [],
   "source": [
    "# problem: write a program to check whether the entered character is \n",
    "# lower case or upper case."
   ]
  },
  {
   "cell_type": "code",
   "execution_count": 58,
   "metadata": {},
   "outputs": [
    {
     "name": "stdin",
     "output_type": "stream",
     "text": [
      "Year:  1990\n"
     ]
    },
    {
     "name": "stdout",
     "output_type": "stream",
     "text": [
      "\n",
      "Day on 01/01/1990: Monday\n"
     ]
    }
   ],
   "source": [
    "# 01/01/1900 ---> Monday\n",
    "# get year\n",
    "# find day on jan 1 /year\n",
    "\n",
    "#144025036146\n",
    "#if leap\n",
    "#034025036146\n",
    "def checkLeapYear(year):\n",
    "    if (year%400 == 0) or (year%4 == 0 and year%100 != 0):\n",
    "        return True\n",
    "    return False\n",
    "\n",
    "def dayName(day):\n",
    "    if day == 1:\n",
    "        print(\"Sunday\")\n",
    "    elif day == 2:\n",
    "        print(\"Monday\")\n",
    "    elif day == 3:\n",
    "        print(\"Tuesday\")\n",
    "    elif day == 4:\n",
    "        print(\"Wednesday\")\n",
    "    elif day == 5:\n",
    "        print(\"Thursday\")\n",
    "    elif day == 6:\n",
    "        print(\"Friday\")\n",
    "    elif day == 7:\n",
    "        print(\"Saturday\")\n",
    "\n",
    "\n",
    "year = int(input(\"Year: \"))\n",
    "if checkLeapYear(year):\n",
    "    month = 0\n",
    "else:\n",
    "    month = 1\n",
    "\n",
    "date = 1\n",
    "\n",
    "some = year+(year//4)+(date+month-2)\n",
    "day = (some%7)\n",
    "\n",
    "print(\"\\nDay on 01/01/\"+str(year)+\": \",end='')\n",
    "dayName(day)"
   ]
  },
  {
   "cell_type": "code",
   "execution_count": 59,
   "metadata": {},
   "outputs": [],
   "source": [
    "# days of num in given mon"
   ]
  },
  {
   "cell_type": "code",
   "execution_count": null,
   "metadata": {},
   "outputs": [],
   "source": [
    "# in operator"
   ]
  }
 ],
 "metadata": {
  "kernelspec": {
   "display_name": "Python 3",
   "language": "python",
   "name": "python3"
  },
  "language_info": {
   "codemirror_mode": {
    "name": "ipython",
    "version": 3
   },
   "file_extension": ".py",
   "mimetype": "text/x-python",
   "name": "python",
   "nbconvert_exporter": "python",
   "pygments_lexer": "ipython3",
   "version": "3.8.3"
  }
 },
 "nbformat": 4,
 "nbformat_minor": 4
}
