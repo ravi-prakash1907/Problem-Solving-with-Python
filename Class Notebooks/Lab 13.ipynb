{
  "nbformat": 4,
  "nbformat_minor": 0,
  "metadata": {
    "colab": {
      "name": "Lab 13.ipynb",
      "provenance": [],
      "authorship_tag": "ABX9TyM/s1+AEnWciPRzwOrg8mrM",
      "include_colab_link": true
    },
    "kernelspec": {
      "name": "python3",
      "display_name": "Python 3"
    }
  },
  "cells": [
    {
      "cell_type": "markdown",
      "metadata": {
        "id": "view-in-github",
        "colab_type": "text"
      },
      "source": [
        "<a href=\"https://colab.research.google.com/github/ravi-prakash1907/Problem-Solving-with-Python/blob/main/Class%20Notebooks/Lab%2013.ipynb\" target=\"_parent\"><img src=\"https://colab.research.google.com/assets/colab-badge.svg\" alt=\"Open In Colab\"/></a>"
      ]
    },
    {
      "cell_type": "markdown",
      "metadata": {
        "id": "jCbSktHGRkg9"
      },
      "source": [
        "# Lac 13"
      ]
    },
    {
      "cell_type": "markdown",
      "metadata": {
        "id": "lKFDgEPATUlY"
      },
      "source": [
        "## String Manipulation  "
      ]
    },
    {
      "cell_type": "markdown",
      "metadata": {
        "id": "GsRFoQi3WPjB"
      },
      "source": [
        "### Basic Operators:  \n",
        "1. ```+```  -> for concatination  \n",
        "2. ```*```  -> for concatination of same string repeatedly  \n",
        "3. ```<string>[index]```  -> (index-1)th letter"
      ]
    },
    {
      "cell_type": "code",
      "metadata": {
        "colab": {
          "base_uri": "https://localhost:8080/"
        },
        "id": "pyie-Hm8Okha",
        "outputId": "882571ec-6561-4a13-db0e-e60f207754c2"
      },
      "source": [
        "print(\"I \"+\"am \"+\"great!!\"+\"\\n\")\n",
        "\n",
        "print(\"I \"+\"am \"+\"great\"+\"!\"*3+\"\\n\")\n",
        "\n",
        "s = \"Hurrrr\"\n",
        "print(s[4])\n",
        "print(s[-1])\n",
        "print(s[-len(s)+7])"
      ],
      "execution_count": null,
      "outputs": [
        {
          "output_type": "stream",
          "text": [
            "I am great!!\n",
            "\n",
            "I am great!!!\n",
            "\n",
            "r\n",
            "r\n",
            "u\n"
          ],
          "name": "stdout"
        }
      ]
    },
    {
      "cell_type": "markdown",
      "metadata": {
        "id": "ZroHdJWPVp-2"
      },
      "source": [
        "**Strings are IMMUTABLE**  \n",
        "\n",
        "Hence,  following is invalid:  \n",
        "```myStr[0] = \"x\"```"
      ]
    },
    {
      "cell_type": "markdown",
      "metadata": {
        "id": "oMTS7BUiWRYM"
      },
      "source": [
        "### Slicing:  \n",
        "1. applicable for both ```strings``` & ```lists```  "
      ]
    },
    {
      "cell_type": "code",
      "metadata": {
        "colab": {
          "base_uri": "https://localhost:8080/"
        },
        "id": "ctVGmO87UKEO",
        "outputId": "29c330aa-3319-4028-c350-0068372720a2"
      },
      "source": [
        "s = \"washington State\"\n",
        "\n",
        "print(s[1:4])\n",
        "print(s[:4])\n",
        "print(s[4:6])\n",
        "print(s[4:])\n",
        "\n",
        "print(s[:])\n",
        "\n",
        "print(s[-3:])\n",
        "print(s[-9:-2])\n",
        "print(s[4:-3])\n",
        "print(s[-10:10])\n",
        "\n",
        "print(s[5::2])\n",
        "print(s[::1])\n",
        "print(s[5:-1:2])\n",
        "\n",
        "print(s[::-1])\n",
        "print(s[10:1:-1])\n",
        "print(s[-1:-len(s)-1:-1])"
      ],
      "execution_count": null,
      "outputs": [
        {
          "output_type": "stream",
          "text": [
            "ash\n",
            "wash\n",
            "in\n",
            "ington State\n",
            "washington State\n",
            "ate\n",
            "ton Sta\n",
            "ington St\n",
            "gton\n",
            "ntnSae\n",
            "washington State\n",
            "ntnSa\n",
            "etatS notgnihsaw\n",
            " notgnihs\n",
            "etatS notgnihsaw\n"
          ],
          "name": "stdout"
        }
      ]
    },
    {
      "cell_type": "markdown",
      "metadata": {
        "id": "gxkwRc2Shx4p"
      },
      "source": [
        "### Inbuilt Fun.\n",
        "1. ```str()```  \n",
        "2. ```len()```  \n",
        "3. ```chr()``` \n",
        "4. ```orb()```  "
      ]
    },
    {
      "cell_type": "code",
      "metadata": {
        "id": "Welvi_blXRHh",
        "colab": {
          "base_uri": "https://localhost:8080/"
        },
        "outputId": "840778bf-06b5-4789-8510-00ae8898682f"
      },
      "source": [
        "print('A'+str(32))\n",
        "print(len('A'))\n",
        "print(chr(99))\n",
        "print(ord('A'))\n",
        "\n",
        "print(chr(ord('A')+32))"
      ],
      "execution_count": null,
      "outputs": [
        {
          "output_type": "stream",
          "text": [
            "A32\n",
            "1\n",
            "c\n",
            "65\n",
            "a\n"
          ],
          "name": "stdout"
        }
      ]
    },
    {
      "cell_type": "code",
      "metadata": {
        "colab": {
          "base_uri": "https://localhost:8080/"
        },
        "id": "XeWV_iGgi9Fz",
        "outputId": "ef3a76ea-1e96-4e43-cd44-6907b90b4af1"
      },
      "source": [
        "txt = input(\"Enter string in lower case: \")\n",
        "\n",
        "for c in txt:\n",
        "  newChar = chr(ord(c)-32)\n",
        "  print(newChar,end=\"\")"
      ],
      "execution_count": null,
      "outputs": [
        {
          "output_type": "stream",
          "text": [
            "Enter string in lower case: ravi\n",
            "RAVI"
          ],
          "name": "stdout"
        }
      ]
    },
    {
      "cell_type": "markdown",
      "metadata": {
        "id": "tEXg-Q5llZn5"
      },
      "source": [
        "#### Some Other Methods\n",
        "\n",
        "1. ```upper()```  \n",
        "2. ```lower()```  \n",
        "3. ```title()```  \n",
        "4. ```capitalize()```  \n",
        "5. ```cound()```  \n",
        "6. ```lstrip()```  \n",
        "7. ```rstrip()```  \n",
        "8. ```strip()```  \n",
        "9. ```rstrip()```  \n",
        "10. ```find()```  \n",
        "11. ```index()```  \n",
        "12. ```replace()```  \n",
        "13. ```split()```  \n",
        "14. ```join()```  \n",
        "\n"
      ]
    },
    {
      "cell_type": "code",
      "metadata": {
        "colab": {
          "base_uri": "https://localhost:8080/"
        },
        "id": "9TPWPf_SlLKu",
        "outputId": "244ffaee-e6a7-47a5-eab5-896860263ce6"
      },
      "source": [
        "s = \"welcome Folks!\"\n",
        "print(s)\n",
        "\n",
        "print(s.upper())\n",
        "print(s.lower())\n",
        "print(s.title())\n",
        "print(s.capitalize())"
      ],
      "execution_count": null,
      "outputs": [
        {
          "output_type": "stream",
          "text": [
            "welcome Folks!\n",
            "WELCOME FOLKS!\n",
            "welcome folks!\n",
            "Welcome Folks!\n",
            "Welcome folks!\n"
          ],
          "name": "stdout"
        }
      ]
    },
    {
      "cell_type": "code",
      "metadata": {
        "colab": {
          "base_uri": "https://localhost:8080/"
        },
        "id": "fBMjSo4tluXA",
        "outputId": "eecf3014-4fe2-4070-c997-a180006bd811"
      },
      "source": [
        "s = 'I think, therefore I am.'\n",
        "\n",
        "print(s.count('I'))\n",
        "print(s.count('re'))\n",
        "print(s.count('you'))\n",
        "print('eee'.count('ee'))"
      ],
      "execution_count": null,
      "outputs": [
        {
          "output_type": "stream",
          "text": [
            "2\n",
            "2\n",
            "0\n",
            "1\n"
          ],
          "name": "stdout"
        }
      ]
    },
    {
      "cell_type": "code",
      "metadata": {
        "colab": {
          "base_uri": "https://localhost:8080/"
        },
        "id": "bkF9sHnHmdGb",
        "outputId": "f420ba1a-f84d-4333-ee55-debc4e3596c2"
      },
      "source": [
        "print('  hi '.lstrip()+'!')\n",
        "print('  hi '.rstrip()+'!')\n",
        "print('  hi '.strip()+'!')"
      ],
      "execution_count": null,
      "outputs": [
        {
          "output_type": "stream",
          "text": [
            "hi !\n",
            "  hi!\n",
            "hi!\n"
          ],
          "name": "stdout"
        }
      ]
    },
    {
      "cell_type": "code",
      "metadata": {
        "colab": {
          "base_uri": "https://localhost:8080/"
        },
        "id": "Sx539nCxnJle",
        "outputId": "41e1e234-1c8d-4e23-9bb9-5aec29ef9076"
      },
      "source": [
        "s = \"We and I think, therefore I am.\"\n",
        "\n",
        "if s.find(\"I\"):\n",
        "  print(\"Got I at\",s.index('I'))\n",
        "else:\n",
        "  print(\"Not Found\")"
      ],
      "execution_count": null,
      "outputs": [
        {
          "output_type": "stream",
          "text": [
            "Got I at 7\n"
          ],
          "name": "stdout"
        }
      ]
    },
    {
      "cell_type": "code",
      "metadata": {
        "colab": {
          "base_uri": "https://localhost:8080/"
        },
        "id": "0lJFJLqTn4KF",
        "outputId": "55eed528-2e41-42f6-a5e0-097f00176e0d"
      },
      "source": [
        "# find multiple occr.\n",
        "s.find(\"I\", 5) \n",
        "s.index(\"I\", 5)"
      ],
      "execution_count": null,
      "outputs": [
        {
          "output_type": "execute_result",
          "data": {
            "text/plain": [
              "7"
            ]
          },
          "metadata": {
            "tags": []
          },
          "execution_count": 29
        }
      ]
    },
    {
      "cell_type": "code",
      "metadata": {
        "colab": {
          "base_uri": "https://localhost:8080/"
        },
        "id": "hopUUgUhpbeY",
        "outputId": "23288713-e453-4496-ecd3-ce43e48670b3"
      },
      "source": [
        "t = s\n",
        "print(t.replace(\"I\", \"We\"))   # all occr replaced\n",
        "\n",
        "t = s\n",
        "print(t.replace(\"I\", \"We\", 5))   # max 5 occr replaced\n",
        "\n",
        "t = s\n",
        "print(t.replace(\"I\", \"We\", 1))   # 1 occr replaced"
      ],
      "execution_count": null,
      "outputs": [
        {
          "output_type": "stream",
          "text": [
            "We and We think, therefore We am.\n",
            "We and We think, therefore We am.\n",
            "We and We think, therefore I am.\n"
          ],
          "name": "stdout"
        }
      ]
    },
    {
      "cell_type": "code",
      "metadata": {
        "colab": {
          "base_uri": "https://localhost:8080/"
        },
        "id": "zVf1vqyepsn8",
        "outputId": "f82ccf67-6153-4073-ed5e-c13acda97f5e"
      },
      "source": [
        "print(s.split(\" \"))"
      ],
      "execution_count": null,
      "outputs": [
        {
          "output_type": "stream",
          "text": [
            "['We', 'and', 'I', 'think,', 'therefore', 'I', 'am.']\n"
          ],
          "name": "stdout"
        }
      ]
    },
    {
      "cell_type": "code",
      "metadata": {
        "colab": {
          "base_uri": "https://localhost:8080/"
        },
        "id": "fzuPXY8jrp1q",
        "outputId": "a3633779-610d-4c8a-ad2a-d666803a1ea0"
      },
      "source": [
        "print(' and '.join(['cat', 'dog']))\n",
        "print('-'.join(['cat', 'dog', 'ppl']))"
      ],
      "execution_count": null,
      "outputs": [
        {
          "output_type": "stream",
          "text": [
            "cat and dog\n",
            "cat-dog-ppl\n"
          ],
          "name": "stdout"
        }
      ]
    },
    {
      "cell_type": "code",
      "metadata": {
        "id": "_yIHvMcKuD8l"
      },
      "source": [
        ""
      ],
      "execution_count": null,
      "outputs": []
    },
    {
      "cell_type": "markdown",
      "metadata": {
        "id": "Ue2C574zyg7a"
      },
      "source": [
        "## Graphics"
      ]
    },
    {
      "cell_type": "markdown",
      "metadata": {
        "id": "h5U3HdiOylHO"
      },
      "source": [
        "### Square from Turtle"
      ]
    },
    {
      "cell_type": "code",
      "metadata": {
        "id": "YLwFzNB00PGH"
      },
      "source": [
        "import turtle\n",
        "import random\n",
        "\n",
        "def squareDraw(n, side = None):\n",
        "  for i in range(n):\n",
        "    if side is None:\n",
        "      side = random.randint(1,50)\n",
        "    turtle.pendown()\n",
        "    for i in range(4):\n",
        "      turtle.forward(side)\n",
        "      turtle.left(90)\n",
        "    turtle.penup()\n",
        "    turtle.forward(side)"
      ],
      "execution_count": null,
      "outputs": []
    },
    {
      "cell_type": "code",
      "metadata": {
        "id": "hZlobVYh1kn3"
      },
      "source": [
        "squareDraw(n = 3)\n",
        "\n",
        "squareDraw(n = 3, 100)\n"
      ],
      "execution_count": null,
      "outputs": []
    },
    {
      "cell_type": "code",
      "metadata": {
        "id": "TCHPnV4w3XDo"
      },
      "source": [
        "sqr(100)"
      ],
      "execution_count": null,
      "outputs": []
    },
    {
      "cell_type": "markdown",
      "metadata": {
        "id": "xLd2S7S23Izm"
      },
      "source": [
        "### Circle from Turtle"
      ]
    },
    {
      "cell_type": "code",
      "metadata": {
        "id": "4_ggEG7V2Iz8"
      },
      "source": [
        "## circle using multiple short lines\n",
        "for angle in range(180):\n",
        "  turtle.left(90)\n",
        "  turtle.forward(2)\n",
        "\n",
        "for angle in range(180,0,-1):\n",
        "  turtle.left(90)\n",
        "  turtle.forward(2)"
      ],
      "execution_count": null,
      "outputs": []
    },
    {
      "cell_type": "code",
      "metadata": {
        "id": "tNXdj2D33Szh"
      },
      "source": [
        "turtle.circle(radius = 90)"
      ],
      "execution_count": null,
      "outputs": []
    },
    {
      "cell_type": "code",
      "metadata": {
        "id": "4yhfEFUB5jPO"
      },
      "source": [
        "turtle.circle(50)\n",
        "turtle.circle(-90)"
      ],
      "execution_count": null,
      "outputs": []
    },
    {
      "cell_type": "code",
      "metadata": {
        "id": "VI1R00im6z7L"
      },
      "source": [
        "def flower(inner):\n",
        "  for i in range(5):\n",
        "    turtle.color('red')\n",
        "    turtle.circle(100)\n",
        "    turtle.color('yellow')\n",
        "    turtle.circle(-1*inner, 360//5)"
      ],
      "execution_count": null,
      "outputs": []
    },
    {
      "cell_type": "code",
      "metadata": {
        "id": "ysM0-qQj8keL"
      },
      "source": [
        "flower(70)"
      ],
      "execution_count": null,
      "outputs": []
    },
    {
      "cell_type": "markdown",
      "metadata": {
        "id": "2oBKH6EKUCkn"
      },
      "source": [
        "# Lab 13"
      ]
    },
    {
      "cell_type": "markdown",
      "metadata": {
        "id": "XEkda1xSUGVg"
      },
      "source": [
        "### String Manipulation\n",
        "\n",
        "1. Declaration  \n",
        "2. Operations  \n",
        "3. Properties  \n",
        "    - Iterable  \n",
        "    - Immutable  \n",
        "    "
      ]
    },
    {
      "cell_type": "code",
      "metadata": {
        "id": "4tFqT8gAUElB"
      },
      "source": [
        "s = 'hello'\n",
        "print(s*4)"
      ],
      "execution_count": null,
      "outputs": []
    },
    {
      "cell_type": "code",
      "metadata": {
        "id": "PR5i24DYWD9X"
      },
      "source": [
        "s1 = 'world'\n",
        "s = s+' '+s1\n",
        "print(s)"
      ],
      "execution_count": null,
      "outputs": []
    },
    {
      "cell_type": "markdown",
      "metadata": {
        "id": "YLOLkTcUmNsi"
      },
      "source": [
        "#### Count vowels"
      ]
    },
    {
      "cell_type": "code",
      "metadata": {
        "id": "cRpv3od7WVcF"
      },
      "source": [
        "def vowelCount(s):\n",
        "  counter = 0\n",
        "  vowels = ['a','e','i','o','u']\n",
        "\n",
        "  for c in s:\n",
        "    if c in vowels or chr(ord(c)-32) in vowels:\n",
        "      counter += 1\n",
        "  \n",
        "  return counter"
      ],
      "execution_count": 37,
      "outputs": []
    },
    {
      "cell_type": "code",
      "metadata": {
        "colab": {
          "base_uri": "https://localhost:8080/"
        },
        "id": "oOMrDVs9iFI_",
        "outputId": "bff622c9-ef34-4b89-b449-635134d7a649"
      },
      "source": [
        "vowelCount('ravi')"
      ],
      "execution_count": 39,
      "outputs": [
        {
          "output_type": "execute_result",
          "data": {
            "text/plain": [
              "2"
            ]
          },
          "metadata": {
            "tags": []
          },
          "execution_count": 39
        }
      ]
    },
    {
      "cell_type": "markdown",
      "metadata": {
        "id": "qN1W_yGSkhvq"
      },
      "source": [
        "#### Reverse and Check for Palindrome"
      ]
    },
    {
      "cell_type": "code",
      "metadata": {
        "colab": {
          "base_uri": "https://localhost:8080/"
        },
        "id": "3sfy0un4jr6y",
        "outputId": "fdfb408b-dcf3-435c-82b8-e1dbc4cccb22"
      },
      "source": [
        "s = 'ravi'\n",
        "rev = s[::-1]\n",
        "\n",
        "print(rev,\"\\n\")\n",
        "\n",
        "\n",
        "if rev == s:\n",
        "  print(\"It's palindrome!\")\n",
        "else:\n",
        "  print(\"It's NOT palindrome!\")"
      ],
      "execution_count": 20,
      "outputs": [
        {
          "output_type": "stream",
          "text": [
            "ivar \n",
            "\n",
            "It's NOT palindrome!\n"
          ],
          "name": "stdout"
        }
      ]
    },
    {
      "cell_type": "markdown",
      "metadata": {
        "id": "Ia1PpDz7kqYf"
      },
      "source": [
        "#### Replace space with hash"
      ]
    },
    {
      "cell_type": "code",
      "metadata": {
        "colab": {
          "base_uri": "https://localhost:8080/",
          "height": 35
        },
        "id": "a5GvMRtRkwq8",
        "outputId": "8f3b24da-d260-4516-c20c-1e7c8c8aa8c2"
      },
      "source": [
        "s = \"a e\"\n",
        "while ' ' in s:\n",
        "  s = s.replace(' ', '#')\n",
        "s\n"
      ],
      "execution_count": 23,
      "outputs": [
        {
          "output_type": "execute_result",
          "data": {
            "application/vnd.google.colaboratory.intrinsic+json": {
              "type": "string"
            },
            "text/plain": [
              "'a#e'"
            ]
          },
          "metadata": {
            "tags": []
          },
          "execution_count": 23
        }
      ]
    },
    {
      "cell_type": "markdown",
      "metadata": {
        "id": "-800IVr5kwCN"
      },
      "source": [
        "#### Remove chars at odd index"
      ]
    },
    {
      "cell_type": "code",
      "metadata": {
        "colab": {
          "base_uri": "https://localhost:8080/",
          "height": 35
        },
        "id": "ASRNZwVEkc3k",
        "outputId": "ba802cd5-e34e-47e1-b2f0-99703ab39c52"
      },
      "source": [
        "s = 'ravi'\n",
        "splitted = s.split()\n",
        "newStr = ''\n",
        "for i in range(0,len(s),2):\n",
        "  newStr += s[i]\n",
        "s = newStr\n",
        "s"
      ],
      "execution_count": 25,
      "outputs": [
        {
          "output_type": "execute_result",
          "data": {
            "application/vnd.google.colaboratory.intrinsic+json": {
              "type": "string"
            },
            "text/plain": [
              "'rv'"
            ]
          },
          "metadata": {
            "tags": []
          },
          "execution_count": 25
        }
      ]
    },
    {
      "cell_type": "markdown",
      "metadata": {
        "id": "QYLKiufnoSp0"
      },
      "source": [
        "#### Replace vowels in ```index = 0 (mod 3)``` position"
      ]
    },
    {
      "cell_type": "code",
      "metadata": {
        "colab": {
          "base_uri": "https://localhost:8080/",
          "height": 35
        },
        "id": "jCpzHulvmFls",
        "outputId": "800e9aa2-e668-4c38-a6c4-ea52783ca22f"
      },
      "source": [
        "s = 'raaavi'\n",
        "\n",
        "s = list(s)\n",
        "vowels = ['a','e','i','o','u']\n",
        "for i in range(len(s)):\n",
        "  if i%3 == 0 and (s[i] in vowels or chr(ord(s[i])-32) in vowels):\n",
        "    s[i] = '$'\n",
        "\n",
        "s = \"\".join(s)\n",
        "s"
      ],
      "execution_count": 34,
      "outputs": [
        {
          "output_type": "execute_result",
          "data": {
            "application/vnd.google.colaboratory.intrinsic+json": {
              "type": "string"
            },
            "text/plain": [
              "'raa$vi'"
            ]
          },
          "metadata": {
            "tags": []
          },
          "execution_count": 34
        }
      ]
    },
    {
      "cell_type": "markdown",
      "metadata": {
        "id": "60l0VH56q805"
      },
      "source": [
        "#### Check for substring"
      ]
    },
    {
      "cell_type": "code",
      "metadata": {
        "id": "_fxt0aVqrT6q",
        "outputId": "c8d26c8a-f221-4559-b7c5-87d0e1317f8e",
        "colab": {
          "base_uri": "https://localhost:8080/"
        }
      },
      "source": [
        "s1 = input(\"Enter the main string:\")\n",
        "s2 = input(\"Enter substring: \")\n",
        "\n",
        "if s1.find(s2) > -1:\n",
        "  print(\"Found the substring\")\n",
        "else:\n",
        "  print(\"NOT Found the substring\")"
      ],
      "execution_count": 42,
      "outputs": [
        {
          "output_type": "stream",
          "text": [
            "Enter the main string:i am fine\n",
            "Enter substring: am\n",
            "Found the substring\n"
          ],
          "name": "stdout"
        }
      ]
    },
    {
      "cell_type": "markdown",
      "metadata": {
        "id": "9yXCrvVMsYre"
      },
      "source": [
        "#### Count words starting with a/A"
      ]
    },
    {
      "cell_type": "code",
      "metadata": {
        "id": "XOnu7b3XriOu",
        "outputId": "e4f44f02-789f-4e05-aca1-faef517b7872",
        "colab": {
          "base_uri": "https://localhost:8080/"
        }
      },
      "source": [
        "s1 = input(\"Enter the main string:\")\n",
        "\n",
        "s = s1.split()\n",
        "counter = 0\n",
        "for w in s:\n",
        "  if w[0] in ['a', 'A']:\n",
        "    counter += 1\n",
        "counter"
      ],
      "execution_count": 45,
      "outputs": [
        {
          "output_type": "stream",
          "text": [
            "Enter the main string:i am great\n"
          ],
          "name": "stdout"
        },
        {
          "output_type": "execute_result",
          "data": {
            "text/plain": [
              "1"
            ]
          },
          "metadata": {
            "tags": []
          },
          "execution_count": 45
        }
      ]
    }
  ]
}