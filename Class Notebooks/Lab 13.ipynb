{
  "nbformat": 4,
  "nbformat_minor": 0,
  "metadata": {
    "colab": {
      "name": "Lab 13.ipynb",
      "provenance": [],
      "authorship_tag": "ABX9TyPnMy1PMW3yaBsbtU4IwDsr",
      "include_colab_link": true
    },
    "kernelspec": {
      "name": "python3",
      "display_name": "Python 3"
    }
  },
  "cells": [
    {
      "cell_type": "markdown",
      "metadata": {
        "id": "view-in-github",
        "colab_type": "text"
      },
      "source": [
        "<a href=\"https://colab.research.google.com/github/ravi-prakash1907/Problem-Solving-with-Python/blob/main/Class%20Notebooks/Lab%2013.ipynb\" target=\"_parent\"><img src=\"https://colab.research.google.com/assets/colab-badge.svg\" alt=\"Open In Colab\"/></a>"
      ]
    },
    {
      "cell_type": "markdown",
      "metadata": {
        "id": "jCbSktHGRkg9"
      },
      "source": [
        "# Lac 13"
      ]
    },
    {
      "cell_type": "markdown",
      "metadata": {
        "id": "lKFDgEPATUlY"
      },
      "source": [
        "## String Manipulation  "
      ]
    },
    {
      "cell_type": "markdown",
      "metadata": {
        "id": "GsRFoQi3WPjB"
      },
      "source": [
        "### Basic Operators:  \n",
        "1. ```+```  -> for concatination  \n",
        "2. ```*```  -> for concatination of same string repeatedly  \n",
        "3. ```<string>[index]```  -> (index-1)th letter"
      ]
    },
    {
      "cell_type": "code",
      "metadata": {
        "colab": {
          "base_uri": "https://localhost:8080/"
        },
        "id": "pyie-Hm8Okha",
        "outputId": "882571ec-6561-4a13-db0e-e60f207754c2"
      },
      "source": [
        "print(\"I \"+\"am \"+\"great!!\"+\"\\n\")\n",
        "\n",
        "print(\"I \"+\"am \"+\"great\"+\"!\"*3+\"\\n\")\n",
        "\n",
        "s = \"Hurrrr\"\n",
        "print(s[4])\n",
        "print(s[-1])\n",
        "print(s[-len(s)+7])"
      ],
      "execution_count": 16,
      "outputs": [
        {
          "output_type": "stream",
          "text": [
            "I am great!!\n",
            "\n",
            "I am great!!!\n",
            "\n",
            "r\n",
            "r\n",
            "u\n"
          ],
          "name": "stdout"
        }
      ]
    },
    {
      "cell_type": "markdown",
      "metadata": {
        "id": "ZroHdJWPVp-2"
      },
      "source": [
        "**Strings are IMMUTABLE**  \n",
        "\n",
        "Hence,  following is invalid:  \n",
        "```myStr[0] = \"x\"```"
      ]
    },
    {
      "cell_type": "markdown",
      "metadata": {
        "id": "oMTS7BUiWRYM"
      },
      "source": [
        "### Slicing:  \n",
        "1. applicable for both ```strings``` & ```lists```  "
      ]
    },
    {
      "cell_type": "code",
      "metadata": {
        "colab": {
          "base_uri": "https://localhost:8080/"
        },
        "id": "ctVGmO87UKEO",
        "outputId": "a149d8dc-a23b-4b88-d029-73a060668ff9"
      },
      "source": [
        "s = \"washington State\"\n",
        "\n",
        "print(s[1:4])\n",
        "print(s[:4])\n",
        "print(s[4:6])\n",
        "print(s[4:])\n",
        "print(s[:])\n",
        "print(s[-3:])\n",
        "print(s[-9:-2])"
      ],
      "execution_count": 17,
      "outputs": [
        {
          "output_type": "stream",
          "text": [
            "ash\n",
            "wash\n",
            "in\n",
            "ington State\n",
            "washington State\n",
            "ate\n",
            "ton Sta\n"
          ],
          "name": "stdout"
        }
      ]
    },
    {
      "cell_type": "code",
      "metadata": {
        "id": "Welvi_blXRHh"
      },
      "source": [
        ""
      ],
      "execution_count": null,
      "outputs": []
    }
  ]
}