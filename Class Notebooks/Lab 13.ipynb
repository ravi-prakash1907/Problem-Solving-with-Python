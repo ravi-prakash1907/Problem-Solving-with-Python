{
  "nbformat": 4,
  "nbformat_minor": 0,
  "metadata": {
    "colab": {
      "name": "Lab 13.ipynb",
      "provenance": [],
      "authorship_tag": "ABX9TyNG5R/YGxg7qx4gaRF4gNza",
      "include_colab_link": true
    },
    "kernelspec": {
      "name": "python3",
      "display_name": "Python 3"
    }
  },
  "cells": [
    {
      "cell_type": "markdown",
      "metadata": {
        "id": "view-in-github",
        "colab_type": "text"
      },
      "source": [
        "<a href=\"https://colab.research.google.com/github/ravi-prakash1907/Problem-Solving-with-Python/blob/main/Class%20Notebooks/Lab%2013.ipynb\" target=\"_parent\"><img src=\"https://colab.research.google.com/assets/colab-badge.svg\" alt=\"Open In Colab\"/></a>"
      ]
    },
    {
      "cell_type": "markdown",
      "metadata": {
        "id": "jCbSktHGRkg9"
      },
      "source": [
        "# Lac 13"
      ]
    },
    {
      "cell_type": "markdown",
      "metadata": {
        "id": "lKFDgEPATUlY"
      },
      "source": [
        "## String Manipulation  "
      ]
    },
    {
      "cell_type": "markdown",
      "metadata": {
        "id": "GsRFoQi3WPjB"
      },
      "source": [
        "### Basic Operators:  \n",
        "1. ```+```  -> for concatination  \n",
        "2. ```*```  -> for concatination of same string repeatedly  \n",
        "3. ```<string>[index]```  -> (index-1)th letter"
      ]
    },
    {
      "cell_type": "code",
      "metadata": {
        "colab": {
          "base_uri": "https://localhost:8080/"
        },
        "id": "pyie-Hm8Okha",
        "outputId": "882571ec-6561-4a13-db0e-e60f207754c2"
      },
      "source": [
        "print(\"I \"+\"am \"+\"great!!\"+\"\\n\")\n",
        "\n",
        "print(\"I \"+\"am \"+\"great\"+\"!\"*3+\"\\n\")\n",
        "\n",
        "s = \"Hurrrr\"\n",
        "print(s[4])\n",
        "print(s[-1])\n",
        "print(s[-len(s)+7])"
      ],
      "execution_count": null,
      "outputs": [
        {
          "output_type": "stream",
          "text": [
            "I am great!!\n",
            "\n",
            "I am great!!!\n",
            "\n",
            "r\n",
            "r\n",
            "u\n"
          ],
          "name": "stdout"
        }
      ]
    },
    {
      "cell_type": "markdown",
      "metadata": {
        "id": "ZroHdJWPVp-2"
      },
      "source": [
        "**Strings are IMMUTABLE**  \n",
        "\n",
        "Hence,  following is invalid:  \n",
        "```myStr[0] = \"x\"```"
      ]
    },
    {
      "cell_type": "markdown",
      "metadata": {
        "id": "oMTS7BUiWRYM"
      },
      "source": [
        "### Slicing:  \n",
        "1. applicable for both ```strings``` & ```lists```  "
      ]
    },
    {
      "cell_type": "code",
      "metadata": {
        "colab": {
          "base_uri": "https://localhost:8080/"
        },
        "id": "ctVGmO87UKEO",
        "outputId": "29c330aa-3319-4028-c350-0068372720a2"
      },
      "source": [
        "s = \"washington State\"\n",
        "\n",
        "print(s[1:4])\n",
        "print(s[:4])\n",
        "print(s[4:6])\n",
        "print(s[4:])\n",
        "\n",
        "print(s[:])\n",
        "\n",
        "print(s[-3:])\n",
        "print(s[-9:-2])\n",
        "print(s[4:-3])\n",
        "print(s[-10:10])\n",
        "\n",
        "print(s[5::2])\n",
        "print(s[::1])\n",
        "print(s[5:-1:2])\n",
        "\n",
        "print(s[::-1])\n",
        "print(s[10:1:-1])\n",
        "print(s[-1:-len(s)-1:-1])"
      ],
      "execution_count": 5,
      "outputs": [
        {
          "output_type": "stream",
          "text": [
            "ash\n",
            "wash\n",
            "in\n",
            "ington State\n",
            "washington State\n",
            "ate\n",
            "ton Sta\n",
            "ington St\n",
            "gton\n",
            "ntnSae\n",
            "washington State\n",
            "ntnSa\n",
            "etatS notgnihsaw\n",
            " notgnihs\n",
            "etatS notgnihsaw\n"
          ],
          "name": "stdout"
        }
      ]
    },
    {
      "cell_type": "markdown",
      "metadata": {
        "id": "gxkwRc2Shx4p"
      },
      "source": [
        "### Inbuilt Fun.\n",
        "1. ```str()```  \n",
        "2. ```len()```  \n",
        "3. ```chr()``` \n",
        "4. ```orb()```  "
      ]
    },
    {
      "cell_type": "code",
      "metadata": {
        "id": "Welvi_blXRHh",
        "colab": {
          "base_uri": "https://localhost:8080/"
        },
        "outputId": "840778bf-06b5-4789-8510-00ae8898682f"
      },
      "source": [
        "print('A'+str(32))\n",
        "print(len('A'))\n",
        "print(chr(99))\n",
        "print(ord('A'))\n",
        "\n",
        "print(chr(ord('A')+32))"
      ],
      "execution_count": 8,
      "outputs": [
        {
          "output_type": "stream",
          "text": [
            "A32\n",
            "1\n",
            "c\n",
            "65\n",
            "a\n"
          ],
          "name": "stdout"
        }
      ]
    },
    {
      "cell_type": "code",
      "metadata": {
        "colab": {
          "base_uri": "https://localhost:8080/"
        },
        "id": "XeWV_iGgi9Fz",
        "outputId": "ef3a76ea-1e96-4e43-cd44-6907b90b4af1"
      },
      "source": [
        "txt = input(\"Enter string in lower case: \")\n",
        "\n",
        "for c in txt:\n",
        "  newChar = chr(ord(c)-32)\n",
        "  print(newChar,end=\"\")"
      ],
      "execution_count": 9,
      "outputs": [
        {
          "output_type": "stream",
          "text": [
            "Enter string in lower case: ravi\n",
            "RAVI"
          ],
          "name": "stdout"
        }
      ]
    },
    {
      "cell_type": "markdown",
      "metadata": {
        "id": "tEXg-Q5llZn5"
      },
      "source": [
        "#### Some Other Methods\n",
        "\n",
        "1. ```upper()```  \n",
        "2. ```lower()```  \n",
        "3. ```title()```  \n",
        "4. ```capitalize()```  \n",
        "5. ```cound()```  \n",
        "6. ```lstrip()```  \n",
        "7. ```rstrip()```  \n",
        "8. ```strip()```  \n",
        "9. ```rstrip()```  \n",
        "10. ```find()```  \n",
        "11. ```index()```  \n",
        "12. ```replace()```  \n",
        "13. ```split()```  \n",
        "14. ```join()```  \n",
        "\n"
      ]
    },
    {
      "cell_type": "code",
      "metadata": {
        "colab": {
          "base_uri": "https://localhost:8080/"
        },
        "id": "9TPWPf_SlLKu",
        "outputId": "244ffaee-e6a7-47a5-eab5-896860263ce6"
      },
      "source": [
        "s = \"welcome Folks!\"\n",
        "print(s)\n",
        "\n",
        "print(s.upper())\n",
        "print(s.lower())\n",
        "print(s.title())\n",
        "print(s.capitalize())"
      ],
      "execution_count": 11,
      "outputs": [
        {
          "output_type": "stream",
          "text": [
            "welcome Folks!\n",
            "WELCOME FOLKS!\n",
            "welcome folks!\n",
            "Welcome Folks!\n",
            "Welcome folks!\n"
          ],
          "name": "stdout"
        }
      ]
    },
    {
      "cell_type": "code",
      "metadata": {
        "colab": {
          "base_uri": "https://localhost:8080/"
        },
        "id": "fBMjSo4tluXA",
        "outputId": "eecf3014-4fe2-4070-c997-a180006bd811"
      },
      "source": [
        "s = 'I think, therefore I am.'\n",
        "\n",
        "print(s.count('I'))\n",
        "print(s.count('re'))\n",
        "print(s.count('you'))\n",
        "print('eee'.count('ee'))"
      ],
      "execution_count": 16,
      "outputs": [
        {
          "output_type": "stream",
          "text": [
            "2\n",
            "2\n",
            "0\n",
            "1\n"
          ],
          "name": "stdout"
        }
      ]
    },
    {
      "cell_type": "code",
      "metadata": {
        "colab": {
          "base_uri": "https://localhost:8080/"
        },
        "id": "bkF9sHnHmdGb",
        "outputId": "f420ba1a-f84d-4333-ee55-debc4e3596c2"
      },
      "source": [
        "print('  hi '.lstrip()+'!')\n",
        "print('  hi '.rstrip()+'!')\n",
        "print('  hi '.strip()+'!')"
      ],
      "execution_count": 17,
      "outputs": [
        {
          "output_type": "stream",
          "text": [
            "hi !\n",
            "  hi!\n",
            "hi!\n"
          ],
          "name": "stdout"
        }
      ]
    },
    {
      "cell_type": "code",
      "metadata": {
        "colab": {
          "base_uri": "https://localhost:8080/"
        },
        "id": "Sx539nCxnJle",
        "outputId": "41e1e234-1c8d-4e23-9bb9-5aec29ef9076"
      },
      "source": [
        "s = \"We and I think, therefore I am.\"\n",
        "\n",
        "if s.find(\"I\"):\n",
        "  print(\"Got I at\",s.index('I'))\n",
        "else:\n",
        "  print(\"Not Found\")"
      ],
      "execution_count": 23,
      "outputs": [
        {
          "output_type": "stream",
          "text": [
            "Got I at 7\n"
          ],
          "name": "stdout"
        }
      ]
    },
    {
      "cell_type": "code",
      "metadata": {
        "colab": {
          "base_uri": "https://localhost:8080/"
        },
        "id": "0lJFJLqTn4KF",
        "outputId": "55eed528-2e41-42f6-a5e0-097f00176e0d"
      },
      "source": [
        "# find multiple occr.\n",
        "s.find(\"I\", 5) \n",
        "s.index(\"I\", 5)"
      ],
      "execution_count": 29,
      "outputs": [
        {
          "output_type": "execute_result",
          "data": {
            "text/plain": [
              "7"
            ]
          },
          "metadata": {
            "tags": []
          },
          "execution_count": 29
        }
      ]
    },
    {
      "cell_type": "code",
      "metadata": {
        "colab": {
          "base_uri": "https://localhost:8080/"
        },
        "id": "hopUUgUhpbeY",
        "outputId": "23288713-e453-4496-ecd3-ce43e48670b3"
      },
      "source": [
        "t = s\n",
        "print(t.replace(\"I\", \"We\"))   # all occr replaced\n",
        "\n",
        "t = s\n",
        "print(t.replace(\"I\", \"We\", 5))   # max 5 occr replaced\n",
        "\n",
        "t = s\n",
        "print(t.replace(\"I\", \"We\", 1))   # 1 occr replaced"
      ],
      "execution_count": 33,
      "outputs": [
        {
          "output_type": "stream",
          "text": [
            "We and We think, therefore We am.\n",
            "We and We think, therefore We am.\n",
            "We and We think, therefore I am.\n"
          ],
          "name": "stdout"
        }
      ]
    },
    {
      "cell_type": "code",
      "metadata": {
        "colab": {
          "base_uri": "https://localhost:8080/"
        },
        "id": "zVf1vqyepsn8",
        "outputId": "f82ccf67-6153-4073-ed5e-c13acda97f5e"
      },
      "source": [
        "print(s.split(\" \"))"
      ],
      "execution_count": 34,
      "outputs": [
        {
          "output_type": "stream",
          "text": [
            "['We', 'and', 'I', 'think,', 'therefore', 'I', 'am.']\n"
          ],
          "name": "stdout"
        }
      ]
    },
    {
      "cell_type": "code",
      "metadata": {
        "colab": {
          "base_uri": "https://localhost:8080/"
        },
        "id": "fzuPXY8jrp1q",
        "outputId": "a3633779-610d-4c8a-ad2a-d666803a1ea0"
      },
      "source": [
        "print(' and '.join(['cat', 'dog']))\n",
        "print('-'.join(['cat', 'dog', 'ppl']))"
      ],
      "execution_count": 42,
      "outputs": [
        {
          "output_type": "stream",
          "text": [
            "cat and dog\n",
            "cat-dog-ppl\n"
          ],
          "name": "stdout"
        }
      ]
    },
    {
      "cell_type": "code",
      "metadata": {
        "id": "_yIHvMcKuD8l"
      },
      "source": [
        ""
      ],
      "execution_count": null,
      "outputs": []
    }
  ]
}