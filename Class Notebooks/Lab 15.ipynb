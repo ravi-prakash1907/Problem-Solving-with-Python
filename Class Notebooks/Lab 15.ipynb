{
  "nbformat": 4,
  "nbformat_minor": 0,
  "metadata": {
    "colab": {
      "name": "Lab 14.ipynb",
      "provenance": [],
      "authorship_tag": "ABX9TyNCyjHptoenJP+dOTKrpUxC",
      "include_colab_link": true
    },
    "kernelspec": {
      "name": "python3",
      "display_name": "Python 3"
    }
  },
  "cells": [
    {
      "cell_type": "markdown",
      "metadata": {
        "id": "view-in-github",
        "colab_type": "text"
      },
      "source": [
        "<a href=\"https://colab.research.google.com/github/ravi-prakash1907/Problem-Solving-with-Python/blob/main/Class%20Notebooks/Lab%2015.ipynb\" target=\"_parent\"><img src=\"https://colab.research.google.com/assets/colab-badge.svg\" alt=\"Open In Colab\"/></a>"
      ]
    },
    {
      "cell_type": "markdown",
      "metadata": {
        "id": "3M57c7kkUAF9"
      },
      "source": [
        "# Lec 15"
      ]
    },
    {
      "cell_type": "markdown",
      "metadata": {
        "id": "zpg5MAafUDWc"
      },
      "source": [
        "## Recursion \n",
        "\n",
        "Mandatory:\n",
        "1. Must stop at a specific time or point or condition  \n",
        "2. The condition must be checked everytimewhen a function is called   \n",
        "3. Function's arguments must get modified with every call"
      ]
    },
    {
      "cell_type": "markdown",
      "metadata": {
        "id": "Jk623WU2UrRJ"
      },
      "source": [
        "### Parts of a recursive function:  \n",
        "\n",
        "**Base Case:**  \n",
        "- when function has to stop executing\n",
        "\n",
        "**General Case:**  \n",
        "- After this, function is called again  \n",
        "- Here the arguments mus get modified"
      ]
    },
    {
      "cell_type": "code",
      "metadata": {
        "id": "om02_GRrTlb5"
      },
      "source": [
        "def r3(n):\n",
        "  # General Case\n",
        "  if n < 4:\n",
        "    print(n,\"Start\")\n",
        "    r3(n+1)\n",
        "    print(n,\"End\")\n",
        "  \n",
        "  # Base Case\n",
        "  else:\n",
        "    print(n,\"Start\")\n",
        "    print(n,\"End\")"
      ],
      "execution_count": null,
      "outputs": []
    },
    {
      "cell_type": "code",
      "metadata": {
        "colab": {
          "base_uri": "https://localhost:8080/"
        },
        "id": "JRQN9zfrVqFA",
        "outputId": "819f7ab5-0b86-409e-e3c5-2b0981670f35"
      },
      "source": [
        "r3(6)\n",
        "print('\\n\\n'+'-'*10,'\\n\\n')\n",
        "r3(0)\n",
        "print('\\n\\n'+'-'*10,'\\n\\n')\n",
        "r3(4)\n"
      ],
      "execution_count": null,
      "outputs": [
        {
          "output_type": "stream",
          "text": [
            "6 Start\n",
            "6 End\n",
            "\n",
            "\n",
            " ---------- \n",
            "\n",
            "\n",
            "0 Start\n",
            "1 Start\n",
            "2 Start\n",
            "3 Start\n",
            "4 Start\n",
            "4 End\n",
            "3 End\n",
            "2 End\n",
            "1 End\n",
            "0 End\n",
            "\n",
            "\n",
            " ---------- \n",
            "\n",
            "\n",
            "4 Start\n",
            "4 End\n"
          ],
          "name": "stdout"
        }
      ]
    },
    {
      "cell_type": "markdown",
      "metadata": {
        "id": "3zhobysJZrQ9"
      },
      "source": [
        "**Reverse a String**"
      ]
    },
    {
      "cell_type": "code",
      "metadata": {
        "id": "-_JIxDEnVzdC"
      },
      "source": [
        "def rev(s,n):\n",
        "  if n != len(s):\n",
        "    txt = rev(s,n+1)\n",
        "    txt = txt + s[n]\n",
        "    print(txt)\n",
        "    return txt\n",
        "  else:\n",
        "    return ''"
      ],
      "execution_count": null,
      "outputs": []
    },
    {
      "cell_type": "code",
      "metadata": {
        "colab": {
          "base_uri": "https://localhost:8080/"
        },
        "id": "ytLHM5CFZnES",
        "outputId": "bcbbc09c-94b3-49d8-9632-56d17d989522"
      },
      "source": [
        "s = input('Enter string: ')\n",
        "rs = rev(s,0)\n",
        "print(rs)"
      ],
      "execution_count": null,
      "outputs": [
        {
          "output_type": "stream",
          "text": [
            "Enter string: ravi\n",
            "i\n",
            "iv\n",
            "iva\n",
            "ivar\n",
            "ivar\n"
          ],
          "name": "stdout"
        }
      ]
    },
    {
      "cell_type": "markdown",
      "metadata": {
        "id": "oXDT-xbqZxr2"
      },
      "source": [
        "**Reverse a List**"
      ]
    },
    {
      "cell_type": "code",
      "metadata": {
        "id": "bEu14jQgZn1h"
      },
      "source": [
        "def revList(l,n):\n",
        "  if n != len(l):\n",
        "    item = list(rev(l,n+1))\n",
        "    item.append(l[n])\n",
        "    print(item)\n",
        "    return item\n",
        "  else:\n",
        "    return []"
      ],
      "execution_count": null,
      "outputs": []
    },
    {
      "cell_type": "code",
      "metadata": {
        "colab": {
          "base_uri": "https://localhost:8080/"
        },
        "id": "ZVQUUfSsaWnJ",
        "outputId": "f1c768e0-235b-46bd-a3f7-279021198cdb"
      },
      "source": [
        "s = eval(input('Enter list: '))\n",
        "rs = revList(s,0)\n",
        "print(rs)"
      ],
      "execution_count": null,
      "outputs": [
        {
          "output_type": "stream",
          "text": [
            "Enter list: ['r','a','v','i']\n",
            "i\n",
            "iv\n",
            "iva\n",
            "['i', 'v', 'a', 'r']\n",
            "['i', 'v', 'a', 'r']\n"
          ],
          "name": "stdout"
        }
      ]
    },
    {
      "cell_type": "markdown",
      "metadata": {
        "id": "HySubGmGdeIy"
      },
      "source": [
        "**Sequential Search**"
      ]
    },
    {
      "cell_type": "code",
      "metadata": {
        "id": "TawLoq3zabfS"
      },
      "source": [
        "def seqSearch(arr, size, searched):\n",
        "  if size == len(arr):\n",
        "    return -1\n",
        "  elif arr[size] == searched:\n",
        "    return size\n",
        "  else:\n",
        "    return seqSearch(arr, size+1, searched)"
      ],
      "execution_count": null,
      "outputs": []
    },
    {
      "cell_type": "code",
      "metadata": {
        "colab": {
          "base_uri": "https://localhost:8080/"
        },
        "id": "Rjv5ukmveNOe",
        "outputId": "0c913ebe-2e6e-4a34-b6d4-f6ee033679c4"
      },
      "source": [
        "myList = [12,23,43,41,13,8,45]\n",
        "s = int(input('Enter element i.e. to be searched: '))\n",
        "\n",
        "pos = seqSearch(myList, 0, s)\n",
        "\n",
        "if pos == -1:\n",
        "  print(\"\\n{} is not present in list!\".format(s))\n",
        "else:\n",
        "  print(\"\\n{} found at postion {}\".format(s, pos+1))"
      ],
      "execution_count": null,
      "outputs": [
        {
          "output_type": "stream",
          "text": [
            "Enter element i.e. to be searched: 67\n",
            "\n",
            "67 is not present in list!\n"
          ],
          "name": "stdout"
        }
      ]
    },
    {
      "cell_type": "markdown",
      "metadata": {
        "id": "oZeZclihgK0P"
      },
      "source": [
        "**Binary Search**"
      ]
    },
    {
      "cell_type": "code",
      "metadata": {
        "id": "Uz0JlCfegZ4-"
      },
      "source": [
        "def binSearch(arr, beg, last, searched):\n",
        "  mid = beg+last // 2\n",
        "\n",
        "  if arr[mid] == searched:\n",
        "    return mid\n",
        "  elif beg == last:\n",
        "    return -1\n",
        "  elif searched > arr[mid]:\n",
        "    return binSearch(arr, mid, last, searched)\n",
        "  else:\n",
        "    return binSearch(arr, beg, mid, searched)"
      ],
      "execution_count": null,
      "outputs": []
    },
    {
      "cell_type": "code",
      "metadata": {
        "colab": {
          "base_uri": "https://localhost:8080/",
          "height": 248
        },
        "id": "Y1_-DfwLgG6d",
        "outputId": "79b2ab9c-42a3-40d2-e1c0-aba0fe56da2f"
      },
      "source": [
        "myList = [12,23,43,41,13,8,45]\n",
        "myList = myList.sort()\n",
        "s = int(input('Enter element i.e. to be searched: '))\n",
        "\n",
        "pos = binSearch(myList, 0, len(myList), s)\n",
        "\n",
        "if pos == -1:\n",
        "  print(\"\\n{} is not present in list!\".format(s))\n",
        "else:\n",
        "  print(\"\\n{} found at postion {}\".format(s, pos+1))"
      ],
      "execution_count": null,
      "outputs": [
        {
          "output_type": "stream",
          "text": [
            "Enter element i.e. to be searched: 12\n"
          ],
          "name": "stdout"
        },
        {
          "output_type": "error",
          "ename": "TypeError",
          "evalue": "ignored",
          "traceback": [
            "\u001b[0;31m---------------------------------------------------------------------------\u001b[0m",
            "\u001b[0;31mTypeError\u001b[0m                                 Traceback (most recent call last)",
            "\u001b[0;32m<ipython-input-49-f914f45c39a6>\u001b[0m in \u001b[0;36m<module>\u001b[0;34m()\u001b[0m\n\u001b[1;32m      3\u001b[0m \u001b[0ms\u001b[0m \u001b[0;34m=\u001b[0m \u001b[0mint\u001b[0m\u001b[0;34m(\u001b[0m\u001b[0minput\u001b[0m\u001b[0;34m(\u001b[0m\u001b[0;34m'Enter element i.e. to be searched: '\u001b[0m\u001b[0;34m)\u001b[0m\u001b[0;34m)\u001b[0m\u001b[0;34m\u001b[0m\u001b[0;34m\u001b[0m\u001b[0m\n\u001b[1;32m      4\u001b[0m \u001b[0;34m\u001b[0m\u001b[0m\n\u001b[0;32m----> 5\u001b[0;31m \u001b[0mpos\u001b[0m \u001b[0;34m=\u001b[0m \u001b[0mbinSearch\u001b[0m\u001b[0;34m(\u001b[0m\u001b[0mmyList\u001b[0m\u001b[0;34m,\u001b[0m \u001b[0;36m0\u001b[0m\u001b[0;34m,\u001b[0m \u001b[0mlen\u001b[0m\u001b[0;34m(\u001b[0m\u001b[0mmyList\u001b[0m\u001b[0;34m)\u001b[0m\u001b[0;34m-\u001b[0m\u001b[0;36m1\u001b[0m\u001b[0;34m,\u001b[0m \u001b[0ms\u001b[0m\u001b[0;34m)\u001b[0m\u001b[0;34m\u001b[0m\u001b[0;34m\u001b[0m\u001b[0m\n\u001b[0m\u001b[1;32m      6\u001b[0m \u001b[0;34m\u001b[0m\u001b[0m\n\u001b[1;32m      7\u001b[0m \u001b[0;32mif\u001b[0m \u001b[0mpos\u001b[0m \u001b[0;34m==\u001b[0m \u001b[0;34m-\u001b[0m\u001b[0;36m1\u001b[0m\u001b[0;34m:\u001b[0m\u001b[0;34m\u001b[0m\u001b[0;34m\u001b[0m\u001b[0m\n",
            "\u001b[0;31mTypeError\u001b[0m: object of type 'NoneType' has no len()"
          ]
        }
      ]
    },
    {
      "cell_type": "markdown",
      "metadata": {
        "id": "V_c5CK8h9Q3k"
      },
      "source": [
        "## **QUIZ**"
      ]
    },
    {
      "cell_type": "code",
      "metadata": {
        "id": "2JPjRd6zt5O1",
        "colab": {
          "base_uri": "https://localhost:8080/"
        },
        "outputId": "aea9b3a2-3896-4d87-9b1d-ea1bf7a4a084"
      },
      "source": [
        "print(Exception.__base__)\n",
        "print(BaseException.__base__)\n",
        "print(object.__base__)"
      ],
      "execution_count": null,
      "outputs": [
        {
          "output_type": "stream",
          "text": [
            "<class 'BaseException'>\n",
            "<class 'object'>\n",
            "None\n"
          ],
          "name": "stdout"
        }
      ]
    },
    {
      "cell_type": "code",
      "metadata": {
        "id": "xEpRFVqzqjLH",
        "colab": {
          "base_uri": "https://localhost:8080/"
        },
        "outputId": "38a58518-60a4-4e1d-a502-03db2231650d"
      },
      "source": [
        "intg = input('Enter integers separated by comma: ')\n",
        "l = intg.split(',')\n",
        "res = int(l[0])*int(l[1])\n",
        "print(res)"
      ],
      "execution_count": null,
      "outputs": [
        {
          "output_type": "stream",
          "text": [
            "Enter integers separated by comma: 2,4\n",
            "8\n"
          ],
          "name": "stdout"
        }
      ]
    },
    {
      "cell_type": "code",
      "metadata": {
        "id": "XmgEmv4m1qxr",
        "colab": {
          "base_uri": "https://localhost:8080/"
        },
        "outputId": "6b028f54-7827-49d4-f6b8-f3d185412b2e"
      },
      "source": [
        "class listOpr:\n",
        "  def __init__(self):\n",
        "    self.l1 = []\n",
        "\n",
        "  def put(self, data):\n",
        "    self.l1.append(data)\n",
        "    return self.l1\n",
        "\n",
        "  def replaceItem(self, data, indx):\n",
        "    if indx < len(self.l1):\n",
        "      self.l1[indx] = data\n",
        "      return self.l1\n",
        "\n",
        "\n",
        "if __name__ == '__main__':\n",
        "  l = listOpr()\n",
        "\n",
        "  print(\"List is\",l.l1)\n",
        "  \n",
        "  menu = \"1. Append an element \\n2. Replace an element \\n3. Exit program\"\n",
        "  print(menu)\n",
        "  ch = 3\n",
        "  while ch in [1,2,3]:\n",
        "    ch = int(input(\"Enter option: \"))\n",
        "    if ch == 1:\n",
        "      print(\"List is\", l.put(data = input('Enter element: ')))\n",
        "    elif ch == 2:\n",
        "      ele = input('Enter element: ')\n",
        "      ind = int(input('Enter index: '))\n",
        "      print(\"List is\", l.replaceItem(ele,ind))\n",
        "    elif ch == 3:\n",
        "      break"
      ],
      "execution_count": null,
      "outputs": [
        {
          "output_type": "stream",
          "text": [
            "List is []\n",
            "1. Append an element \n",
            "2. Replace an element \n",
            "3. Exit program\n",
            "Enter option: 1\n",
            "Enter element: 78\n",
            "List is ['78']\n",
            "Enter option: 1\n",
            "Enter element: c\n",
            "List is ['78', 'c']\n",
            "Enter option: 2\n",
            "Enter element: d\n",
            "Enter index: 1\n",
            "List is ['78', 'd']\n",
            "Enter option: 3\n"
          ],
          "name": "stdout"
        }
      ]
    },
    {
      "cell_type": "code",
      "metadata": {
        "id": "wmPEZWeS59Jo",
        "colab": {
          "base_uri": "https://localhost:8080/"
        },
        "outputId": "2149165d-b314-4fa3-f927-afccd46da917"
      },
      "source": [
        "def triStr():\n",
        "  n = int(input(\"Enter triangle size: \"))\n",
        "  for row in range(n):\n",
        "    print('*'*(row+1))\n",
        "\n",
        "triStr()"
      ],
      "execution_count": null,
      "outputs": [
        {
          "output_type": "stream",
          "text": [
            "Enter triangle size: 6\n",
            "*\n",
            "**\n",
            "***\n",
            "****\n",
            "*****\n",
            "******\n"
          ],
          "name": "stdout"
        }
      ]
    },
    {
      "cell_type": "code",
      "metadata": {
        "id": "myIb8eBo8MI7"
      },
      "source": [
        ""
      ],
      "execution_count": null,
      "outputs": []
    },
    {
      "cell_type": "markdown",
      "metadata": {
        "id": "-u2I-poEmHoX"
      },
      "source": [
        "# Lab 15"
      ]
    },
    {
      "cell_type": "markdown",
      "metadata": {
        "id": "IUU-z3pDmNaB"
      },
      "source": [
        "## Recursion"
      ]
    },
    {
      "cell_type": "markdown",
      "metadata": {
        "id": "DuEnWa7EmVoR"
      },
      "source": [
        "**Sum of N numbers**"
      ]
    },
    {
      "cell_type": "code",
      "metadata": {
        "id": "ViTnrSfTmJQs"
      },
      "source": [
        "## Solution\n",
        "def sumN(n):\n",
        "  if n > 0:\n",
        "    return n+sumN(n-1)\n",
        "  else:\n",
        "    return n\n"
      ],
      "execution_count": null,
      "outputs": []
    },
    {
      "cell_type": "code",
      "metadata": {
        "id": "KHQe_GHcmXb-",
        "colab": {
          "base_uri": "https://localhost:8080/"
        },
        "outputId": "1ff493b6-46a6-479d-92f8-026676dcb817"
      },
      "source": [
        "# Driver Code\n",
        "num = int(input(\"Enter the number: \"))\n",
        "print(\"Sum of {} numbers = {}\".format(num, sumN(num)))"
      ],
      "execution_count": null,
      "outputs": [
        {
          "output_type": "stream",
          "text": [
            "Enter the number: 5\n",
            "Sum of 5 numbers = 15\n"
          ],
          "name": "stdout"
        }
      ]
    },
    {
      "cell_type": "markdown",
      "metadata": {
        "id": "yKy3oAaSmdKT"
      },
      "source": [
        "**Factorial**"
      ]
    },
    {
      "cell_type": "code",
      "metadata": {
        "id": "TORe_iqImapN"
      },
      "source": [
        "## Solution\n",
        "def fact(n):\n",
        "  if n > 1:\n",
        "    return n*fact(n-1)\n",
        "  else:\n",
        "    return n\n"
      ],
      "execution_count": null,
      "outputs": []
    },
    {
      "cell_type": "code",
      "metadata": {
        "id": "aT7zRwiomfDS",
        "colab": {
          "base_uri": "https://localhost:8080/"
        },
        "outputId": "a95a9d61-735e-46ad-cd02-8016028e80f0"
      },
      "source": [
        "# Driver Code\n",
        "num = int(input(\"Enter the number: \"))\n",
        "print(\"{}! = {}\".format(num, fact(num)))"
      ],
      "execution_count": null,
      "outputs": [
        {
          "output_type": "stream",
          "text": [
            "Enter the number: 5\n",
            "5! = 120\n"
          ],
          "name": "stdout"
        }
      ]
    },
    {
      "cell_type": "markdown",
      "metadata": {
        "id": "vurhG-0TmjuX"
      },
      "source": [
        "**Sum of N even numbers**"
      ]
    },
    {
      "cell_type": "code",
      "metadata": {
        "id": "0QVqZ31lmgwL"
      },
      "source": [
        "## Solution\n",
        "def sumNEven(n):\n",
        "  if n%2 == 1:\n",
        "    n -= 1\n",
        "  \n",
        "  if n > 2:\n",
        "    return n+sumNEven(n-2)\n",
        "  else:\n",
        "    return n"
      ],
      "execution_count": null,
      "outputs": []
    },
    {
      "cell_type": "code",
      "metadata": {
        "id": "daXcyO0cmlmd",
        "colab": {
          "base_uri": "https://localhost:8080/"
        },
        "outputId": "77866a35-f05c-4749-9ace-45a2d39e4e61"
      },
      "source": [
        "# Driver Code\n",
        "num = int(input(\"Enter the number: \"))\n",
        "print(\"Sum of all positive even numbers up {} = {}\".format(num, fact(num)))"
      ],
      "execution_count": null,
      "outputs": [
        {
          "output_type": "stream",
          "text": [
            "Enter the number: 5\n",
            "Sum of all positive even numbers up 5 = 120\n"
          ],
          "name": "stdout"
        }
      ]
    },
    {
      "cell_type": "markdown",
      "metadata": {
        "id": "mpJT5mSymwxK"
      },
      "source": [
        "**Sum of numbers in a list, using recursion**"
      ]
    },
    {
      "cell_type": "code",
      "metadata": {
        "id": "_N1KYPjXmnlP"
      },
      "source": [
        "## Solution\n",
        "def addList(myList):\n",
        "  if len(myList) > 1:\n",
        "    return myList.pop()+addList(myList)\n",
        "  else:\n",
        "    return myList.pop()"
      ],
      "execution_count": null,
      "outputs": []
    },
    {
      "cell_type": "code",
      "metadata": {
        "id": "3Brd6vY2mylE",
        "colab": {
          "base_uri": "https://localhost:8080/"
        },
        "outputId": "8a595838-7668-48d4-a53e-1a6bcff31f25"
      },
      "source": [
        "# Driver Code\n",
        "thisList = eval(input(\"Enter the list: \"))  # [1,2,3]\n",
        "\n",
        "passedList = thisList[:]\n",
        "print(\"Sum of all elements of list {} = {}\".format(thisList, addList(passedList)))"
      ],
      "execution_count": null,
      "outputs": [
        {
          "output_type": "stream",
          "text": [
            "Enter the list: [1,2,3]\n",
            "Sum of all elements of list [1, 2, 3] = 6\n"
          ],
          "name": "stdout"
        }
      ]
    },
    {
      "cell_type": "markdown",
      "metadata": {
        "id": "d_pzadlJnG9r"
      },
      "source": [
        "**N Fibonacci terms**"
      ]
    },
    {
      "cell_type": "code",
      "metadata": {
        "id": "sAOvXElHmz6O"
      },
      "source": [
        "## Solution\n",
        "def nthFibonacciTerm(n):\n",
        "  if n in [0,1]:\n",
        "    return n\n",
        "  else:\n",
        "    return nthFibonacciTerm(n-1)+nthFibonacciTerm(n-2)\n"
      ],
      "execution_count": null,
      "outputs": []
    },
    {
      "cell_type": "code",
      "metadata": {
        "id": "5drQb-cknJqU",
        "colab": {
          "base_uri": "https://localhost:8080/"
        },
        "outputId": "d7c3ef05-8b25-4864-ccab-911600874746"
      },
      "source": [
        "# Driver Code\n",
        "## prints the series\n",
        "def fibonacciSrs(num):\n",
        "  for n in range(num-1):\n",
        "    print(nthFibonacciTerm(n), end=\", \")\n",
        "  print(nthFibonacciTerm(num-1))\n",
        "\n",
        "## user interaction\n",
        "num = int(input(\"Enter the number of terms to be printed: \"))\n",
        "print(\"Initial {} terms of fibonacci series are:\\t \".format(num), end=\"\")\n",
        "\n",
        "fibonacciSrs(num)\n"
      ],
      "execution_count": null,
      "outputs": [
        {
          "output_type": "stream",
          "text": [
            "Enter the number of terms to be printed: 5\n",
            "Initial 5 terms of fibonacci series are:\t 0, 1, 1, 2, 3\n"
          ],
          "name": "stdout"
        }
      ]
    },
    {
      "cell_type": "markdown",
      "metadata": {
        "id": "2zFmuxvpnPBL"
      },
      "source": [
        "**Palidrome**"
      ]
    },
    {
      "cell_type": "code",
      "metadata": {
        "id": "QB_yLM7TnK_V"
      },
      "source": [
        "def palindrome(text,pos = 0):\n",
        "  if pos-(len(text)-pos-1) in [0,1]:\n",
        "    return True\n",
        "  elif text[pos] == text[len(text)-pos-1]:\n",
        "    return palindrome(text, pos+1)\n",
        "  else:\n",
        "    return False"
      ],
      "execution_count": null,
      "outputs": []
    },
    {
      "cell_type": "code",
      "metadata": {
        "id": "VpAN6ICmnSj1",
        "colab": {
          "base_uri": "https://localhost:8080/"
        },
        "outputId": "4c2fb995-2e71-4e78-f765-89be53dafd69"
      },
      "source": [
        "## user interaction\n",
        "text = input(\"Enter the string: \")\n",
        "\n",
        "if palindrome(text):\n",
        "  print(\"{} is palindrome\".format(text))\n",
        "else:\n",
        "  print(\"{} is NOT palindrome\".format(text))"
      ],
      "execution_count": null,
      "outputs": [
        {
          "output_type": "stream",
          "text": [
            "Enter the string: malayala\n",
            "malayala is NOT palindrome\n"
          ],
          "name": "stdout"
        }
      ]
    },
    {
      "cell_type": "code",
      "metadata": {
        "id": "U0FCVPsAnUFr"
      },
      "source": [
        ""
      ],
      "execution_count": null,
      "outputs": []
    }
  ]
}