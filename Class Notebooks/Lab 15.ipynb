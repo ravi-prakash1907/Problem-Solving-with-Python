{
  "nbformat": 4,
  "nbformat_minor": 0,
  "metadata": {
    "colab": {
      "name": "Lab 14.ipynb",
      "provenance": [],
      "authorship_tag": "ABX9TyNHCre1XsOl9GXHSDUn1g2O",
      "include_colab_link": true
    },
    "kernelspec": {
      "name": "python3",
      "display_name": "Python 3"
    }
  },
  "cells": [
    {
      "cell_type": "markdown",
      "metadata": {
        "id": "view-in-github",
        "colab_type": "text"
      },
      "source": [
        "<a href=\"https://colab.research.google.com/github/ravi-prakash1907/Problem-Solving-with-Python/blob/main/Class%20Notebooks/Lab%2015.ipynb\" target=\"_parent\"><img src=\"https://colab.research.google.com/assets/colab-badge.svg\" alt=\"Open In Colab\"/></a>"
      ]
    },
    {
      "cell_type": "markdown",
      "metadata": {
        "id": "3M57c7kkUAF9"
      },
      "source": [
        "# Lec 15"
      ]
    },
    {
      "cell_type": "markdown",
      "metadata": {
        "id": "zpg5MAafUDWc"
      },
      "source": [
        "## Graphics"
      ]
    },
    {
      "cell_type": "markdown",
      "metadata": {
        "id": "Jk623WU2UrRJ"
      },
      "source": [
        "### Program 1\n",
        "\n",
        "_Draw a blue circle (with black border) on a green background with 'Circle' in red colour (with 'times new oman', bold, 20-size)_  "
      ]
    },
    {
      "cell_type": "code",
      "metadata": {
        "id": "om02_GRrTlb5"
      },
      "source": [
        "import turtle as t\n",
        "t.bgcolor(\"green\")\n",
        "t.fillcolor(\"blue\")\n",
        "t.begin_fill()\n",
        "t.circle(50)\n",
        "t.end_fill()\n",
        "t.penup()\n",
        "t.goto(0,100)\n",
        "t.pendown()\n",
        "t.color(\"red\")\n",
        "t.write(\"Circle\", align='center', font=('Times New Roman', 20, 'bold'))\n",
        "t.hideturtle()\n",
        "t.done()"
      ],
      "execution_count": null,
      "outputs": []
    },
    {
      "cell_type": "markdown",
      "metadata": {
        "id": "NDlsJyBx1Ktc"
      },
      "source": [
        "### Program 2\n",
        "\n",
        "_Draw a bar chart (with black border and gray borders) for 90, 20, 30 and 60 values._  \n",
        "_Write these values on top of the each respective bars in black colour (with 'times new oman', bold, 20-size)_  "
      ]
    },
    {
      "cell_type": "code",
      "metadata": {
        "id": "kYSKeIxE1KWU"
      },
      "source": [
        "import turtle as t\n",
        "\n",
        "def drawAxis():\n",
        "  length = 200  \n",
        "  # y axis\n",
        "  t.left(90)\n",
        "  t.forward(length)\n",
        "  t.goto(0,0)\n",
        "  # x axis\n",
        "  t.right(90)\n",
        "  t.forward(length)\n",
        "  t.goto(0,0)\n",
        "\n",
        "def drawBars():\n",
        "  bars = [90, 20, 30, 60]\n",
        "  for pos in range(len(bars)):\n",
        "    width = 20\n",
        "    t.fillcolor(\"gray\")\n",
        "    t.begin_fill()\n",
        "    t.forward(width)\n",
        "    t.left(90)\n",
        "    t.forward(bars[pos])\n",
        "    t.left(90)\n",
        "    t.write(bars[pos], align=\"center\")\n",
        "    t.forward(width)\n",
        "    t.left(90)\n",
        "    t.forward(bars[pos])\n",
        "    t.left(90)\n",
        "    t.end_fill()\n",
        "    ###\n",
        "    t.penup()\n",
        "    t.forward(width)\n",
        "    t.pendown()\n",
        "    ###\n",
        "  t.hideturtle()\n",
        "  t.done()\n",
        "\n",
        "\n",
        "## draw\n",
        "drawAxis()\n",
        "drawBars()"
      ],
      "execution_count": null,
      "outputs": []
    },
    {
      "cell_type": "markdown",
      "metadata": {
        "id": "y4MBsCbx_ARY"
      },
      "source": [
        "## Lists\n",
        "\n"
      ]
    },
    {
      "cell_type": "code",
      "metadata": {
        "colab": {
          "base_uri": "https://localhost:8080/"
        },
        "id": "JRQN9zfrVqFA",
        "outputId": "0764e8e4-695f-489a-e403-a62c470364e3"
      },
      "source": [
        "size = int(input(\"Size of list: \"))\n",
        "gotList = [0]*size\n",
        "\n",
        "for i in range(size):\n",
        "  # loop beg\n",
        "  item = int(input(\"Enter list item: \"))\n",
        "  gotList[i] = item\n",
        "  # loop ends\n",
        "print(\"\\nYour List: \",gotList)\n",
        "\n",
        "# part (a)\n",
        "least = gotList[0]\n",
        "for item in gotList:\n",
        "  least = item if item < least else least\n",
        "print(\"\\nSmallest element: \",least)\n",
        "\n",
        "# part (b)\n",
        "leastPos = 0\n",
        "for pos in range(len(gotList)):\n",
        "  # loop beg\n",
        "  item = gotList[pos]\n",
        "  least = gotList[leastPos]\n",
        "  leastPos = pos if item < least else leastPos\n",
        "  # loop ends\n",
        "if leastPos != 0:\n",
        "  gotList[0],gotList[leastPos] = gotList[leastPos],gotList[0]  \n",
        "print(\"\\nYour List: \",gotList)\n",
        "\n",
        "# part (c)\n",
        "secLeast = gotList[1]\n",
        "for item in gotList[1:]:\n",
        "  secLeast = item if item < secLeast else secLeast\n",
        "print(\"\\nSecond smallest element: \",secLeast)\n",
        "\n"
      ],
      "execution_count": 3,
      "outputs": [
        {
          "output_type": "stream",
          "text": [
            "Size of list: 3\n",
            "Enter list item: 1\n",
            "Enter list item: 2\n",
            "Enter list item: 3\n",
            "Your List:  [1, 2, 3]\n"
          ],
          "name": "stdout"
        }
      ]
    },
    {
      "cell_type": "code",
      "metadata": {
        "id": "k3uSxOLGCntA",
        "outputId": "51403bd5-6c19-4b4a-9c4d-db874f0b6ccd",
        "colab": {
          "base_uri": "https://localhost:8080/"
        }
      },
      "source": [
        "gotList = [3,22,85,42,83,0,5]\n",
        "\n",
        "\n",
        "###  NEEDS EDITING\n",
        "# part (f) --->  selection sort\n",
        "for i in range(len(gotList)):\n",
        "  leastPos = 0\n",
        "  for pos in range(i,len(gotList)):\n",
        "    # loop beg\n",
        "    item = gotList[pos]\n",
        "    least = gotList[leastPos]\n",
        "    leastPos = pos if item < least else leastPos\n",
        "    # loop ends\n",
        "  if leastPos != 0:\n",
        "    gotList[0],gotList[leastPos] = gotList[leastPos],gotList[0]  \n",
        "print(\"\\nYour List: \",gotList)"
      ],
      "execution_count": 9,
      "outputs": [
        {
          "output_type": "stream",
          "text": [
            "\n",
            "Your List:  [0, 22, 85, 42, 83, 3, 5]\n"
          ],
          "name": "stdout"
        }
      ]
    },
    {
      "cell_type": "markdown",
      "metadata": {
        "id": "-u2I-poEmHoX"
      },
      "source": [
        "# Lab 15"
      ]
    }
  ]
}