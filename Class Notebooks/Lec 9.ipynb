{
  "nbformat": 4,
  "nbformat_minor": 0,
  "metadata": {
    "colab": {
      "name": "Lec7.ipynb",
      "provenance": [],
      "collapsed_sections": [],
      "authorship_tag": "ABX9TyO5/zJ72SkERlxQOmzYCBFI",
      "include_colab_link": true
    },
    "kernelspec": {
      "name": "python3",
      "display_name": "Python 3"
    }
  },
  "cells": [
    {
      "cell_type": "markdown",
      "metadata": {
        "id": "view-in-github",
        "colab_type": "text"
      },
      "source": [
        "<a href=\"https://colab.research.google.com/github/ravi-prakash1907/Problem-Solving-with-Python/blob/main/Class%20Notebooks/Lec%209.ipynb\" target=\"_parent\"><img src=\"https://colab.research.google.com/assets/colab-badge.svg\" alt=\"Open In Colab\"/></a>"
      ]
    },
    {
      "cell_type": "markdown",
      "metadata": {
        "id": "OD_9zRFQ-Jkg"
      },
      "source": [
        "# Lec 9\n",
        "## Practice"
      ]
    },
    {
      "cell_type": "code",
      "metadata": {
        "id": "5RKfKhdGSzXS"
      },
      "source": [
        "from random import randint"
      ],
      "execution_count": 2,
      "outputs": []
    },
    {
      "cell_type": "code",
      "metadata": {
        "id": "EihcSAFWSryo",
        "outputId": "87ba7c82-3417-4e35-9f93-96caf1e01e3a",
        "colab": {
          "base_uri": "https://localhost:8080/"
        }
      },
      "source": [
        "# 20 random zero and one\n",
        "myList = []\n",
        "for i in range(20):\n",
        "  myList.append(randint(0,50)%2)\n",
        "print(myList)\n",
        "\n",
        "zeros = ones = 0\n",
        "\n",
        "for i in myList:\n",
        "  if i == 0:\n",
        "    zeros += 1\n",
        "  else:\n",
        "    ones += 1\n",
        "\n",
        "print(\"\\nZeros: \",zeros,\"\\t|\\t Ones: \",ones)"
      ],
      "execution_count": 14,
      "outputs": [
        {
          "output_type": "stream",
          "text": [
            "[1, 0, 1, 1, 1, 0, 0, 0, 1, 1, 0, 0, 1, 0, 1, 0, 0, 0, 0, 0]\n",
            "\n",
            "Zeros:  12 \t|\t Ones:  8\n"
          ],
          "name": "stdout"
        }
      ]
    },
    {
      "cell_type": "code",
      "metadata": {
        "id": "fOwypdoaRbvj"
      },
      "source": [
        "# creates a list like  [1,2,2,3,3,3,4,4,4,4,....,n,n,n,n...]\n",
        "\n",
        "choice = int(input(\"Enter number: \"))\n",
        "\n",
        "myList = []\n",
        "i = 1\n",
        "while i <= choice:\n",
        "  for j in range(i):\n",
        "    myList.append(i)\n",
        "  i += 1\n",
        "\n",
        "print(myList)"
      ],
      "execution_count": null,
      "outputs": []
    },
    {
      "cell_type": "code",
      "metadata": {
        "id": "W9DOnGjdRk8U"
      },
      "source": [
        "# Prints number right-triangle\n",
        "choice = int(input(\"Enter number of rows: \"))\n",
        "\n",
        "i = 1\n",
        "while i <= choice:\n",
        "  for j in range(i):\n",
        "    print(i, end = \" \")\n",
        "  i += 1\n",
        "  print()"
      ],
      "execution_count": null,
      "outputs": []
    },
    {
      "cell_type": "code",
      "metadata": {
        "id": "n1Jlkw65UJq0",
        "outputId": "555718b1-7b26-4fd4-b51a-42e4ed64dd56",
        "colab": {
          "base_uri": "https://localhost:8080/"
        }
      },
      "source": [
        "## running total\n",
        "myList = eval(input(\"Enter a list: \"))\n",
        "sumList = []\n",
        "\n",
        "for index in range(len(myList)):\n",
        "  sumList.append(sum(myList[:index+1]))\n",
        "\n",
        "print(sumList)"
      ],
      "execution_count": 10,
      "outputs": [
        {
          "output_type": "stream",
          "text": [
            "Enter a list: [1,2,3,4]\n",
            "[1, 3, 6, 10]\n"
          ],
          "name": "stdout"
        }
      ]
    },
    {
      "cell_type": "code",
      "metadata": {
        "id": "yHdzMOhpUv5n",
        "outputId": "b631e83a-d774-4d08-fe41-e7c25f6242d1",
        "colab": {
          "base_uri": "https://localhost:8080/"
        }
      },
      "source": [
        ""
      ],
      "execution_count": 8,
      "outputs": [
        {
          "output_type": "execute_result",
          "data": {
            "text/plain": [
              "6"
            ]
          },
          "metadata": {
            "tags": []
          },
          "execution_count": 8
        }
      ]
    },
    {
      "cell_type": "code",
      "metadata": {
        "id": "ElEX5VxbU81R"
      },
      "source": [
        ""
      ],
      "execution_count": null,
      "outputs": []
    }
  ]
}