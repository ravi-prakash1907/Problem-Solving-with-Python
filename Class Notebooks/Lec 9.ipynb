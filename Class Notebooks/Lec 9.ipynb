{
  "nbformat": 4,
  "nbformat_minor": 0,
  "metadata": {
    "colab": {
      "name": "Lec7.ipynb",
      "provenance": [],
      "collapsed_sections": [],
      "authorship_tag": "ABX9TyMDKVNTVPFkDOQ1snaB7TX9",
      "include_colab_link": true
    },
    "kernelspec": {
      "name": "python3",
      "display_name": "Python 3"
    }
  },
  "cells": [
    {
      "cell_type": "markdown",
      "metadata": {
        "id": "view-in-github",
        "colab_type": "text"
      },
      "source": [
        "<a href=\"https://colab.research.google.com/github/ravi-prakash1907/Problem-Solving-with-Python/blob/main/Class%20Notebooks/Lec%209.ipynb\" target=\"_parent\"><img src=\"https://colab.research.google.com/assets/colab-badge.svg\" alt=\"Open In Colab\"/></a>"
      ]
    },
    {
      "cell_type": "markdown",
      "metadata": {
        "id": "OD_9zRFQ-Jkg"
      },
      "source": [
        "# Lec 9\n",
        "## Practice"
      ]
    },
    {
      "cell_type": "code",
      "metadata": {
        "id": "fOwypdoaRbvj"
      },
      "source": [
        "# creates a list like  [1,2,2,3,3,3,4,4,4,4,....,n,n,n,n...]\n",
        "\n",
        "choice = int(input(\"Enter number of rows: \"))\n",
        "\n",
        "myList = []\n",
        "i = 1\n",
        "while i <= choice:\n",
        "  for j in range(i):\n",
        "    myList.append(i)\n",
        "  i += 1\n",
        "\n",
        "print(myList)"
      ],
      "execution_count": null,
      "outputs": []
    },
    {
      "cell_type": "code",
      "metadata": {
        "id": "W9DOnGjdRk8U"
      },
      "source": [
        "# Prints number right-triangle\n",
        "choice = int(input(\"Enter number of rows: \"))\n",
        "\n",
        "i = 1\n",
        "while i <= choice:\n",
        "  for j in range(i):\n",
        "    print(i, end = \" \")\n",
        "  i += 1\n",
        "  print()"
      ],
      "execution_count": null,
      "outputs": []
    }
  ]
}