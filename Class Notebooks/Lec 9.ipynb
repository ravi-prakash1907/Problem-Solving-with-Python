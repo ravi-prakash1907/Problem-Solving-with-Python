{
  "nbformat": 4,
  "nbformat_minor": 0,
  "metadata": {
    "colab": {
      "name": "Lec7.ipynb",
      "provenance": [],
      "collapsed_sections": [],
      "authorship_tag": "ABX9TyPWVyFJbgpx0EPFCb54I4+j",
      "include_colab_link": true
    },
    "kernelspec": {
      "name": "python3",
      "display_name": "Python 3"
    }
  },
  "cells": [
    {
      "cell_type": "markdown",
      "metadata": {
        "id": "view-in-github",
        "colab_type": "text"
      },
      "source": [
        "<a href=\"https://colab.research.google.com/github/ravi-prakash1907/Problem-Solving-with-Python/blob/main/Class%20Notebooks/Lec%209.ipynb\" target=\"_parent\"><img src=\"https://colab.research.google.com/assets/colab-badge.svg\" alt=\"Open In Colab\"/></a>"
      ]
    },
    {
      "cell_type": "markdown",
      "metadata": {
        "id": "OD_9zRFQ-Jkg"
      },
      "source": [
        "# Lec 9\n",
        "## Practice"
      ]
    },
    {
      "cell_type": "code",
      "metadata": {
        "id": "5RKfKhdGSzXS"
      },
      "source": [
        "from random import randint"
      ],
      "execution_count": 7,
      "outputs": []
    },
    {
      "cell_type": "code",
      "metadata": {
        "id": "EihcSAFWSryo",
        "colab": {
          "base_uri": "https://localhost:8080/"
        },
        "outputId": "87ba7c82-3417-4e35-9f93-96caf1e01e3a"
      },
      "source": [
        "# 20 random zero and one\n",
        "myList = []\n",
        "for i in range(20):\n",
        "  myList.append(randint(0,50)%2)\n",
        "print(myList)\n",
        "\n",
        "zeros = ones = 0\n",
        "\n",
        "for i in myList:\n",
        "  if i == 0:\n",
        "    zeros += 1\n",
        "  else:\n",
        "    ones += 1\n",
        "\n",
        "print(\"\\nZeros: \",zeros,\"\\t|\\t Ones: \",ones)"
      ],
      "execution_count": null,
      "outputs": [
        {
          "output_type": "stream",
          "text": [
            "[1, 0, 1, 1, 1, 0, 0, 0, 1, 1, 0, 0, 1, 0, 1, 0, 0, 0, 0, 0]\n",
            "\n",
            "Zeros:  12 \t|\t Ones:  8\n"
          ],
          "name": "stdout"
        }
      ]
    },
    {
      "cell_type": "code",
      "metadata": {
        "id": "fOwypdoaRbvj"
      },
      "source": [
        "# creates a list like  [1,2,2,3,3,3,4,4,4,4,....,n,n,n,n...]\n",
        "\n",
        "choice = int(input(\"Enter number: \"))\n",
        "\n",
        "myList = []\n",
        "i = 1\n",
        "while i <= choice:\n",
        "  for j in range(i):\n",
        "    myList.append(i)\n",
        "  i += 1\n",
        "\n",
        "print(myList)"
      ],
      "execution_count": null,
      "outputs": []
    },
    {
      "cell_type": "code",
      "metadata": {
        "id": "W9DOnGjdRk8U"
      },
      "source": [
        "# Prints number right-triangle\n",
        "choice = int(input(\"Enter number of rows: \"))\n",
        "\n",
        "i = 1\n",
        "while i <= choice:\n",
        "  for j in range(i):\n",
        "    print(i, end = \" \")\n",
        "  i += 1\n",
        "  print()"
      ],
      "execution_count": null,
      "outputs": []
    },
    {
      "cell_type": "code",
      "metadata": {
        "id": "n1Jlkw65UJq0",
        "colab": {
          "base_uri": "https://localhost:8080/"
        },
        "outputId": "555718b1-7b26-4fd4-b51a-42e4ed64dd56"
      },
      "source": [
        "## running total\n",
        "myList = eval(input(\"Enter a list: \"))\n",
        "sumList = []\n",
        "\n",
        "for index in range(len(myList)):\n",
        "  sumList.append(sum(myList[:index+1]))\n",
        "\n",
        "print(sumList)"
      ],
      "execution_count": null,
      "outputs": [
        {
          "output_type": "stream",
          "text": [
            "Enter a list: [1,2,3,4]\n",
            "[1, 3, 6, 10]\n"
          ],
          "name": "stdout"
        }
      ]
    },
    {
      "cell_type": "code",
      "metadata": {
        "id": "ElEX5VxbU81R",
        "colab": {
          "base_uri": "https://localhost:8080/"
        },
        "outputId": "20eb503a-b264-4a39-f41c-ecf4707f870d"
      },
      "source": [
        "firstList = eval(input(\"Enter first list: \"))\n",
        "secondList = eval(input(\"Enter second list: \"))\n",
        "newList = []\n",
        "\n",
        "for i in range(len(firstList)):\n",
        "  newList.append(firstList[i])\n",
        "  newList.append(secondList[i])\n",
        "\n",
        "newList"
      ],
      "execution_count": 3,
      "outputs": [
        {
          "output_type": "stream",
          "text": [
            "Enter first list: [1,2,3]\n",
            "Enter second list: [4,5,6]\n"
          ],
          "name": "stdout"
        },
        {
          "output_type": "execute_result",
          "data": {
            "text/plain": [
              "[1, 4, 2, 5, 3, 6]"
            ]
          },
          "metadata": {
            "tags": []
          },
          "execution_count": 3
        }
      ]
    },
    {
      "cell_type": "code",
      "metadata": {
        "colab": {
          "base_uri": "https://localhost:8080/"
        },
        "id": "mcVX6zgpZPOB",
        "outputId": "0baa909e-be74-4dfd-ff33-53fcc9c01516"
      },
      "source": [
        "# list of 'n' students' marks between 90-100 and any one entry be 0\n",
        "\n",
        "count = int(input(\"Number of students: \"))\n",
        "randList = []\n",
        "for i in range(count):\n",
        "  randList.append(randint(90,100))\n",
        "\n",
        "randList[randint(0,count-1)] = 0\n",
        "\n",
        "print(randList)\n"
      ],
      "execution_count": 11,
      "outputs": [
        {
          "output_type": "stream",
          "text": [
            "Number of students: 8\n",
            "[90, 96, 100, 0, 91, 100, 99, 98]\n"
          ],
          "name": "stdout"
        }
      ]
    },
    {
      "cell_type": "code",
      "metadata": {
        "id": "-RUv4ZW0dIte"
      },
      "source": [
        "6"
      ],
      "execution_count": null,
      "outputs": []
    }
  ]
}