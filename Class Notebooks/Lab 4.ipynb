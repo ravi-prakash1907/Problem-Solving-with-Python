{
  "nbformat": 4,
  "nbformat_minor": 0,
  "metadata": {
    "colab": {
      "name": "Untitled1.ipynb",
      "provenance": [],
      "authorship_tag": "ABX9TyNywdS3R7iffgsJFNWZd7ji",
      "include_colab_link": true
    },
    "kernelspec": {
      "name": "python3",
      "display_name": "Python 3"
    }
  },
  "cells": [
    {
      "cell_type": "markdown",
      "metadata": {
        "id": "view-in-github",
        "colab_type": "text"
      },
      "source": [
        "<a href=\"https://colab.research.google.com/github/ravi-prakash1907/Problem-Solving-with-Python/blob/main/Class%20Notebooks/Lab%204.ipynb\" target=\"_parent\"><img src=\"https://colab.research.google.com/assets/colab-badge.svg\" alt=\"Open In Colab\"/></a>"
      ]
    },
    {
      "cell_type": "markdown",
      "metadata": {
        "id": "fNrW_LLaAOYO"
      },
      "source": [
        "# Lab 4"
      ]
    },
    {
      "cell_type": "markdown",
      "metadata": {
        "id": "53rHqUFyL8rc"
      },
      "source": [
        "## Session 1\n",
        "  \n",
        "The pdf of questions can be found [here](#)  \n",
        "\n",
        "## Conditional Statments\n",
        "### Sol. 1:\n",
        "```\n",
        "numOfStudents = 30\n",
        "numOfClass = 5\n",
        "totalStudents = numOfStudents * numOfClass\n",
        "print(totalStudents)\n",
        "```\n",
        "o/p  ```150```  \n",
        "  \n",
        "\n",
        "---\n",
        "## Session 2"
      ]
    },
    {
      "cell_type": "markdown",
      "metadata": {
        "id": "MQx0d6luEWPr"
      },
      "source": [
        "### Delimiter Symbols\n",
        "\n",
        "* ( )\n",
        "* [ ]\n",
        "* { }\n",
        "* ,\n",
        "* :\n",
        "* ;\n",
        "* =\n",
        "* +=\n",
        "* -=\n",
        "* \\>>\n",
        "* <<\n",
        "* =/  \n",
        "  \n",
        "etc..  \n",
        "\n"
      ]
    },
    {
      "cell_type": "markdown",
      "metadata": {
        "id": "x9W1hPvbFG1D"
      },
      "source": [
        "### Bitwise Operators"
      ]
    },
    {
      "cell_type": "code",
      "metadata": {
        "id": "9rOy2Q-FFGCz",
        "outputId": "27249f22-db1b-48d3-a5b1-a433ed137da6",
        "colab": {
          "base_uri": "https://localhost:8080/"
        }
      },
      "source": [
        "True & False"
      ],
      "execution_count": null,
      "outputs": [
        {
          "output_type": "execute_result",
          "data": {
            "text/plain": [
              "False"
            ]
          },
          "metadata": {
            "tags": []
          },
          "execution_count": 1
        }
      ]
    },
    {
      "cell_type": "code",
      "metadata": {
        "id": "YS14guux_NHp",
        "outputId": "76ba2bbc-1458-4f31-9a96-69e192d98b1e",
        "colab": {
          "base_uri": "https://localhost:8080/"
        }
      },
      "source": [
        "12 | 16"
      ],
      "execution_count": 2,
      "outputs": [
        {
          "output_type": "execute_result",
          "data": {
            "text/plain": [
              "28"
            ]
          },
          "metadata": {
            "tags": []
          },
          "execution_count": 2
        }
      ]
    },
    {
      "cell_type": "markdown",
      "metadata": {
        "id": "gsmBPHlLSTaC"
      },
      "source": [
        "---"
      ]
    },
    {
      "cell_type": "code",
      "metadata": {
        "id": "J0GHdM97IYRB",
        "outputId": "86190c93-45c0-443d-bb27-46c7115590f3",
        "colab": {
          "base_uri": "https://localhost:8080/"
        }
      },
      "source": [
        "%whos"
      ],
      "execution_count": 5,
      "outputs": [
        {
          "output_type": "stream",
          "text": [
            "Interactive namespace is empty.\n"
          ],
          "name": "stdout"
        }
      ]
    },
    {
      "cell_type": "markdown",
      "metadata": {
        "id": "J9tTuJ5zWz9J"
      },
      "source": [
        "## Keyword (Library)"
      ]
    },
    {
      "cell_type": "code",
      "metadata": {
        "id": "wvzbxKi2LuYa",
        "outputId": "cb27908f-517d-40ce-d2be-f57e631c6377",
        "colab": {
          "base_uri": "https://localhost:8080/"
        }
      },
      "source": [
        "import keyword\n",
        "\n",
        "print(\"Python keywords are...\")\n",
        "print(keyword.kwlist)"
      ],
      "execution_count": 7,
      "outputs": [
        {
          "output_type": "stream",
          "text": [
            "Python keywords are...\n",
            "['False', 'None', 'True', 'and', 'as', 'assert', 'break', 'class', 'continue', 'def', 'del', 'elif', 'else', 'except', 'finally', 'for', 'from', 'global', 'if', 'import', 'in', 'is', 'lambda', 'nonlocal', 'not', 'or', 'pass', 'raise', 'return', 'try', 'while', 'with', 'yield']\n"
          ],
          "name": "stdout"
        }
      ]
    },
    {
      "cell_type": "markdown",
      "metadata": {
        "id": "ssQuT89lYtZj"
      },
      "source": [
        "### Programming"
      ]
    },
    {
      "cell_type": "markdown",
      "metadata": {
        "id": "EvBK_x8GaN4j"
      },
      "source": [
        "Area of Rectangle"
      ]
    },
    {
      "cell_type": "code",
      "metadata": {
        "id": "kLFT1BQPYv2M",
        "outputId": "89c4c4a7-f0e5-4b46-8082-8746bcd5378e",
        "colab": {
          "base_uri": "https://localhost:8080/"
        }
      },
      "source": [
        "length = 20\n",
        "breadth = 30\n",
        "\n",
        "area = length * breadth\n",
        "print(\"Area of the rectangle is: \",area,\"sq units\")\n",
        "\n",
        "# O/P\n",
        "# Area of the rectangle is:  600 sq units"
      ],
      "execution_count": 14,
      "outputs": [
        {
          "output_type": "stream",
          "text": [
            "Area of the rectangle is:  600 sq units\n"
          ],
          "name": "stdout"
        }
      ]
    },
    {
      "cell_type": "markdown",
      "metadata": {
        "id": "3nvCpquiaTtA"
      },
      "source": [
        "Area of Circle"
      ]
    },
    {
      "cell_type": "code",
      "metadata": {
        "id": "-FfC_9g8Y-m2",
        "outputId": "4654d345-6b67-4d7d-bcfa-19f71a8f6172",
        "colab": {
          "base_uri": "https://localhost:8080/"
        }
      },
      "source": [
        "PI = 3.14\n",
        "radius = 10\n",
        "\n",
        "area = PI * radius**2\n",
        "print(\"Area of the circle is: \",area,\"sq units\")\n",
        "\n",
        "# O/P\n",
        "# Area of the circle is:  314.0 sq units"
      ],
      "execution_count": 15,
      "outputs": [
        {
          "output_type": "stream",
          "text": [
            "Area of the circle is:  314.0 sq units\n"
          ],
          "name": "stdout"
        }
      ]
    },
    {
      "cell_type": "markdown",
      "metadata": {
        "id": "tlrpzf1_cHpJ"
      },
      "source": [
        "Area for Dynamic Values"
      ]
    },
    {
      "cell_type": "code",
      "metadata": {
        "id": "cPQYwUQxZ6Nf"
      },
      "source": [
        "# for rectangle\n",
        "def areaR(l, b):\n",
        "  return l*b\n",
        "\n",
        "# for circle\n",
        "def areaC(r):\n",
        "  PI = 3.14\n",
        "  return PI * r**2"
      ],
      "execution_count": 18,
      "outputs": []
    },
    {
      "cell_type": "code",
      "metadata": {
        "id": "1UAK1vxZc2_a",
        "outputId": "ee21e6c9-24d4-4687-b9b7-9b6076c89603",
        "colab": {
          "base_uri": "https://localhost:8080/"
        }
      },
      "source": [
        "length = int(input(\"Given length: \"))\n",
        "breadth = int(input(\"Given width: \"))\n",
        "\n",
        "print(\"Area of the rectangle is: \",areaR(length, breadth),\"sq units\")"
      ],
      "execution_count": 19,
      "outputs": [
        {
          "output_type": "stream",
          "text": [
            "Given length: 20\n",
            "Given width: 30\n",
            "Area of the rectangle is:  600 sq units\n"
          ],
          "name": "stdout"
        }
      ]
    },
    {
      "cell_type": "code",
      "metadata": {
        "id": "T-YENIMqdOwq",
        "outputId": "0cfad321-8261-4d81-9b2b-7ca7a1f3b091",
        "colab": {
          "base_uri": "https://localhost:8080/"
        }
      },
      "source": [
        "radius = int(input(\"Given radius: \"))\n",
        "\n",
        "print(\"Area of the circle is: \",areaC(radius),\"sq units\")"
      ],
      "execution_count": 20,
      "outputs": [
        {
          "output_type": "stream",
          "text": [
            "Given radius: 10\n",
            "Area of the circle is:  314.0 sq units\n"
          ],
          "name": "stdout"
        }
      ]
    },
    {
      "cell_type": "markdown",
      "metadata": {
        "id": "geMv-mX5d_LD"
      },
      "source": [
        "---\n",
        "\n",
        "Find the Gross Salary  \n",
        "I/P\n",
        "* basic salary  \n",
        "  \n",
        "Parameters  \n",
        "1. Sudha's basic salary\n",
        "2. Her allowances (i.e. 35% of basic)\n",
        "3. HRA (i.e. 20% of basic)"
      ]
    },
    {
      "cell_type": "code",
      "metadata": {
        "id": "Wj6IcFufdjuS",
        "outputId": "8ed40c6d-d968-44ac-99de-f12a547eb39f",
        "colab": {
          "base_uri": "https://localhost:8080/"
        }
      },
      "source": [
        "# getting the basic salary as input\n",
        "basicSalary = int(input(\"Enter Sudha\\'s basic salary (₹): \"))\n",
        "\n",
        "# finding allowance (35% of basic salary)\n",
        "allowance = 0.35 * basicSalary\n",
        "\n",
        "# finding HRA (20% of basic salary)\n",
        "hra = 0.2 * basicSalary\n",
        "\n",
        "# canculating the gross salary\n",
        "grossSalary = basicSalary + allowance + hra\n",
        "\n",
        "# printing output\n",
        "print(\"Sudha\\'s gross salary is: ₹\",grossSalary)\n",
        "\n",
        "\n",
        "## O/P\n",
        "##\n",
        "## Sudha's basic salary (₹): 100\n",
        "## Gross salary is: ₹ 155.0"
      ],
      "execution_count": 24,
      "outputs": [
        {
          "output_type": "stream",
          "text": [
            "Enter Sudha's basic salary (₹): 100\n",
            "Sudha's gross salary is: ₹ 155.0\n"
          ],
          "name": "stdout"
        }
      ]
    },
    {
      "cell_type": "markdown",
      "metadata": {
        "id": "2x2P6ySqg1vn"
      },
      "source": [
        "## Assignment  \n",
        "Program for compound intrest"
      ]
    },
    {
      "cell_type": "code",
      "metadata": {
        "id": "kXHNkJr9e5kI"
      },
      "source": [
        "# Program 5: temperature of trivandrum in farenheit is the input, \n",
        "# write a program to convert into centigrade scale."
      ],
      "execution_count": 25,
      "outputs": []
    },
    {
      "cell_type": "code",
      "metadata": {
        "id": "fbtX_b_ahYOE",
        "outputId": "84153540-da0f-4a72-bf0f-ab26a1cb023e",
        "colab": {
          "base_uri": "https://localhost:8080/"
        }
      },
      "source": [
        "tempInF = int(input(\"Temprature Of trivendram in farenheit\"))\n",
        "tempInC = (tempInF - 32) * 5/9\n",
        "\n",
        "print(\"Temprature of trivendram in Celcius: \",tempInC,\"°\")"
      ],
      "execution_count": 26,
      "outputs": [
        {
          "output_type": "stream",
          "text": [
            "Temprature Of trivendram in farenheit100\n",
            "Temprature of trivendram in Celcius:  37.77777777777778 °\n"
          ],
          "name": "stdout"
        }
      ]
    },
    {
      "cell_type": "code",
      "metadata": {
        "id": "7CjvsP9TiRZR",
        "outputId": "02c2ab24-3559-448b-9823-5b55d578c71a",
        "colab": {
          "base_uri": "https://localhost:8080/"
        }
      },
      "source": [
        "# input\n",
        "num = int(input(\"Your number: \"))\n",
        "\n",
        "# sum till ones place\n",
        "sum = num%10\n",
        "num //= 10\n",
        "\n",
        "# sum till tens place\n",
        "sum += num%10\n",
        "num //= 10\n",
        "\n",
        "# sum till hundreds place\n",
        "sum += num%10\n",
        "num //= 10\n",
        "\n",
        "# sum of initial 4 digits\n",
        "sum += num%10\n",
        "\n",
        "print(\"Sum of given 4 digit number is: \",sum)\n",
        "\n",
        "\n",
        "## O/P\n",
        "## \n",
        "## Your number: 2345   ------->  input\n",
        "## Sum of given 4 digit number is:  14"
      ],
      "execution_count": 34,
      "outputs": [
        {
          "output_type": "stream",
          "text": [
            "Your number: 2345\n",
            "Sum of given 4 digit number is:  14\n"
          ],
          "name": "stdout"
        }
      ]
    },
    {
      "cell_type": "code",
      "metadata": {
        "id": "wTYt_Dj8ikMO"
      },
      "source": [
        ""
      ],
      "execution_count": null,
      "outputs": []
    }
  ]
}