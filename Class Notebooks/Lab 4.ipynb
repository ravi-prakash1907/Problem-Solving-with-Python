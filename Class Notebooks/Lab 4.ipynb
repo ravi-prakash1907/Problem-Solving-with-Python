{
 "cells": [
  {
   "cell_type": "markdown",
   "metadata": {
    "colab_type": "text",
    "id": "view-in-github"
   },
   "source": [
    "<a href=\"https://colab.research.google.com/github/ravi-prakash1907/Problem-Solving-with-Python/blob/main/Class%20Notebooks/Lab%204.ipynb\" target=\"_parent\"><img src=\"https://colab.research.google.com/assets/colab-badge.svg\" alt=\"Open In Colab\"/></a>"
   ]
  },
  {
   "cell_type": "markdown",
   "metadata": {
    "id": "fNrW_LLaAOYO"
   },
   "source": [
    "# Lab 4"
   ]
  },
  {
   "cell_type": "markdown",
   "metadata": {
    "id": "53rHqUFyL8rc"
   },
   "source": [
    "## Session 1\n",
    "  \n",
    "The pdf of questions can be found [here](#)  \n",
    "\n",
    "## Conditional Statments\n",
    "### Sol. 1:\n",
    "```\n",
    "numOfStudents = 30\n",
    "numOfClass = 5\n",
    "totalStudents = numOfStudents * numOfClass\n",
    "print(totalStudents)\n",
    "```\n",
    "o/p  ```150```  \n",
    "  \n",
    "\n",
    "---\n",
    "## Session 2"
   ]
  },
  {
   "cell_type": "markdown",
   "metadata": {
    "id": "MQx0d6luEWPr"
   },
   "source": [
    "### Delimiter Symbols\n",
    "\n",
    "* ( )\n",
    "* [ ]\n",
    "* { }\n",
    "* ,\n",
    "* :\n",
    "* ;\n",
    "* =\n",
    "* +=\n",
    "* -=\n",
    "* \\>>\n",
    "* <<\n",
    "* =/  \n",
    "  \n",
    "etc..  \n",
    "\n"
   ]
  },
  {
   "cell_type": "markdown",
   "metadata": {
    "id": "x9W1hPvbFG1D"
   },
   "source": [
    "### Bitwise Operators"
   ]
  },
  {
   "cell_type": "code",
   "execution_count": null,
   "metadata": {
    "colab": {
     "base_uri": "https://localhost:8080/"
    },
    "id": "9rOy2Q-FFGCz",
    "outputId": "27249f22-db1b-48d3-a5b1-a433ed137da6"
   },
   "outputs": [
    {
     "data": {
      "text/plain": [
       "False"
      ]
     },
     "execution_count": 1,
     "metadata": {
      "tags": []
     },
     "output_type": "execute_result"
    }
   ],
   "source": [
    "True & False"
   ]
  },
  {
   "cell_type": "code",
   "execution_count": 2,
   "metadata": {
    "colab": {
     "base_uri": "https://localhost:8080/"
    },
    "id": "YS14guux_NHp",
    "outputId": "76ba2bbc-1458-4f31-9a96-69e192d98b1e"
   },
   "outputs": [
    {
     "data": {
      "text/plain": [
       "28"
      ]
     },
     "execution_count": 2,
     "metadata": {
      "tags": []
     },
     "output_type": "execute_result"
    }
   ],
   "source": [
    "12 | 16"
   ]
  },
  {
   "cell_type": "markdown",
   "metadata": {
    "id": "gsmBPHlLSTaC"
   },
   "source": [
    "---"
   ]
  },
  {
   "cell_type": "code",
   "execution_count": 5,
   "metadata": {
    "colab": {
     "base_uri": "https://localhost:8080/"
    },
    "id": "J0GHdM97IYRB",
    "outputId": "86190c93-45c0-443d-bb27-46c7115590f3"
   },
   "outputs": [
    {
     "name": "stdout",
     "output_type": "stream",
     "text": [
      "Interactive namespace is empty.\n"
     ]
    }
   ],
   "source": [
    "%whos"
   ]
  },
  {
   "cell_type": "markdown",
   "metadata": {
    "id": "J9tTuJ5zWz9J"
   },
   "source": [
    "## Keyword (Library)"
   ]
  },
  {
   "cell_type": "code",
   "execution_count": 7,
   "metadata": {
    "colab": {
     "base_uri": "https://localhost:8080/"
    },
    "id": "wvzbxKi2LuYa",
    "outputId": "cb27908f-517d-40ce-d2be-f57e631c6377"
   },
   "outputs": [
    {
     "name": "stdout",
     "output_type": "stream",
     "text": [
      "Python keywords are...\n",
      "['False', 'None', 'True', 'and', 'as', 'assert', 'break', 'class', 'continue', 'def', 'del', 'elif', 'else', 'except', 'finally', 'for', 'from', 'global', 'if', 'import', 'in', 'is', 'lambda', 'nonlocal', 'not', 'or', 'pass', 'raise', 'return', 'try', 'while', 'with', 'yield']\n"
     ]
    }
   ],
   "source": [
    "import keyword\n",
    "\n",
    "print(\"Python keywords are...\")\n",
    "print(keyword.kwlist)"
   ]
  },
  {
   "cell_type": "markdown",
   "metadata": {
    "id": "ssQuT89lYtZj"
   },
   "source": [
    "### Programming"
   ]
  },
  {
   "cell_type": "markdown",
   "metadata": {
    "id": "EvBK_x8GaN4j"
   },
   "source": [
    "Area of Rectangle"
   ]
  },
  {
   "cell_type": "code",
   "execution_count": 14,
   "metadata": {
    "colab": {
     "base_uri": "https://localhost:8080/"
    },
    "id": "kLFT1BQPYv2M",
    "outputId": "89c4c4a7-f0e5-4b46-8082-8746bcd5378e"
   },
   "outputs": [
    {
     "name": "stdout",
     "output_type": "stream",
     "text": [
      "Area of the rectangle is:  600 sq units\n"
     ]
    }
   ],
   "source": [
    "length = 20\n",
    "breadth = 30\n",
    "\n",
    "area = length * breadth\n",
    "print(\"Area of the rectangle is: \",area,\"sq units\")\n",
    "\n",
    "# O/P\n",
    "# Area of the rectangle is:  600 sq units"
   ]
  },
  {
   "cell_type": "markdown",
   "metadata": {
    "id": "3nvCpquiaTtA"
   },
   "source": [
    "Area of Circle"
   ]
  },
  {
   "cell_type": "code",
   "execution_count": 15,
   "metadata": {
    "colab": {
     "base_uri": "https://localhost:8080/"
    },
    "id": "-FfC_9g8Y-m2",
    "outputId": "4654d345-6b67-4d7d-bcfa-19f71a8f6172"
   },
   "outputs": [
    {
     "name": "stdout",
     "output_type": "stream",
     "text": [
      "Area of the circle is:  314.0 sq units\n"
     ]
    }
   ],
   "source": [
    "PI = 3.14\n",
    "radius = 10\n",
    "\n",
    "area = PI * radius**2\n",
    "print(\"Area of the circle is: \",area,\"sq units\")\n",
    "\n",
    "# O/P\n",
    "# Area of the circle is:  314.0 sq units"
   ]
  },
  {
   "cell_type": "markdown",
   "metadata": {
    "id": "tlrpzf1_cHpJ"
   },
   "source": [
    "Area for Dynamic Values"
   ]
  },
  {
   "cell_type": "code",
   "execution_count": 18,
   "metadata": {
    "id": "cPQYwUQxZ6Nf"
   },
   "outputs": [],
   "source": [
    "# for rectangle\n",
    "def areaR(l, b):\n",
    "  return l*b\n",
    "\n",
    "# for circle\n",
    "def areaC(r):\n",
    "  PI = 3.14\n",
    "  return PI * r**2"
   ]
  },
  {
   "cell_type": "code",
   "execution_count": 19,
   "metadata": {
    "colab": {
     "base_uri": "https://localhost:8080/"
    },
    "id": "1UAK1vxZc2_a",
    "outputId": "ee21e6c9-24d4-4687-b9b7-9b6076c89603"
   },
   "outputs": [
    {
     "name": "stdout",
     "output_type": "stream",
     "text": [
      "Given length: 20\n",
      "Given width: 30\n",
      "Area of the rectangle is:  600 sq units\n"
     ]
    }
   ],
   "source": [
    "length = int(input(\"Given length: \"))\n",
    "breadth = int(input(\"Given width: \"))\n",
    "\n",
    "print(\"Area of the rectangle is: \",areaR(length, breadth),\"sq units\")"
   ]
  },
  {
   "cell_type": "code",
   "execution_count": 20,
   "metadata": {
    "colab": {
     "base_uri": "https://localhost:8080/"
    },
    "id": "T-YENIMqdOwq",
    "outputId": "0cfad321-8261-4d81-9b2b-7ca7a1f3b091"
   },
   "outputs": [
    {
     "name": "stdout",
     "output_type": "stream",
     "text": [
      "Given radius: 10\n",
      "Area of the circle is:  314.0 sq units\n"
     ]
    }
   ],
   "source": [
    "radius = int(input(\"Given radius: \"))\n",
    "\n",
    "print(\"Area of the circle is: \",areaC(radius),\"sq units\")"
   ]
  },
  {
   "cell_type": "markdown",
   "metadata": {
    "id": "geMv-mX5d_LD"
   },
   "source": [
    "---\n",
    "\n",
    "Find the Gross Salary  \n",
    "I/P\n",
    "* basic salary  \n",
    "  \n",
    "Parameters  \n",
    "1. Sudha's basic salary\n",
    "2. Her allowances (i.e. 35% of basic)\n",
    "3. HRA (i.e. 20% of basic)"
   ]
  },
  {
   "cell_type": "code",
   "execution_count": 24,
   "metadata": {
    "colab": {
     "base_uri": "https://localhost:8080/"
    },
    "id": "Wj6IcFufdjuS",
    "outputId": "8ed40c6d-d968-44ac-99de-f12a547eb39f"
   },
   "outputs": [
    {
     "name": "stdout",
     "output_type": "stream",
     "text": [
      "Enter Sudha's basic salary (₹): 100\n",
      "Sudha's gross salary is: ₹ 155.0\n"
     ]
    }
   ],
   "source": [
    "# getting the basic salary as input\n",
    "basicSalary = int(input(\"Enter Sudha\\'s basic salary (₹): \"))\n",
    "\n",
    "# finding allowance (35% of basic salary)\n",
    "allowance = 0.35 * basicSalary\n",
    "\n",
    "# finding HRA (20% of basic salary)\n",
    "hra = 0.2 * basicSalary\n",
    "\n",
    "# canculating the gross salary\n",
    "grossSalary = basicSalary + allowance + hra\n",
    "\n",
    "# printing output\n",
    "print(\"Sudha\\'s gross salary is: ₹\",grossSalary)\n",
    "\n",
    "\n",
    "## O/P\n",
    "##\n",
    "## Sudha's basic salary (₹): 100\n",
    "## Gross salary is: ₹ 155.0"
   ]
  },
  {
   "cell_type": "code",
   "execution_count": 25,
   "metadata": {
    "id": "kXHNkJr9e5kI"
   },
   "outputs": [],
   "source": [
    "# Program 5: temperature of trivandrum in farenheit is the input, \n",
    "# write a program to convert into centigrade scale."
   ]
  },
  {
   "cell_type": "code",
   "execution_count": 26,
   "metadata": {
    "colab": {
     "base_uri": "https://localhost:8080/"
    },
    "id": "fbtX_b_ahYOE",
    "outputId": "84153540-da0f-4a72-bf0f-ab26a1cb023e"
   },
   "outputs": [
    {
     "name": "stdout",
     "output_type": "stream",
     "text": [
      "Temprature Of trivendram in farenheit100\n",
      "Temprature of trivendram in Celcius:  37.77777777777778 °\n"
     ]
    }
   ],
   "source": [
    "tempInF = int(input(\"Temprature Of trivendram in farenheit\"))\n",
    "tempInC = (tempInF - 32) * 5/9\n",
    "\n",
    "print(\"Temprature of trivendram in Celcius: \",tempInC,\"°\")"
   ]
  },
  {
   "cell_type": "code",
   "execution_count": 34,
   "metadata": {
    "colab": {
     "base_uri": "https://localhost:8080/"
    },
    "id": "7CjvsP9TiRZR",
    "outputId": "02c2ab24-3559-448b-9823-5b55d578c71a"
   },
   "outputs": [
    {
     "name": "stdout",
     "output_type": "stream",
     "text": [
      "Your number: 2345\n",
      "Sum of given 4 digit number is:  14\n"
     ]
    }
   ],
   "source": [
    "# getting a 4-digit number (initial 4 digits will only be considered)\n",
    "num = int(input(\"Your number: \"))\n",
    "\n",
    "# sum till ones place\n",
    "sum = num%10\n",
    "num //= 10\n",
    "\n",
    "# sum till tens place\n",
    "sum += num%10\n",
    "num //= 10\n",
    "\n",
    "# sum till hundreds place\n",
    "sum += num%10\n",
    "num //= 10\n",
    "\n",
    "# sum of initial 4 digits\n",
    "sum += num%10\n",
    "\n",
    "print(\"Sum of given 4 digit number is: \",sum)\n",
    "\n",
    "\n",
    "## O/P\n",
    "## \n",
    "## Your number: 2345   ------->  input\n",
    "## Sum of given 4 digit number is:  14"
   ]
  },
  {
   "cell_type": "markdown",
   "metadata": {
    "id": "YQ5Kc_RLlMyf"
   },
   "source": [
    "### Inbuilts"
   ]
  },
  {
   "cell_type": "code",
   "execution_count": 39,
   "metadata": {
    "colab": {
     "base_uri": "https://localhost:8080/"
    },
    "id": "wTYt_Dj8ikMO",
    "outputId": "e4d26ec1-6fc4-41ac-abbe-17f74891f3f1"
   },
   "outputs": [
    {
     "name": "stdout",
     "output_type": "stream",
     "text": [
      "26.56\n",
      "27\n",
      "2.457\n",
      "32\n"
     ]
    }
   ],
   "source": [
    "print(abs(-26.56))\n",
    "print(pow(3,3))\n",
    "print(round(2.4566743,3))\n",
    "print(ord(\" \")) # returns ASCII value of ' '"
   ]
  },
  {
   "cell_type": "markdown",
   "metadata": {
    "id": "vekYTQTuk6Am"
   },
   "source": [
    "## Assignment  "
   ]
  },
  {
   "cell_type": "markdown",
   "metadata": {
    "id": "w8U8vv7qoHgx"
   },
   "source": [
    "Compound Interest"
   ]
  },
  {
   "cell_type": "code",
   "execution_count": 11,
   "metadata": {
    "id": "DkHwAuJxoKlu"
   },
   "outputs": [
    {
     "name": "stdin",
     "output_type": "stream",
     "text": [
      "Enter the principle amount:  2390.76\n",
      "Enter the rate of interest, per year(in %):  11.20\n",
      "Enter total duration(in years):  3\n"
     ]
    },
    {
     "name": "stdout",
     "output_type": "stream",
     "text": [
      "\n",
      "Compound Interest is:  896.62\n"
     ]
    }
   ],
   "source": [
    "# scanning inputs\n",
    "\n",
    "# getting principle amount\n",
    "principle = float(input(\"Enter the principle amount: \"))\n",
    "# getting interest rate\n",
    "rate = float(input(\"Enter the rate of interest, per year(in %): \"))\n",
    "# getting time \n",
    "duration = int(input(\"Enter total duration(in years): \"))\n",
    "\n",
    "# applying CI formula to find the final amount after applying \n",
    "# compound interest for given time duration\n",
    "finalPayableAmt = round(principle * (pow((1 + rate/100), duration)), 2)\n",
    "\n",
    "# finding the Compound Interest alone out of total amount\n",
    "CI = round((finalPayableAmt - principle), 2) # rounded upto 2 decimal places\n",
    "\n",
    "# output\n",
    "print(\"\\nCompound Interest is: \",CI) \n",
    "\n",
    "\n",
    "## O/P\n",
    "##\n",
    "## Enter the principle amount:  2390.76\n",
    "## Enter the rate of interest, per year(in %):  11.20\n",
    "## Enter total duration(in years):  3\n",
    "##\n",
    "## Compound Interest is:  896.62"
   ]
  },
  {
   "cell_type": "markdown",
   "metadata": {
    "id": "9cPQlSmGngjN"
   },
   "source": [
    "Hypotenuse of a Right Triangle\n"
   ]
  },
  {
   "cell_type": "code",
   "execution_count": 4,
   "metadata": {
    "id": "LpeBuWqKne--"
   },
   "outputs": [
    {
     "name": "stdin",
     "output_type": "stream",
     "text": [
      "Base of given right-triangle:  3\n",
      "Height of given right-triangle:  4\n"
     ]
    },
    {
     "name": "stdout",
     "output_type": "stream",
     "text": [
      "\n",
      "Hypotenuse of the of given right-triangle is:  5.0 units\n"
     ]
    }
   ],
   "source": [
    "# importing the square root function\n",
    "from math import sqrt\n",
    "\n",
    "# getting base\n",
    "base = int(input(\"Base of given right-triangle: \"))\n",
    "# getting height\n",
    "height = int(input(\"Height of given right-triangle: \"))\n",
    "\n",
    "# finding hypotenuous using formula\n",
    "hypotenuse = sqrt(pow(base,2) + pow(height,2))\n",
    "\n",
    "# printing the result\n",
    "print(\"\\nHypotenuse of the of given right-triangle is: \",hypotenuse,\"units\")\n",
    "\n",
    "\n",
    "\n",
    "## O/P\n",
    "##\n",
    "## Base of given right-triangle:  3\n",
    "## Height of given right-triangle:  4\n",
    "\n",
    "## Hypotenuse of the of given right-triangle is:  5.0 units"
   ]
  },
  {
   "cell_type": "markdown",
   "metadata": {
    "id": "KlYNEO4zoLvv"
   },
   "source": [
    "Diff. b/w ascii code of upper and lower case (same) letter"
   ]
  },
  {
   "cell_type": "code",
   "execution_count": 34,
   "metadata": {
    "id": "U1IxaEqPlLm2"
   },
   "outputs": [
    {
     "name": "stdin",
     "output_type": "stream",
     "text": [
      "Enter you fevorate alphabet:  a\n"
     ]
    },
    {
     "name": "stdout",
     "output_type": "stream",
     "text": [
      "Differance between Upper and Lower case ASCII values of your fav. charector is:  32\n"
     ]
    }
   ],
   "source": [
    "# getting the charector\n",
    "char1 = input(\"Enter you fevorate alphabet: \")\n",
    "\n",
    "# checking that user has entered only single alphabet or not\n",
    "if len(char1) == 1 and char1.isalpha():\n",
    "    # finding the other varient of the same alphabet\n",
    "    if char1.islower():\n",
    "        char2 = char1.upper()\n",
    "    else:\n",
    "        char2 = char1.lower()\n",
    "    \n",
    "    # finding differance \n",
    "    diff = abs(ord(char1)-ord(char2))\n",
    "    print(\"Differance between Upper and Lower case ASCII values of your fav. charector is: \",diff)\n",
    "else:\n",
    "    print(\"Invalid input!!\")"
   ]
  },
  {
   "cell_type": "markdown",
   "metadata": {
    "id": "1mR3C5Evoxh1"
   },
   "source": [
    "You have the denominations, Rs. 100, 50, 20, 10, 5, 2, 1. Take an amount as input. Find the minimum number of notes required."
   ]
  },
  {
   "cell_type": "code",
   "execution_count": 16,
   "metadata": {
    "id": "Oe5oJJreoyJq"
   },
   "outputs": [
    {
     "name": "stdin",
     "output_type": "stream",
     "text": [
      "Enter total amount of money:  1255\n"
     ]
    },
    {
     "name": "stdout",
     "output_type": "stream",
     "text": [
      "Can not hold a note of 2\n",
      "Can not hold a note of 1\n",
      "\n",
      "Total notes needed:  14\n"
     ]
    }
   ],
   "source": [
    "totalAmount = int(input(\"Enter total amount of money: \"))\n",
    "\n",
    "# init every note count\n",
    "hundrads =0\n",
    "fifties = 0\n",
    "twenties = 0\n",
    "tens = 0\n",
    "fives = 0\n",
    "twos = 0\n",
    "ones = 0\n",
    "\n",
    "## counting every note\n",
    "if (totalAmount / 100) != 0:\n",
    "    hundrads = totalAmount//100\n",
    "    totalAmount %= 100\n",
    "else:\n",
    "    print(\"Can not hold a note of 100\")\n",
    "\n",
    "if (totalAmount / 50) != 0:\n",
    "    fifties = totalAmount//50\n",
    "    totalAmount %= 50\n",
    "else:\n",
    "    print(\"Can not hold a note of 50\")\n",
    "\n",
    "if (totalAmount / 20) != 0:\n",
    "    twenties = totalAmount//20\n",
    "    totalAmount %= 20\n",
    "else:\n",
    "    print(\"Can not hold a note of 20\")\n",
    "\n",
    "if (totalAmount / 10) != 0:\n",
    "    tens = totalAmount//10\n",
    "    totalAmount %= 10\n",
    "else:\n",
    "    print(\"Can not hold a note of 10\")\n",
    "\n",
    "if (totalAmount / 5) != 0:\n",
    "    fives = totalAmount//5\n",
    "    totalAmount %= 5\n",
    "else:\n",
    "    print(\"Can not hold a note of 5\")\n",
    "\n",
    "if (totalAmount / 2) != 0:\n",
    "    twos = totalAmount//2\n",
    "    totalAmount %= 2\n",
    "else:\n",
    "    print(\"Can not hold a note of 2\")\n",
    "\n",
    "ones = totalAmount\n",
    "if ones == 0:\n",
    "    print(\"Can not hold a note of 1\")\n",
    "\n",
    "# total notes\n",
    "noteCount = hundrads + fifties + twenties + tens + fives + twos + ones\n",
    "\n",
    "print(\"\\nTotal notes needed: \",noteCount)\n",
    "\n",
    "\n",
    "##############\n",
    "\n",
    "## O/P\n",
    "## \n",
    "## Enter total amount of money:  1255\n",
    "\n",
    "## Can not hold a note of 2\n",
    "## Can not hold a note of 1\n",
    "##\n",
    "## Total notes needed:  14"
   ]
  },
  {
   "cell_type": "code",
   "execution_count": 8,
   "metadata": {},
   "outputs": [
    {
     "data": {
      "text/plain": [
       "34"
      ]
     },
     "execution_count": 8,
     "metadata": {},
     "output_type": "execute_result"
    }
   ],
   "source": [
    "34 % 50"
   ]
  },
  {
   "cell_type": "code",
   "execution_count": null,
   "metadata": {},
   "outputs": [],
   "source": []
  }
 ],
 "metadata": {
  "colab": {
   "authorship_tag": "ABX9TyOTz32XrkdPk/mhkx+5yCuC",
   "include_colab_link": true,
   "name": "Untitled1.ipynb",
   "provenance": []
  },
  "kernelspec": {
   "display_name": "Python 3",
   "language": "python",
   "name": "python3"
  },
  "language_info": {
   "codemirror_mode": {
    "name": "ipython",
    "version": 3
   },
   "file_extension": ".py",
   "mimetype": "text/x-python",
   "name": "python",
   "nbconvert_exporter": "python",
   "pygments_lexer": "ipython3",
   "version": "3.8.3"
  }
 },
 "nbformat": 4,
 "nbformat_minor": 4
}
