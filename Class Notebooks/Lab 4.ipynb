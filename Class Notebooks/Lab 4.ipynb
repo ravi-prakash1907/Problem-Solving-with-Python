{
  "nbformat": 4,
  "nbformat_minor": 0,
  "metadata": {
    "colab": {
      "name": "Untitled1.ipynb",
      "provenance": [],
      "authorship_tag": "ABX9TyPvm4hFbHBN725OMFziFt/g",
      "include_colab_link": true
    },
    "kernelspec": {
      "name": "python3",
      "display_name": "Python 3"
    }
  },
  "cells": [
    {
      "cell_type": "markdown",
      "metadata": {
        "id": "view-in-github",
        "colab_type": "text"
      },
      "source": [
        "<a href=\"https://colab.research.google.com/github/ravi-prakash1907/Problem-Solving-with-Python/blob/main/Class%20Notebooks/Lab%204.ipynb\" target=\"_parent\"><img src=\"https://colab.research.google.com/assets/colab-badge.svg\" alt=\"Open In Colab\"/></a>"
      ]
    },
    {
      "cell_type": "markdown",
      "metadata": {
        "id": "fNrW_LLaAOYO"
      },
      "source": [
        "# Lab 4"
      ]
    },
    {
      "cell_type": "markdown",
      "metadata": {
        "id": "MQx0d6luEWPr"
      },
      "source": [
        "### Delimiter Symbols\n",
        "\n",
        "* ( )\n",
        "* [ ]\n",
        "* { }\n",
        "* ,\n",
        "* :\n",
        "* ;\n",
        "* =\n",
        "* +=\n",
        "* -=\n",
        "* \\>>\n",
        "* <<\n",
        "* =/  \n",
        "  \n",
        "etc..  \n",
        "\n"
      ]
    },
    {
      "cell_type": "markdown",
      "metadata": {
        "id": "x9W1hPvbFG1D"
      },
      "source": [
        "### Bitwise Operators"
      ]
    },
    {
      "cell_type": "code",
      "metadata": {
        "id": "9rOy2Q-FFGCz",
        "outputId": "27249f22-db1b-48d3-a5b1-a433ed137da6",
        "colab": {
          "base_uri": "https://localhost:8080/"
        }
      },
      "source": [
        "True & False"
      ],
      "execution_count": 1,
      "outputs": [
        {
          "output_type": "execute_result",
          "data": {
            "text/plain": [
              "False"
            ]
          },
          "metadata": {
            "tags": []
          },
          "execution_count": 1
        }
      ]
    },
    {
      "cell_type": "code",
      "metadata": {
        "id": "YS14guux_NHp"
      },
      "source": [
        ""
      ],
      "execution_count": null,
      "outputs": []
    }
  ]
}