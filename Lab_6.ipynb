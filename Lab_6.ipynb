{
  "nbformat": 4,
  "nbformat_minor": 0,
  "metadata": {
    "colab": {
      "name": "Lab 6.ipynb",
      "provenance": [],
      "collapsed_sections": [],
      "authorship_tag": "ABX9TyPqwYfNGFYKJgmHmkvOQ4oD",
      "include_colab_link": true
    },
    "kernelspec": {
      "name": "python3",
      "display_name": "Python 3"
    }
  },
  "cells": [
    {
      "cell_type": "markdown",
      "metadata": {
        "id": "view-in-github",
        "colab_type": "text"
      },
      "source": [
        "<a href=\"https://colab.research.google.com/github/ravi-prakash1907/Problem-Solving-with-Python/blob/main/Lab_6.ipynb\" target=\"_parent\"><img src=\"https://colab.research.google.com/assets/colab-badge.svg\" alt=\"Open In Colab\"/></a>"
      ]
    },
    {
      "cell_type": "markdown",
      "metadata": {
        "id": "goyEZUu5rY8F"
      },
      "source": [
        "# Lab 6"
      ]
    },
    {
      "cell_type": "markdown",
      "metadata": {
        "id": "F6Xdl7TJ3Wh9"
      },
      "source": [
        "## Theory Session"
      ]
    },
    {
      "cell_type": "markdown",
      "metadata": {
        "id": "IjQLJWDT3cJT"
      },
      "source": [
        "1. Conditional O/P\n",
        "2. Relational O/P  \n",
        "  * String Comparision (==, !=, >, <,)\n",
        "  * Comparing string & number (valid for == and !=)"
      ]
    },
    {
      "cell_type": "code",
      "metadata": {
        "id": "V76rvhQO1y4T",
        "outputId": "38e1cd72-3622-4dba-ea67-d3ec427d36cd",
        "colab": {
          "base_uri": "https://localhost:8080/"
        }
      },
      "source": [
        "## String Comp.\n",
        "print('as' > 'ask')\n",
        "print('Hi' == 'Hi')\n",
        "print('hi' > 'at')\n",
        "print('HI' != 'Hi')\n",
        "print('at' > 'ask')\n",
        "print('as' < 'at')\n"
      ],
      "execution_count": 3,
      "outputs": [
        {
          "output_type": "stream",
          "text": [
            "False\n",
            "True\n",
            "True\n",
            "True\n",
            "True\n",
            "True\n"
          ],
          "name": "stdout"
        }
      ]
    },
    {
      "cell_type": "markdown",
      "metadata": {
        "id": "UMSSNxWu5Jq4"
      },
      "source": [
        "### Topics\n",
        "1. Control Statements\n",
        "  * Iterative Controle Structure\n",
        "  * Iterative Controle Statements or Loops\n",
        "2. Loops\n",
        "  * While\n",
        "  * For"
      ]
    },
    {
      "cell_type": "code",
      "metadata": {
        "id": "6idCZy9T4i82",
        "outputId": "f65b72ce-9374-489e-d71d-8985d41f549b",
        "colab": {
          "base_uri": "https://localhost:8080/"
        }
      },
      "source": [
        "## while lop\n",
        "n = 1\n",
        "\n",
        "while n <= 10:\n",
        "  print(n)\n",
        "  n += 1"
      ],
      "execution_count": 7,
      "outputs": [
        {
          "output_type": "stream",
          "text": [
            "1\n",
            "2\n",
            "3\n",
            "4\n",
            "5\n",
            "6\n",
            "7\n",
            "8\n",
            "9\n",
            "10\n"
          ],
          "name": "stdout"
        }
      ]
    },
    {
      "cell_type": "code",
      "metadata": {
        "id": "t_3ADZoz6Vbb",
        "outputId": "5684c2e1-5f94-45a6-d4c0-39a3c36e14bd",
        "colab": {
          "base_uri": "https://localhost:8080/"
        }
      },
      "source": [
        "sum = 0\n",
        "current = 1\n",
        "\n",
        "n = int(input(\"Enter value: \"))\n",
        "\n",
        "while current <= n:\n",
        "  sum += current\n",
        "  current += 1\n",
        "\n",
        "print(sum)"
      ],
      "execution_count": 5,
      "outputs": [
        {
          "output_type": "stream",
          "text": [
            "Enter value: 5\n",
            "15\n"
          ],
          "name": "stdout"
        }
      ]
    },
    {
      "cell_type": "code",
      "metadata": {
        "id": "B9V1GKen7nm9",
        "outputId": "6c6c7a57-2776-4e65-9760-0436d43b3418",
        "colab": {
          "base_uri": "https://localhost:8080/"
        }
      },
      "source": [
        "## Temprature Conversion\n",
        "print(\"Press 'F' to covert from Celsius to Fahrenheit: \")\n",
        "print(\"Press 'C' to covert from Fahrenheit to Celsius: \")\n",
        "\n",
        "which = input(\"Enter selection: \")\n",
        "\n",
        "while which != 'F' and which != 'C':\n",
        "  which = input(\"Enter 'F' or 'C': \")\n",
        "\n",
        "temp = input(\"Enter the temprature: \")\n",
        "\n",
        "while temp:\n",
        "  temp = int(temp)\n",
        "  if which == 'F':\n",
        "    convert = format((9/5 * temp) + 32, '.1f')\n",
        "    print(temp,'deg. Celsius = ',convert,\"deg. Fahrenheit\")\n",
        "  else:\n",
        "    convert = format((temp - 32) * (5/9), '.1f')\n",
        "    print(temp,'deg. Fahrenheit = ',convert,\"deg. Celsius\")\n",
        "  temp = input(\"Enter the temprature: \")"
      ],
      "execution_count": 27,
      "outputs": [
        {
          "output_type": "stream",
          "text": [
            "Press 'F' to covert from Celsius to Fahrenheit: \n",
            "Press 'C' to covert from Fahrenheit to Celsius: \n",
            "Enter selection: F\n",
            "Enter the temprature: 32\n",
            "32 deg. Celsius =  89.6 deg. Fahrenheit\n",
            "Enter the temprature: 0\n",
            "0 deg. Celsius =  32.0 deg. Fahrenheit\n",
            "Enter the temprature: \n"
          ],
          "name": "stdout"
        }
      ]
    },
    {
      "cell_type": "markdown",
      "metadata": {
        "id": "PdxyAQtG-ANk"
      },
      "source": [
        "1. Infinite Loop  \n",
        "Runs infinite times\n",
        "\n",
        "2. Definate Loops   \n",
        "Before the loops' execution if the number of iteration are known \n",
        "\n",
        "3. Indefinate Loops  \n",
        "Before the loops' execution if the number of iteration are NOT known \n",
        "\n",
        "4. Boolean Flags"
      ]
    },
    {
      "cell_type": "code",
      "metadata": {
        "id": "yGUhrE3S-ZPm"
      },
      "source": [
        "## milage"
      ],
      "execution_count": 6,
      "outputs": []
    },
    {
      "cell_type": "code",
      "metadata": {
        "id": "HKGV-RVACtlp",
        "outputId": "85988aa8-b562-486e-991f-b544430a6dc1",
        "colab": {
          "base_uri": "https://localhost:8080/"
        }
      },
      "source": [
        "## for loop\n",
        "for k in [10,20,30,40]:\n",
        "  print(5)\n",
        "\n",
        "for k in [10,20,30,40]:\n",
        "  print(k)\n",
        "\n",
        "for k in 'Hello':\n",
        "  print(k)"
      ],
      "execution_count": 11,
      "outputs": [
        {
          "output_type": "stream",
          "text": [
            "5\n",
            "5\n",
            "5\n",
            "5\n",
            "10\n",
            "20\n",
            "30\n",
            "40\n",
            "H\n",
            "e\n",
            "l\n",
            "l\n",
            "o\n"
          ],
          "name": "stdout"
        }
      ]
    },
    {
      "cell_type": "code",
      "metadata": {
        "id": "yg12Qfd4DJE4",
        "outputId": "f18309cc-a9ee-4638-a6d3-6f15a18e58fd",
        "colab": {
          "base_uri": "https://localhost:8080/"
        }
      },
      "source": [
        "## custom increament instead of 1\n",
        "# range(beg, end, incrementBy)\n",
        "# range() works for integers only!!!!!!!!\n",
        "\n",
        "for x in range(0,101, 10):\n",
        "  print(x)\n",
        "\n",
        "print(\"\\n\")\n",
        "\n",
        "for x in range(100,-1, -10):\n",
        "  print(x)"
      ],
      "execution_count": 15,
      "outputs": [
        {
          "output_type": "stream",
          "text": [
            "0\n",
            "10\n",
            "20\n",
            "30\n",
            "40\n",
            "50\n",
            "60\n",
            "70\n",
            "80\n",
            "90\n",
            "100\n",
            "\n",
            "\n",
            "100\n",
            "90\n",
            "80\n",
            "70\n",
            "60\n",
            "50\n",
            "40\n",
            "30\n",
            "20\n",
            "10\n",
            "0\n"
          ],
          "name": "stdout"
        }
      ]
    },
    {
      "cell_type": "code",
      "metadata": {
        "id": "bpfaBXFtIyR-",
        "outputId": "f59594ce-b5aa-42ff-f8f4-84cb63ed4d72",
        "colab": {
          "base_uri": "https://localhost:8080/"
        }
      },
      "source": [
        "for x in range(10) :\n",
        "  print(x)"
      ],
      "execution_count": 16,
      "outputs": [
        {
          "output_type": "stream",
          "text": [
            "0\n",
            "1\n",
            "2\n",
            "3\n",
            "4\n",
            "5\n",
            "6\n",
            "7\n",
            "8\n",
            "9\n"
          ],
          "name": "stdout"
        }
      ]
    },
    {
      "cell_type": "code",
      "metadata": {
        "id": "wTe-_bOLJKtd",
        "outputId": "4d2900ed-fb1f-428d-9ac4-70957ac773e7",
        "colab": {
          "base_uri": "https://localhost:8080/"
        }
      },
      "source": [
        "for n in range(1,10,2):\n",
        "  print(n, n*n)"
      ],
      "execution_count": 17,
      "outputs": [
        {
          "output_type": "stream",
          "text": [
            "1 1\n",
            "3 9\n",
            "5 25\n",
            "7 49\n",
            "9 81\n"
          ],
          "name": "stdout"
        }
      ]
    },
    {
      "cell_type": "code",
      "metadata": {
        "id": "2qgZtgPCJ0V-",
        "outputId": "d676314a-ccd9-4910-d5e2-18dfa02f2eac",
        "colab": {
          "base_uri": "https://localhost:8080/"
        }
      },
      "source": [
        "sum = 0\n",
        "\n",
        "for k in range(1,5):\n",
        "  sum += k\n",
        "\n",
        "print(sum)"
      ],
      "execution_count": 18,
      "outputs": [
        {
          "output_type": "stream",
          "text": [
            "10\n"
          ],
          "name": "stdout"
        }
      ]
    },
    {
      "cell_type": "code",
      "metadata": {
        "id": "_P51wSEMJ8xP",
        "outputId": "916434e7-edd9-4b6a-84b1-7468985c74f7",
        "colab": {
          "base_uri": "https://localhost:8080/"
        }
      },
      "source": [
        "for i in range(7):\n",
        "  for j in range(1,i+2):\n",
        "    print(j, end=\"\")\n",
        "  print()"
      ],
      "execution_count": 21,
      "outputs": [
        {
          "output_type": "stream",
          "text": [
            "1\n",
            "12\n",
            "123\n",
            "1234\n",
            "12345\n",
            "123456\n",
            "1234567\n"
          ],
          "name": "stdout"
        }
      ]
    },
    {
      "cell_type": "markdown",
      "metadata": {
        "id": "6UPdxc4LLaA8"
      },
      "source": [
        "Break Statement"
      ]
    },
    {
      "cell_type": "code",
      "metadata": {
        "id": "gBFzKytAK5md",
        "outputId": "a0c2633d-275c-45ad-be5a-b30b060ade38",
        "colab": {
          "base_uri": "https://localhost:8080/"
        }
      },
      "source": [
        "# altering temprature conversion\n",
        "temp = input(\"Enter the temprature: \")\n",
        "\n",
        "while True:\n",
        "  if not temp:\n",
        "    break\n",
        "  \n",
        "  temp = int(temp)\n",
        "  \n",
        "  convert = format((9/5 * temp) + 32, '.1f')\n",
        "  print(temp,'deg. Celsius = ',convert,\"deg. Fahrenheit\")\n",
        "  temp = input(\"\\nEnter the temprature: \")"
      ],
      "execution_count": 31,
      "outputs": [
        {
          "output_type": "stream",
          "text": [
            "Enter the temprature: 32\n",
            "32 deg. Celsius =  89.6 deg. Fahrenheit\n",
            "\n",
            "Enter the temprature: \n"
          ],
          "name": "stdout"
        }
      ]
    },
    {
      "cell_type": "markdown",
      "metadata": {
        "id": "oSyoqCQQNeO8"
      },
      "source": [
        "Continue Statement"
      ]
    },
    {
      "cell_type": "code",
      "metadata": {
        "id": "DlZqCsc_NcqU",
        "outputId": "f2e64b2a-8c69-4d89-9b2c-edccedcfe9de",
        "colab": {
          "base_uri": "https://localhost:8080/"
        }
      },
      "source": [
        "while 1:\n",
        "  n = int(input(\"Number:\"))\n",
        "  if n <= 0:\n",
        "    continue\n",
        "  else:\n",
        "    print(n**0.5)\n",
        "    break"
      ],
      "execution_count": 24,
      "outputs": [
        {
          "output_type": "stream",
          "text": [
            "Number:24\n",
            "4.898979485566356\n"
          ],
          "name": "stdout"
        }
      ]
    },
    {
      "cell_type": "markdown",
      "metadata": {
        "id": "zA-ftJYirO56"
      },
      "source": [
        "# Lab Session"
      ]
    },
    {
      "cell_type": "code",
      "metadata": {
        "id": "Z0TXbDi_h5Lu"
      },
      "source": [
        ""
      ],
      "execution_count": null,
      "outputs": []
    }
  ]
}