{
  "nbformat": 4,
  "nbformat_minor": 0,
  "metadata": {
    "colab": {
      "name": "End Sem Exam.ipynb",
      "provenance": [],
      "authorship_tag": "ABX9TyOr2+CncYefB1HbGhJ1mA2F",
      "include_colab_link": true
    },
    "kernelspec": {
      "name": "python3",
      "display_name": "Python 3"
    }
  },
  "cells": [
    {
      "cell_type": "markdown",
      "metadata": {
        "id": "view-in-github",
        "colab_type": "text"
      },
      "source": [
        "<a href=\"https://colab.research.google.com/github/ravi-prakash1907/Problem-Solving-with-Python/blob/main/Submissions/End_Sem_Exam.ipynb\" target=\"_parent\"><img src=\"https://colab.research.google.com/assets/colab-badge.svg\" alt=\"Open In Colab\"/></a>"
      ]
    },
    {
      "cell_type": "markdown",
      "metadata": {
        "id": "rEbvtHlZg3do"
      },
      "source": [
        "# **End Sem Exam**"
      ]
    },
    {
      "cell_type": "code",
      "metadata": {
        "colab": {
          "base_uri": "https://localhost:8080/"
        },
        "id": "QZjyLXHMg1ox",
        "outputId": "0b050679-dd8c-4847-ff2f-d39b81861a61"
      },
      "source": [
        "print(\"I'm ready!!\")"
      ],
      "execution_count": 1,
      "outputs": [
        {
          "output_type": "stream",
          "text": [
            "I'm ready!!\n"
          ],
          "name": "stdout"
        }
      ]
    },
    {
      "cell_type": "code",
      "metadata": {
        "id": "DB-VcFOPhFPb"
      },
      "source": [
        "def convertFromDec(decNum, lebel):\n",
        "  if lebel is 'b':\n",
        "    return bin(decNum)[2:] # dec to bin\n",
        "  elif lebel is 'h':\n",
        "    return hex(decNum)[2:] # dec to hex\n",
        "  elif lebel is 'o':\n",
        "    return oct(decNum)[2:] # dec to oct"
      ],
      "execution_count": 9,
      "outputs": []
    },
    {
      "cell_type": "code",
      "metadata": {
        "colab": {
          "base_uri": "https://localhost:8080/",
          "height": 35
        },
        "id": "wR0gPevRhxT0",
        "outputId": "aefd32da-0ca4-4005-f160-fbd11982b167"
      },
      "source": [
        "convertFromDec(12, 'h')"
      ],
      "execution_count": 10,
      "outputs": [
        {
          "output_type": "execute_result",
          "data": {
            "application/vnd.google.colaboratory.intrinsic+json": {
              "type": "string"
            },
            "text/plain": [
              "'c'"
            ]
          },
          "metadata": {
            "tags": []
          },
          "execution_count": 10
        }
      ]
    },
    {
      "cell_type": "code",
      "metadata": {
        "id": "UBwCQO5EiubI"
      },
      "source": [
        "def Calc(x, y, z = 5):\n",
        "\tprint('Hi')"
      ],
      "execution_count": 14,
      "outputs": []
    },
    {
      "cell_type": "code",
      "metadata": {
        "colab": {
          "base_uri": "https://localhost:8080/"
        },
        "id": "xHU0BZKfjR_D",
        "outputId": "f52b2421-035a-44c4-ec64-2cbee4b77ff3"
      },
      "source": [
        "k = True\n",
        "if k:\n",
        "\t\tprint('Hello')\n",
        "else:\n",
        "\tprint(3/(6 - 3*2))"
      ],
      "execution_count": 22,
      "outputs": [
        {
          "output_type": "stream",
          "text": [
            "Hello\n"
          ],
          "name": "stdout"
        }
      ]
    },
    {
      "cell_type": "code",
      "metadata": {
        "colab": {
          "base_uri": "https://localhost:8080/"
        },
        "id": "31wqZm2KkJrs",
        "outputId": "797e6051-2795-44b0-e433-f0ba0bd02967"
      },
      "source": [
        "lenInSec = 2*60\n",
        "samplesPerSec = 201\n",
        "\n",
        "totalSamples = lenInSec * samplesPerSec\n",
        "sizePerSemple = 8 #bits\n",
        "\n",
        "totalSpeechSize = totalSamples * sizePerSemple ## in bits\n",
        "\n",
        "print(totalSpeechSize,\"bits\")"
      ],
      "execution_count": 24,
      "outputs": [
        {
          "output_type": "stream",
          "text": [
            "192960 bits\n"
          ],
          "name": "stdout"
        }
      ]
    },
    {
      "cell_type": "code",
      "metadata": {
        "colab": {
          "base_uri": "https://localhost:8080/"
        },
        "id": "vn9YJHHBkmcn",
        "outputId": "edd1497b-facc-4499-fbb0-d1d663e424c8"
      },
      "source": [
        "Run = EraseRun = Erase = 2\n",
        "\n",
        "Cmds=('Run',Run),('Erase & Run',EraseRun),('Erase',Erase)\n",
        "\n",
        "type(Cmds[1])\n"
      ],
      "execution_count": 29,
      "outputs": [
        {
          "output_type": "execute_result",
          "data": {
            "text/plain": [
              "tuple"
            ]
          },
          "metadata": {
            "tags": []
          },
          "execution_count": 29
        }
      ]
    },
    {
      "cell_type": "code",
      "metadata": {
        "colab": {
          "base_uri": "https://localhost:8080/"
        },
        "id": "Q1ngdwOXlIJh",
        "outputId": "572b9ae2-b4dc-4844-8bc0-ef47c90b05d1"
      },
      "source": [
        "Cmds"
      ],
      "execution_count": 28,
      "outputs": [
        {
          "output_type": "execute_result",
          "data": {
            "text/plain": [
              "(('Run', 2), ('Erase & Run', 2), ('Erase', 2))"
            ]
          },
          "metadata": {
            "tags": []
          },
          "execution_count": 28
        }
      ]
    },
    {
      "cell_type": "code",
      "metadata": {
        "colab": {
          "base_uri": "https://localhost:8080/",
          "height": 35
        },
        "id": "ZZLOFCD-lajY",
        "outputId": "c985423f-121b-489a-e367-9e8471a260da"
      },
      "source": [
        "x = 9.96\n",
        "format(x, '.1f')"
      ],
      "execution_count": 31,
      "outputs": [
        {
          "output_type": "execute_result",
          "data": {
            "application/vnd.google.colaboratory.intrinsic+json": {
              "type": "string"
            },
            "text/plain": [
              "'10.0'"
            ]
          },
          "metadata": {
            "tags": []
          },
          "execution_count": 31
        }
      ]
    },
    {
      "cell_type": "code",
      "metadata": {
        "id": "9ahQ7o3Ilnl-"
      },
      "source": [
        "def check(orgNum):\n",
        "  #orgNum = int(input('num: '))\n",
        "  num= orgNum\n",
        "\n",
        "  revNum = 0\n",
        "\n",
        "  while num != 0:\n",
        "    lastDig = num%10\n",
        "    revNum = revNum * 10 + lastDig\n",
        "    num = (num - lastDig) / 10\n",
        "\n",
        "\n",
        "  if orgNum == revNum:\n",
        "      print(\"Yes\")\n",
        "  else:\n",
        "      print(\"No\")\n"
      ],
      "execution_count": 35,
      "outputs": []
    },
    {
      "cell_type": "code",
      "metadata": {
        "colab": {
          "base_uri": "https://localhost:8080/"
        },
        "id": "ny4ug2rnnsST",
        "outputId": "121ba354-62de-4d94-d89f-52b3fcc42d3a"
      },
      "source": [
        "check(5)\n",
        "check(88)\n",
        "check(72)\n",
        "check(0)"
      ],
      "execution_count": 36,
      "outputs": [
        {
          "output_type": "stream",
          "text": [
            "Yes\n",
            "Yes\n",
            "No\n",
            "Yes\n"
          ],
          "name": "stdout"
        }
      ]
    },
    {
      "cell_type": "code",
      "metadata": {
        "colab": {
          "base_uri": "https://localhost:8080/"
        },
        "id": "zSHP3X2OoRst",
        "outputId": "d24be0d1-6465-40df-eb62-4b683a031ea1"
      },
      "source": [
        "def func2(xlist):\n",
        "\tfor i in range(len(xlist) - 1):\n",
        "\t\tif xlist[i] + xlist[i + 1] == 0:\n",
        "\t\t\treturn True\n",
        "\treturn False\n",
        "\n",
        "val = -5\n",
        "print(func2([3, 4, 5, val]))"
      ],
      "execution_count": 38,
      "outputs": [
        {
          "output_type": "stream",
          "text": [
            "True\n"
          ],
          "name": "stdout"
        }
      ]
    },
    {
      "cell_type": "code",
      "metadata": {
        "colab": {
          "base_uri": "https://localhost:8080/"
        },
        "id": "lJ3-36Ynocow",
        "outputId": "6d5b7042-19b3-4065-8b4a-7d2a11ae9964"
      },
      "source": [
        "A = 5\n",
        "B = 10\n",
        "A = B\n",
        "B = A\n",
        "print(\"A = {}, B= {}\".format(A,B))"
      ],
      "execution_count": 40,
      "outputs": [
        {
          "output_type": "stream",
          "text": [
            "A = 10, B= 10\n"
          ],
          "name": "stdout"
        }
      ]
    },
    {
      "cell_type": "code",
      "metadata": {
        "colab": {
          "base_uri": "https://localhost:8080/"
        },
        "id": "Kp-bO49PpGrC",
        "outputId": "79372955-8966-4fde-e64c-d5ef5a1c3425"
      },
      "source": [
        "def Product(j, k):\n",
        "   n1 = j\n",
        "   n2 = k\n",
        "   n = n1 * n2\n",
        "   print(n)\n",
        "   return n\n",
        "\n",
        "print(2)\n",
        "out = Product(2, 3)\n",
        "out = out * 5\n",
        "print(out) "
      ],
      "execution_count": 41,
      "outputs": [
        {
          "output_type": "stream",
          "text": [
            "2\n",
            "6\n",
            "30\n"
          ],
          "name": "stdout"
        }
      ]
    },
    {
      "cell_type": "code",
      "metadata": {
        "colab": {
          "base_uri": "https://localhost:8080/"
        },
        "id": "ATxoG-dmqH0t",
        "outputId": "b58d2769-adc5-43d4-b4b0-301c33fe809e"
      },
      "source": [
        "a = 8\n",
        "b = 4\n",
        "print(a > b and a or b)"
      ],
      "execution_count": 44,
      "outputs": [
        {
          "output_type": "stream",
          "text": [
            "8\n"
          ],
          "name": "stdout"
        }
      ]
    },
    {
      "cell_type": "code",
      "metadata": {
        "colab": {
          "base_uri": "https://localhost:8080/",
          "height": 53
        },
        "id": "PXZlX0XVqqCX",
        "outputId": "f20fbd93-5188-4d29-9553-4d35cd307071"
      },
      "source": [
        "'''\n",
        "x­ = 4 + \\\n",
        "5; print(x)\n",
        "\n",
        "x­ = 4 + /\n",
        "5; print(x)\n",
        "\n",
        "x­­ = 4 + (\n",
        "5); print(x)\n",
        "'''"
      ],
      "execution_count": 48,
      "outputs": [
        {
          "output_type": "execute_result",
          "data": {
            "application/vnd.google.colaboratory.intrinsic+json": {
              "type": "string"
            },
            "text/plain": [
              "'\\nx\\xad = 4 + 5; print(x)\\n\\nx\\xad = 4 + /\\n5; print(x)\\n\\nx\\xad\\xad = 4 + (\\n5); print(x)\\n'"
            ]
          },
          "metadata": {
            "tags": []
          },
          "execution_count": 48
        }
      ]
    },
    {
      "cell_type": "code",
      "metadata": {
        "colab": {
          "base_uri": "https://localhost:8080/"
        },
        "id": "-BvQQLIJq4ZF",
        "outputId": "4c6be47c-4e5d-4a0a-f354-9f8789d849c5"
      },
      "source": [
        "lenInSec = 6\n",
        "samplesPerSec = 184\n",
        "\n",
        "totalSamples = lenInSec * samplesPerSec\n",
        "sizePerSemple = 3 #bits as possible values were [0, 2, 3, 5, 7]\n",
        "\n",
        "totalSpeechSize = totalSamples * sizePerSemple ## in bits\n",
        "\n",
        "print(totalSpeechSize,\"bits\")"
      ],
      "execution_count": 50,
      "outputs": [
        {
          "output_type": "stream",
          "text": [
            "3312 bits\n"
          ],
          "name": "stdout"
        }
      ]
    },
    {
      "cell_type": "code",
      "metadata": {
        "id": "KvtZqWLRrPEx"
      },
      "source": [
        "Line = \"'Hello, how are you today?'\"\n",
        "Line = ‘‘‘Hello, how are you today?   # \n",
        "Line = “Hello, how are you today?’”   # \n",
        "Line = ‘‘‘Hello, how are you today?’’’\n",
        "Line = \"'Hello, how are you today?\"' #"
      ],
      "execution_count": null,
      "outputs": []
    },
    {
      "cell_type": "code",
      "metadata": {
        "colab": {
          "base_uri": "https://localhost:8080/",
          "height": 53
        },
        "id": "dqCGUemVsj-5",
        "outputId": "6323df2d-ae60-4a53-f8a0-bfbb16bc7dec"
      },
      "source": [
        "'''from Plus import Calc\n",
        "from Minus import Calc\n",
        "A, B = 10, 7\n",
        "A = Calc(A, B)\n",
        "print(A)'''"
      ],
      "execution_count": 52,
      "outputs": [
        {
          "output_type": "execute_result",
          "data": {
            "application/vnd.google.colaboratory.intrinsic+json": {
              "type": "string"
            },
            "text/plain": [
              "'from Plus import Calc\\nfrom Minus import Calc\\nA, B = 10, 7\\nA = Calc(A, B)\\nprint(A)'"
            ]
          },
          "metadata": {
            "tags": []
          },
          "execution_count": 52
        }
      ]
    },
    {
      "cell_type": "code",
      "metadata": {
        "colab": {
          "base_uri": "https://localhost:8080/"
        },
        "id": "u-5SSQDjsksf",
        "outputId": "24668d16-96ae-40e0-d5e2-d81ccff282d5"
      },
      "source": [
        "sum = 1\n",
        "current = -1\n",
        "n = 4\n",
        "i =0\n",
        "while current <= n:\n",
        "       sum += current\n",
        "       current += 1\n",
        "       i += 1\n",
        "       if i == 3:\n",
        "         break\n",
        "\n",
        "print(sum)"
      ],
      "execution_count": 53,
      "outputs": [
        {
          "output_type": "stream",
          "text": [
            "1\n"
          ],
          "name": "stdout"
        }
      ]
    },
    {
      "cell_type": "code",
      "metadata": {
        "colab": {
          "base_uri": "https://localhost:8080/"
        },
        "id": "IBDlgOA-tJFF",
        "outputId": "fd2272bb-56fe-4a13-a94e-eca8fb739048"
      },
      "source": [
        "pixelInPic = 14*10\n",
        "sezePerPx = 1 # bit as B&W img\n",
        "\n",
        "totalSize = pixelInPic * sezePerPx\n",
        "totalSize"
      ],
      "execution_count": 54,
      "outputs": [
        {
          "output_type": "execute_result",
          "data": {
            "text/plain": [
              "140"
            ]
          },
          "metadata": {
            "tags": []
          },
          "execution_count": 54
        }
      ]
    },
    {
      "cell_type": "code",
      "metadata": {
        "colab": {
          "base_uri": "https://localhost:8080/"
        },
        "id": "OK7H9f2Ltpst",
        "outputId": "b6f723ab-aeed-4a13-8392-5404fbfa6bfb"
      },
      "source": [
        "x = 172\n",
        "y = 0\n",
        "while x != 0:\n",
        " \tz = (x % 10)\n",
        " \ty = y * 10 + z\n",
        " \tx = (x - z)/10\n",
        "\n",
        "y"
      ],
      "execution_count": 56,
      "outputs": [
        {
          "output_type": "execute_result",
          "data": {
            "text/plain": [
              "271.0"
            ]
          },
          "metadata": {
            "tags": []
          },
          "execution_count": 56
        }
      ]
    },
    {
      "cell_type": "code",
      "metadata": {
        "colab": {
          "base_uri": "https://localhost:8080/"
        },
        "id": "EWEDpO-EuKQi",
        "outputId": "934b241b-9d26-431b-b53e-c8ef16e52324"
      },
      "source": [
        "def findArea(length, breadth):\n",
        "\tarea = length * breadth\n",
        "\treturn area\n",
        "\n",
        "Area1 = findArea(25, 32)\n",
        "Area2 = findArea(43, 60)\n",
        "Area = Area1 + Area2\n",
        "print(Area)"
      ],
      "execution_count": 58,
      "outputs": [
        {
          "output_type": "stream",
          "text": [
            "3380\n"
          ],
          "name": "stdout"
        }
      ]
    },
    {
      "cell_type": "code",
      "metadata": {
        "colab": {
          "base_uri": "https://localhost:8080/"
        },
        "id": "XiXERwXVuXdL",
        "outputId": "f922218e-b416-4252-e1e5-667ea51cb330"
      },
      "source": [
        "def inc_by_two(x):\n",
        "\tx = x + 2\n",
        "\treturn x\n",
        "x = 10\n",
        "inc_by_two(x)\n",
        "print('x = ', x)"
      ],
      "execution_count": 59,
      "outputs": [
        {
          "output_type": "stream",
          "text": [
            "x =  10\n"
          ],
          "name": "stdout"
        }
      ]
    },
    {
      "cell_type": "code",
      "metadata": {
        "colab": {
          "base_uri": "https://localhost:8080/"
        },
        "id": "j3lYr3-Yuifp",
        "outputId": "0c2b84f0-7884-48bd-e890-f0905334a83a"
      },
      "source": [
        "def inc_by_two(x):\n",
        "    x = x + 2\n",
        "    return x\n",
        "x = 10\n",
        "\n",
        "arg = 8.0 #8 # to print 10\n",
        "inc_by_two(arg) \n",
        "print(x)"
      ],
      "execution_count": 61,
      "outputs": [
        {
          "output_type": "stream",
          "text": [
            "10\n"
          ],
          "name": "stdout"
        }
      ]
    },
    {
      "cell_type": "code",
      "metadata": {
        "colab": {
          "base_uri": "https://localhost:8080/"
        },
        "id": "4LuoStxyv4Da",
        "outputId": "1f4cfdb4-f84a-4ef3-cc50-fff50941675d"
      },
      "source": [
        "k >= 0 and k <= 5  # 0,1,2,3,4,5\n",
        "not k < 0 and not k > 5 # 0,1,2,3,4,5\n",
        "not (k > 0 and k < 5) # not(1,2,3,4)"
      ],
      "execution_count": 64,
      "outputs": [
        {
          "output_type": "execute_result",
          "data": {
            "text/plain": [
              "False"
            ]
          },
          "metadata": {
            "tags": []
          },
          "execution_count": 64
        }
      ]
    },
    {
      "cell_type": "code",
      "metadata": {
        "colab": {
          "base_uri": "https://localhost:8080/"
        },
        "id": "zXRLeTMxxcu7",
        "outputId": "0fc68611-30ce-440d-f1fb-a56b069a6936"
      },
      "source": [
        "x = [1,2]\n",
        "y = [3]\n",
        "z = 3\n",
        "\n",
        "x.extend(y) == x.append(z)"
      ],
      "execution_count": 68,
      "outputs": [
        {
          "output_type": "execute_result",
          "data": {
            "text/plain": [
              "True"
            ]
          },
          "metadata": {
            "tags": []
          },
          "execution_count": 68
        }
      ]
    },
    {
      "cell_type": "code",
      "metadata": {
        "colab": {
          "base_uri": "https://localhost:8080/"
        },
        "id": "D3uwVe1Vxsl2",
        "outputId": "f791c4d2-cf10-490b-c9ac-746c3a0e2f9e"
      },
      "source": [
        "list(range(9, 2, -4))"
      ],
      "execution_count": 74,
      "outputs": [
        {
          "output_type": "execute_result",
          "data": {
            "text/plain": [
              "[9, 5]"
            ]
          },
          "metadata": {
            "tags": []
          },
          "execution_count": 74
        }
      ]
    }
  ]
}