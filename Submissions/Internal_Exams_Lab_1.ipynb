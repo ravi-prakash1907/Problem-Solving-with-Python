{
  "nbformat": 4,
  "nbformat_minor": 0,
  "metadata": {
    "colab": {
      "name": "Internal Exams Lab-1.ipynb",
      "provenance": [],
      "collapsed_sections": [
        "6l0mjq1BmykJ",
        "m-dxxVSOmztw",
        "NeFVTGGvm031"
      ],
      "authorship_tag": "ABX9TyMEgMoPRcULsvr+e7hvj0oG",
      "include_colab_link": true
    },
    "kernelspec": {
      "name": "python3",
      "display_name": "Python 3"
    }
  },
  "cells": [
    {
      "cell_type": "markdown",
      "metadata": {
        "id": "view-in-github",
        "colab_type": "text"
      },
      "source": [
        "<a href=\"https://colab.research.google.com/github/ravi-prakash1907/Problem-Solving-with-Python/blob/main/Submissions/Internal_Exams_Lab_1.ipynb\" target=\"_parent\"><img src=\"https://colab.research.google.com/assets/colab-badge.svg\" alt=\"Open In Colab\"/></a>"
      ]
    },
    {
      "cell_type": "markdown",
      "metadata": {
        "id": "r7wZz4qbmC2m"
      },
      "source": [
        "# **Internal Exams Lab-1**"
      ]
    },
    {
      "cell_type": "code",
      "metadata": {
        "colab": {
          "base_uri": "https://localhost:8080/"
        },
        "id": "OJi7YJzPl5tC",
        "outputId": "5a0f56c9-7ce1-46d2-c85b-7d29837aad6d"
      },
      "source": [
        "print(\"All set!\")"
      ],
      "execution_count": 1,
      "outputs": [
        {
          "output_type": "stream",
          "text": [
            "All set!\n"
          ],
          "name": "stdout"
        }
      ]
    },
    {
      "cell_type": "markdown",
      "metadata": {
        "id": "T5Fgj-hMmrJQ"
      },
      "source": [
        "## Sol. 1  \n",
        "\n",
        "_Write a program that gets a positive integer (n) from the user and prints all the integers between 1 and n (excluding 1 and n) that are divisible by 7. Here are examples of how the program should behave (user input given in bold):_  "
      ]
    },
    {
      "cell_type": "code",
      "metadata": {
        "colab": {
          "base_uri": "https://localhost:8080/"
        },
        "id": "O2xA-NXomfZY",
        "outputId": "8fc4b174-4edf-4c51-f4d6-88417b1a8dad"
      },
      "source": [
        "num = int(input(\"Enter n: \"))\n",
        "print(\"Ans:\")\n",
        "for i in range(2,num):\n",
        "  if i%7 == 0:\n",
        "    print(i)"
      ],
      "execution_count": 5,
      "outputs": [
        {
          "output_type": "stream",
          "text": [
            "Enter n: 27\n",
            "Ans:\n",
            "7\n",
            "14\n",
            "21\n"
          ],
          "name": "stdout"
        }
      ]
    },
    {
      "cell_type": "markdown",
      "metadata": {
        "id": "augoKTxRmxY7"
      },
      "source": [
        "## Sol. 2  \n",
        "\n",
        "_Product of 2 numbers that are seperated by comma_"
      ]
    },
    {
      "cell_type": "code",
      "metadata": {
        "colab": {
          "base_uri": "https://localhost:8080/"
        },
        "id": "Tzmw0eismyBl",
        "outputId": "e60e459a-4ecd-4b1e-96f4-30d61a4f476e"
      },
      "source": [
        "numStr = input(\"Enter integers separated by comma: \")\n",
        "numlist = numStr.split(',')\n",
        "\n",
        "prod = 1\n",
        "for num in numlist:\n",
        "  prod *= int(num)\n",
        "\n",
        "print(prod)"
      ],
      "execution_count": 6,
      "outputs": [
        {
          "output_type": "stream",
          "text": [
            "Enter integers separated by comma: 7,8\n",
            "56\n"
          ],
          "name": "stdout"
        }
      ]
    },
    {
      "cell_type": "markdown",
      "metadata": {
        "id": "6l0mjq1BmykJ"
      },
      "source": [
        "## Sol. 3  \n",
        "\n",
        "_Write a program to ask the user for a positive integer (n).  If n is negative, print 0. Otherwise, print the smallest number greater than n that is a multiple of 13._  "
      ]
    },
    {
      "cell_type": "code",
      "metadata": {
        "colab": {
          "base_uri": "https://localhost:8080/"
        },
        "id": "7yEmQGBnmzDc",
        "outputId": "7166c464-9533-46c3-ef3c-1e7b6ce3dd1b"
      },
      "source": [
        "n = int(input(\"Enter n: \"))\n",
        "print(\"output:\", end=\" \")\n",
        "if n < 0:\n",
        "  print(0)\n",
        "else:\n",
        "  temp = n+1\n",
        "  while temp%13 != 0:\n",
        "    temp += 1\n",
        "  print(temp)"
      ],
      "execution_count": 10,
      "outputs": [
        {
          "output_type": "stream",
          "text": [
            "Enter n: 14\n",
            "output: 26\n"
          ],
          "name": "stdout"
        }
      ]
    },
    {
      "cell_type": "markdown",
      "metadata": {
        "id": "m-dxxVSOmztw"
      },
      "source": [
        "## Sol. 4 \n",
        "\n",
        "_Write a program that prints the result of the mathematical expression entered by the user. Here is an example of how the program should behave (user input given in bold):_  \n",
        "\n",
        "```\n",
        "Enter mathematical expression: 23 + 2.3 * 22/5\n",
        "33.12\n",
        "```"
      ]
    },
    {
      "cell_type": "code",
      "metadata": {
        "colab": {
          "base_uri": "https://localhost:8080/"
        },
        "id": "eOmMfQv0s4Qg",
        "outputId": "3ac23a16-99cc-4c72-c353-44264de93a2d"
      },
      "source": [
        "print(eval(input(\"Enter mathematical expression: \")))"
      ],
      "execution_count": 12,
      "outputs": [
        {
          "output_type": "stream",
          "text": [
            "Enter mathematical expression: 23 + 2.3 * 22/5\n",
            "33.12\n"
          ],
          "name": "stdout"
        }
      ]
    },
    {
      "cell_type": "markdown",
      "metadata": {
        "id": "NeFVTGGvm031"
      },
      "source": [
        "## Sol. 5\n",
        "\n",
        "_Keep adding strings to a list_  \n",
        "_if user enters a blank string, print the list_"
      ]
    },
    {
      "cell_type": "code",
      "metadata": {
        "colab": {
          "base_uri": "https://localhost:8080/"
        },
        "id": "T805mFsGm1rI",
        "outputId": "ce30cb3f-1e67-4cce-e5af-f2234bff436e"
      },
      "source": [
        "buffer = []\n",
        "while True:\n",
        "  data = input(\"Enter value: \")\n",
        "  if data is not '':\n",
        "    buffer.append(data)\n",
        "    continue\n",
        "  break\n",
        "\n",
        "print(buffer)"
      ],
      "execution_count": 18,
      "outputs": [
        {
          "output_type": "stream",
          "text": [
            "Enter value: hd\n",
            "Enter value: 4\n",
            "Enter value: (d,ty)\n",
            "Enter value: \n",
            "['hd', '4', '(d,ty)']\n"
          ],
          "name": "stdout"
        }
      ]
    }
  ]
}