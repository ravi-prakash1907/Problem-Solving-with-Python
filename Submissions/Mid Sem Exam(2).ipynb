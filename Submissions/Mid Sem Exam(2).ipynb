{
  "nbformat": 4,
  "nbformat_minor": 0,
  "metadata": {
    "colab": {
      "name": "Mid Sem - 2(lab).ipynb",
      "provenance": [],
      "authorship_tag": "ABX9TyNEt1l5cbYy0LFP8OukKNoN",
      "include_colab_link": true
    },
    "kernelspec": {
      "name": "python3",
      "display_name": "Python 3"
    }
  },
  "cells": [
    {
      "cell_type": "markdown",
      "metadata": {
        "id": "view-in-github",
        "colab_type": "text"
      },
      "source": [
        "<a href=\"https://colab.research.google.com/github/ravi-prakash1907/Problem-Solving-with-Python/blob/main/Submissions/Mid%20Sem%20Exam(2).ipynb\" target=\"_parent\"><img src=\"https://colab.research.google.com/assets/colab-badge.svg\" alt=\"Open In Colab\"/></a>"
      ]
    },
    {
      "cell_type": "code",
      "metadata": {
        "colab": {
          "base_uri": "https://localhost:8080/"
        },
        "id": "4GVeg3lvJQhi",
        "outputId": "f7bc6ee8-37d4-4cd1-d7a2-9437071a0805"
      },
      "source": [
        "#Write a program that asks the user to enter a list of at least three numbers.\n",
        "l1 = eval(input())\n",
        "if len(l1) > 2:\n",
        "  avg = sum(l1)/len(l1)\n",
        "  temp = l1[:]\n",
        "  threeMin = []\n",
        "  for i in range(3):\n",
        "    threeMin.append(min(temp))\n",
        "    temp.remove(min(temp))\n",
        "  \n",
        "  temp = l1[:]\n",
        "  temp.remove(min(l1))\n",
        "\n",
        "  print(avg)\n",
        "  print(threeMin)\n",
        "  print(sum(temp)/len(temp))\n"
      ],
      "execution_count": null,
      "outputs": [
        {
          "output_type": "stream",
          "text": [
            "[25,13,8,35,-10]\n",
            "14.2\n",
            "[-10, 8, 13]\n",
            "20.25\n"
          ],
          "name": "stdout"
        }
      ]
    },
    {
      "cell_type": "code",
      "metadata": {
        "colab": {
          "base_uri": "https://localhost:8080/"
        },
        "id": "HPmfWYJxJnkj",
        "outputId": "41279edb-8791-42f8-c5c3-27549b917d69"
      },
      "source": [
        "num1 = int(input())\n",
        "num2 = int(input())\n",
        "\n",
        "print(abs(num1-num2))"
      ],
      "execution_count": null,
      "outputs": [
        {
          "output_type": "execute_result",
          "data": {
            "text/plain": [
              "20"
            ]
          },
          "metadata": {
            "tags": []
          },
          "execution_count": 12
        }
      ]
    },
    {
      "cell_type": "code",
      "metadata": {
        "id": "ESl30YKXMPxT",
        "colab": {
          "base_uri": "https://localhost:8080/"
        },
        "outputId": "58ae79e5-8314-47c2-d05a-11d9d84f5245"
      },
      "source": [
        "list1 = eval(input())\n",
        "\n",
        "for index in range(len(list1)):\n",
        "  if list1[index] < 0:\n",
        "    list1[index] = 0\n",
        "    break\n",
        "\n",
        "print(list1)\n"
      ],
      "execution_count": null,
      "outputs": [
        {
          "output_type": "stream",
          "text": [
            "[4,22,65,-54,67,-46,2]\n",
            "[4, 22, 65, 0, 67, -46, 2]\n"
          ],
          "name": "stdout"
        }
      ]
    },
    {
      "cell_type": "code",
      "metadata": {
        "id": "gxgwgTCvNRsn",
        "colab": {
          "base_uri": "https://localhost:8080/"
        },
        "outputId": "0b6f192f-868e-4042-8d6c-d9319e7c084e"
      },
      "source": [
        "list1 = eval(input())\n",
        "list2 = eval(input())\n",
        "\n",
        "newList = []\n",
        "for index in range(len(list1)):\n",
        "  newList.append(list1[index])\n",
        "  newList.append(list2[index])\n",
        "\n",
        "print(newList)"
      ],
      "execution_count": null,
      "outputs": [
        {
          "output_type": "stream",
          "text": [
            "[1,2,3]\n",
            "[6,7,8]\n",
            "[1, 6, 2, 7, 3, 8]\n"
          ],
          "name": "stdout"
        }
      ]
    },
    {
      "cell_type": "code",
      "metadata": {
        "colab": {
          "base_uri": "https://localhost:8080/"
        },
        "id": "SwXFDh3JOE6t",
        "outputId": "223bd64c-ad69-448f-ef3a-f9975d313d36"
      },
      "source": [
        "# Write a program that prints out all the numbers from 1 to n, \n",
        "# that are divisible by 3 or 7 but not divisible by both. where n is the input \n",
        "\n",
        "n = int(input())\n",
        "\n",
        "x = 1\n",
        "while x <= n:\n",
        "  if x%3 == 0 and x%7 == 0:\n",
        "    x += 1\n",
        "    continue\n",
        "  elif x%3 == 0 or x%7 == 0:\n",
        "    print(x)  \n",
        "  x += 1\n",
        "\n",
        "\n"
      ],
      "execution_count": null,
      "outputs": [
        {
          "output_type": "stream",
          "text": [
            "30\n",
            "3\n",
            "6\n",
            "7\n",
            "9\n",
            "12\n",
            "14\n",
            "15\n",
            "18\n",
            "24\n",
            "27\n",
            "28\n",
            "30\n"
          ],
          "name": "stdout"
        }
      ]
    },
    {
      "cell_type": "code",
      "metadata": {
        "colab": {
          "base_uri": "https://localhost:8080/"
        },
        "id": "YqyBoGvSPKyG",
        "outputId": "efe6512c-ecc1-40fe-f647-05702dca69e5"
      },
      "source": [
        "def absfact(num):\n",
        "  fact = 1\n",
        "  if num > 0:\n",
        "    for i in range(1, num+1):\n",
        "      fact = fact* i\n",
        "  return abs(num-fact)\n",
        "\n",
        "print(absfact(5))\n",
        "print(absfact(0))"
      ],
      "execution_count": null,
      "outputs": [
        {
          "output_type": "stream",
          "text": [
            "115\n",
            "1\n"
          ],
          "name": "stdout"
        }
      ]
    }
  ]
}