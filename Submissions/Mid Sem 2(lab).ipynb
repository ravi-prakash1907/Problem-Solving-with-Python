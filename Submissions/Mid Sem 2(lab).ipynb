{
  "nbformat": 4,
  "nbformat_minor": 0,
  "metadata": {
    "colab": {
      "name": "Mid Sem - 2(lab).ipynb",
      "provenance": [],
      "authorship_tag": "ABX9TyMZpbA7JyfDz1FVwcFrMVbk",
      "include_colab_link": true
    },
    "kernelspec": {
      "name": "python3",
      "display_name": "Python 3"
    }
  },
  "cells": [
    {
      "cell_type": "markdown",
      "metadata": {
        "id": "view-in-github",
        "colab_type": "text"
      },
      "source": [
        "<a href=\"https://colab.research.google.com/github/ravi-prakash1907/Problem-Solving-with-Python/blob/main/Submissions/Mid%20Sem%202(lab).ipynb\" target=\"_parent\"><img src=\"https://colab.research.google.com/assets/colab-badge.svg\" alt=\"Open In Colab\"/></a>"
      ]
    },
    {
      "cell_type": "code",
      "metadata": {
        "colab": {
          "base_uri": "https://localhost:8080/"
        },
        "id": "4GVeg3lvJQhi",
        "outputId": "f7bc6ee8-37d4-4cd1-d7a2-9437071a0805"
      },
      "source": [
        "#Write a program that asks the user to enter a list of at least three numbers.\n",
        "l1 = eval(input())\n",
        "if len(l1) > 2:\n",
        "  avg = sum(l1)/len(l1)\n",
        "  temp = l1[:]\n",
        "  threeMin = []\n",
        "  for i in range(3):\n",
        "    threeMin.append(min(temp))\n",
        "    temp.remove(min(temp))\n",
        "  \n",
        "  temp = l1[:]\n",
        "  temp.remove(min(l1))\n",
        "\n",
        "  print(avg)\n",
        "  print(threeMin)\n",
        "  print(sum(temp)/len(temp))\n"
      ],
      "execution_count": 10,
      "outputs": [
        {
          "output_type": "stream",
          "text": [
            "[25,13,8,35,-10]\n",
            "14.2\n",
            "[-10, 8, 13]\n",
            "20.25\n"
          ],
          "name": "stdout"
        }
      ]
    },
    {
      "cell_type": "code",
      "metadata": {
        "colab": {
          "base_uri": "https://localhost:8080/"
        },
        "id": "HPmfWYJxJnkj",
        "outputId": "41279edb-8791-42f8-c5c3-27549b917d69"
      },
      "source": [
        "num1 = int(input())\n",
        "num2 = int(input())\n",
        "\n",
        "print(abs(num1-num2))"
      ],
      "execution_count": 12,
      "outputs": [
        {
          "output_type": "execute_result",
          "data": {
            "text/plain": [
              "20"
            ]
          },
          "metadata": {
            "tags": []
          },
          "execution_count": 12
        }
      ]
    },
    {
      "cell_type": "code",
      "metadata": {
        "id": "ESl30YKXMPxT"
      },
      "source": [
        "list1 = eval(input())\n",
        "\n",
        "for index in range(len(list1)):\n",
        "  if list1[index] < 0:\n",
        "    list1[index] = 0\n",
        "    break\n",
        "\n",
        "print(list1)\n"
      ],
      "execution_count": null,
      "outputs": []
    },
    {
      "cell_type": "code",
      "metadata": {
        "id": "gxgwgTCvNRsn"
      },
      "source": [
        "list1 = eval(input())\n",
        "list2 = eval(input())\n",
        "\n",
        "newList = []\n",
        "for index in range(len(list1)):\n",
        "  newList.append(list1[index])\n",
        "  newList.append(list2[index])\n",
        "\n",
        "print(newList)"
      ],
      "execution_count": null,
      "outputs": []
    },
    {
      "cell_type": "code",
      "metadata": {
        "colab": {
          "base_uri": "https://localhost:8080/"
        },
        "id": "SwXFDh3JOE6t",
        "outputId": "fc8e7e5f-1c41-4a87-855e-a1f10a378006"
      },
      "source": [
        "# Write a program that prints out all the numbers from 1 to n, \n",
        "# that are divisible by 3 or 7 but not divisible by both. where n is the input \n",
        "\n",
        "n = int(input())\n",
        "\n",
        "x = 1\n",
        "while x <= n:\n",
        "  if x%3 == 0 and x%7 == 0:\n",
        "    x += 1\n",
        "    continue\n",
        "  elif x%3 == 0 or x%7 == 0:\n",
        "    print(x)  \n",
        "  x += 1\n",
        "\n",
        "\n"
      ],
      "execution_count": 15,
      "outputs": [
        {
          "output_type": "stream",
          "text": [
            "40\n",
            "3\n",
            "6\n",
            "7\n",
            "9\n",
            "12\n",
            "14\n",
            "15\n",
            "18\n",
            "24\n",
            "27\n",
            "28\n",
            "30\n",
            "33\n",
            "35\n",
            "36\n",
            "39\n"
          ],
          "name": "stdout"
        }
      ]
    },
    {
      "cell_type": "code",
      "metadata": {
        "colab": {
          "base_uri": "https://localhost:8080/"
        },
        "id": "YqyBoGvSPKyG",
        "outputId": "0bcca5ae-8a35-42a3-9e32-35104a69906b"
      },
      "source": [
        "def absfact(num):\n",
        "  fact = 1\n",
        "  if num > 0:\n",
        "    for i in range(num+1):\n",
        "      fact = fact* i\n",
        "  return abs(num-fact)\n",
        "\n",
        "print(absfact(5))\n",
        "print(absfact(0))"
      ],
      "execution_count": 25,
      "outputs": [
        {
          "output_type": "stream",
          "text": [
            "5\n",
            "1\n"
          ],
          "name": "stdout"
        }
      ]
    }
  ]
}